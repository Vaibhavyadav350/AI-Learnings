{
  "cells": [
    {
      "cell_type": "markdown",
      "metadata": {
        "id": "view-in-github",
        "colab_type": "text"
      },
      "source": [
        "<a href=\"https://colab.research.google.com/github/Vaibhavyadav350/AI-Learnings/blob/main/Logistic_Regression.ipynb\" target=\"_parent\"><img src=\"https://colab.research.google.com/assets/colab-badge.svg\" alt=\"Open In Colab\"/></a>"
      ]
    },
    {
      "cell_type": "code",
      "execution_count": null,
      "metadata": {
        "colab": {
          "base_uri": "https://localhost:8080/",
          "height": 206
        },
        "id": "LfKXpsBr2LMt",
        "outputId": "31b3a5c2-2fb3-4ad6-9318-bed588a1d93d"
      },
      "outputs": [
        {
          "data": {
            "text/html": [
              "\n",
              "  <div id=\"df-de973b4e-7044-49a5-b929-4f1536ca66b2\">\n",
              "    <div class=\"colab-df-container\">\n",
              "      <div>\n",
              "<style scoped>\n",
              "    .dataframe tbody tr th:only-of-type {\n",
              "        vertical-align: middle;\n",
              "    }\n",
              "\n",
              "    .dataframe tbody tr th {\n",
              "        vertical-align: top;\n",
              "    }\n",
              "\n",
              "    .dataframe thead th {\n",
              "        text-align: right;\n",
              "    }\n",
              "</style>\n",
              "<table border=\"1\" class=\"dataframe\">\n",
              "  <thead>\n",
              "    <tr style=\"text-align: right;\">\n",
              "      <th></th>\n",
              "      <th>User ID</th>\n",
              "      <th>Gender</th>\n",
              "      <th>Age</th>\n",
              "      <th>EstimatedSalary</th>\n",
              "      <th>Purchased</th>\n",
              "    </tr>\n",
              "  </thead>\n",
              "  <tbody>\n",
              "    <tr>\n",
              "      <th>0</th>\n",
              "      <td>15624510</td>\n",
              "      <td>Male</td>\n",
              "      <td>19</td>\n",
              "      <td>19000</td>\n",
              "      <td>0</td>\n",
              "    </tr>\n",
              "    <tr>\n",
              "      <th>1</th>\n",
              "      <td>15810944</td>\n",
              "      <td>Male</td>\n",
              "      <td>35</td>\n",
              "      <td>20000</td>\n",
              "      <td>0</td>\n",
              "    </tr>\n",
              "    <tr>\n",
              "      <th>2</th>\n",
              "      <td>15668575</td>\n",
              "      <td>Female</td>\n",
              "      <td>26</td>\n",
              "      <td>43000</td>\n",
              "      <td>0</td>\n",
              "    </tr>\n",
              "    <tr>\n",
              "      <th>3</th>\n",
              "      <td>15603246</td>\n",
              "      <td>Female</td>\n",
              "      <td>27</td>\n",
              "      <td>57000</td>\n",
              "      <td>0</td>\n",
              "    </tr>\n",
              "    <tr>\n",
              "      <th>4</th>\n",
              "      <td>15804002</td>\n",
              "      <td>Male</td>\n",
              "      <td>19</td>\n",
              "      <td>76000</td>\n",
              "      <td>0</td>\n",
              "    </tr>\n",
              "  </tbody>\n",
              "</table>\n",
              "</div>\n",
              "      <button class=\"colab-df-convert\" onclick=\"convertToInteractive('df-de973b4e-7044-49a5-b929-4f1536ca66b2')\"\n",
              "              title=\"Convert this dataframe to an interactive table.\"\n",
              "              style=\"display:none;\">\n",
              "        \n",
              "  <svg xmlns=\"http://www.w3.org/2000/svg\" height=\"24px\"viewBox=\"0 0 24 24\"\n",
              "       width=\"24px\">\n",
              "    <path d=\"M0 0h24v24H0V0z\" fill=\"none\"/>\n",
              "    <path d=\"M18.56 5.44l.94 2.06.94-2.06 2.06-.94-2.06-.94-.94-2.06-.94 2.06-2.06.94zm-11 1L8.5 8.5l.94-2.06 2.06-.94-2.06-.94L8.5 2.5l-.94 2.06-2.06.94zm10 10l.94 2.06.94-2.06 2.06-.94-2.06-.94-.94-2.06-.94 2.06-2.06.94z\"/><path d=\"M17.41 7.96l-1.37-1.37c-.4-.4-.92-.59-1.43-.59-.52 0-1.04.2-1.43.59L10.3 9.45l-7.72 7.72c-.78.78-.78 2.05 0 2.83L4 21.41c.39.39.9.59 1.41.59.51 0 1.02-.2 1.41-.59l7.78-7.78 2.81-2.81c.8-.78.8-2.07 0-2.86zM5.41 20L4 18.59l7.72-7.72 1.47 1.35L5.41 20z\"/>\n",
              "  </svg>\n",
              "      </button>\n",
              "      \n",
              "  <style>\n",
              "    .colab-df-container {\n",
              "      display:flex;\n",
              "      flex-wrap:wrap;\n",
              "      gap: 12px;\n",
              "    }\n",
              "\n",
              "    .colab-df-convert {\n",
              "      background-color: #E8F0FE;\n",
              "      border: none;\n",
              "      border-radius: 50%;\n",
              "      cursor: pointer;\n",
              "      display: none;\n",
              "      fill: #1967D2;\n",
              "      height: 32px;\n",
              "      padding: 0 0 0 0;\n",
              "      width: 32px;\n",
              "    }\n",
              "\n",
              "    .colab-df-convert:hover {\n",
              "      background-color: #E2EBFA;\n",
              "      box-shadow: 0px 1px 2px rgba(60, 64, 67, 0.3), 0px 1px 3px 1px rgba(60, 64, 67, 0.15);\n",
              "      fill: #174EA6;\n",
              "    }\n",
              "\n",
              "    [theme=dark] .colab-df-convert {\n",
              "      background-color: #3B4455;\n",
              "      fill: #D2E3FC;\n",
              "    }\n",
              "\n",
              "    [theme=dark] .colab-df-convert:hover {\n",
              "      background-color: #434B5C;\n",
              "      box-shadow: 0px 1px 3px 1px rgba(0, 0, 0, 0.15);\n",
              "      filter: drop-shadow(0px 1px 2px rgba(0, 0, 0, 0.3));\n",
              "      fill: #FFFFFF;\n",
              "    }\n",
              "  </style>\n",
              "\n",
              "      <script>\n",
              "        const buttonEl =\n",
              "          document.querySelector('#df-de973b4e-7044-49a5-b929-4f1536ca66b2 button.colab-df-convert');\n",
              "        buttonEl.style.display =\n",
              "          google.colab.kernel.accessAllowed ? 'block' : 'none';\n",
              "\n",
              "        async function convertToInteractive(key) {\n",
              "          const element = document.querySelector('#df-de973b4e-7044-49a5-b929-4f1536ca66b2');\n",
              "          const dataTable =\n",
              "            await google.colab.kernel.invokeFunction('convertToInteractive',\n",
              "                                                     [key], {});\n",
              "          if (!dataTable) return;\n",
              "\n",
              "          const docLinkHtml = 'Like what you see? Visit the ' +\n",
              "            '<a target=\"_blank\" href=https://colab.research.google.com/notebooks/data_table.ipynb>data table notebook</a>'\n",
              "            + ' to learn more about interactive tables.';\n",
              "          element.innerHTML = '';\n",
              "          dataTable['output_type'] = 'display_data';\n",
              "          await google.colab.output.renderOutput(dataTable, element);\n",
              "          const docLink = document.createElement('div');\n",
              "          docLink.innerHTML = docLinkHtml;\n",
              "          element.appendChild(docLink);\n",
              "        }\n",
              "      </script>\n",
              "    </div>\n",
              "  </div>\n",
              "  "
            ],
            "text/plain": [
              "    User ID  Gender  Age  EstimatedSalary  Purchased\n",
              "0  15624510    Male   19            19000          0\n",
              "1  15810944    Male   35            20000          0\n",
              "2  15668575  Female   26            43000          0\n",
              "3  15603246  Female   27            57000          0\n",
              "4  15804002    Male   19            76000          0"
            ]
          },
          "execution_count": 1,
          "metadata": {},
          "output_type": "execute_result"
        }
      ],
      "source": [
        "import pandas as pd\n",
        "df = pd.read_csv('/content/Social_Network_new.csv')\n",
        "df.head()"
      ]
    },
    {
      "cell_type": "code",
      "execution_count": null,
      "metadata": {
        "colab": {
          "background_save": true,
          "base_uri": "https://localhost:8080/"
        },
        "id": "VluLxAQ97CWW",
        "outputId": "63365e87-66a0-4d94-c681-76c2429d805e"
      },
      "outputs": [
        {
          "data": {
            "text/plain": [
              "60"
            ]
          },
          "execution_count": null,
          "metadata": {},
          "output_type": "execute_result"
        }
      ],
      "source": [
        "df['Age'].max()"
      ]
    },
    {
      "cell_type": "code",
      "execution_count": null,
      "metadata": {
        "colab": {
          "background_save": true,
          "base_uri": "https://localhost:8080/"
        },
        "id": "1EwzkteV7GD1",
        "outputId": "36cfcf3b-24f2-4393-e067-da4d6e4daddb"
      },
      "outputs": [
        {
          "data": {
            "text/plain": [
              "15000"
            ]
          },
          "execution_count": null,
          "metadata": {},
          "output_type": "execute_result"
        }
      ],
      "source": [
        "df['EstimatedSalary'].min()"
      ]
    },
    {
      "cell_type": "code",
      "execution_count": null,
      "metadata": {
        "colab": {
          "background_save": true,
          "base_uri": "https://localhost:8080/"
        },
        "id": "9S-Nv3vG2W6_",
        "outputId": "84b0c6bb-9e01-4bf4-a9bd-6447e49e7f97"
      },
      "outputs": [
        {
          "data": {
            "text/plain": [
              "(400, 5)"
            ]
          },
          "execution_count": null,
          "metadata": {},
          "output_type": "execute_result"
        }
      ],
      "source": [
        "df.shape"
      ]
    },
    {
      "cell_type": "code",
      "execution_count": null,
      "metadata": {
        "colab": {
          "background_save": true
        },
        "id": "kQ_OODJf2bXI"
      },
      "outputs": [],
      "source": [
        "# Output : Purchased column"
      ]
    },
    {
      "cell_type": "code",
      "execution_count": null,
      "metadata": {
        "colab": {
          "background_save": true
        },
        "id": "lkmPkQDg2rNb"
      },
      "outputs": [],
      "source": [
        "# Input : Age and EstimatedSalary"
      ]
    },
    {
      "cell_type": "code",
      "execution_count": null,
      "metadata": {
        "colab": {
          "background_save": true,
          "base_uri": "https://localhost:8080/",
          "height": 265
        },
        "id": "8h6-53a728RL",
        "outputId": "5b85af83-9e18-44ee-c64c-87183db810e3"
      },
      "outputs": [
        {
          "data": {
            "image/png": "[encoded data removed]",
            "text/plain": [
              "<Figure size 432x288 with 1 Axes>"
            ]
          },
          "metadata": {},
          "output_type": "display_data"
        }
      ],
      "source": [
        "import matplotlib.pyplot as plt\n",
        "plt.scatter(df['Age'],df['EstimatedSalary'])\n",
        "plt.show()"
      ]
    },
    {
      "cell_type": "code",
      "execution_count": null,
      "metadata": {
        "colab": {
          "background_save": true,
          "base_uri": "https://localhost:8080/"
        },
        "id": "31LjMoEj3DAz",
        "outputId": "29d8db04-fb36-4382-b7df-f97d39c36a37"
      },
      "outputs": [
        {
          "data": {
            "text/plain": [
              "0    257\n",
              "1    143\n",
              "Name: Purchased, dtype: int64"
            ]
          },
          "execution_count": null,
          "metadata": {},
          "output_type": "execute_result"
        }
      ],
      "source": [
        "df['Purchased'].value_counts()"
      ]
    },
    {
      "cell_type": "code",
      "execution_count": null,
      "metadata": {
        "colab": {
          "background_save": true,
          "base_uri": "https://localhost:8080/"
        },
        "id": "5XxWN6WXYo_M",
        "outputId": "f82fa8fa-0933-448f-a49f-f3cfb68b72f9"
      },
      "outputs": [
        {
          "data": {
            "text/plain": [
              "64.25"
            ]
          },
          "execution_count": null,
          "metadata": {},
          "output_type": "execute_result"
        }
      ],
      "source": [
        "257/400*100"
      ]
    },
    {
      "cell_type": "code",
      "execution_count": null,
      "metadata": {
        "colab": {
          "background_save": true,
          "base_uri": "https://localhost:8080/"
        },
        "id": "LuA3x_XTYsti",
        "outputId": "4b491a12-f281-4505-9e11-fea3fe527072"
      },
      "outputs": [
        {
          "data": {
            "text/plain": [
              "35.75"
            ]
          },
          "execution_count": null,
          "metadata": {},
          "output_type": "execute_result"
        }
      ],
      "source": [
        "143/400*100"
      ]
    },
    {
      "cell_type": "code",
      "execution_count": null,
      "metadata": {
        "colab": {
          "background_save": true,
          "base_uri": "https://localhost:8080/",
          "height": 423
        },
        "id": "H2zRhqrg3Mgx",
        "outputId": "9bf9c474-b6b2-4281-940b-41630f2e3759"
      },
      "outputs": [
        {
          "data": {
            "text/html": [
              "\n",
              "  <div id=\"df-ba57dd18-3b90-4a18-b15f-5c6881703803\">\n",
              "    <div class=\"colab-df-container\">\n",
              "      <div>\n",
              "<style scoped>\n",
              "    .dataframe tbody tr th:only-of-type {\n",
              "        vertical-align: middle;\n",
              "    }\n",
              "\n",
              "    .dataframe tbody tr th {\n",
              "        vertical-align: top;\n",
              "    }\n",
              "\n",
              "    .dataframe thead th {\n",
              "        text-align: right;\n",
              "    }\n",
              "</style>\n",
              "<table border=\"1\" class=\"dataframe\">\n",
              "  <thead>\n",
              "    <tr style=\"text-align: right;\">\n",
              "      <th></th>\n",
              "      <th>User ID</th>\n",
              "      <th>Gender</th>\n",
              "      <th>Age</th>\n",
              "      <th>EstimatedSalary</th>\n",
              "      <th>Purchased</th>\n",
              "    </tr>\n",
              "  </thead>\n",
              "  <tbody>\n",
              "    <tr>\n",
              "      <th>7</th>\n",
              "      <td>15694829</td>\n",
              "      <td>Female</td>\n",
              "      <td>32</td>\n",
              "      <td>150000</td>\n",
              "      <td>1</td>\n",
              "    </tr>\n",
              "    <tr>\n",
              "      <th>16</th>\n",
              "      <td>15733883</td>\n",
              "      <td>Male</td>\n",
              "      <td>47</td>\n",
              "      <td>25000</td>\n",
              "      <td>1</td>\n",
              "    </tr>\n",
              "    <tr>\n",
              "      <th>17</th>\n",
              "      <td>15617482</td>\n",
              "      <td>Male</td>\n",
              "      <td>45</td>\n",
              "      <td>26000</td>\n",
              "      <td>1</td>\n",
              "    </tr>\n",
              "    <tr>\n",
              "      <th>18</th>\n",
              "      <td>15704583</td>\n",
              "      <td>Male</td>\n",
              "      <td>46</td>\n",
              "      <td>28000</td>\n",
              "      <td>1</td>\n",
              "    </tr>\n",
              "    <tr>\n",
              "      <th>19</th>\n",
              "      <td>15621083</td>\n",
              "      <td>Female</td>\n",
              "      <td>48</td>\n",
              "      <td>29000</td>\n",
              "      <td>1</td>\n",
              "    </tr>\n",
              "    <tr>\n",
              "      <th>...</th>\n",
              "      <td>...</td>\n",
              "      <td>...</td>\n",
              "      <td>...</td>\n",
              "      <td>...</td>\n",
              "      <td>...</td>\n",
              "    </tr>\n",
              "    <tr>\n",
              "      <th>393</th>\n",
              "      <td>15635893</td>\n",
              "      <td>Male</td>\n",
              "      <td>60</td>\n",
              "      <td>42000</td>\n",
              "      <td>1</td>\n",
              "    </tr>\n",
              "    <tr>\n",
              "      <th>395</th>\n",
              "      <td>15691863</td>\n",
              "      <td>Female</td>\n",
              "      <td>46</td>\n",
              "      <td>41000</td>\n",
              "      <td>1</td>\n",
              "    </tr>\n",
              "    <tr>\n",
              "      <th>396</th>\n",
              "      <td>15706071</td>\n",
              "      <td>Male</td>\n",
              "      <td>51</td>\n",
              "      <td>23000</td>\n",
              "      <td>1</td>\n",
              "    </tr>\n",
              "    <tr>\n",
              "      <th>397</th>\n",
              "      <td>15654296</td>\n",
              "      <td>Female</td>\n",
              "      <td>50</td>\n",
              "      <td>20000</td>\n",
              "      <td>1</td>\n",
              "    </tr>\n",
              "    <tr>\n",
              "      <th>399</th>\n",
              "      <td>15594041</td>\n",
              "      <td>Female</td>\n",
              "      <td>49</td>\n",
              "      <td>36000</td>\n",
              "      <td>1</td>\n",
              "    </tr>\n",
              "  </tbody>\n",
              "</table>\n",
              "<p>143 rows × 5 columns</p>\n",
              "</div>\n",
              "      <button class=\"colab-df-convert\" onclick=\"convertToInteractive('df-ba57dd18-3b90-4a18-b15f-5c6881703803')\"\n",
              "              title=\"Convert this dataframe to an interactive table.\"\n",
              "              style=\"display:none;\">\n",
              "        \n",
              "  <svg xmlns=\"http://www.w3.org/2000/svg\" height=\"24px\"viewBox=\"0 0 24 24\"\n",
              "       width=\"24px\">\n",
              "    <path d=\"M0 0h24v24H0V0z\" fill=\"none\"/>\n",
              "    <path d=\"M18.56 5.44l.94 2.06.94-2.06 2.06-.94-2.06-.94-.94-2.06-.94 2.06-2.06.94zm-11 1L8.5 8.5l.94-2.06 2.06-.94-2.06-.94L8.5 2.5l-.94 2.06-2.06.94zm10 10l.94 2.06.94-2.06 2.06-.94-2.06-.94-.94-2.06-.94 2.06-2.06.94z\"/><path d=\"M17.41 7.96l-1.37-1.37c-.4-.4-.92-.59-1.43-.59-.52 0-1.04.2-1.43.59L10.3 9.45l-7.72 7.72c-.78.78-.78 2.05 0 2.83L4 21.41c.39.39.9.59 1.41.59.51 0 1.02-.2 1.41-.59l7.78-7.78 2.81-2.81c.8-.78.8-2.07 0-2.86zM5.41 20L4 18.59l7.72-7.72 1.47 1.35L5.41 20z\"/>\n",
              "  </svg>\n",
              "      </button>\n",
              "      \n",
              "  <style>\n",
              "    .colab-df-container {\n",
              "      display:flex;\n",
              "      flex-wrap:wrap;\n",
              "      gap: 12px;\n",
              "    }\n",
              "\n",
              "    .colab-df-convert {\n",
              "      background-color: #E8F0FE;\n",
              "      border: none;\n",
              "      border-radius: 50%;\n",
              "      cursor: pointer;\n",
              "      display: none;\n",
              "      fill: #1967D2;\n",
              "      height: 32px;\n",
              "      padding: 0 0 0 0;\n",
              "      width: 32px;\n",
              "    }\n",
              "\n",
              "    .colab-df-convert:hover {\n",
              "      background-color: #E2EBFA;\n",
              "      box-shadow: 0px 1px 2px rgba(60, 64, 67, 0.3), 0px 1px 3px 1px rgba(60, 64, 67, 0.15);\n",
              "      fill: #174EA6;\n",
              "    }\n",
              "\n",
              "    [theme=dark] .colab-df-convert {\n",
              "      background-color: #3B4455;\n",
              "      fill: #D2E3FC;\n",
              "    }\n",
              "\n",
              "    [theme=dark] .colab-df-convert:hover {\n",
              "      background-color: #434B5C;\n",
              "      box-shadow: 0px 1px 3px 1px rgba(0, 0, 0, 0.15);\n",
              "      filter: drop-shadow(0px 1px 2px rgba(0, 0, 0, 0.3));\n",
              "      fill: #FFFFFF;\n",
              "    }\n",
              "  </style>\n",
              "\n",
              "      <script>\n",
              "        const buttonEl =\n",
              "          document.querySelector('#df-ba57dd18-3b90-4a18-b15f-5c6881703803 button.colab-df-convert');\n",
              "        buttonEl.style.display =\n",
              "          google.colab.kernel.accessAllowed ? 'block' : 'none';\n",
              "\n",
              "        async function convertToInteractive(key) {\n",
              "          const element = document.querySelector('#df-ba57dd18-3b90-4a18-b15f-5c6881703803');\n",
              "          const dataTable =\n",
              "            await google.colab.kernel.invokeFunction('convertToInteractive',\n",
              "                                                     [key], {});\n",
              "          if (!dataTable) return;\n",
              "\n",
              "          const docLinkHtml = 'Like what you see? Visit the ' +\n",
              "            '<a target=\"_blank\" href=https://colab.research.google.com/notebooks/data_table.ipynb>data table notebook</a>'\n",
              "            + ' to learn more about interactive tables.';\n",
              "          element.innerHTML = '';\n",
              "          dataTable['output_type'] = 'display_data';\n",
              "          await google.colab.output.renderOutput(dataTable, element);\n",
              "          const docLink = document.createElement('div');\n",
              "          docLink.innerHTML = docLinkHtml;\n",
              "          element.appendChild(docLink);\n",
              "        }\n",
              "      </script>\n",
              "    </div>\n",
              "  </div>\n",
              "  "
            ],
            "text/plain": [
              "      User ID  Gender  Age  EstimatedSalary  Purchased\n",
              "7    15694829  Female   32           150000          1\n",
              "16   15733883    Male   47            25000          1\n",
              "17   15617482    Male   45            26000          1\n",
              "18   15704583    Male   46            28000          1\n",
              "19   15621083  Female   48            29000          1\n",
              "..        ...     ...  ...              ...        ...\n",
              "393  15635893    Male   60            42000          1\n",
              "395  15691863  Female   46            41000          1\n",
              "396  15706071    Male   51            23000          1\n",
              "397  15654296  Female   50            20000          1\n",
              "399  15594041  Female   49            36000          1\n",
              "\n",
              "[143 rows x 5 columns]"
            ]
          },
          "execution_count": null,
          "metadata": {},
          "output_type": "execute_result"
        }
      ],
      "source": [
        "p_df = df[df['Purchased']==1]\n",
        "np_df = df[df['Purchased']==0]\n",
        "p_df"
      ]
    },
    {
      "cell_type": "code",
      "execution_count": null,
      "metadata": {
        "colab": {
          "background_save": true,
          "base_uri": "https://localhost:8080/",
          "height": 281
        },
        "id": "TKpzoOD-3Y7h",
        "outputId": "aca428b8-7469-48bb-bb4b-fd87c4ee15d0"
      },
      "outputs": [
        {
          "data": {
            "image/png": "[encoded data removed]",
            "text/plain": [
              "<Figure size 432x288 with 1 Axes>"
            ]
          },
          "metadata": {},
          "output_type": "display_data"
        }
      ],
      "source": [
        "plt.scatter(p_df['Age'],p_df['EstimatedSalary'])\n",
        "plt.scatter(np_df['Age'],np_df['EstimatedSalary'])\n",
        "plt.title('Original Data')\n",
        "plt.show()"
      ]
    },
    {
      "cell_type": "code",
      "execution_count": null,
      "metadata": {
        "colab": {
          "background_save": true
        },
        "id": "RiJPDlis3rw3"
      },
      "outputs": [],
      "source": [
        "x = df.iloc[:,2:4].values\n",
        "y = df.iloc[:,4].values"
      ]
    },
    {
      "cell_type": "code",
      "execution_count": null,
      "metadata": {
        "colab": {
          "background_save": true
        },
        "id": "vOQQl2lO4-MY"
      },
      "outputs": [],
      "source": [
        "# Splitting of data into train and test\n",
        "from sklearn.model_selection import train_test_split\n",
        "x_train,x_test,y_train,y_test = train_test_split(x,y,random_state=42)"
      ]
    },
    {
      "cell_type": "code",
      "execution_count": null,
      "metadata": {
        "colab": {
          "background_save": true,
          "base_uri": "https://localhost:8080/"
        },
        "id": "dvajefnh5SU5",
        "outputId": "131281f4-38eb-4c89-dc99-c5eac3f574a8"
      },
      "outputs": [
        {
          "name": "stdout",
          "output_type": "stream",
          "text": [
            "(300, 2)\n",
            "(100, 2)\n"
          ]
        }
      ],
      "source": [
        "print(x_train.shape)\n",
        "print(x_test.shape)"
      ]
    },
    {
      "cell_type": "code",
      "execution_count": null,
      "metadata": {
        "colab": {
          "background_save": true,
          "base_uri": "https://localhost:8080/"
        },
        "id": "YQHRbZ1E7e57",
        "outputId": "d9812ebc-950c-453c-b2dd-c31e3c3b5761"
      },
      "outputs": [
        {
          "name": "stdout",
          "output_type": "stream",
          "text": [
            "[[    57 122000]\n",
            " [    39  71000]\n",
            " [    47  25000]\n",
            " [    24  19000]\n",
            " [    36  50000]]\n"
          ]
        }
      ],
      "source": [
        "print(x_train[0:5])"
      ]
    },
    {
      "cell_type": "code",
      "execution_count": null,
      "metadata": {
        "colab": {
          "background_save": true
        },
        "id": "yXhl73Wm7v6G"
      },
      "outputs": [],
      "source": [
        "from sklearn.preprocessing import MinMaxScaler\n",
        "scaler = MinMaxScaler()\n",
        "x_train = scaler.fit_transform(x_train)\n",
        "x_test = scaler.transform(x_test) # No need of applying fit in test data"
      ]
    },
    {
      "cell_type": "code",
      "execution_count": null,
      "metadata": {
        "colab": {
          "background_save": true,
          "base_uri": "https://localhost:8080/"
        },
        "id": "H3VOoqRe8-ni",
        "outputId": "68fbf104-52fc-4f88-9404-5621469777f0"
      },
      "outputs": [
        {
          "name": "stdout",
          "output_type": "stream",
          "text": [
            "[[0.92857143 0.79259259]\n",
            " [0.5        0.41481481]\n",
            " [0.69047619 0.07407407]\n",
            " [0.14285714 0.02962963]\n",
            " [0.42857143 0.25925926]]\n"
          ]
        }
      ],
      "source": [
        "print(x_train[0:5])"
      ]
    },
    {
      "cell_type": "code",
      "execution_count": null,
      "metadata": {
        "colab": {
          "background_save": true
        },
        "id": "sKStMO3Q5fik"
      },
      "outputs": [],
      "source": [
        "from sklearn.linear_model import LogisticRegression\n",
        "clf = LogisticRegression(random_state=0).fit(x_train, y_train)"
      ]
    },
    {
      "cell_type": "code",
      "execution_count": null,
      "metadata": {
        "colab": {
          "background_save": true,
          "base_uri": "https://localhost:8080/"
        },
        "id": "PcD4OW6957qc",
        "outputId": "6bc9bce5-d754-4f34-d790-b9b2f93139c0"
      },
      "outputs": [
        {
          "data": {
            "text/plain": [
              "array([0, 1, 0, 1, 0, 0, 1, 0, 0, 0, 0, 1, 0, 0, 0, 0, 1, 1, 0, 1, 0, 0,\n",
              "       0, 1, 0, 0, 0, 0, 1, 0, 0, 0, 1, 0, 1, 0, 0, 0, 0, 0, 0, 0, 0, 0,\n",
              "       0, 1, 0, 0, 0, 0, 0, 1, 0, 0, 0, 0, 1, 0, 0, 0, 0, 0, 1, 0, 0, 0,\n",
              "       1, 1, 0, 0, 1, 0, 0, 0, 0, 0, 1, 1, 0, 0, 0, 0, 1, 0, 1, 0, 0, 1,\n",
              "       0, 0, 1, 0, 0, 0, 0, 0, 1, 0, 1, 0])"
            ]
          },
          "execution_count": null,
          "metadata": {},
          "output_type": "execute_result"
        }
      ],
      "source": [
        "y_pred = clf.predict(x_test)\n",
        "y_pred"
      ]
    },
    {
      "cell_type": "code",
      "execution_count": null,
      "metadata": {
        "colab": {
          "background_save": true,
          "base_uri": "https://localhost:8080/"
        },
        "id": "tDguppcn6A6T",
        "outputId": "c09bd427-dea7-43eb-d565-374eec86ffee"
      },
      "outputs": [
        {
          "data": {
            "text/plain": [
              "array([0, 1, 0, 1, 0, 0, 1, 0, 0, 0, 0, 1, 0, 0, 0, 0, 1, 0, 0, 1, 0, 0,\n",
              "       1, 1, 0, 1, 0, 0, 1, 0, 1, 0, 1, 0, 1, 0, 0, 0, 0, 0, 1, 0, 0, 1,\n",
              "       0, 1, 0, 0, 1, 0, 0, 1, 0, 0, 0, 0, 1, 0, 0, 0, 0, 0, 1, 0, 0, 1,\n",
              "       1, 1, 0, 0, 1, 0, 0, 0, 1, 0, 1, 1, 0, 1, 0, 1, 1, 0, 1, 1, 0, 1,\n",
              "       0, 0, 1, 0, 0, 0, 0, 0, 1, 0, 1, 1])"
            ]
          },
          "execution_count": null,
          "metadata": {},
          "output_type": "execute_result"
        }
      ],
      "source": [
        "y_test"
      ]
    },
    {
      "cell_type": "code",
      "execution_count": null,
      "metadata": {
        "colab": {
          "background_save": true
        },
        "id": "fL_sko1A6I5a"
      },
      "outputs": [],
      "source": [
        "from sklearn.metrics import confusion_matrix,accuracy_score"
      ]
    },
    {
      "cell_type": "code",
      "execution_count": null,
      "metadata": {
        "colab": {
          "background_save": true,
          "base_uri": "https://localhost:8080/"
        },
        "id": "TFUsUUmM9dGU",
        "outputId": "6988de38-25ab-4bba-e18c-768cd4b3ef9a"
      },
      "outputs": [
        {
          "data": {
            "text/plain": [
              "array([[62, 12],\n",
              "       [ 1, 25]])"
            ]
          },
          "execution_count": null,
          "metadata": {},
          "output_type": "execute_result"
        }
      ],
      "source": [
        "confusion_matrix(y_pred,y_test)"
      ]
    },
    {
      "cell_type": "code",
      "execution_count": null,
      "metadata": {
        "colab": {
          "background_save": true
        },
        "id": "1JXOYs0x9qwm"
      },
      "outputs": [],
      "source": [
        "# Accuracy = (62+25)/(62+12+1+25)"
      ]
    },
    {
      "cell_type": "code",
      "execution_count": null,
      "metadata": {
        "colab": {
          "background_save": true,
          "base_uri": "https://localhost:8080/"
        },
        "id": "-fO6oxTQ-oki",
        "outputId": "6c3bc2e0-e20c-4b81-e87b-30ba6eea84fb"
      },
      "outputs": [
        {
          "data": {
            "text/plain": [
              "0.87"
            ]
          },
          "execution_count": null,
          "metadata": {},
          "output_type": "execute_result"
        }
      ],
      "source": [
        "(62+25)/(62+12+1+25)"
      ]
    },
    {
      "cell_type": "code",
      "execution_count": null,
      "metadata": {
        "colab": {
          "background_save": true,
          "base_uri": "https://localhost:8080/"
        },
        "id": "V--w0hgv-riT",
        "outputId": "3bfba039-8e37-4759-93fc-fedf631751f0"
      },
      "outputs": [
        {
          "data": {
            "text/plain": [
              "0.87"
            ]
          },
          "execution_count": null,
          "metadata": {},
          "output_type": "execute_result"
        }
      ],
      "source": [
        "accuracy_score(y_pred,y_test)"
      ]
    },
    {
      "cell_type": "code",
      "execution_count": null,
      "metadata": {
        "colab": {
          "background_save": true
        },
        "id": "6WiYCQ_3ZVD7"
      },
      "outputs": [],
      "source": [
        ""
      ]
    },
    {
      "cell_type": "code",
      "execution_count": null,
      "metadata": {
        "colab": {
          "background_save": true
        },
        "id": "4GRB9QLb--a8"
      },
      "outputs": [],
      "source": [
        "# Predict only for one value"
      ]
    },
    {
      "cell_type": "code",
      "execution_count": null,
      "metadata": {
        "colab": {
          "background_save": true,
          "base_uri": "https://localhost:8080/"
        },
        "id": "DWF--st3_Gce",
        "outputId": "7329b2f0-5154-477f-ad5d-967526e3b854"
      },
      "outputs": [
        {
          "data": {
            "text/plain": [
              "array([0])"
            ]
          },
          "execution_count": null,
          "metadata": {},
          "output_type": "execute_result"
        }
      ],
      "source": [
        "op = [[51,23000]]\n",
        "op = scaler.transform(op)\n",
        "clf.predict(op)"
      ]
    },
    {
      "cell_type": "code",
      "execution_count": null,
      "metadata": {
        "colab": {
          "background_save": true
        },
        "id": "yVyhq6a-_N-s"
      },
      "outputs": [],
      "source": [
        "# Plot decision region"
      ]
    },
    {
      "cell_type": "code",
      "execution_count": null,
      "metadata": {
        "colab": {
          "base_uri": "https://localhost:8080/"
        },
        "id": "9sP4tM_VF3ax",
        "outputId": "74b4faea-2da7-4f31-93f1-0366bba087a7"
      },
      "outputs": [
        {
          "name": "stdout",
          "output_type": "stream",
          "text": [
            "Collecting mlxtend==0.19.0\n",
            "  Downloading mlxtend-0.19.0-py2.py3-none-any.whl (1.3 MB)\n",
            "\u001b[?25l\r\u001b[K     |▎                               | 10 kB 18.1 MB/s eta 0:00:01\r\u001b[K     |▌                               | 20 kB 14.5 MB/s eta 0:00:01\r\u001b[K     |▊                               | 30 kB 10.4 MB/s eta 0:00:01\r\u001b[K     |█                               | 40 kB 9.0 MB/s eta 0:00:01\r\u001b[K     |█▏                              | 51 kB 4.4 MB/s eta 0:00:01\r\u001b[K     |█▌                              | 61 kB 5.1 MB/s eta 0:00:01\r\u001b[K     |█▊                              | 71 kB 5.5 MB/s eta 0:00:01\r\u001b[K     |██                              | 81 kB 5.7 MB/s eta 0:00:01\r\u001b[K     |██▏                             | 92 kB 6.4 MB/s eta 0:00:01\r\u001b[K     |██▍                             | 102 kB 5.0 MB/s eta 0:00:01\r\u001b[K     |██▊                             | 112 kB 5.0 MB/s eta 0:00:01\r\u001b[K     |███                             | 122 kB 5.0 MB/s eta 0:00:01\r\u001b[K     |███▏                            | 133 kB 5.0 MB/s eta 0:00:01\r\u001b[K     |███▍                            | 143 kB 5.0 MB/s eta 0:00:01\r\u001b[K     |███▋                            | 153 kB 5.0 MB/s eta 0:00:01\r\u001b[K     |████                            | 163 kB 5.0 MB/s eta 0:00:01\r\u001b[K     |████▏                           | 174 kB 5.0 MB/s eta 0:00:01\r\u001b[K     |████▍                           | 184 kB 5.0 MB/s eta 0:00:01\r\u001b[K     |████▋                           | 194 kB 5.0 MB/s eta 0:00:01\r\u001b[K     |████▉                           | 204 kB 5.0 MB/s eta 0:00:01\r\u001b[K     |█████                           | 215 kB 5.0 MB/s eta 0:00:01\r\u001b[K     |█████▍                          | 225 kB 5.0 MB/s eta 0:00:01\r\u001b[K     |█████▋                          | 235 kB 5.0 MB/s eta 0:00:01\r\u001b[K     |█████▉                          | 245 kB 5.0 MB/s eta 0:00:01\r\u001b[K     |██████                          | 256 kB 5.0 MB/s eta 0:00:01\r\u001b[K     |██████▎                         | 266 kB 5.0 MB/s eta 0:00:01\r\u001b[K     |██████▋                         | 276 kB 5.0 MB/s eta 0:00:01\r\u001b[K     |██████▉                         | 286 kB 5.0 MB/s eta 0:00:01\r\u001b[K     |███████                         | 296 kB 5.0 MB/s eta 0:00:01\r\u001b[K     |███████▎                        | 307 kB 5.0 MB/s eta 0:00:01\r\u001b[K     |███████▌                        | 317 kB 5.0 MB/s eta 0:00:01\r\u001b[K     |███████▉                        | 327 kB 5.0 MB/s eta 0:00:01\r\u001b[K     |████████                        | 337 kB 5.0 MB/s eta 0:00:01\r\u001b[K     |████████▎                       | 348 kB 5.0 MB/s eta 0:00:01\r\u001b[K     |████████▌                       | 358 kB 5.0 MB/s eta 0:00:01\r\u001b[K     |████████▊                       | 368 kB 5.0 MB/s eta 0:00:01\r\u001b[K     |█████████                       | 378 kB 5.0 MB/s eta 0:00:01\r\u001b[K     |█████████▎                      | 389 kB 5.0 MB/s eta 0:00:01\r\u001b[K     |█████████▌                      | 399 kB 5.0 MB/s eta 0:00:01\r\u001b[K     |█████████▊                      | 409 kB 5.0 MB/s eta 0:00:01\r\u001b[K     |██████████                      | 419 kB 5.0 MB/s eta 0:00:01\r\u001b[K     |██████████▏                     | 430 kB 5.0 MB/s eta 0:00:01\r\u001b[K     |██████████▌                     | 440 kB 5.0 MB/s eta 0:00:01\r\u001b[K     |██████████▊                     | 450 kB 5.0 MB/s eta 0:00:01\r\u001b[K     |███████████                     | 460 kB 5.0 MB/s eta 0:00:01\r\u001b[K     |███████████▏                    | 471 kB 5.0 MB/s eta 0:00:01\r\u001b[K     |███████████▍                    | 481 kB 5.0 MB/s eta 0:00:01\r\u001b[K     |███████████▊                    | 491 kB 5.0 MB/s eta 0:00:01\r\u001b[K     |████████████                    | 501 kB 5.0 MB/s eta 0:00:01\r\u001b[K     |████████████▏                   | 512 kB 5.0 MB/s eta 0:00:01\r\u001b[K     |████████████▍                   | 522 kB 5.0 MB/s eta 0:00:01\r\u001b[K     |████████████▋                   | 532 kB 5.0 MB/s eta 0:00:01\r\u001b[K     |████████████▉                   | 542 kB 5.0 MB/s eta 0:00:01\r\u001b[K     |█████████████▏                  | 552 kB 5.0 MB/s eta 0:00:01\r\u001b[K     |█████████████▍                  | 563 kB 5.0 MB/s eta 0:00:01\r\u001b[K     |█████████████▋                  | 573 kB 5.0 MB/s eta 0:00:01\r\u001b[K     |█████████████▉                  | 583 kB 5.0 MB/s eta 0:00:01\r\u001b[K     |██████████████                  | 593 kB 5.0 MB/s eta 0:00:01\r\u001b[K     |██████████████▍                 | 604 kB 5.0 MB/s eta 0:00:01\r\u001b[K     |██████████████▋                 | 614 kB 5.0 MB/s eta 0:00:01\r\u001b[K     |██████████████▉                 | 624 kB 5.0 MB/s eta 0:00:01\r\u001b[K     |███████████████                 | 634 kB 5.0 MB/s eta 0:00:01\r\u001b[K     |███████████████▎                | 645 kB 5.0 MB/s eta 0:00:01\r\u001b[K     |███████████████▋                | 655 kB 5.0 MB/s eta 0:00:01\r\u001b[K     |███████████████▉                | 665 kB 5.0 MB/s eta 0:00:01\r\u001b[K     |████████████████                | 675 kB 5.0 MB/s eta 0:00:01\r\u001b[K     |████████████████▎               | 686 kB 5.0 MB/s eta 0:00:01\r\u001b[K     |████████████████▌               | 696 kB 5.0 MB/s eta 0:00:01\r\u001b[K     |████████████████▊               | 706 kB 5.0 MB/s eta 0:00:01\r\u001b[K     |█████████████████               | 716 kB 5.0 MB/s eta 0:00:01\r\u001b[K     |█████████████████▎              | 727 kB 5.0 MB/s eta 0:00:01\r\u001b[K     |█████████████████▌              | 737 kB 5.0 MB/s eta 0:00:01\r\u001b[K     |█████████████████▊              | 747 kB 5.0 MB/s eta 0:00:01\r\u001b[K     |██████████████████              | 757 kB 5.0 MB/s eta 0:00:01\r\u001b[K     |██████████████████▎             | 768 kB 5.0 MB/s eta 0:00:01\r\u001b[K     |██████████████████▌             | 778 kB 5.0 MB/s eta 0:00:01\r\u001b[K     |██████████████████▊             | 788 kB 5.0 MB/s eta 0:00:01\r\u001b[K     |███████████████████             | 798 kB 5.0 MB/s eta 0:00:01\r\u001b[K     |███████████████████▏            | 808 kB 5.0 MB/s eta 0:00:01\r\u001b[K     |███████████████████▌            | 819 kB 5.0 MB/s eta 0:00:01\r\u001b[K     |███████████████████▊            | 829 kB 5.0 MB/s eta 0:00:01\r\u001b[K     |████████████████████            | 839 kB 5.0 MB/s eta 0:00:01\r\u001b[K     |████████████████████▏           | 849 kB 5.0 MB/s eta 0:00:01\r\u001b[K     |████████████████████▍           | 860 kB 5.0 MB/s eta 0:00:01\r\u001b[K     |████████████████████▋           | 870 kB 5.0 MB/s eta 0:00:01\r\u001b[K     |█████████████████████           | 880 kB 5.0 MB/s eta 0:00:01\r\u001b[K     |█████████████████████▏          | 890 kB 5.0 MB/s eta 0:00:01\r\u001b[K     |█████████████████████▍          | 901 kB 5.0 MB/s eta 0:00:01\r\u001b[K     |█████████████████████▋          | 911 kB 5.0 MB/s eta 0:00:01\r\u001b[K     |█████████████████████▉          | 921 kB 5.0 MB/s eta 0:00:01\r\u001b[K     |██████████████████████▏         | 931 kB 5.0 MB/s eta 0:00:01\r\u001b[K     |██████████████████████▍         | 942 kB 5.0 MB/s eta 0:00:01\r\u001b[K     |██████████████████████▋         | 952 kB 5.0 MB/s eta 0:00:01\r\u001b[K     |██████████████████████▉         | 962 kB 5.0 MB/s eta 0:00:01\r\u001b[K     |███████████████████████         | 972 kB 5.0 MB/s eta 0:00:01\r\u001b[K     |███████████████████████▍        | 983 kB 5.0 MB/s eta 0:00:01\r\u001b[K     |███████████████████████▋        | 993 kB 5.0 MB/s eta 0:00:01\r\u001b[K     |███████████████████████▉        | 1.0 MB 5.0 MB/s eta 0:00:01\r\u001b[K     |████████████████████████        | 1.0 MB 5.0 MB/s eta 0:00:01\r\u001b[K     |████████████████████████▎       | 1.0 MB 5.0 MB/s eta 0:00:01\r\u001b[K     |████████████████████████▌       | 1.0 MB 5.0 MB/s eta 0:00:01\r\u001b[K     |████████████████████████▉       | 1.0 MB 5.0 MB/s eta 0:00:01\r\u001b[K     |█████████████████████████       | 1.1 MB 5.0 MB/s eta 0:00:01\r\u001b[K     |█████████████████████████▎      | 1.1 MB 5.0 MB/s eta 0:00:01\r\u001b[K     |█████████████████████████▌      | 1.1 MB 5.0 MB/s eta 0:00:01\r\u001b[K     |█████████████████████████▊      | 1.1 MB 5.0 MB/s eta 0:00:01\r\u001b[K     |██████████████████████████      | 1.1 MB 5.0 MB/s eta 0:00:01\r\u001b[K     |██████████████████████████▎     | 1.1 MB 5.0 MB/s eta 0:00:01\r\u001b[K     |██████████████████████████▌     | 1.1 MB 5.0 MB/s eta 0:00:01\r\u001b[K     |██████████████████████████▊     | 1.1 MB 5.0 MB/s eta 0:00:01\r\u001b[K     |███████████████████████████     | 1.1 MB 5.0 MB/s eta 0:00:01\r\u001b[K     |███████████████████████████▎    | 1.1 MB 5.0 MB/s eta 0:00:01\r\u001b[K     |███████████████████████████▌    | 1.2 MB 5.0 MB/s eta 0:00:01\r\u001b[K     |███████████████████████████▊    | 1.2 MB 5.0 MB/s eta 0:00:01\r\u001b[K     |████████████████████████████    | 1.2 MB 5.0 MB/s eta 0:00:01\r\u001b[K     |████████████████████████████▏   | 1.2 MB 5.0 MB/s eta 0:00:01\r\u001b[K     |████████████████████████████▍   | 1.2 MB 5.0 MB/s eta 0:00:01\r\u001b[K     |████████████████████████████▊   | 1.2 MB 5.0 MB/s eta 0:00:01\r\u001b[K     |█████████████████████████████   | 1.2 MB 5.0 MB/s eta 0:00:01\r\u001b[K     |█████████████████████████████▏  | 1.2 MB 5.0 MB/s eta 0:00:01\r\u001b[K     |█████████████████████████████▍  | 1.2 MB 5.0 MB/s eta 0:00:01\r\u001b[K     |█████████████████████████████▋  | 1.2 MB 5.0 MB/s eta 0:00:01\r\u001b[K     |██████████████████████████████  | 1.3 MB 5.0 MB/s eta 0:00:01\r\u001b[K     |██████████████████████████████▏ | 1.3 MB 5.0 MB/s eta 0:00:01\r\u001b[K     |██████████████████████████████▍ | 1.3 MB 5.0 MB/s eta 0:00:01\r\u001b[K     |██████████████████████████████▋ | 1.3 MB 5.0 MB/s eta 0:00:01\r\u001b[K     |██████████████████████████████▉ | 1.3 MB 5.0 MB/s eta 0:00:01\r\u001b[K     |███████████████████████████████▏| 1.3 MB 5.0 MB/s eta 0:00:01\r\u001b[K     |███████████████████████████████▍| 1.3 MB 5.0 MB/s eta 0:00:01\r\u001b[K     |███████████████████████████████▋| 1.3 MB 5.0 MB/s eta 0:00:01\r\u001b[K     |███████████████████████████████▉| 1.3 MB 5.0 MB/s eta 0:00:01\r\u001b[K     |████████████████████████████████| 1.3 MB 5.0 MB/s \n",
            "\u001b[?25hRequirement already satisfied: scikit-learn>=0.20.3 in /usr/local/lib/python3.7/dist-packages (from mlxtend==0.19.0) (1.0.2)\n",
            "Requirement already satisfied: setuptools in /usr/local/lib/python3.7/dist-packages (from mlxtend==0.19.0) (57.4.0)\n",
            "Requirement already satisfied: matplotlib>=3.0.0 in /usr/local/lib/python3.7/dist-packages (from mlxtend==0.19.0) (3.2.2)\n",
            "Requirement already satisfied: scipy>=1.2.1 in /usr/local/lib/python3.7/dist-packages (from mlxtend==0.19.0) (1.4.1)\n",
            "Requirement already satisfied: pandas>=0.24.2 in /usr/local/lib/python3.7/dist-packages (from mlxtend==0.19.0) (1.3.5)\n",
            "Requirement already satisfied: joblib>=0.13.2 in /usr/local/lib/python3.7/dist-packages (from mlxtend==0.19.0) (1.1.0)\n",
            "Requirement already satisfied: numpy>=1.16.2 in /usr/local/lib/python3.7/dist-packages (from mlxtend==0.19.0) (1.21.5)\n",
            "Requirement already satisfied: kiwisolver>=1.0.1 in /usr/local/lib/python3.7/dist-packages (from matplotlib>=3.0.0->mlxtend==0.19.0) (1.4.0)\n",
            "Requirement already satisfied: python-dateutil>=2.1 in /usr/local/lib/python3.7/dist-packages (from matplotlib>=3.0.0->mlxtend==0.19.0) (2.8.2)\n",
            "Requirement already satisfied: pyparsing!=2.0.4,!=2.1.2,!=2.1.6,>=2.0.1 in /usr/local/lib/python3.7/dist-packages (from matplotlib>=3.0.0->mlxtend==0.19.0) (3.0.7)\n",
            "Requirement already satisfied: cycler>=0.10 in /usr/local/lib/python3.7/dist-packages (from matplotlib>=3.0.0->mlxtend==0.19.0) (0.11.0)\n",
            "Requirement already satisfied: typing-extensions in /usr/local/lib/python3.7/dist-packages (from kiwisolver>=1.0.1->matplotlib>=3.0.0->mlxtend==0.19.0) (3.10.0.2)\n",
            "Requirement already satisfied: pytz>=2017.3 in /usr/local/lib/python3.7/dist-packages (from pandas>=0.24.2->mlxtend==0.19.0) (2018.9)\n",
            "Requirement already satisfied: six>=1.5 in /usr/local/lib/python3.7/dist-packages (from python-dateutil>=2.1->matplotlib>=3.0.0->mlxtend==0.19.0) (1.15.0)\n",
            "Requirement already satisfied: threadpoolctl>=2.0.0 in /usr/local/lib/python3.7/dist-packages (from scikit-learn>=0.20.3->mlxtend==0.19.0) (3.1.0)\n",
            "Installing collected packages: mlxtend\n",
            "  Attempting uninstall: mlxtend\n",
            "    Found existing installation: mlxtend 0.14.0\n",
            "    Uninstalling mlxtend-0.14.0:\n",
            "      Successfully uninstalled mlxtend-0.14.0\n",
            "Successfully installed mlxtend-0.19.0\n"
          ]
        }
      ],
      "source": [
        "!pip install mlxtend==0.19.0"
      ]
    },
    {
      "cell_type": "code",
      "execution_count": null,
      "metadata": {
        "id": "vlIE1ay5D3o1"
      },
      "outputs": [],
      "source": [
        "from mlxtend.plotting import plot_decision_regions"
      ]
    },
    {
      "cell_type": "code",
      "execution_count": null,
      "metadata": {
        "colab": {
          "base_uri": "https://localhost:8080/",
          "height": 36
        },
        "id": "s6eUp7AsFjMf",
        "outputId": "4d4bc24b-25ea-4e3a-9b0c-f8848fdd49f5"
      },
      "outputs": [
        {
          "data": {
            "application/vnd.google.colaboratory.intrinsic+json": {
              "type": "string"
            },
            "text/plain": [
              "'0.19.0'"
            ]
          },
          "execution_count": 30,
          "metadata": {},
          "output_type": "execute_result"
        }
      ],
      "source": [
        "import mlxtend\n",
        "mlxtend.__version__"
      ]
    },
    {
      "cell_type": "code",
      "execution_count": null,
      "metadata": {
        "colab": {
          "base_uri": "https://localhost:8080/",
          "height": 295
        },
        "id": "8ddHmPCdEDWo",
        "outputId": "ce13cd11-fcd2-4615-c627-20e4ddaf86b6"
      },
      "outputs": [
        {
          "data": {
            "image/png": "[encoded data removed]",
            "text/plain": [
              "<Figure size 432x288 with 1 Axes>"
            ]
          },
          "metadata": {},
          "output_type": "display_data"
        }
      ],
      "source": [
        "# Plotting decision regions\n",
        "plot_decision_regions(x_train, y_train, clf, legend=2)\n",
        "\n",
        "# Adding axes annotations\n",
        "plt.xlabel('Age')\n",
        "plt.ylabel('Salary')\n",
        "plt.title('Training Data')\n",
        "plt.show()"
      ]
    },
    {
      "cell_type": "code",
      "execution_count": null,
      "metadata": {
        "colab": {
          "base_uri": "https://localhost:8080/",
          "height": 295
        },
        "id": "eMdciul8EWnL",
        "outputId": "b44bcd58-a662-4d57-aec4-dba64a74af73"
      },
      "outputs": [
        {
          "data": {
            "image/png": "[encoded data removed]",
            "text/plain": [
              "<Figure size 432x288 with 1 Axes>"
            ]
          },
          "metadata": {},
          "output_type": "display_data"
        }
      ],
      "source": [
        "# Plotting decision regions\n",
        "plot_decision_regions(x_test, y_test, clf,zoom_factor=5, legend=2)\n",
        "\n",
        "# Adding axes annotations\n",
        "plt.xlabel('Age')\n",
        "plt.ylabel('Salary')\n",
        "plt.title('Testing Data')\n",
        "plt.show()"
      ]
    },
    {
      "cell_type": "code",
      "execution_count": null,
      "metadata": {
        "id": "S9a-VqC7E5n_"
      },
      "outputs": [],
      "source": [
        "# Probabilities"
      ]
    },
    {
      "cell_type": "code",
      "execution_count": null,
      "metadata": {
        "colab": {
          "base_uri": "https://localhost:8080/"
        },
        "id": "l_J-FYhDG3YB",
        "outputId": "1ecb0fc5-374f-4a30-987a-cbefb6f2e548"
      },
      "outputs": [
        {
          "data": {
            "text/plain": [
              "array([0, 1, 0, 1, 0, 0, 1, 0, 0, 0, 0, 1, 0, 0, 0, 0, 1, 1, 0, 1, 0, 0,\n",
              "       0, 1, 0, 0, 0, 0, 1, 0, 0, 0, 1, 0, 1, 0, 0, 0, 0, 0, 0, 0, 0, 0,\n",
              "       0, 1, 0, 0, 0, 0, 0, 1, 0, 0, 0, 0, 1, 0, 0, 0, 0, 0, 1, 0, 0, 0,\n",
              "       1, 1, 0, 0, 1, 0, 0, 0, 0, 0, 1, 1, 0, 0, 0, 0, 1, 0, 1, 0, 0, 1,\n",
              "       0, 0, 1, 0, 0, 0, 0, 0, 1, 0, 1, 0])"
            ]
          },
          "execution_count": 34,
          "metadata": {},
          "output_type": "execute_result"
        }
      ],
      "source": [
        "y_pred"
      ]
    },
    {
      "cell_type": "code",
      "execution_count": null,
      "metadata": {
        "colab": {
          "base_uri": "https://localhost:8080/"
        },
        "id": "c3RH6f9QG4Ew",
        "outputId": "d8740d90-30da-4d84-9dea-d58b0e476ab3"
      },
      "outputs": [
        {
          "data": {
            "text/plain": [
              "array([[0.69253784, 0.30746216],\n",
              "       [0.12791454, 0.87208546],\n",
              "       [0.91620662, 0.08379338],\n",
              "       [0.29978997, 0.70021003],\n",
              "       [0.93028939, 0.06971061],\n",
              "       [0.86047696, 0.13952304],\n",
              "       [0.27879648, 0.72120352],\n",
              "       [0.82096332, 0.17903668],\n",
              "       [0.61103403, 0.38896597],\n",
              "       [0.60416961, 0.39583039],\n",
              "       [0.76913597, 0.23086403],\n",
              "       [0.44976191, 0.55023809],\n",
              "       [0.94643195, 0.05356805],\n",
              "       [0.97568027, 0.02431973],\n",
              "       [0.79144976, 0.20855024],\n",
              "       [0.59103782, 0.40896218],\n",
              "       [0.45814466, 0.54185534],\n",
              "       [0.450667  , 0.549333  ],\n",
              "       [0.76925761, 0.23074239],\n",
              "       [0.26092699, 0.73907301],\n",
              "       [0.96742635, 0.03257365],\n",
              "       [0.8293682 , 0.1706318 ],\n",
              "       [0.66397927, 0.33602073],\n",
              "       [0.15624312, 0.84375688],\n",
              "       [0.97978777, 0.02021223],\n",
              "       [0.55849055, 0.44150945],\n",
              "       [0.53283437, 0.46716563],\n",
              "       [0.77091638, 0.22908362],\n",
              "       [0.10045946, 0.89954054],\n",
              "       [0.97900397, 0.02099603],\n",
              "       [0.6089682 , 0.3910318 ],\n",
              "       [0.94737402, 0.05262598],\n",
              "       [0.39115153, 0.60884847],\n",
              "       [0.84710704, 0.15289296],\n",
              "       [0.45763442, 0.54236558],\n",
              "       [0.73286563, 0.26713437],\n",
              "       [0.76398399, 0.23601601],\n",
              "       [0.70451863, 0.29548137],\n",
              "       [0.94719141, 0.05280859],\n",
              "       [0.95438539, 0.04561461],\n",
              "       [0.59274865, 0.40725135],\n",
              "       [0.93240773, 0.06759227],\n",
              "       [0.96615735, 0.03384265],\n",
              "       [0.67685295, 0.32314705],\n",
              "       [0.96033654, 0.03966346],\n",
              "       [0.22488192, 0.77511808],\n",
              "       [0.87546734, 0.12453266],\n",
              "       [0.82243631, 0.17756369],\n",
              "       [0.55476868, 0.44523132],\n",
              "       [0.85097276, 0.14902724],\n",
              "       [0.88560552, 0.11439448],\n",
              "       [0.24343686, 0.75656314],\n",
              "       [0.74328962, 0.25671038],\n",
              "       [0.88362304, 0.11637696],\n",
              "       [0.66576147, 0.33423853],\n",
              "       [0.94024539, 0.05975461],\n",
              "       [0.09087856, 0.90912144],\n",
              "       [0.76451936, 0.23548064],\n",
              "       [0.81376665, 0.18623335],\n",
              "       [0.8078077 , 0.1921923 ],\n",
              "       [0.69132022, 0.30867978],\n",
              "       [0.79556809, 0.20443191],\n",
              "       [0.2354478 , 0.7645522 ],\n",
              "       [0.82588023, 0.17411977],\n",
              "       [0.89095619, 0.10904381],\n",
              "       [0.66753894, 0.33246106],\n",
              "       [0.48432976, 0.51567024],\n",
              "       [0.15854636, 0.84145364],\n",
              "       [0.70556403, 0.29443597],\n",
              "       [0.62108666, 0.37891334],\n",
              "       [0.10811934, 0.89188066],\n",
              "       [0.93080631, 0.06919369],\n",
              "       [0.90304087, 0.09695913],\n",
              "       [0.96818809, 0.03181191],\n",
              "       [0.61477458, 0.38522542],\n",
              "       [0.81679483, 0.18320517],\n",
              "       [0.07878126, 0.92121874],\n",
              "       [0.46064158, 0.53935842],\n",
              "       [0.82535377, 0.17464623],\n",
              "       [0.67434915, 0.32565085],\n",
              "       [0.90472823, 0.09527177],\n",
              "       [0.66718352, 0.33281648],\n",
              "       [0.35829409, 0.64170591],\n",
              "       [0.66926059, 0.33073941],\n",
              "       [0.37935426, 0.62064574],\n",
              "       [0.61531589, 0.38468411],\n",
              "       [0.68716012, 0.31283988],\n",
              "       [0.39627844, 0.60372156],\n",
              "       [0.85804532, 0.14195468],\n",
              "       [0.91232048, 0.08767952],\n",
              "       [0.31743604, 0.68256396],\n",
              "       [0.78677259, 0.21322741],\n",
              "       [0.68188022, 0.31811978],\n",
              "       [0.56046186, 0.43953814],\n",
              "       [0.95925199, 0.04074801],\n",
              "       [0.61904093, 0.38095907],\n",
              "       [0.06092317, 0.93907683],\n",
              "       [0.60880503, 0.39119497],\n",
              "       [0.08958434, 0.91041566],\n",
              "       [0.59918633, 0.40081367]])"
            ]
          },
          "execution_count": 35,
          "metadata": {},
          "output_type": "execute_result"
        }
      ],
      "source": [
        "clf.predict_proba(x_test)"
      ]
    },
    {
      "cell_type": "code",
      "execution_count": null,
      "metadata": {
        "id": "49m663s4HGuN"
      },
      "outputs": [],
      "source": [
        "# Note: If dataset is imbalanced, then accuracy score is not a good measure for evaluation\n",
        "# Either Recall or Precision"
      ]
    },
    {
      "cell_type": "code",
      "execution_count": null,
      "metadata": {
        "id": "3obiLekAZ8Vy"
      },
      "outputs": [],
      "source": [
        ""
      ]
    },
    {
      "cell_type": "code",
      "execution_count": null,
      "metadata": {
        "id": "19unGbA8aciw"
      },
      "outputs": [],
      "source": [
        "from sklearn.metrics import confusion_matrix,accuracy_score"
      ]
    },
    {
      "cell_type": "code",
      "execution_count": null,
      "metadata": {
        "colab": {
          "base_uri": "https://localhost:8080/"
        },
        "id": "d2uo5R52aci7",
        "outputId": "015c59f7-96ab-4b9c-bd12-87234ee89344"
      },
      "outputs": [
        {
          "data": {
            "text/plain": [
              "array([[62, 12],\n",
              "       [ 1, 25]])"
            ]
          },
          "execution_count": 21,
          "metadata": {},
          "output_type": "execute_result"
        }
      ],
      "source": [
        "confusion_matrix(y_pred,y_test)"
      ]
    },
    {
      "cell_type": "code",
      "execution_count": null,
      "metadata": {
        "id": "NTe9raP3afW8"
      },
      "outputs": [],
      "source": [
        "# Precision : It is the ratio between True Positive and all positives\n",
        "\n",
        "# P_1 = TP/(TP+FP)\n",
        "# P_0 = TN/(TN+FN)\n"
      ]
    },
    {
      "cell_type": "code",
      "execution_count": null,
      "metadata": {
        "id": "bXNHYZvWa4sZ"
      },
      "outputs": [],
      "source": [
        "from sklearn.metrics import precision_score\n",
        "p_p = precision_score(y_pred,y_test,p)"
      ]
    }
  ],
  "metadata": {
    "colab": {
      "collapsed_sections": [],
      "name": "Logistic Regression.ipynb",
      "provenance": [],
      "include_colab_link": true
    },
    "kernelspec": {
      "display_name": "Python 3",
      "name": "python3"
    },
    "language_info": {
      "name": "python"
    }
  },
  "nbformat": 4,
  "nbformat_minor": 0
}