{
  "nbformat": 4,
  "nbformat_minor": 0,
  "metadata": {
    "colab": {
      "name": "Python Statistics.ipynb",
      "provenance": [],
      "collapsed_sections": [],
      "include_colab_link": true
    },
    "kernelspec": {
      "name": "python3",
      "display_name": "Python 3"
    },
    "language_info": {
      "name": "python"
    }
  },
  "cells": [
    {
      "cell_type": "markdown",
      "metadata": {
        "id": "view-in-github",
        "colab_type": "text"
      },
      "source": [
        "<a href=\"https://colab.research.google.com/github/Vaibhavyadav350/AI-Learnings/blob/main/Python_Statistics.ipynb\" target=\"_parent\"><img src=\"https://colab.research.google.com/assets/colab-badge.svg\" alt=\"Open In Colab\"/></a>"
      ]
    },
    {
      "cell_type": "code",
      "execution_count": null,
      "metadata": {
        "id": "BSI7OEuRjomE"
      },
      "outputs": [],
      "source": [
        "# Package / Library /Module"
      ]
    },
    {
      "cell_type": "code",
      "source": [
        "# Module : Any Python prgm is considered as a module (.py)"
      ],
      "metadata": {
        "id": "djc1asggj9JH"
      },
      "execution_count": null,
      "outputs": []
    },
    {
      "cell_type": "code",
      "source": [
        "# Library : Collection of multiple modules\n",
        "# It will contain lots of functions and variables which be called\n",
        "# Function ---> Method\n",
        "# Variable ---> Attributes"
      ],
      "metadata": {
        "id": "7F9POoOVkQ1V"
      },
      "execution_count": null,
      "outputs": []
    },
    {
      "cell_type": "code",
      "source": [
        "# Package : It is a directory which contains collection of libraries"
      ],
      "metadata": {
        "id": "xqNcolQ_k13_"
      },
      "execution_count": null,
      "outputs": []
    },
    {
      "cell_type": "code",
      "source": [
        "# Libraries can be divided into 2 kinds:\n",
        "# 1. Inbuilt Library ( Python standard library )\n",
        "# https://docs.python.org/3/library/\n",
        "# 2. User defined Library ( use package manager to install )\n",
        "# Numpy, Matplotlib, Seaborn, Pandas, Scikit-learn, Tensorflow,Streamlit"
      ],
      "metadata": {
        "id": "zSWRJuFOlDcK"
      },
      "execution_count": null,
      "outputs": []
    },
    {
      "cell_type": "code",
      "source": [
        "import statistics"
      ],
      "metadata": {
        "id": "AjMW3qZPlVND"
      },
      "execution_count": null,
      "outputs": []
    },
    {
      "cell_type": "code",
      "source": [
        "import numpy "
      ],
      "metadata": {
        "id": "TL5QlJW9l1br"
      },
      "execution_count": null,
      "outputs": []
    },
    {
      "cell_type": "code",
      "source": [
        "import streamlit"
      ],
      "metadata": {
        "id": "BeJwwUkFmYoB"
      },
      "execution_count": null,
      "outputs": []
    },
    {
      "cell_type": "code",
      "source": [
        "!pip install streamlit"
      ],
      "metadata": {
        "id": "ByXbNJ3MmaWN"
      },
      "execution_count": null,
      "outputs": []
    },
    {
      "cell_type": "code",
      "source": [
        "import streamlit"
      ],
      "metadata": {
        "colab": {
          "base_uri": "https://localhost:8080/"
        },
        "id": "bIkiuZoBmoZJ",
        "outputId": "c748cfea-5d61-4a6a-8ad8-2eab91914230"
      },
      "execution_count": null,
      "outputs": [
        {
          "output_type": "stream",
          "name": "stderr",
          "text": [
            "2022-03-13 14:07:35.150 INFO    numexpr.utils: NumExpr defaulting to 2 threads.\n"
          ]
        }
      ]
    },
    {
      "cell_type": "code",
      "source": [
        "# Libraries useful for Statistics\n",
        "# 1. Statistics module from Python Standard Library\n",
        "# https://docs.python.org/3.7/library/statistics.html\n",
        "# 2. Numpy Library\n",
        "# https://numpy.org/doc/stable/\n",
        "# 3. Scipy Library\n",
        "# https://docs.scipy.org/doc/scipy/reference/stats.html"
      ],
      "metadata": {
        "id": "tOBRQxgLmxiO"
      },
      "execution_count": null,
      "outputs": []
    },
    {
      "cell_type": "code",
      "source": [
        "# It contains array as the basic object\n",
        "import numpy as np\n",
        "a = np.array([34,56,23,56,67,24]) # Method\n",
        "print(a)"
      ],
      "metadata": {
        "colab": {
          "base_uri": "https://localhost:8080/"
        },
        "id": "KZ-Y55hEnZvR",
        "outputId": "d15a1955-dd53-4832-fec3-937ffff61ee4"
      },
      "execution_count": null,
      "outputs": [
        {
          "output_type": "stream",
          "name": "stdout",
          "text": [
            "[34 56 23 56 67 24]\n"
          ]
        }
      ]
    },
    {
      "cell_type": "code",
      "source": [
        "print(type(a))"
      ],
      "metadata": {
        "colab": {
          "base_uri": "https://localhost:8080/"
        },
        "id": "DtEwxhpln16o",
        "outputId": "e46e85a5-c89f-4084-cd65-cc807d888d47"
      },
      "execution_count": null,
      "outputs": [
        {
          "output_type": "stream",
          "name": "stdout",
          "text": [
            "<class 'numpy.ndarray'>\n"
          ]
        }
      ]
    },
    {
      "cell_type": "code",
      "source": [
        "print(a.shape) # Attribute"
      ],
      "metadata": {
        "colab": {
          "base_uri": "https://localhost:8080/"
        },
        "id": "nn7nYDfZn-ww",
        "outputId": "bcd98572-285f-4a45-f18f-56b04e3047d5"
      },
      "execution_count": null,
      "outputs": [
        {
          "output_type": "stream",
          "name": "stdout",
          "text": [
            "(6,)\n"
          ]
        }
      ]
    },
    {
      "cell_type": "code",
      "source": [
        "# Basic Arithmetic operations\n",
        "np.sum(a)"
      ],
      "metadata": {
        "colab": {
          "base_uri": "https://localhost:8080/"
        },
        "id": "VCTSR5ngoYpA",
        "outputId": "c233f199-2913-4990-cf41-4f00d5f868af"
      },
      "execution_count": null,
      "outputs": [
        {
          "output_type": "execute_result",
          "data": {
            "text/plain": [
              "260"
            ]
          },
          "metadata": {},
          "execution_count": 11
        }
      ]
    },
    {
      "cell_type": "code",
      "source": [
        "# Central Tendency : Average\n",
        "# Sum of total values divided by count\n",
        "mean_a = np.sum(a)/len(a)\n",
        "mean_a"
      ],
      "metadata": {
        "colab": {
          "base_uri": "https://localhost:8080/"
        },
        "id": "QcwNVYUGpCGd",
        "outputId": "14cf37f8-f1a7-4ac1-953a-ce20d877f3da"
      },
      "execution_count": null,
      "outputs": [
        {
          "output_type": "execute_result",
          "data": {
            "text/plain": [
              "43.333333333333336"
            ]
          },
          "metadata": {},
          "execution_count": 12
        }
      ]
    },
    {
      "cell_type": "code",
      "source": [
        "np.mean(a)"
      ],
      "metadata": {
        "colab": {
          "base_uri": "https://localhost:8080/"
        },
        "id": "rIGrcO1dpYVG",
        "outputId": "73408a74-f78b-4fd7-f21e-a8d15023d170"
      },
      "execution_count": null,
      "outputs": [
        {
          "output_type": "execute_result",
          "data": {
            "text/plain": [
              "43.333333333333336"
            ]
          },
          "metadata": {},
          "execution_count": 13
        }
      ]
    },
    {
      "cell_type": "code",
      "source": [
        "# Median : Arrange the values in an array in ascending order and checking the middle value\n",
        "# 50th Percentile --> Median (2nd Quartile)\n",
        "np.sort(a)"
      ],
      "metadata": {
        "colab": {
          "base_uri": "https://localhost:8080/"
        },
        "id": "3KX3Wd45pbZC",
        "outputId": "5e4e130e-3ead-4aab-f7c7-22c3921fa9a2"
      },
      "execution_count": null,
      "outputs": [
        {
          "output_type": "execute_result",
          "data": {
            "text/plain": [
              "array([23, 24, 34, 56, 56, 67])"
            ]
          },
          "metadata": {},
          "execution_count": 14
        }
      ]
    },
    {
      "cell_type": "code",
      "source": [
        "(34+56)/2"
      ],
      "metadata": {
        "colab": {
          "base_uri": "https://localhost:8080/"
        },
        "id": "jUnnXpF4pmK-",
        "outputId": "08600b9f-48d7-4ae6-ab26-2a1e966204ea"
      },
      "execution_count": null,
      "outputs": [
        {
          "output_type": "execute_result",
          "data": {
            "text/plain": [
              "45.0"
            ]
          },
          "metadata": {},
          "execution_count": 15
        }
      ]
    },
    {
      "cell_type": "code",
      "source": [
        "np.median(a)"
      ],
      "metadata": {
        "colab": {
          "base_uri": "https://localhost:8080/"
        },
        "id": "vhSxBYvnpzJR",
        "outputId": "78152233-aa87-4a49-aa75-abb67e717752"
      },
      "execution_count": null,
      "outputs": [
        {
          "output_type": "execute_result",
          "data": {
            "text/plain": [
              "45.0"
            ]
          },
          "metadata": {},
          "execution_count": 16
        }
      ]
    },
    {
      "cell_type": "code",
      "source": [
        "# Mode : Most repeated value in a dataset\n",
        "np.mode(a)"
      ],
      "metadata": {
        "colab": {
          "base_uri": "https://localhost:8080/",
          "height": 312
        },
        "id": "w0L5tj0zp1mI",
        "outputId": "343cab34-bf61-485b-d952-e8181c4206a6"
      },
      "execution_count": null,
      "outputs": [
        {
          "output_type": "error",
          "ename": "AttributeError",
          "evalue": "ignored",
          "traceback": [
            "\u001b[0;31m---------------------------------------------------------------------------\u001b[0m",
            "\u001b[0;31mAttributeError\u001b[0m                            Traceback (most recent call last)",
            "\u001b[0;32m<ipython-input-17-24285dc00aca>\u001b[0m in \u001b[0;36m<module>\u001b[0;34m()\u001b[0m\n\u001b[1;32m      1\u001b[0m \u001b[0;31m# Mode\u001b[0m\u001b[0;34m\u001b[0m\u001b[0;34m\u001b[0m\u001b[0;34m\u001b[0m\u001b[0m\n\u001b[0;32m----> 2\u001b[0;31m \u001b[0mnp\u001b[0m\u001b[0;34m.\u001b[0m\u001b[0mmode\u001b[0m\u001b[0;34m(\u001b[0m\u001b[0ma\u001b[0m\u001b[0;34m)\u001b[0m\u001b[0;34m\u001b[0m\u001b[0;34m\u001b[0m\u001b[0m\n\u001b[0m",
            "\u001b[0;32m/usr/local/lib/python3.7/dist-packages/numpy/__init__.py\u001b[0m in \u001b[0;36m__getattr__\u001b[0;34m(attr)\u001b[0m\n\u001b[1;32m    312\u001b[0m \u001b[0;34m\u001b[0m\u001b[0m\n\u001b[1;32m    313\u001b[0m             raise AttributeError(\"module {!r} has no attribute \"\n\u001b[0;32m--> 314\u001b[0;31m                                  \"{!r}\".format(__name__, attr))\n\u001b[0m\u001b[1;32m    315\u001b[0m \u001b[0;34m\u001b[0m\u001b[0m\n\u001b[1;32m    316\u001b[0m         \u001b[0;32mdef\u001b[0m \u001b[0m__dir__\u001b[0m\u001b[0;34m(\u001b[0m\u001b[0;34m)\u001b[0m\u001b[0;34m:\u001b[0m\u001b[0;34m\u001b[0m\u001b[0;34m\u001b[0m\u001b[0m\n",
            "\u001b[0;31mAttributeError\u001b[0m: module 'numpy' has no attribute 'mode'"
          ]
        }
      ]
    },
    {
      "cell_type": "code",
      "source": [
        "from scipy import stats\n",
        "stats.mode(a)"
      ],
      "metadata": {
        "colab": {
          "base_uri": "https://localhost:8080/"
        },
        "id": "GF6oBOjfqJu0",
        "outputId": "ee27df05-f438-4e56-fbd6-acc3cd26d5c2"
      },
      "execution_count": null,
      "outputs": [
        {
          "output_type": "execute_result",
          "data": {
            "text/plain": [
              "ModeResult(mode=array([56]), count=array([2]))"
            ]
          },
          "metadata": {},
          "execution_count": 18
        }
      ]
    },
    {
      "cell_type": "code",
      "source": [
        "np.unique(a,return_counts=True)"
      ],
      "metadata": {
        "colab": {
          "base_uri": "https://localhost:8080/"
        },
        "id": "31aahE7TqkUG",
        "outputId": "35b8f461-f58b-4719-98b4-5663fc94d0c0"
      },
      "execution_count": null,
      "outputs": [
        {
          "output_type": "execute_result",
          "data": {
            "text/plain": [
              "(array([23, 24, 34, 56, 67]), array([1, 1, 1, 2, 1]))"
            ]
          },
          "metadata": {},
          "execution_count": 20
        }
      ]
    },
    {
      "cell_type": "code",
      "source": [
        "# Measure of Spread/Dispersion\n",
        "# Range - Difference between the highest value and lowest value\n",
        "# Application: Scaling(Normalization)\n",
        "# Variance : How far numbers are spread from avg value\n",
        "# Standard Deviation : Squared root of variance\n",
        "# Application : Standard Scaling, Z-score(Outlier Detection)"
      ],
      "metadata": {
        "id": "uwIbmzHxqxOT"
      },
      "execution_count": null,
      "outputs": []
    },
    {
      "cell_type": "code",
      "source": [
        "# Assignment : How Central tendency and measure of spread are used in Data Science?"
      ],
      "metadata": {
        "id": "NEqgmpKMtteW"
      },
      "execution_count": null,
      "outputs": []
    },
    {
      "cell_type": "code",
      "source": [
        "a = np.array([1,2,3,4])\n",
        "np.mean(a)"
      ],
      "metadata": {
        "colab": {
          "base_uri": "https://localhost:8080/"
        },
        "id": "L3jsp60XsMbq",
        "outputId": "abf9a7af-4e26-4520-ff20-476199d258b0"
      },
      "execution_count": null,
      "outputs": [
        {
          "output_type": "execute_result",
          "data": {
            "text/plain": [
              "2.5"
            ]
          },
          "metadata": {},
          "execution_count": 21
        }
      ]
    },
    {
      "cell_type": "code",
      "source": [
        "b = np.array([2.5,2.5,2.5,2.5])\n",
        "np.mean(b)"
      ],
      "metadata": {
        "colab": {
          "base_uri": "https://localhost:8080/"
        },
        "id": "Y8J0Ytb2sQDl",
        "outputId": "b6456ccc-a7f9-47a5-d804-6b9d570873e7"
      },
      "execution_count": null,
      "outputs": [
        {
          "output_type": "execute_result",
          "data": {
            "text/plain": [
              "2.5"
            ]
          },
          "metadata": {},
          "execution_count": 23
        }
      ]
    },
    {
      "cell_type": "code",
      "source": [
        "a = np.array([1,2,2,3,4,5,5,2,3,4])\n",
        "np.var(a)"
      ],
      "metadata": {
        "colab": {
          "base_uri": "https://localhost:8080/"
        },
        "id": "jXFOzxS8sVUl",
        "outputId": "b6154a87-b78f-4e06-87b2-4e7e0199450e"
      },
      "execution_count": null,
      "outputs": [
        {
          "output_type": "execute_result",
          "data": {
            "text/plain": [
              "1.69"
            ]
          },
          "metadata": {},
          "execution_count": 26
        }
      ]
    },
    {
      "cell_type": "code",
      "source": [
        "np.std(a)"
      ],
      "metadata": {
        "colab": {
          "base_uri": "https://localhost:8080/"
        },
        "id": "aorp5Pax0DOv",
        "outputId": "a515407e-7ab0-4350-e6a8-5db580a02ab5"
      },
      "execution_count": null,
      "outputs": [
        {
          "output_type": "execute_result",
          "data": {
            "text/plain": [
              "1.3"
            ]
          },
          "metadata": {},
          "execution_count": 32
        }
      ]
    },
    {
      "cell_type": "markdown",
      "source": [
        "![image.png](data:image/png;base64,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)"
      ],
      "metadata": {
        "id": "rZC5yOe6zHT3"
      }
    },
    {
      "cell_type": "code",
      "source": [
        "a_mean = np.mean(a)\n",
        "a_mean"
      ],
      "metadata": {
        "colab": {
          "base_uri": "https://localhost:8080/"
        },
        "id": "UQOwKpx4vexO",
        "outputId": "118b9c20-d5f6-4ae5-f8a3-30bca1eee856"
      },
      "execution_count": null,
      "outputs": [
        {
          "output_type": "execute_result",
          "data": {
            "text/plain": [
              "3.1"
            ]
          },
          "metadata": {},
          "execution_count": 27
        }
      ]
    },
    {
      "cell_type": "code",
      "source": [
        "a_var_n = 0\n",
        "for i in range(len(a)):\n",
        "  a_var_n = a_var_n + np.square(a[i]-a_mean)\n",
        "a_var = a_var_n/len(a)\n",
        "a_var"
      ],
      "metadata": {
        "colab": {
          "base_uri": "https://localhost:8080/"
        },
        "id": "0jumfQkdzRrm",
        "outputId": "77616686-ed85-424a-e939-ef6fb8629f1d"
      },
      "execution_count": null,
      "outputs": [
        {
          "output_type": "execute_result",
          "data": {
            "text/plain": [
              "1.69"
            ]
          },
          "metadata": {},
          "execution_count": 31
        }
      ]
    },
    {
      "cell_type": "code",
      "source": [
        "a_std = a_var**0.5"
      ],
      "metadata": {
        "id": "GaIorW0HztIM"
      },
      "execution_count": null,
      "outputs": []
    },
    {
      "cell_type": "code",
      "source": [
        "a_std"
      ],
      "metadata": {
        "colab": {
          "base_uri": "https://localhost:8080/"
        },
        "id": "4SnSS0l90IyB",
        "outputId": "85dd4287-08d3-43b4-8434-78ebc145e3aa"
      },
      "execution_count": null,
      "outputs": [
        {
          "output_type": "execute_result",
          "data": {
            "text/plain": [
              "1.3"
            ]
          },
          "metadata": {},
          "execution_count": 34
        }
      ]
    },
    {
      "cell_type": "code",
      "source": [
        "# Range \n",
        "a_max = np.max(a)\n",
        "a_min = np.min(a)\n",
        "print(a_max,a_min)\n",
        "range_a = a_max-a_min\n",
        "print(range_a)"
      ],
      "metadata": {
        "colab": {
          "base_uri": "https://localhost:8080/"
        },
        "id": "M1ug-ZWT0JtB",
        "outputId": "e1cbe258-521a-4134-b4e5-d3deac26a786"
      },
      "execution_count": null,
      "outputs": [
        {
          "output_type": "stream",
          "name": "stdout",
          "text": [
            "5 1\n",
            "4\n"
          ]
        }
      ]
    },
    {
      "cell_type": "code",
      "source": [
        "np.ptp(a)"
      ],
      "metadata": {
        "colab": {
          "base_uri": "https://localhost:8080/"
        },
        "id": "s0NhvsqZ0dhC",
        "outputId": "02dc7c7e-0bd1-4042-b48d-d92df6fcf439"
      },
      "execution_count": null,
      "outputs": [
        {
          "output_type": "execute_result",
          "data": {
            "text/plain": [
              "4"
            ]
          },
          "metadata": {},
          "execution_count": 36
        }
      ]
    },
    {
      "cell_type": "code",
      "source": [
        "# Assignment 1:\n",
        "# Normalization : Scale in the range of (0-1)\n",
        "age = np.array([52,64,35,66,23,45,23,46,67])\n",
        "sal = np.array([12300,23400,45000,56000,23500,45000,56000,34500,45600])"
      ],
      "metadata": {
        "id": "ufN7fsCM0gMO"
      },
      "execution_count": null,
      "outputs": []
    },
    {
      "cell_type": "markdown",
      "source": [
        "![image.png](data:image/png;base64,iVBORw0KGgoAAAANSUhEUgAABAAAAAIOCAIAAACppeieAAAgAElEQVR4nOzdWdBl13Uf9v9aezjn3OkbuxvoxkQAJAHOJDhKlOWSIlGU4yiK5nKiSmRVuVKqSll5SfzgKr8klVIqseKKHyzLFTuRLSlFydFEUZTIcLREEgRAEmiMBBqNnr/+pjucYQ9r5eFrUiKDpgASIkj0/tWtRqHr9rln2Hufvc7Ze21SVRRFURRFURRFcWPgl3sHiqIoiqIoiqL49ikBQFEURVEURVHcQEoAUBRFURRFURQ3kBIAFEVRFEVRFMUNpAQARVEURVEURXEDKQFAURRFURRFUdxASgBQFEVRFEVRFDeQEgAURVEURVEUxQ2kBABFURRFURRFcQMpAUBRFEVRFEVR3EBKAFAURVEURVEUN5ASABRFURRFURTFDaQEAEVRFEVRFEVxAykBQFEURVEURVHcQEoAUBRFURRFURQ3kBIAFEVRFEVRFMUNpAQARVEURVEURXEDKQFAURRFURRFUdxASgBQFEVRFEVRFDeQEgAURVEURVEUxQ2kBABFURRFURRFcQMpAUBRFEVRFEVR3EBKAFAURVEURVEUN5ASABRfQ7DM6BIwJEAgAchAQpeQgCFDVQERkQQM32hDc0EMEEFcxWEBHAI9VnvA6ugfCiAAOs0H33hLxXeRFeZIQAgtkAGoXAaSABhalRXQAhkCDFnDNyw/S6SkggwEpEF6KBABAfK1PzUDCgiQwrfp8L7zRUChCIOuMmJUSQkqgCTEHuhE5oKVIqWs+nLv7He+/BJ9EIABWCkSkABEBULqXu7jK14aCmhGhwtIXULYU0DTeaDVlIEBmAMdgAEIUCxf7v0tCgCwL/cOFN9ZOE8ABcEQQGCXkFZQaXwPsGUD8oBTMKFKQSr//DGkcJPgrIIVYyZIQu7BqeYVoEiAVjAOaoWNwpeC+MpgABAgqkDOQOxG9djKCrkaESuDAAgDxiQ2/vqPIGiiDAUMBoMVSJAFQ4UJ/eVXAAVAnNmV8nONCpSIuCIPiIEACiGYSqxVAOwAENgwkQL0123wxmY0vSTbEReZWEzLttYkpI4AZ5uXZOPFy46QlKxBBW2MYqJAb080sNRDjGG2SAYMraB5mWVqXu49LooSABRfj4BMsELEmQCA3YgwIGwAAAOMJACpRRy7Hpg+72YSjFUgAcQAIwi0ARnUS5ABG5ABAXBauiCvIISsCrIOABkY8hMIdh/E1jugBkSqIA2AgpGZr3cfHKCGiQDViqgCJRiLERT9UZQBgCAAB6jClIbsGhMBk7MRQwSAwCysMvxlLbMEMEAiSIKqnLlviF6a8yMIChE7ZigxNIGc4FpAXLwiEAQeIZG1PgOLhy3PUK+DBYCBQBU5tvXs0Ljnv2sWxbdXaf2Lr9EyPMNimTHphYktMirjWp8skgEpXGbOWacKKF3vBmahrALiQWA8iBmMHgiYWMAZWEBVLFgCsra2Gn17D7T4G1HBwQDCCuSUHRO1++c/+M+nyz8L6uBqysHpACDacbNxavSzn37e7RjaA3xOPmZrK5NgVzQk0m3YBJsBgjZIBPEwZQDQXyEQKNl8bTQQiFnAa39lOMq1ly7EsPLy7ut3voSXZpSODaNkACARLIEMgFVC48oo3FcETVYIMB4NQEv0++d/75cW/WJb2eTIDLXssjBPzN3ff8v3/hRmb325d7koSgBQfK1DYBMw4ZJxW2OugAG6hTyfxhmgiCvUrJYHw4uoU+eut502xImxABsPQjTtaYzqcZ6O3IQwgWbQ/tANaG5VD0Hp/b9ChCBk4RQqsBYQC2vkykNj3vKwnCpI75GyUqpmFd16ve1Q2uIIy4BGdMmSq7WCBVzMRy+WMoEdJBJQUZnNdE2vtWOyBKuxji3QwyYgI0ZjR4anoEkUhKSeMiGXdyffmI0v0SgdOW8BNaeCwigoAE20NH5pNl683IgBAaFC7pVBtZ+ks2umdd2EdEXKYQDHVaDKhjdXo+Mv9/4WBVACgOLr3NzvYvfy8oP/wB4u27TI44XLd3l3aRfViElpbG955/p7/ku3dV9wpoW5Xs9dfQ1JCELMpj399O/+o/HyXJsmx4andVi31uqoHUa3VN/7D6uT91VTCz71bT3O4m+Gd7NAQNaaySKBDKjaHoWUUmaTaOAUSGNQ6tUSd/462zGKcPVTw+U/WZ79WHvxTIWN8eSOjRN3401/zx9/rdpJNEcz776tR/edb8G0wUDewfnP65nPzc9+qdu7KKn3t715cuzu+ta34La3O7Ou3gK2tP9/rfk/f9VLsp0L/sRq+6a3vP9f8HQNsLAWKinh+o9Qiu8qBGNChgfXCXBpIl3TwMGQwJKtybrKk2hqlcdUAoDiO0K5ARRfY6i2qtnm1ZBPIDZeB1qSSoqLYxE1euT9HhNceNys31ubyTfofQmA3EMbMDCqx8tzJ+ZPKm3nKStb0rRM+3vD2ka9rbPbdwnb37YjLP5GKZQgmjg5NWHZVVNbibTgiahRACBlI+AIG3l0vQAA5z6889nfxJVPTIanNxOq6nDYubjce9D1oXrLj1Z3fD8wVgIxoFqGUn/ViGHR4elP7t3/m+bSg1W/OxaxzfjqI48dzl612jm7xRa3vpPMLAAJ5dXbXyMjviTbuaP7wnOHl4xPipRgnQBIrswEfaWQrEQdGw8gKhxBLEihQROlBEBt7TwjZU3QEvYV3xFKAFB8jSWhsj3J1UY7aOTQ2sRs/OWm35CVHfr5wVP9s19cv+PdfnwHsoF7/q5XhRU4gUwPjPO4TROlbcGxVb7oFQ2nGota98AdKUzpvr1S5AitwM5BAFLXAJljDrUuDTEAI8FbUjaRov8Go/e//O+rs/fPRDzdjcAg27o+1ik9+IGT2xu4+W5Ud2SwZclKkVB/+w7xO9oYwHAlXnl02H18gw7rieuDGzDZ3rg8rJ65eKa2x167tnUXpiOBzS/33n7nm+brhqgvio31eGUQ1001jkfJl6jkPn7lYCKYWjLAKVIPV4XmQj/0U3OLRe6QQgyM3ptlrT3K1JviO0MZOVt8jS2BNPamEFbW91rbdMvK7fZGN+Mh8smO7lyvB3rsN/AXvwFtzzkClsAK6IAoUFFIBhQOY/AEDSp0wC1bcvGgUrUHzYBsukDDQHfcNABcD4yNl/uoi5dMhVoUiJ0B1FUKGFhMgJEyqbGCNclTFRCUQ3W9zbTPfMbToXVZbF6McFgDrFXXnxwNz3zxI+A7I7yIRahMvly/Au6oCVmAXoAlEpZYQYeA7iKwABCBfp4DDhUtAL16vc0cAki37z7y2zfjnO83FtFHsybI3eot2b/6DjlHT/3PsMd72Dqm6UvzdPuVLLI876dPecl2aVZEPWg8t/2y3hf4gfV5PzA0eAtjO4EQAAhMLg8+XjEIULCBEq9prcZtLbY5bw+cW5o6RG9XrZkhbVcZ2b80uWWL4ltU3gAUL4hiJBw0g7J1sO3u06PdJzaOvz1jJEgGxDAMAkFLUFl8y3j//MxbWE59YGuJko2rscugAS5B9wnHmI+epB6tSvHdTWwcYEYV72O0TogYHw2mulkPkJc47NE/YppbJhv3KQG5vl7LXQHIc4mS+mCNGMopD+ORT6ur5JuYUxens6PnPoZfAXHTy2ViA9j3cTDC0K6SxAgekcP1Xqu4ytTAasSc4UAQgQKmtJZFUbxMSgBQvCCCsSKAVbNzZPd3HguPfmR9+/bExwAfMjyDSaAg4jK0oPgW8fTUsjtAH3uhLMqgSiyEViLV+gawIGwAFgbgSQRemoEaLx9CZphBAWLSYQMJbVdJwNMfbs8/svfUEyE+On7DD594790Yr32DAIAAUFdNbw79jmF4Y0K3UHLVJIBM62oZ3w6xdLQ8WOl+frNi0Ow3F8ZlA9aNFU+IV8ybfXPxeb9fh5PZbiN2qMjwCFRZrrUEYEVRvHxKAFC8IKKN4oANKNUWjO5C++yn1m9/vb3tP86EfLQmkwKaQL4sMFp8i/y9P3TlwY/64dzWmlcKWRw7p0kP7J0bN78bbsxHbRdBUfcK/11e4CjVNQNH62o890HsPT0/86X9q+cm7cLq/ESftb4CPYBNSkL2uu22Aqjt2u3vPlzsd4ura74aebUQkXYRa9m4eXLbu+GdZAx5qB3KLeCbs7rpneuvfl/23JjEac1wVFpWsTHm+TMj2Nhv1R6jdWVkZEsAPJUcVkVRvHxK61+8ICoQksZ5EAnJxObl4TP5oQ+a7e81zYYepbNQRhawCK67wmtRvCBv/rHpYcDZj5l4IQ19Rp3NRMzm9K6fHt3+o9BNS6AMcBS4V0i4qVDStJrP//ifmW5nQruztFpxPTYKM83JLFv4yKFmY8ReZ/rWANSusnf9ULXo9p7+tKRgadWFbsEb6k7Nbr9v+tofBuAysrcli+o3bTj+erz1J8bjDWCJNPbGgloEsvY66waktsqrYMcJIAyWgWwhX13VuiiK4tutBADFC0OR1BF8MgmCytU5LpdnPr129j/g7ncYczwABiBVvAJGZBcvt3bje0bfdwxfvnd57iGVGO002tHm9snZ7e/D2l1HU+4MAzQw3HWnEn/3SHZQUAT78VocLldDst4jwk5iFDVCwU+42kKzoUDSYOn58x4JMECqE++ZvGNsTxwfdg4qXUmMs8lkMnoVv/pubL8dKVpyufQ9vwVhWMCvtagANjjK5zmzDuk6TZ/4WZDZ0atRC6cE4voVErgWRfHdqQQAxQvC1BFGKlZpFTm7NK40xXTh4JE/Wl8f0c0zpVoI5igZAqDl3lZ8Cw6A9c1XjzZuc6//cdQjsB9C57xB9lB0Ep1xUAADycRy+m5vyghCwpHFAE4XdbXeegcVyYMzwvU4+0WbV9M8GFs5vW7fcQwoAmiGrfvq7Wm9NBhbwKIfYI9rnQZM6rSEcQIFSj7yb9KUFsiDcU2GMMQoqwCcWJ6/HAqjPpp6fW14ZALZEgAURfEy+u6+axbfNkSRxeVIYlKGaKSKeezDmWc+t/66d+LYG8TVGTBHY3/Kq+3iW3NSVxCFGlTHEiMDbBToBw5ELqJ1WIP0MD0Ur4B0NiZ5qKk4eEWIV0G6UnGjxnYbvRwa6WO1It/DJCcV4lG6n+fhBcpRBJFA9qSsTQRQwI3gM/YBBWpPyAgSGnqljJ76tqtNBHLMYCNsmTKygFmJV8/7fZ8M2CLNYRoow1BWcFnAriiKl0/JAlG8IC0fr9KeN5do2BbTCDUWZy7JyZP+fP7Ir2DuSOFzCqYHKX+zxUq/4i//KiaVkBAHdB36IUMFmpAAIALzhFUPDAAyEJAVGYhAQsqIWRMEECABEciAIEVEgSqggA4ZWCnCUQ71fOkQmAMYYlbMgRZAXKHbRUJQLI6+hjnkAFEQDtCd2QMSlipQwSGAMFdIi34ZcAgEfOXXJabcKaCCq8AC6DEgL5ETItD3yEt0u0AHSAaCIGeFJsQ2Y0hIARhwdOyCHJHaBECA0COskDpkgWJIuAr0EUgRciFjNQDdCsgdsKdAVohgUD0A5kCSo51BgGREIEL06L8BAr12QiFzYHfA8hBhBQQIsDo6vYpOkeL11/V6sc7TGPkQlucmBVlQggP16D3GQbLFWgZgasRTQE/Jt0cLUGRBAgQJXykhR1f/BX/2AUW3D5w/GiCfu2vBRV4GoAU6IHxl5YuMVQLytaH0ojIoesWgiNDlQrADHAIS58gHUMwzegADMCwQAcEOVisA/ZVkVyuDSj2lJ5+p39C6+aZ09SBjPpxVC1SXD9qZDrdCh5bxbIXwl7+9B8y7AXkI6A8QV5TdFY8qL30/sVCrGCd4YHDYRNxK85UZtwZrylBAoYooSBEQfLXyLIAVhjbNkVvotdMoGcA8QwKQjwqeDorYQiDIQHtUX9ABS4QOfyUd2NdX7bhEHJYAJAYAspgDi6Nz85VPDxwtVxwgAegzco5AB11AAxQqwABkZKDLh0eXO6skPH8qnpcQBUY9awxGqBQC04kD1BHGz/uBrcEWfhOmga1A3jAIuKpImCM9gy4iHR21trk9xLJDm9ABA/JX2rWMAECBmBEiYgddBXSHWPQDwlFTI0AfEHcC0hUFUoAkKPSo8ROoAHqtGVEIjuq5JmgehgEYsgyDfKWdESBEDB0yMCQMwFEbFJETkBZRdgNkBaz0qEXtgKXIPKBDDoiClJCHEHpNQMCAA2AJWSGskAbokBFX6NFdK3gd4hzxEBIAdF9t7nCt3dckOQKC2AdgDiywD43ogB4Je8hYIgG7UGBIfYqXAITzQExfPaIEZJGM9htNgYnASrG4AiDtiCIoBumvW+9erAgoFPGoVQ8CEaQIyX3O8dqt6dqdKyH2185AHhBbxB4xIwEZQxYFUkQKX5nQowIp6wwUL0h5A1C8IEZzFMm8ZdBNYJbSw05qlhhzr849+KvND/yTBYVpbmCGoKNv7gUA0bUnYkcdBSIanK1ysLGzrhpQeSO0eAoXHjJnPiP7Z/XKk9LtZ8O5qlsWleC231Rtv9afejeO34f129VAGTG2kNpXDAg0W0eqBCIFQwWAS/AGVoArl9Y2tyArjMZG21kIQW2uJurGVuCHwT/7x9h5Ipz/1GL32d252fbe1lvNW/4zvOsXKAMMx8BqRUojdxQG7SErEvcy6lyV4dYB21/afui30F6MVx453LtEKapGpdZUSU/9bH38Vf62+8yxe+DWEygFrtzIHHVDZYW9p8K5B/bPP5CvPkHdXtM+M5DXei2t3Rq37tFb7mte9XY3uWMDY0MAO/CawBjA1YCJkscRyRgyJJVSpYAMyMuprLB/brj4aLv7GBZnzeqKLnZTt4w+E6+b+riZnuSNO8yxt9Ynv6+aTtB0iibKWKGelbQC4HzML9GokgRgBajUlfHkoYCQ44qGJyeWQHcnQszBkk8IbGsPMAkkIhPgLUEkggd5kbHoRn4K0m24Oy3WSQUisFCgNZUBahGOhwg7fu/LcvnRcPBM3HskD31arWI/GHWVnzTjdV+Nu+Ovmt70humt92H2KpgJREXizLgWgAWMRwYo2aMmeNi17jZLQAzo+o3mZNXOKQ4hmqQrjoOt7GY1nkGxd2U0ptsdg9c8XYvKYjXtK3TwY/hOYLhaAcgdmK0YqENk+HmFCv0OoMbOyACDptCbaQ2IhZJTqIINDIdBppLAlZoqEbi/lM5/Rp/7C9l9ks4/HqCDRE1LJ3kyOua2XjNavwMnX2tuftto840wFcgBUF9lwP6VuvxXz/PcjQnUA5N84HUMjVMGglDcQSaYkdYjMoK0wt55ufQcn/u/4+7F1WpXUxtjNGY03Thhp1t4w09gfMpsv66xax1AHCsQxZu/WwY3rVO0OgNmqFOnbUg8szXpCBnoljj3Wb10v+x/aTh4tu/2kgwqieCsX3PT2+zG6+2Jd/hb3u3Xj8EmwC5SVIOqstBjHlinBMPQa9mGGCCG5Jj6vmqmUIUojq5LJlhTObMCRowqdnju8XTm01cvfrabPzKEK9OVnawdH7/153DvT6bZqTkgwCSFWsYgeBXIURRhD6kJDrXCK7B4BpcfCJdO9wdfPtx9JB0+3YzuOYwiblIfu2N6+33m1neY4290XKPGKmaQqdU1GUgL9I8Nz32mevKT/fzg4HBXY1AIiKvxZG1zC/f+tN+61d/8pkybiWAaAaBpE4CFzQApWLWyrgEwP4etNRYwOwiQA4wyO0/XbR1ycMY4IjQMdC1XrTcOanGUcOz/V++qF/sO0gCElDMbzwoksAXbIVFNACEi7Mb9L+erj4WdJ9q98+O9B5GRIpIY2JkdnfCzm91o3d16F93yTtvcCdtkxKCd15kpa/EUL0wJAIoXpOLcg2n8Wm7vr6RR0wqveQ1gnwGc/j/rN/wsbroHXUDjvokJAKr6dV2EI31GRR6IiLFaXtl9+pP5if9ndPWz+3RsGhfr4dCoejByF/NSsDJX9uKFv1g9/Me8fk91+3v4rvfg5BvhJnLtsWWuCYRISICNYKaGAWME6XB17ov4yD+6nHOdrpiV3ebWCvaruybf8wvj+96PnefiM/fnP/9nQfJMdrdcteWmCFcknWd5bW8OrWkQzsczDy/+9H9YtRcaWlA/ju5kxV0r3r72/Zs/9F+jD/LQb8fTvxOGltBrnFci3jYEK5qRND71OwdPNLr9Wn/ruzbe9EPm2OtWtlkCDYPOfZlOf6A++8d+/2EfDwfXhHo6ItbYa1jJ/Er/7JfCwx/yx19V3Xwb7vtvMbsbcD3GpLkigCOQlGc59yJLS4pssH8RV75wcPaB0ZceSLlVXTH1zkbDqohVFttzzjvoLsvqi8Ml2z28oeNXN2uvwff9bdp6L1UbCaRQygzJ8HNg61svbABuP/goPvDfH3bzZNQNvcqGyfvD1M751dWr3njyPf/QzI5HYwVQmAjQb31/u3fJhJUIgqkzseZuZLMPL26FgPN6fG2yVt/389WbfhKOQXS0XOs4ObQXsPPx/vzHF88+iJ3dWbA1xjzukAcTAichZY0duqVSJZc/uXpkqs2d9R1/y77+/bj5dWyaoBFfHXXDAGUPkjZe+eyHRp//31tb5apar5258GWpjNSNeJrhZJYd4RUP564+8dv+0icO0hx1dPMd8rWRbfXL5q4f3njXP8ZsHSlXXEGvuqh7v/mLub0QzRwyuJjGcdq6TXa+uf2+5j/6ZYzugK3hOWFw1x6KWiXbIxuwVED0EKGrj+LMJ/ee+US++sUqXx6Z6Lqxc5gYZb+CBAx9d7FtL52dPPbBbv1uc+f3T1/9gzj+WvAoMjpg7flOsqrO+gWoGz370Oqj/2NsL61jf+m2TD9vx90Bv+bYm/+rtft+BsOwevh3uyf/nV79i3XcFsOyIrFGY5IQuE97djE+OPd0rv3WPT9av+0XebQZjmaE5++a2Q12mANbMOhpyLRc402EAXtn9eF/1V1+WnaeGMcrRruRZOtG6idVgqYDDZd5eHrY+fPuiX+vk1f7zdvwnvdh63undtZSDIgeFQReDmA3k6oCfPS6XxPrsJzvtL9+H0RVkjEG5NpBqvHa+qlbqh/73Xz1keHR35On/tjvnt6SJVkPWx9MojD6is1sm4HNtBfPfGz1sf819UvWqN1ug45ds4Ntc/cPHvuBn4Pdzg//3uUv/QHtn29y40TW5IqnPRyeBpJahP6hq89+PE3uOX7XD/h7vqe/+Q3kRwKYCFw+rQ/+9tXzfxpx9kSsEPqpJssk0CCQdm8RLuZzV8K4Ofa2HzP3/L0wPd6BHbLL1xLpMiphgA0kabc4+4f/cmPxwTYZMo1R8blnRvbjavMm+7Mff97rkrwwmEKadFf2PvD3h+5K1Q828rK6/Lz1Djx7cReekCSrEoNVjjJod8iHVlx35rP5iQ/z2U9j/mUy4GZqTTNaDKAMGhL6GFMOmjobrNMv3YztV9Ot75je+1576p6GZpmQtHTsiheklJPiBalYBufWbn3n3t4XRv3gp9SHGeWDyoxitXTLxf79/9Pm+/81rCL6l+TuexQPjA2gQFrKU3++euqj+cynePWMq3LdGJAu7TjnJuaKRSZYVrRc+G1OV+v8uBlO91c/3p65b/2NP+Hf9CO5OpHBMRln2QKaIjlWmC7pCCAlYDKhDT1ob6JhwmF/qi536Ae/fLra/SKeG+VHP708/RHj+qj1sh/72KzMjJCjM8c2jlvMoAw+1rjjq7Z1SSfNNFozy2eRWuvHNc7iwmfbZ57rHv/QaPcBsVvGsDUVs0twkm0WkgRr9qcyp8s7afeRvHjCvPs/H9/0nohmdPrXDp54YPH0/aP+8swY44+RrY24wcygwWq0rJMUU4h04Qx2L+22v7b17p/BiXdmZQcDFZEsZpQJzjpGA0R59v7FA3/Ae19sDy+wmRtvmBlAFAlKTBU7Y1dTUJ8pwkSiAbrTdQc5PZo+9tT0nl1779+VZkuFSQBnEtxLNqZ5+vpFyxhiZahOEAsiUjQbh4+5eBNqDzg6WnqCsgKVnUXZp9RbgmRmYs3sCOlFJqS9pX+aV+uWFvAMGBApkDPMU7919Qt/qpcfMemA+vmMo68MsIxxzAAc4EU5C8dBl5lomjisLrrDc3RwOlz4rH/LT+F1/0ms1gwAQSIFqUVysN7K4eIZX+dkDgKnvue19bHNOiCCur7VlKMbeU/OoTLzeZUXdVboBkQx5FVYmVWC2VQ0UTOzsbJZu9zv7W5oJ4bJjJly73uipQaS2KJuFEySFVBjAGhScjbDxSTGwiHDHHaPfzw89IHm3Ce3+/Mwtq02F7y9ZjTmOktlNDlaZepbCiu+vDVwuPDn+4ePdFce3LjjR91dP+Q3jnd0rSJ/zaC+I80McMOo6frLTd6HhcF4xDRqV5Cdeud+PGkWly5efvj/3eie3q7Hh23rnDcGqgDBOR/g+mXa5qtDtzN86byFVm/6BUyPRYX/bloWbgsWA2uGGWMdiwUe/fDhsx9pd/9MQ1dLrrx1Oo3BxuA5jRTIUikPykkQUrywXO2Y9FD+xBNrt50zr/up0dp6i5WSVvCQ9QzOmo7GZKoGogzKyJ1P0TAnERIiRxaGhABndz62+tKf7p3+/Un7+NRl8KzLx5JuET0tixi6yuZqRAAaxxhfeSzY40TCMMw+JyjIoUL24Y//cXvxi9PlmWnToOJ5xz3PJuNpiI6k9yZWrOvDYXf18xguYeeT9Y/9CppbAIfLn5p/6p/Ssx/dqupVmvUpEBtvLTFD1Tk7qB2GtBkPFstH5vdflKu7zVt+0d98R4YxVUKbjK+zshCMJSJed9rvnnbGuMwEZoVVowlsq8pet9duMFeskbE0rfvurOWrdV2xmZ6U5693L7bEKYEJRIYUBIAVuW13njEf/u9keeDCotII4wGLliex66aOiI1aVl9LhkA7AeBEDi59Ynf+56vDzx2/66f9ne83k2rJmHzzBbK4gZQAoHhBUu7ZTei135ee+1Q6+wCt2ZAxVsOxJyOhmtEjv4M7fkrT7LsAACAASURBVE7f8D5qk3Ok38Is4L/aXSAA/cXuSx/Y//xvjg4eO+4UoylotCGZ0QvnwQTFmMXYRIjWQIknaDxsSl0/XH6gTQeTnU+av/1PzOgmPsrSLY5EoZ4J3oI1IRmQy81Ucm94gM1LmvVZR34j+Vm39yx/9uLB2UfWsdAwarz3dpfM3PveeBXZkuEYK2dRg8b7zWUaHCLLWCQEN21p1FWN37vs/8PvXHnuudrs+u07p8sqq+SsGVGohYnslFTbXG9NxujnCBcXj/3Z1Bjc1/Gqkk/8qpkvNojq9bFi2mZEpSzgdImhRGLB8JYak0SytN2THxzW62o0Gc3eIApkJvKUGSYbsGKcZVgtzi2e/ZPj8cqo2ojeiIgIVIlgCcg5p5Ro3GclUZtCRTQypIYT5yxP3n84LMZ2qF79M3DrahEIAbPRt1zSvnLhJyH3E9t5qghRsMhyGLu0TlXIBtJEQejhDEylBgJxGpVSdpZBOYNIyCYCXtyy1N5xFwckKBwrGxYAlQG6R+3lz03mF+z4RG62DK06Xe6keBMGZRKYSJREk6QEzUh1Xqfp1Pqk7aX22T8Yhv0JT8av//FkB6AiMhkZYMBBwpgXkkYM4ySkXrnailEyArvgnIGtiJCJiFUlMKLGuACASJwHE4ildmYBiDMJmHHlMETXiRlWCVHZcNeQOgoiBD169wVPsIwMC7UkBHFgjCxbdGgvpc/808Ozj8fLXzaIfu0UhBANB7F8oDQBQKKQXCEzaWMNop+O12paLs98cL7zxc3+GXrTz0+mt311ltnXveKLAKGxo3FNw9hGCC/63sQlu/WxY+w+tDx4eH54uBbDWj1GstM1JznmEDUfLWCcLcFVNveLcT2Rw0vLB/91Laju+wd5vN4hNN8ta0NbBI5CGGuNdjk89NsHX/x3o/7cuqVM02zNXBmsro4OvdFlx6rKkpyGGjqyVogFWfjMk1d3fn0jX/Zv/y9G9e0t4oBcWQeAvnLeRYQNQNQ0jebWG280RhFjpGIraakHl+jP/pd45VK1Gmp/t1hqY9dTD3Npkkd1GmBdJkhCkMatveZgfOtmvzNk5MolX2uWkYR8/oHDP7y62ntspnbiTyGu4rDviUZmbPuKzSJECYHVj21VeRfm8WI4/1z9wX+58b3v6y6ce+wzv3FruH/LzUNvuDrm3RVJKeeQYlJAjTfWjysrta7FDVlcvfrwvwWwMfllTLYSBes9AUw2A0ogZRid8YFNVAmpUYPsVGMSjQq57pMqwizFoyUt13NnG1cbqnMczXnveeudf/FpCOjomca1/yHkdDjfP37wWB40mTrbSSZDYtkYNlA9EKEkBIyYDCs0Q0Uc0aS2zh4unvnIwaX58aB46/s9T0rXrnghSikpXpAhBu8dTtxZvfpHV5cftWEgBDY15MDG6bKh4yu3uv9Xxnd+P6qOdSO/yEfBX/eY8Kt9BW53V1/4QHzgX2zMH6nqJmArd+zjcGinI5ca34IPg+4PVInzo4qtGSTEYSUE5329MaV2OH/hqWdm4zdO3vZ37PjeePQjxuchobYMIEXYPFBVHR8No0XSwznaW4chR6gZ1SRu/0uS4mw4HK9Nu/6QMGEhTaQQQ9GglzQXBTMhWlSnZmqtGPQ8CinygsAjomZ40uuj0zzHaLpo84K7IRmghnPEYoxhRQq5gYTI3VA1zXjoonz5s2tymC9cGhbEkUc+UrcbU8/W+GbWE2s1VShpTCmYPNgsTkUljcjvPfah2eTY+K0nDW1GUefYBLBJFCgYn7gara/nOvjYCm3XhwA5MEMpk4oRtiDL8+HQW3bkfUomVwQhagWrZnRi//LnF1+Uyt+CV/0dGIQX29f+hpSt1BGpG5Iwa3R9VYljkqXvk625VkYzAsJRxlnOTAMJjLCVxKRQVk0aXX5xTVx2o4jaVBMlJgKUCYihxeSNwfwZIYIWfSKnPWw9Wb/VX31UTJPMWKSy4FrEUyYSSd3cTK/0trLbWxuLePh49+BvjPKK3vgj0EpFlI2CGQzyjtpaztYCkI0EQ1WyADNbq9lATCYdtLWuBzprYpfbUXeToDdiPdcYxmj9jI7WRQZFBjWTloxLdTauImeS7fYq0yPb3C+gkoFM13LQ5CEZ66HQDEfA6szygT9yX/iTeog1E/zafkpDv7SWp6ORxIMWXUsLtnai4Mw81LR0u2bfp9m0OrFhn2vnD+8+vLOO2r7ul7DV4Cu1+6sVnIhIsFLU5mSMdWSTrBmsYYo9wNLrckExzUSqqlK2h9IHzHJWhhmNGmvtEPqQe+s80cINp1hG035ncfr/MJU37/j7K55eZzmu7zgDZ9HUoMFB1z/4b5dP/vqoe3zKW+h7kA0wvSJbZiNCg0ofDByqmskmQBIlkRQSes93c//I/PHz45ybN/83o9nGUpOY3ICI+ei869F0FoIbbyxsIstZY0rpqKRFiYeLMOqfGBk7GjnJuW/VgcZuROzOUnUzX3ZOM8NbcQxjJtYEU7VCdfC+V6K4HNtU6bOrnWdHGlzyGknUiE3kmJMgZjcKzvksdUwmSiaXRnWuOei5T+ITjyZpT8mlJs3IbroJ73Xn2I2IYQhV7Y2hMMQkoRn5K92l6bA9xfQ47xye+R0cO4E3/7yaNaReYYmJWEBQJcqq6TCxqPVioiKzpKQYSEZM13tMpWB1R9Pc52vUzjCHHCLtJ66ft9692HQqBCiOpqwTwzADbuyazUNzM8xybIaK97MMPSjZsbp6ttRMlIkSq3IUzuQyQfa7ZHI9o40xX13tfXr5haGu1L/hp0oWvuKFKAFA8YJEYhcBdvU9/2n+8m/S3pnKDimtMxuLpgoBzTHd+Zyc/r/4vh//Vn7oq13/nHPO2T78b/pH/sjunmlmM9Rb8xUZTs2a2ZKVagqpbu1ab0fZgmUV8ioGqokqTxqDRlay5DzYh9O/qx5035a1xwEAAgqAVQDaItfBVowTebjNEgnogHtYydJL6EZpNTJ56jKWOzoZJ1hLm0QmZTZ8KEaUV5bnEb3xG2TDlaalTIpJW9XrYdfyuJI69UumGMCVVnGQUX3R2Sn7RmDiIDTEmmrOTaKB1NuqMdXY50VcXsK55bRvLXOqzOBmA0yvYeThJZr53loVs5Iar1xnGsd8NOGSx7x0+2fbpz4+PvVO3PRucdeSvlO0MIkNIjBav53NdtCdDkKzMcGpchJWVeNQ1dZWPNs9KWlf857hAc5lqgeuohlthKqJefHc59vxB0abd9L2vQ3BYJDr5ad8scWgr2zvbLKQdYbt+sFREPXGmCgJJiZYSDDsQQiADxOfJl6CzUmjIVsZUY68rF/ck2CvAwxbxxEQUVAGrPNObnu1TDfj3kjzFrE3eiVI25tuNZqKH4tfT2AOnel2KFyBDDy9ZcQ5BrKYsmtyvxevfK46vWPe+j4MsGwiROBEAWXS/GxzyqhzxIZ7o0s2rVOy2fewSmSz41QzjXOy6pocFaZXt4jC0adUrapRG1wiLBXeGwOITleQJHlD7KiVPJ+8CtSMs0h16xZvJqAxCqQEBwogBrEFkK7ow38UTv9uTdw4Vkmc+8qgGfmsFGNEmki9Ft1MoDoskdsxtY3zfmO6nMsyxMlos9G42r26fOz3120O9/2yMcYYc1SvvxoDWN5rMPPrYCMuGujEYuL6naW9nWXpcDi2Bt6E3g8y8W4r5DPTemSyUhhMGFhjjWhCmyZrizZbY8ZuyrsX54/84cYdb5ud+P6XpBB+GzBxRRXCQTr9gd0v/qvJ8KS3plN0bsNBKsQZCVRC5Gg21dRj4tQtclgSBfYcrW9p0mO2mfYrcrK7t7f4/eP2JveOn5v42QBAE4OPRrIRH608wPDO5GMYyOZkc2JhsDdKWbAkrVyq3WBzhLGQaQomrUy9vufSOcQrAfCcIxy7zdAaUV+5KcephkR9sBzZhBE5TpVlhaXEo4UZD0YMt5Xda3RdFAplG7whRtQ+5jREOiNXz+flfETj8eh4u2wjlie2qr2VmY3HEua5PXSGWGJKaWyzjMckqhFUzejgytXTH9w+9Q534t1wngGAFH2GA7ElT976lq1rciZNg2WGWE0TE647UsZirnCJySIfVtudNmBq2dwa+HnrnZOTL+7CZ5CBahZSsGEFaDQ9dqfXRaeDqA1UDeSCRJOS0dVy/Wa2jpRT3+V25UM35kyWzIi7vloum4lZGzf97u4j3ZMfP/aa96K57VsplsUNogQAxQtiq1qWaTg4sMfurW66OexdqLwc9sjWWttP2uqwaWeYHDz4q/Xrf9K7b6Zkfd0k4JxzCIH+4n8zvfL4lp7r3HYVeh7JITovq87eJMfetXbvj67f9XbEA5z+k/mjH91YnI5KS1vFZkLKfhjW+7AB6eThsw9PbrntXebUdgrZumQqjegJNQzBRAWIl2zOO5JBab2z0B42YTSZ0+RS5qo+VhuS9kCgrEv2yWvm3Hk65fJGrzNQA3XIk/Wk1dBzbmOVuspWIfuuj2rzdLOPnSU3QRzkrePpTbx1C6jXq0/08wus2RoadOqymLRCXk5ZB492CHDNVZZKYqMHVRBvps3xN+PE6ynW+siv9X2Q1PtqZBgqkSDeGLS05uhw72w497g/8VawF+0YDdRA+wxEVJjdtrZ9D4YrV5HHYV/8cbt9z+Zt78Xt78Wx18M3ncBdfDif/eTuMx8yh49PQmvTqlGaWHMgtL5xmzt4Zvf8p6or7zPr9xoCuSvArS9NgfNKLiZpyWywdzGvGicsoBgVPbgjWMMBpBncA+wW2bXZLEEhEFk7AmWVwdGLCwA4U1Mbrow/yicKJRgA7N64NjpVT/48mrNtdkw82Xz95DU/Eu74OT/bxGgMinn38eWTH1089bG08/hIdqo4HIsG2SViW0/VD/u7D6bHT990899CxURQcBYgQyTdHg+Qx9ARnG+TkmuUxjmMpTokUWOEMFjb96kHNbBkss26SqgHSSl76EgBhhHUUIPUZ1Qh7WYOxJKHC6diJzQy4DBcRe5gHcCiSam3lUKHFK31Ju88fu7hDx+fPzxArR+pb/oIDlSzqSVi6Jev+rGN17xr4653IcvwxKcPHv/Qav5IQ/N6PjNm6E3OcX3Kb96sQnvwxPyhz/Ibf8l7b4z5+joum4nhZTumhtNedtn4FeJlY/cbt679OAy1N9ZQz+Yi2Wfd7L3jY8cxhNVzz3btfNIwKA5hpZ3XyWqZQo3NER1fHB7KhdP+2NvA05emHP4Nc0IQxbmP7z7zbybx8TW71Qp3zTBKhobWpBbGds2J/ua3jO79werut6NP+am/2H/iI/bgSzM5sNKPBSOqu/G5anFyik0Mh/tnfuf4yeO47e9aslAFCZTBUDrK1MlEHK1mSYYTUyZVQiDjmIknJ8IQsYpOFZR62w/jRfYEOY5qhHoaAMA5gCJOQIcqZmpTGJxK0why28GkeqJ54evY5zhPx8bH33nqptei32mfe8isdkEhmyysS0GO/x97bxZs6Xmd571rfcM/7OGMfXpCd6PRaBBojGyAAAiSAiVQEm2JIm2xaImqKLFcyk1y5UoqcVKpkiuVXKQyWHZFzoWSsl1y5MgSI0WDTYmyKUokRZEEZ5DEPDTQ4xn33v/wDWvlYh+AttynSQgEGyTOU/uip/P3/udvrfWu9XqLsbMDdU+mLo+kMo675hycGZtBdz4PTr3VH1rD9sWtp78JhLo02ndtr7mb1uOuwVaVlq0sd9NZ3nrWHLgfgCiYkVPH1gnBkkugbCZiQzYmaUOsmX3mMrnJnq8pGRPDQJCma1IWfQNqQUlBV73vXvWJF8CACQAJ0AkKw8VgNZ+6P59/hjZftH1TFmvVsbP21Ltx5I5m7YHaAzrDxjf7Jz8+feoTYf1rPlypWjselJOAnVbHg7Uip4svPb76xEfprl/8K1+T+7x52A8A9vmOqHKvNmPyEtZuo7t/aX39V5bO/37tXiCuc2tosON1KrTqpmnrj/+Lwz/5y5DhFskQsFohw6RZaW3ji7Jvr7p90cDiYbbQl50re8ZCf95+7O+mNByV59tkWwzKYrucbBq6oUG34U6uvO1D5b0/F9wJVSXp8dDd/v6/d+ljfx+P/R9rcatrl/oxS1KYgzPaSaU/Mv18/NjfNx/81/2AA6pKodQyAB4DtkZr47Bh00JG4mKxqPZc6MbULBf1Szbv1DiE0EO3gx9P67fZo3f6w8cmasjUWD1iSaw4ZYFxgCQz6ouuily2OSjnehjb2WLYKKR5salw6of82feNjv48LFC05fS57U//s/yV315tkAcTBeAR5p3Uc5lGlkNhIafHZuXx9rb32ft+2Bz6YaNjT0nu+8Urn/nl8vO/NuKnJvxgTY/Z1l9cuGHkL5AZDSO1X/nH/pb3FwvVFG5YTEVK5YEBVhUQ6k/+6PnttmzPyZm/s3TzWdz0wAwrLeCACrHiKY68pTt2x+C+D8V/+9+nL/1Tb+LMLIpxbFKYnYe/rabN7c/9yvLpH+v9cpkPftdKz0Q+zMQUgYzvNyzbmMYuholtxuSQlgvXA8NA8MlUNsvJ9w5Ovnf+o+XL21CgCkU72O77waJdu9ScMwuDlTALX/itafvUMJa5vWJHubeLoVlapMD5maerm46/+2/j9A+1sJbh0auEjosScEcfmDz/KIV2cOf7zT1/C6u3ASyGE0AChsPCHQtvO4lb3vHiJ3+3ffYfjtkhmampktcCW1VnvB7pv/BLOP57HXkCmQ62mOlgwH/jtxKRFVYWEsY/OsbJ9DZUnESyV9tnGcVRe/y+4U//eiaplEEogALf6vYrAGCg85HvxifaLPUIoZEoFQ70VBM3EwwWHMEOK0hWMeKTmWkeBIPsO7st8m/+7uHtC7PhQt36FiPbbg9KOw3EaXPTr/Y/8j+snP15QIAooOLAnQfveg8+/X9d+eQ/L0fNkHSQ3Q5hiks17wyJprOj+V9/wL/39zoPEhRA4ssZB3xEclpnAkxfXXC0KmgG/aTjtW27XPIlDr0dLeTwaNMgnPg598DPLN7ywCYOeMSBvPT0x39j+vlfvSE+oUun3Pb2TrtUc+rSNpVunNcnn/vj8e0/+3q3AJwb//VTOxdNvQSqLRNQeU3oO1R7JJV3/iwN37kNrHBScEqdQ93YNGN7YPuCfOr/LC9/1g9ObU8x4O264ZA28nChb9ppcZzf/t+u3vVeFNihYjAIefWuw/f8p1f+4L+cPvX/1L7I7mIZBrK97AehmW2wp2rrS91nfrs89MhGNT7w8kAGmnsz0q4Rsdceu5ox87LyUkAwsR3NBiiaLWzOcOPyyilaO9Icfns2dFmr0dKRst+AKwgDsWXjrnge5j47YmvrPkdl6zja1DhMN6bl5OCDaw/959XN7+8AoPc41370Nze/+jvj8OnF+kQbZw439fqCsuRuVZfbnXZ2xBwoJ80s6JWbHx5/8BeLw3crykAoNr+88YnfSc//hjNPiL1hcaZb0wUyVcdTGtDK7PHJn/2zxdPvyvaoFQUp0bLTVtXBVJw1m4WMHkJOFp2qooHJpOXVThUAJBYrrAzwasZzvTG9lSqa3mYvYyVZbeo2b8PDQowOXvUF5AAwo96VDu0+NtmsvLV56aWuqtfu+Cl/5ufTyoMwsAI1mAEFDezi2eLsWX/zB/pH/5E++g97fwOFbQdIIdOoxpsbzYv0mV/GrX+j86s2wdK0YW/IFykjm+9SgXafHxD2A4B9viNijM4Pla0BsHpk4fTb2vW/WJamhQfbXjjBeSafG7v+VPrmH9vT7yvnyVdKsBbkNYrg6qt/AEwWDGgFayyDkNrnPh9efN6mlskTKTRoMsRl3zVNtXD4wQ/zje9I7mgEmMiSAZEteO2tfw3yfPe1PzLe+CxKXRcvqHfImcm3TVOe/1x58/0JEIWjvcc3U69inSdDOQuztU3fSKrPLz9005mHx6ffheUb4cslUIoKv+c0CTaZFZIng9pq4FYWF089NDj7ftz4MBhCSHB+eOLQvT8D0tmjv7OXlLRP261ZXbz5r43v/BmsnVIMQ4Lazg7XbjzzCNpz6cWPaGhhHQoqzcxaq8Q596EjTNaxsGwIr7xnYgQsLI+KW99+44ElmCYe+hCMQOIgTQfCKOqe3ARLo9lkVDnYMY49gOcexfo3x54TuSkSwESqOYWuRbNDxTLMdTM29ff+x1f/C5lV7ULlFc35tdF7kQlP/CvyY9eGPse6HiCLBPHct+gV/tCdf9MeejDjoMz1YcIGYKDjVJ55aHTgCMwAy7fpwkoAPLYMhhYAI8H2jJIHZvHkwXt+9MLzvz1p18csjjWJEvssqctdP52Mm81cr1g4Ysy1w3z9/GANrCgM4IXw4qdC0xZkSaJS55lNSSm3BRexvnHpzp/EzQ/muXgZnOECUI6O4aZ3LqY0+9pHRikokyIzGWOcpmwc550NXPxyMbxfeO47VRAi0Z7Nl4spaxKBhumsoeWFW95J9/wMTp6FDgyhgAMtnDjzIxTOp69+pN3pnbEEQ5SZWVWyxNhvYedFrC6+rsdt7TP/EZ48OI3oMqtxKqn2llR8c/VzOT37i/Xb32lrAMggZz0SLDACcO6z/fSKo6FoIiNQFiU/GLV9I9Xa2t3vxVvugTOAWoCJCgA2rr71x1HsXPj6H9Q0IiOGXE6ZTc5gzj5ML5UXvzC48VVLoaJ2mTakD3ntjuW3/HR1+iEsHh6ZA6AOQeHKZIfIiQgEWP6Ww4OIqCoxKRtR2Zna0a0PL97+03zDAxCUArE+4IbR2Z8c+bD+tSe7LkNSSpumTH3eGvC42+4rpd6EoAeGtzw0uO/DOHKHsEOGZ9DK4aNvfVjt8xuPnx9lwFnDBsykBGWRlLoZdjawfPQ1nNU3AGf/q9HBnziIFodOwS4bzG3LJoPcA4BlUAE3oJXj5el3nD/36YWt8/Pjz8xzfV3OGSGYZpv8KgAQWeJrOZ7t8yZmPwDY5zuChHr1pTWSOmPr8i2PtM/8SX7uGXHOOe7EBCoLgtO23ny6+ey/GJ8468pjKogcnbGKEppZmz27pQTgBClgxEBsmF555hN++7w6gdRgASYaPbvBTpby4D1898/CH25gFZiPf97l8L24/cPTp58a4ZwNybncYMe4wxqSMUWezS4++ZGDJ+9lAwVIGXutvbjN2VkrbGddA1sXE0rVwqnFh/8zc+IsyiOJEeZrIY8AeFw9lFBVYxHj1FWDnd52C2fW7voQTv4IeBFGAnKAS7D18C6cCVvn/2L5ylNXPzw+6upbcfuHcfBBKEgBeVlQcfQBdJf785+ROEt1RVYqmYItk825zcFi+zyOnn75NcEKECMIYBwPT1C1SkYioGAj3kBhzHzWoI2i41EHEFx5+j3dhSdju+51uqGppEgoQIlUpWuweU6XbvyOr6bvPrpHamvH0LA2OSVdXDVwdvLUuUf/CV/42nKhvXawi9RXdepisbPDzh+8Z+nun8PCyQhLGTw/pUSkULJ54S1m4ZSCA7hXcFaWgXPbc4NcYxbAxRQoeLk89o6DJ3+0ferjkAtMvTawzrNz4rlpp9h+kZaWYRicXn4CK/a8EF9fDOZ2XTsIevHJ366mLYM5iSE1mEY20jeeTLd8d3Hnz2J48pW7V2huCDsc3fTDdvmknHt0sv3sAMkSIAqYpIlYafPi5Kk/Gp04y5YzcdK6oO4aU/pHIQSytizaTmR0F93xC7jpvcGyVy4BmwGMzdpbcWffvfC4vfwYKAFgFWIVhSKksB7Wn/Crt7+ux62q11JHVjEiQESVKCZDHIqrr7Vk64XC7c5BEpCAGCDkMnaXn/yDanKu5HFPwdqUe1ZjIzmEdRx9G+75aYwPIQvIUu5h2CaAGtzwDjikc5/jSSdyyZpxjDPrgyTLoQ7xmcnTHx0dvx/86tqhK1rs+IqUJ8dnft7d99PJHZgXCEgGIEAQAEtWBMaSY0ppt0gpmkAgJpARyXH5zvEdH8LpD2a2JgE6ZR4KF1i4HbcHvfDJeP7Joet7aaxD27WGyjoW7PMMGg/fS3f9Ao7eH9gCMABrAlU4eg+Fy/2zX1zpL4ANSFiFYPL8qKZWNs5h+c7XdmKvM13RFydOQgvA9hadYkxTctsZN3Rz7xCgUViy4xNv16Pvou1/Of9BIpq32s975/zmS7x4SnfTCwYAWLEfB+zz77PvGLfPd4SzvgtKRMYQuOoWTw5v/qFGx6TZm96TKoqOQESD3NgLn5898wkjrRUoklIS9pYqx3tblCtEZykjiBJabLyQLj46tslYhVQgIfQSDcxQRwdHd7wX7liAJcAL/HztREjADjkce+fwzDtbkHYZTMRRtGTJUGskTF78OJoNwg7ztcbWKPeqZcpdzjsSKZELw8XxbY8cuPVBVGsCxABWFEAlUu/9YM3iFaWFpm7WclHc/A6c+qFsF2OAoLWAAaZJ1AALt7ubzu61neSKhVvfg6MPJocUAcAXAHxMyGaAo/dh6Q4mqA46KqlPMWRkwxyMJswuYD5tWnmebi4MCgMAEa43iw2Wa+x4zNgE9RaOYCJ4ZnwjaK1MYuqzHchoDbkp0sVls0EqIC9IEDWpTzvnnQB7REHfA0jjVT8WnrgRNwEq216Z/NHfW17/VwvU2Di01nbSgIL1mtDqyvGl+/4TLJzOZDFP/8/Nk1gzoRKQooXtoAZxTHFoyFo3o5WW14KOMtgBI0UZA7qpG5+Z9K6JreHsjDEoVTizFjnL7Jybr/s5Qh0Akb3vi9ebDOYEtNi8MHnpY5yEASMMqih0fYrKBtbXtzzcL92i5LICOg97wYAAHY+xfNvCqXc2ZikRFZYk5SwsSklzFWazc5/A5AIhZgBiDcK1vo8kcWUuOVkaHL8fxx9urO00KMHJ3BKEe2YceGu/dqYubJKcJUqOmI99tOpoGibPvN6HbWrHjRnADyNMH1MmTuQ6sb3gqp8Rd9CWkUVFgCRAhgVw+clw8TMmRgfOZQAAIABJREFUblEe5JyNTTGrGjvpgi1Gw1ve3S/enaiARgV7lV2n7Wx6V+HwQ8s3P0K2yomZrQiRSSLJifd5Y3ruT7Hz0qvdLzcZ5upEfefPujt/oXcHGmAroydkRmbAIAEgzK1mNakqMTPPDTNYQSYL5Wzc3T+J42/PbNuMRIAHIC6j88DKaXfkgWg8wRLHLLY0RaM92zGA1srwtnfhxEO9tXkeGTOgmmeiboxjD/sD9yGo5pRzkhyJCGRhjNM+7Lz43TzH14MSU0MEtWAEAVGOKIGDBnCAg5SQusVYgIwjK0dfma/1it/2PAYI2y9ZVSIAdn4IgdcymnufH0z2A4B9viOUDTOrJJB0mRugvPntdPhtKQJxq0RfGBsUPRfg2st0++sfw+VvIMOAMyAEJbDsfb0RmAgWiQ2kw7mv0MbTYGVChhqQIyJFzNasnMKpd0HhMoaCCoDGeesXgA7Irirv+eFYLhMX6I2kQqMlMiJaWbHT53HpcWgL8DUCgCzRGJNFkMWxCWJ59RRu/9H5yocVlUGJZPOU8xRpT2mToXFO3nGVQkzFwuiWt4VidQY4B5Zss62BgW3FAK4a3/DQXtvpeMinHmw8BwPYqdJEkFicrRABDA4MbnyH8x7ZipQaKgGpksHMEbrpBSgUWdSIQlUJySBa6QvIvGG7RRFgARCyApGKzgwaOwypcjSqbAGu6+W3sDmmYVzoorGAOtFgoTVlaS4bANcvxRTZXvUzyFAVpqWihX7+I/SVj9UT5+1I04LhWnOrpgvadeXi0q0/jlM/JRAmWIU3AEcYicwdAL7M1HqgEmOzQwaoD9waQQV4U1g4BTpCgocdYmXFey8iAIgopRRCyDlXKmH2vCNHYFCcf3l7HUv0CmKFJFx8rOheLJmTRiIjOlZxnNXVy1g6Zc+8awIEFgVEBZJI4xAoMZeQE9/6I6k+mLJaEmSIEFuvlLyzsvUELn0TSC/PXffXeO30JkVjd1IzdVqcugeDxQyMKCVkzQ2oh9UMTH1ljp4WboQJUFIhZYFl5oITzc6/3oetTrlOqUxxKDKEDEQGSSpJQ8lX/SgiNKUcck4MODZgEBjPf7ZoL1QWyFCFIUoa1TAZtoduwy0PT4BZUFgrgDEOAug6zHArYWbq+pYPdN6AK82JiIhMUhjGwCXdegGXvvFq94tnG3zwjLnng7n0yBhjZ9GKhSQS8lFNDwDUEgGqKSopDDERyCozkkpUVlPSLT+MenXecZAdMhlFdDH3QDB1ffSuJufciTK1rXM8DN4qTExt74w/cSZ4BEGFVhUZAoCpaIG+Wh0duw/EEUkkzc97VkNEVvu8/X0fAEy17qnKDonhuC8RvDK2DbrGA5oTFGWJVgA+2i7cC0BVRWQuwcIrpYDpS4RAAGBEVZGAfJ2qjPu8cdkPAPb5jsiJBt5QDoC1BhbA6IbhPR+U+lCfemiomRUxwKvWAtgXP5uf+SRiZ8AZVk0SCZKu0YKkQAHa9avvLnypyAJjVFi0BdhQ4Tj0mYoDd6K+AehJA2mcr/4hGkUBDIEAYPW0XbkVZZmEwYulESKKEGviODu9+CjEZFxLdqHZk8tEzlLtPfrshofvx8rpTIUSgyACZIUC5LD3qBlnKGUwFY4qNzjIKzdFYECAnUErBCJJNTIhwki5dPee32d4EAsnA2DRWtsHpAxQRkYPEYXD4fuyYRs7IhE7NGyhRrU1Ks30JagAmemV+12BAA3IrZHoYyxREIpOiymKDhYKn1HnVJnLwIYNV0z/PNL5PKx23GAiMJRFfUYyxCVybi5BId9NJ4BXB0Gv+gEDVPuM+Pwfv/iFfzBcHKiuNXaWGCTGwibKG6jd0XcXt75PzSJxIERLkRBAouAMk4EsY0XB88VmblUy4BhVCSD3yDvoLhfS1ZqsaYEd5OeGPlg1KbMAQj2xFOyKHPvpOejcIzfO1VzX8ymsyCBkP3nxMwvClpE4MLkAq8aVhrJZkIMPwK8aICMyAURQAoQ0FhqdBmjGwbvs4vEEhUQDUhTkHBnA1VaafOmr8+KQYUDqa+xw45iUNSqGB3HizkwgmZFCIWwSmEHqBBkYHTsdSdmSMcRQgsnZqTgrIpPN1/uwsVCOaFoEjNStdrluU5G0FAyv+mnUwhbWOGcNAwQBkAT5/OdqdTBF4o7gVCxDFLHwFA/fi9EpDxQsIBYFYHezHARrkAGs3d2PDjjnSIIhSrkQsmqmMNZE4PJXX/V+jS/xoVNx6WS08G2HaCiyyUxoRRpCr3Pl1zy1zOXLz1ABREizQGCdH9qVW0GWEGonAFplgcKHEhCwW75JmUitK0wURwnWumkIHZNdOozFGxXwvAPJBSEjgAw5r0AHFIdvSWVNzGzAUCIjaqBs0eXJ6x74vd4MyXpKihQREkhQZWKUnMu6ATowqIfGCkDYrIa7Eu6/ZKHDzDq7DO2VAGEosQogr9acZ58fePZ7APb5jhBlFxvDmmEMMACAAqd/rHzhc+0Tzxex4ZQYUbnsg2HWlfb8zjN/srT2TgxuI4ItREOgPAJtXXX7CcnkAmauVEmzK98cucXADRLItioDTaYwbc9mfOTehoqKEvFcbQxknic3DFBmmTGDDgyP3Nu+9Kjz1lHNtKGwiZVzV+eV6cZjI1QJMEb2jIG1UHRMBUllaFNotHD8HWoGij4DNNeHGKcgwGbFXuqXjE2yQyU1xhfVGooDBJg8jcY4dbAAdYSqF1MYoXrPYdJmfAA6dgneZkiZeaCAF2RwKbEHisVbOpKR7kTi5NesWiRi03vmtt/aPYc0Vx/PE3MeRqAGYsBEMTlmRwLp0FzE5tO4+HjcOO9mj21mu765MZLLo3gFzXbtjNM400VgLsMF5TibXakUDL5eEYDVeNU/T1RoNzHbX9j81H+3qs9GjGRxmMImio0qq8vDRn115P6FOz6M+i0NoYTdrZMroIbY2LnWRQsGCDFTgAeDEWe269Sk/sKTvP183HwhNevUX07rj2NyQZcOmp3nq6SaS3IGGjhJTsQ5h+YSdhf9Mi+ZXM/3skWCNRjtrH/pCJZT6nIVITZw54yW2m/0vHbjI5DhKE1D4RggtkpERLv1nvm3NwdGh07icpnCjrU1lEREjbQoveXZ1hNjATEIM+RB5oQ95AjZ0KDLhRlsL51CcUSBEglpQZ2A6xitIziJ1js6cDJQ5WgGSgzCPADgwiik2bMi991CzOVicWGrSTMobBG1Kx1Z0rq9+sns/SLURqjVbEmgAuHMptv4aimL0C3xrehIknVFn3JvWPKx+3sajBWwQWBFdoU32SwZni3Dt3AoqtGRe3XrqxwzM7pUk80BV4pcWVmcbT/1asfTtIOyPvr2DgUDVJZQwIAIHgNQAqKBBeK8EVwAD5MlCTIZKHOGWuPL4SJ4QSGJM0MKwPRiyioBRZDeE6qDzpfUz8RF6weQiQ8DhQ1Fbatj0IOsYOoRD5ADMcdAjkBoe1RYPtR7byMxQBkAspASLFKKV3+5fD/ROwKYUVqQzDuAI6g1X/9D6nb6rWfNzovcTGbTqP0l373gDM9X/H9pM9KtAxEvD0WdS4D2WwD2+UvsBwD7fEcY5/vptmPKYAmNNxaKrl4pT93bvvSxvNFpimSC4UKFyMLIbPbS18frz5rjZ2BhS6VWSGvg6s9oYkMCoBctkKSdnF9y9VZuRlzATmKk2GlRBusKHDzdAQpr5kMRsLuGNwBD0Ekx4IyBWz11MTUjziVTaM+LO6Emh6Yp+eSkeXEEnwGYvFcAwKgyrmQpoC5RS87h4FtmhCGigoncvPMt5SRsiGivnGZMl92wkjapGGOH4JEF0DX9YG1Xm0l90iEYASDes0Ii1iK72gGxQLB5MP//oXDQ6NlgeFAsgafQHM0ikjhVApxhaIACyFDM24aDEJgBxwQoLKNz1mw+p09+LDz+Ub3wZaRt8laMc50lv7Js8rJsIMym/nBfLHWTTZgJ1CoJKUlOsZtc3w6zvZqAReClmH36n69d+Tri0lZd5Dxd0ZPr/gnul7T14hYWbnoYR96V2ApSgtX5Y3G+OwILQCJsAAAtQAMFwvaV/omP9s98auHyn8r2eunJw04J2RHrpBr0l7evHK0qMoMmm0TZoLdgJAAquX35WMn8G8IkXK/5fIQEFFq2zTnSUUzbYoTUJG4idaV0XTTmxP0QWJYEQxqVnMwdVGm3DQCAAsPlQ6EoZJas46TcxxQ4hFgXZdF3l3eLMdpBBnm3AnIVmOHbhKpkswKMUsql9egQDXm2EXAKgAwAqkNypCGrF00WJWCILIM4vu69KBvjdx+6462LdhxRiCmQQmE1tVMprj5Zcs0ZtSZDdvv3U4JaYzh0F4u0nLGDqqG4qIkKR5PYW6g9cnsDFHELFgHGGeTddEdN+ixj2YgLJo6Onm2//L97dWCWWKBISaY+lkyjLqy/2gDgUlo9cejhQtGldZiVSYLjVGIT4QDEwlkYQOx8hKgogUCiAmEmVRVRZkZdI4A8z4hrwKRkyUKxRVjNuVAHGjLbPobQd7ZY4L7xbUGu6GGbtlgRJwnGMQDEHgXDErJUiD0qDIcNyUhVoYoMYD59yDCsXD0L8H1EKgAkg540YuOCPvEnG8/+ftj+4uHWRZXahzpt5ciVXVTOld/p8yqAVwKAV5oBpJ9BEwCieeswgfS6dWjt80ZlPwDY5ztCdaKDMmfnBTBlZ7hEWyZs3/bhhRe+Erf/aXS5NFUXxRRSJd7JB2/w59tP/9fVoQP+yNvPL/7EyuX/O5mZ3SNFbNSCYFBYAnZ2jnbrM8XAUQzRuQWbYlpI2i0FR/Xw6PKeX5NRsBVAp7jhzMgMi7jlaSuZ40CZcu/KgsLX6hdOgKTom6ao91p2xXLT9OMRup0ikNjVI2fgj9QK0PCVkANgZ3bf93t1cWZ7yLfSE5XZGr0CWANBvTbEKzffiqXdnlDwnnNSx72gJAGMMcnpCF1AhQIWu84DYIz67Z7XkpFh6HqTyU4aOj6a0Yh7WOvABEwoYuZGhQHPtoVLrgoSTD4uj35k+7HPrEzPD12esM2DcR2in8XWZ6sb0+qFdGWpc77K65dDHg6disncDKOZeKYyLliBTaLV9cpmE5pAOWHkIlwEyvXMaLAykr771D8wz/95Z1x0ubSBkjZ8aWV9qNXO+eFKfd/P4YEPTQAHjKKFuTL3SEgmAzOLisSBXIZTwObGbHwBX/5I+8XfdWlrMKzbGdSNd4zPbFQ7jjOvhrM97GxvorbDimaCouXVgdl002pSTxdkCIDQZxzMFj6liPq6FQEinBNZf+LYbNoxWSoNbOjj2KWSx9N26cjYo+jBpdK4TAnW0b+fvd/9dQo4/p7uD38J1dB3U3UjNWbUj4ENNMa99ASssynDrswK1DB73S915/tR0yIs9RdhjQWyOlOgYiLR2qaWXKWxEAs6UFBjsUjci3EpyjI3QZvWLY33HDL0XWNpcYgH/5sM5yAJsOgDKn+NgiJAEoeaQD6rZWfJtHz5hWFIWlwKIMSBx1QNeim9QedOLA4PjACYGrBl7nuGJRgFRJVvlIyCpcsFDp2gtNzQuueK7aZTn+X4VNLYX5DHX7Um/tDRuzAYCVC5pQQZ+T6gghzIHkYUlAwcSHebVowm1ewyyCK6StRw02ooMTYFAOyOYrV2/oBbBWJlXQbc0MVzpli2uRFpehqicMQvahrcgIxaDKC6AItsikIUFFvnKnWLCpjDVTeBVtb06n2KtEwxaJrw0lj3jKKtSKYUCazGsCqUIeb65cQTYDFFKiBOHXpqFIb7YlZgOVpc+By+8pvtEx+VsLFsBtSPQ5ELE5JixwyFmcTYPArpEMwG/gMJEICSAbNMANl5lTwFDK9xfe7z5mQ/ANjnNVEBfOY9+sKn7dY3o6kk9ctV1/bkK87iUh/7pz9fHL55QDCm6FK35wVHAtF5ai+lwMjErJqZbQhdYUuRBHLVaAHG5b0EBHjF6cbBVioGbLPEzDrPVDJbMlnBILziTvqmYgjBAFFAGCxwj9kL/Zd+78rjfzSefGUw2bGGotrELginSAsoqq6AK2NYpbxoymzSeqVwqQ9vtBeJ1o4EmA/LEKg36kZA+PpH+vOfqcKGMGcpOBsWFS1Qbm3LePnUI+Wpd0CHjoyFwArIQ+auSVnBgIsRzsEoEC/ufPV3N774m+7KFw8Wzg6Xr6zH1XILKohJFGSd+KqV4WYSbgK76dAYJVVJkqE+gq45AOe6QAqISFCV3XkrmoksIH1U8pUdjEBO5rWjazQrs4cv1HilME9Eks4N0iwpxfnPMWP3zpVr3ME/sJCBAK94IVNOec/rYTBeAkxUeJ5r0OYVzvkP6jylC2JhwBWZPamHWhURiAHUEszLCsl9ALwsjmdmIoHuJsuvV+AdBJYL5AR2ABRFCSWHIj7WfPHjW1/+Q7P1mMOOK7nRWU6TAgNNnrT2ZA1lSw3hCtC12Dsbts8+3479AGCf14RPiqM/VL7lveHz52IfC0vQWXJ1YZLmipNc+sbHjt16S5GCQZG533tQpIAEMApJubcS4Z1qdmxDSqYwWZCJi8EiTNEpBntqCESJiRxcndWCXESvRjmqspJhJJNBAMOYN9oi9nsA5awmNWLHDMzO62d+NT/2+4uXnx8sOjiT1QTlwhqrISNrMUB8OlHdQcguqF00s5eMGRhjUL7Bqu0KymyQ1YQe7GjIKWHrucmj/8Re/JrVaeAF1YoERoXJTqFx+e7FO/4WDtwhaoq5noV2gOLllXAGGQF0HlL2z+589rd2vvwvV8IThZ21vWMtquFggpHLXZEjS0CKBlqYIUzdDd+ik8+TaGIGoqGckb/NBMzrgskZWSUKsiElzgIIJ8fou2gGhanHYB8y3DXX7IlhXS2mEE7ElFSIwUmFjAIpC0C7yp3r2/NwnVCZX2ACsBAYAs0pdXsdCjdezLABcMT0sksEIc0bUkR47iOgAFydyFn1BMsakQWG2LKwJqOvfy3k+4Z5ALA7JEdUr6skXhUKp5TYRYFzyRC16L+JT/yv/XNfwOaThSdbjLPYqD35vsgF0PaUEks0pEQkRqR6nQ2v9/kBZz8A2Oc1Qj254vb34dzn9JlPFgPfxugLCmFW8JHSdth+TL/xMZ6tI5MrCN1e25k30gpDsiYmEEE0qyozABWCKDLUEF9Ly0iSwRaAMgmRMVGFmCwpNGdBVlayePMWQynDVhbUngt/8evNF35vMV3AWIWXe9ak4k3wqQ0hdFpEV1wujhXlOB+5oXK3F9VQvvySNoV542Wys4gBGzYJCOBCCdNL0y/+hl9/rMg77Eqh0hCX6KFt5mqnuOngmQ/g6DuScQDsXJJiTYK1BABM2qtagndAujL7xP8cnnp0efvZuq5hljpJIp2jjUaXe3WtXeOySlSIWxgsHRouHxoOj88++2Sehuiss2CCMNE1fDCuH4JEJIosBMMkmogsESlBiZUYYPp2+XoBACa2WQEmFSWIQhRGSBU8b2GVlGHNdRwXe73ICibgZedBAQyyQK95XA0RImAIhueFg92eJVUwQedGJkTCTsSrMlMSyQwGIUje13y/wny5P0/5f2tc5n/QO/s9wxnEDO+LjBZwVoHm8ubXf2v45c8OzdZo4EFFCAPNrrTeOtadaXBm5l2oR2l40C7eWIxP+HIVn/xfrtcu7PMDwH4AsM9rgyE9sHS7P/O+waVvhn67sQuredqnKIW1jCWeXP7mny6bYUqRCnMt8y0AYIEYdkSkCiLKObvK55hNQYipnUyGmhzted3KK2PpuhlronnfJYEhqhqzEJhckVXNmzITOWXrFT4nefz/23zsN5dShDswwWWJ3nDy3FNqmwSMjtXHz9LyTUdv+9vghIUVJIe4MfvGr4ftjcK2wNWbHa8XZCeIC1AQqgpAivkbfzR94rdX4I0dClcJ1iKxTELqemOGpz9gbnkE1rWIFRKogkDzSIyAgRBQkIoxDMjW9Mk/wdf/7WKc2MJqsDuoqPAVpraflMWs8wf65dvsiYcWTj2ElVPgKvXRNuf50V+BNInLkgSqSc31W298Gwy7BFYlormOipWysZRT188mJbIBp4xrlMwYQDMlZIYCMhciE1FUZRjjC8lgs7sCg+qb8d6b77LOJwYwYK31e0VCcXLFIRKs7kZLc0NemW9nPnNgtxmjbYxGBWdVAhjKoKjUi5J9Y92k15G5Q5aIQER5PsWKviXH+p5jgBiRDSvYQCDAk5/e+PJHx+QiihR6EhTEBlb6PrdyfunOhYOnl4+/HTe8DQs3oqhhGCztfgCwz2tgPwDY57VBqJz2oOKWHy2f/9SFr/yJq4dxcqWwZa+REAeWtjcuYimBgsRrjDoxClWAYH1Vq/FZYK1PgDdOejFQgzSbXBmmpnDjvbfDBED7buOcp9agN9CszFAiSqKGfDEYggzo2um3H0x6csMMbD09ffyjvnna2uMbwYbh8EDfG55JmrY8TIfvGd/5U3THe1AsNxjXGVuM0sOl1c1mc8xc1cMmv7GS2UwKBwVYQdLi+U9d+epHhs2TQgeUTAJnEU+d5L4147RyZuXsz2B8SAkeAiDk4I0nwIChUMqA5bnv0vazG1/53eORctRscyiZKOQkbW9G5sZL9bG1ex8p7/wxuBu3MVDAAKaoLFcxxtJEMYYgEjQXjtnOZ/O9gVDD5F1VJ+OyQsmoKpNLKsyC3MfJxTLtWLs0TzbvtRkrsd08z7kxFKCWGUkpE2VVMrYejJQYqvPAAPTmy03vlj0y2MxV/IAvioW9CqJh84IL28ZXu3OWCDK3OiSGZPDuuGRLNmyc97npSESjgxBlEItYEVfXK9+r3fs+QOeDg+YX4e6Mr+t2HRokLqwAbS+jIqJ9dv3xj402Xuj8KEhm2MqT1aZrZ8kNy6XTa+/7H/1gFYMbgApAzqAEfjOKWPf5brIfAOzz2lAFqyRCeQBn3u/Pn6tnz0fUQ8KO9M5Fl1FaE8NGYaKmeq/MnygzQRSGwOUYpsxd753LRmMODkySHAz6nbj+olsz4KsPuCOZ13X77fXnV7g10lnmLAwSAmUl7105WoJx0PAmTEPuDrV85s/00nOVcSHPVHXJ+TSdIc9aCJ+4e+Hs38Gpv96zAxCwU5sth+MEGM819ZUMQyt4o4lPdZhIEriE4PJXp1/5F/bKF4eWpkiGojKRZiAkHuLg20Zv/RBWTgAdaVfQIIKTE0dCwgyAQM7F+SpNEp7/krnwF00/g/e5sCFOPbceg46Hs8HBpQ/8b1g6BDvqgQJwgMmCbirlOOYwcpIZKSRWB6ok8xuu9zUTsUMxYnIxJygTnMAIyKsUiP1sHRsv4UDtTSXYc9wt8qxZPzfIDUyCgC1nVZDLmqyxdrwQmSWDdxtv3nQ3HgGgCNk1QJgHAFQt7fXvbXc5bl3waysyH3yKuX3HXAM0VxFlIFrIZP3cWKbBe5XEEEBZIWpg6nrx0Ou/Z98f0MuxKxExEwmllPq+v07DdwEJxFlzYWkAneqFT4XLjx6mNOXtwhSGaq+h67e3MKhvOGvf+hP94bMJLBCgZRAzsdhvoyDbZ59vx34Euc9rQ2YZXM6dfW54cPnYGT9b52IV5JP24jgGDKpRH6ZsxeCaPWkKyfO2thJsRZTJs3UxZGKFJEKyGvqdK9B+r23MV23Q0E4vWwrQyCBWZp17pBu2HvVQMffFetNRANBLmDwhTQRqW4alsrHrF1O9EMpRV6/x8bfh9CM77ERRpFmNMeJgkFEkIGKBtDBM4bo5/u5Jsp1oRAKmW099cvPpf7Nkp4gFU8scjAmGe0DELxeHH/C3/c0dQpAdaEDLiABxjwm4JezmBfucFUCO/YWnlmlbF2NbSjB15cYjMtzv8IgGZ0/b1dNqRlAUgjKp6QNyQlEHA2Il1j4nTdkZz6aYb/INRZrnQF0J9qpEZBQMZQFEszVi86zfuYzU4Vv6uquhfZxumNQZTYAwsxAyAWAmi6pi4n/nfnvzVQCQ5q5O89+oAMow9V7/upC+374ioTHzUT40P/Ss83YoAJqhmXMfpxssPRsFEiibeXVBmW2J4f6ImG8xl/3M+4AB5JxDuI69TAnoSeEtoLJx6Ws2XASsyTOThXonPcGUbuW4Pf4OnHx/gdZqNqngUHEqWQsYgf3+Nz7b57qyHwDs89rgITVTYm7AM7+cH/y5Kze+y6cXr7BWtmRdVD/WyfqIB4EWI0323EwLJWS7rQDCwSvHHqT6sttxdQQlNy0rKYZ50A+89l//f8EVMoA2y5WkG4DIy6/XYNCDMZsOn/y1TnY6PpzsDS5uz9zRPu0MpU99HQ+fbYEtUxi86jnZ3+8EAHwU658d08UIj5Sm8VBeJg0vVd0VxVJ514fWMawRK5pt24ETwJnedIkBeW4rVrk411YHrtf3H/Zr6nY6lxIKo/BhvbHqejN1oWQz6hSf+jXzqV87Fqz68aXRlcjlTsrOxBp9OzXliUfK+z+YTVEDbNYSr6QK5OABi4WEahuAWQ9kh+odZptFZZ/9821zkOKSm/rFNjr4FlzRNtNSd/f/JLnLhIbQEGAJBWfvG2tLXFznm3N0KznlcsVgczFtTQZ7+jLZwFNqKfdZ4ClPfRx12mFhmJsdVIkXU2nJjoArrSh0HYiCHP/dRaWopFcdmNl5ClSpPfKegR102krOzq0PYXth5WSs9J/7LVC9LVAEzDQBm8A2pE0zNFMkSATcQB7/VfG10aMQcH5JhWyLWmezFjj249KHmSFQb9MEUv3Vzv73LxYWqGCGAFvAM2AA59KpO5RP5g4zNIEWqux82u4JsXbuqT8zbAOYUkB02qFB0aLdVIrAxJhsHHWX9ck/j5w4W9+Ps7Ebld2RemDaiEYPPHK99/t7jQl9YOrIVVmUZIuBfHnqT3SWQSsGS4K8E9ZBYa1Auf543tmCIAgSpsAOFBBEJJsx6SIh49nfm/mbtJ/WmbpqD0nVXyGulwJpHGyW9d8dAAAgAElEQVRvOCoX5bnPrtDiZlkjrmUzi66LTDFvN72tb/nx7CvIIshn0xsPJmiH1LvwstHCPvv81dgPAPZ5bQi4LObZdALMwuG10/et68H/n707+73suu7E/l1r7b3POXf6DTVXsVikWJREihqtyZJluT21IytWw51OHCCNTtJ56IckCJAgT0m/5Q8IkEZeGkgjARwYcRzEdtuWZcmyRFmyTYsaOE9VxWKxxt90pzPsvdfKw/2VLDn8lfwTq12y63xwwYdfgfees+859+xh7bUGbMFSWuxaThJ8m9XMgj94yVJW/+EEg8fkxLsyjcjvEadh6RHzctlpQjefLW+8it2XkswNlehRlzahmWkbroZg0WmRFVefrXdusR+YdogLZtF4s9DCeV4E9g9+BLaKYVn7W2qlHxsFgITpzlRzBHQVTtB2mcIplA+MNs6jPF4CTj0SD+MqWlsMXhlY7LI/IjTiuLhXxx+hZia4nZaGiwRvCtPgNOLNr+xeehK0k2iRE5V6gkFDocWi3tJ1evyzeN9/gOE7WsBZesvX6jIMqUGeS+qG6LC4NK5vgOa+SIauaZYxCcoj5eBY6QbCpUtpEJeDHGfALpzqYpAvY/u1Cq2syqMa1AgpIR24cgWGJwdSYsTMAEjgxCKRODhKuV2k5QKqxhJTuUrQ4w1uVUJDFUR8+NIWZsYAnFs/+9g80ZDzSLTuLDbJh6ozzshx7wpml8aMlA2DhTOUHYagymUMNDtEAS58ZdjNKcZOlzk4cuPgR37gSjIan8KxR1wRbi//yf2XBOhA45M/ubBpEB3yOKatxF22ccGgRXPr4p/atW8z0HGAgy/qQarH6I74FoCZCBhX/hKLC17KICFpS1JwqwOaC6HRCZ09f6/P728dsUJh+F7xBJiE8RHkpaWFpZaJClcS+ajZSPHmc7A2MToMYAM0QAYh18zVwEOnaesCdYuyKh1lqW/tfwjRakHhRz9O8bi9rmOm9bzWds5xCaaU1HJmpqIcHjl+CqNJC2TAoEIpoYsGKuFkEXaef9vt1buv9QOA3tvSWQYRNIX9PvwE7/rZfPqnObaFdi7VjhKYopGC5eAQglRAEwoEQoZHOPcJC2dg17IuLDek2WEgPAxmsveqvvj5jFFSdKu0eOrBmwZe6M3gGYsX8cLnabFDYZRT46wGidDWkEOTgZPvwNq70aFACx397bXUj4cCCagXi4aYmQyZWCybKMkyc+YAMwesZsLcanI5Vw4SELubL7StdHUY8j3byZpgpuRhpKuU8mUC1GNEwOLF3Wd/vXnzG97No6uNKHSbY8wHqLmLtP7I+gf/Ec59IgtXWBX9eosXA8jr4IDgQeMAU8yG6MTm5JNRUk3JAmxMbgjKsBZscCVExhbXrfUcjE+nV56s8h4YyVRhiQRg0YNDDggCgEGMjoYCAitZF5nFmUej3UzrHaQaQBeGgIMyDDAwg5lBiju8/wFs/3MDHvpg7TaRG4cuUZGzEVediXjJs1fs5S9J3i6lSEpAqpBclxRlg9IAilh88/8cLve8ObAmRzF6bnPMc2SVE+/G8cciEHIEYHaHcmL3n7O/VBfmOFYWxBadi8lCyHDsyuUruP4NlxMYSwKohSqiAFGhAwJmN5YXvlzEy4jQSFRpF3VgvqA9i6nYfAJHH77Xp/e3joih+/UmwAKAXHHkYceR0XqLXsmjgEnSjGDyxhcxu27ANDPMAYAiWTEjOCTc+O70xT+1+S2IwFKZl9//QW9rAEAMgkBgymTNsmFbFojE2ZQBWI4pC/kSojUgpBRngkjguUPHgN5cvPonb6eper1+ANB7W9gLiGEqWEX2Vhg8euSD/8RoFDurisKxppRYvAKaDwxRyEjiQCYOaBg4+kR59P21tvCIXR2YBsUwZ++928Te7Lk/KG5FrykU84UsFg5LIKIoeHNIczzzO+niV9YcZy3NkvNZwSUD1C5tMnn05+FGpYPk+7JOpkW4JDKUojTAEjsP5waUr7bttWV9FcvLAiQBvM+M2hDhnEXc+rO9F77g2gWSd/euiHJ2psowFloNQhwAEVDerZ//7fril9byLJCYGFgpZsyXy7aoN98/ePzfw4Mf75ibBELkA1+rdRGeUdGqiyi2pMzqfYZmSaCyKMQVi84Wy23ES1Nr9piXxEqGZoYUkf28k+VLT5ZpD4CZKcEkKEuQO8S+rwpdMCGhPMGQiC7nRa2mqfaIlWdq9nD95QqIQP29dEIGAPspmezQqZkIhNQBHusPl2eeQGa0bSjGzgVVRBMpnY83pi98Aa//JeVFJ0MjRmgt+EUMzoLL2/UL/3u6/DXJmdwQnmozdGmYO+RlxKh88CcaWVNALMJgEuhO7XCf2XxPOP6eloG0qFylTAkNdQzB0Nr5C1/BhS9VQAJmeQQKsS0aHTmwi1N99ne7i09VYlmkbVtXcdvkUiqk5dyKE4/9QuL7boUTcLKfCQ4AswHwcvRRIgqOSs+sGZlIg4HhMb3yv+LWl4cJQ0HDM62uwdeeMAEwewUvflG2ngncZpOYhW/n8X1bXX8At8P2HARQwBMN2VnpiTgzlcwMaGxstreD6dUSQCJwgHKTsTBEAPXO9ee//jYPo3ef6wcAvbdFAVUFC0zFEBMgk+LRT1bnPrank0wesGxZgs/pzv1tA1Zl7LkxgEeTd/zMdHQiukq882SWct1kGJVYYuvlN//4v8ObX4USMGyAhqIHXCd4/Rvbz/2RLN8YOU4REti0M2PGcLdbuJMfLs/+TEOROCNX9+PlbwyiMDqTuVQClJk6MxrqfOgymu146VtOpxlYkttjUQ8WYHkhffs35eKXj1dRgm/v4eY5MRivYpdWaRUdANvCa7+z88IXyma34oryiGWYcg2ep2pzuvYu/8S/P3zvP4STkOuhzIFZS/4tX6VeRbuLbosBRyCA1s8REWmVUakFIRJmI3SLy+mV3zO3VkAC0EKW1Wb2I8xe1qf+jV5/waMDCFAHJHAmItypg86QFg7IPHzQkiTKTDn4kjRbThDWZje+9pSbXViHGsEzYDXaPU257dTAOHyhAQLMcgYgaxtP/INZeXZZszeCOIudM1Lj4DK2n5t/+/dw7VkCOsstXA14D5cjLn4hfeNfDazOXDXqQZIVJSX2Ca7Ixz5QveOD7X4uS0GnxPzjt4X83vHlkfOfXVanlu1esImaM1dDqzlgOXSvPzt/9tdp+o0SMHEL7+PIE3PQFpd/f/nib8rOTdNBXVUsGjV7CYhWdyEfey+d/3h9H2b5YzDy924DBwCFP/7uOrlWGQKQacpEnI2yarO10Ge+icsvjhOAcYeToErmVm493X7zt9qXvlS2N7zDwqTmsrm9aXuVUPTtHGYGQJEMMM7wxejUqtKDaUtcgBx7LkOVp7filaeGmC49qQ3RDobijhGG7Zv63B9Pbjzzdo6h17v/fiB6dxUDCmJxpuqETRATvA/4wK/GrcV055mRdI5dNlNV8R761mHQogBnqCNhgYEI5z7F13/51nNfPSKF5E5VyPmsjrQrnaU3fjOWOz4vhud+ZsAjshbdRVz87o2//H9p9xXynDMzE3m3aGtH1ulwGooHn/gVlOcAbTWVUpFl/NAap3/fFKBUHXtkceFbAAm5nJsuRcpVCGM3q7effvKoP1Oc/zjcuCKQ7drWa/Xzn6cXv7aZt+GrFiRyx2xO/y4Rt0y0X0kVcIYhEq59a+vP/jfevly6tdQKCTtXtGnpqtrVMdQ37Npziz9dLrb2gmY/4N243DwgDn1LqmBVOHm+/Ml/LmqATU4+TjeeJ5TgStFR17AvyrKI8dbNZ3771NpP4+hZG2wuAY8o06f0md+I3/q9Ms6kCB3MMci6pJmITLtVkNFbnxpcCwSdDzYenV/7Cw1SmDD7FLs2K0mJOK9f/YofjfDIRwZr70B9C3vX0yK5cx8swxEFLNPhx7RKJAAyF3L+4+mhn1m++PlJO+u4cNY6w7ImcaGixe6Fr6Vo659e4sijwHFQQvt6evHfpu/+zujWJT8o5swxtwHsOBDN0HZbxaljj38O62dlPz7QwzoAEdzvA9jH6h/+Wb305HJ2PSijYziBoQ3FMFVDm3dvPjn9U1c8Uk/OfRQhAh6LFq8/uff0v5HtZ8blZJaos7gxcDvzxcZg3M2Wi8Fja098DpMT9+wuvXcMADLt98/ZkwIsxx+N4UTT7EhQpmQghgCpTXHE53Ze+YtqWYftj5eP/CyG51DfwNWv3Xzqt/KNF8bN5VJS5sLA5EMXO6aE2wMA/V4ZAfrRalu3yB7MLTA8er6dfj1HOERT11ryDoWEor6x98IfHC3W7F3/2AigSHFazF7be+q33AtfONq8Vg/uw0We3l3TDwB6bwsBSmJYJeBUAsRRArlz/2DtsSvtt67les5Bu9SRk/06oG/FRY9ioeLNMKAMcxifGz7xa+mNi938EsUdXxQqZYyFQwD8RprPX/7yztal8YNfL0ePIjbtztPXLn51sreQQdvKgJJzqq1QEieJIrvNd/0Kzn/avDAoCWdAVO+3AYAREpXF2Sd2L/5bhwR2sDkbFhiU5ss0tdef1CLR3gt8/AHSiMvPXXrzGbv58om9bQwms27WgI6GYYd7swhA6By51XzyKoRL8nTnu3/k3ni6CMcyJlHmA6mtI8agAwpn6+k6Ln9ZLwVbaBmcG2qVp5bfevtHi0CeYZ8WEoR5xtCd+NgefmcNbaLkOLO26Ap21TB36eaL8Xf/W//en6Pznyjbbvn6X7SX/kR2XqraXSeVStHGzrORxU5VvSfLB/cU2DJUQER87N30fJlABRDntYjPVKKoClsur/7l9vJW+8yX/GBC0xv1dGdZPvDOz/7X8uDHO3hwQYfuiSg4MAAyuKPDD/2qzq9XV764qMKIWlZZ0iByMaF6Eq8sL37pjVtPnzn/SRo+mKzW6Ys7rzzJ0xvHRmtoO/WJrQl5mFF1tt3KEA//vDz+WVBRoc0oQAznCNqB77s0QAeKGB9be+xX4+ySvvltsWA4kvyMNSQsh5Xl+c7uN/8gXr0e3vgITY43XZ1vXmje+Ivu1vPjytuIuImh7nRIpAUjJs+Td37Gv+szLbvS7ruKC8pgywBsFd5mCmOMTh899xNXLjxd63bpdD89rbEZSrqSLTZb39166v+h75wv3Nl2eTWlF443E+Q2FEIhOCUgkqWskYRgWBUVVlUYjH7UoSwnRECoBTbOPL54Y9g2mNBWVp/ZYk4+pVHem7/x9d2GeLEnJx7AfFZffHp29Wk/vzjQ6V1st979qR8A9N6WVaFKBZgIltQSszdQ4zbGj34UF76o9etimlJXVcNUL/2dHkhGjBxR+GxJSKg6+6nBY384/9YNq28ER3tdl5V9WdTLXEAm2dmVS2nvclvpfLonWjxQHBXebvx4L9KGL1lzF7MfDG2azPvRe38F5QmS2NbEVWgxHdh9twm4AzLEn35YQ5mbBZQYOfjQIcDicFAPmmt4c+/NN77GozVO881lHPnpsByWfggp59w5b82iRnlvjt+0dSKrPB/7z/lucePVp98lmq28FbkaA7aweSiKjb28mPtzI75ZtVtOBuXkxFKZmlulWyYev+X7r3PTYVovdxy5BLTwk7M/xcceoa1vdbrwnCgw5tmaGMzWKS2ap0ff/i5/83/WHJxMLIrvXCkbjcTWXJNTCImhRAR2AtWDBk4KKExA5HDkAUdFZ5SjFuLE+Wlny8QjL2Wq0b2+vbU93l54a9HGbeqQttAtLazhDrvs79CkDFUIWZ1Dde6jk7N/gutfVDGmiGSuqKaGQZ6XpYb6xubNrdxem7OR5mHWYznF0eCWS0cXWgxN0VEslULy7DcfOP3J/2g5Ola0uyJLc8friEoYmvPhQ5X+3sqxlaJ46JPhjT9ubjwp8XjKG41cGeLBBteSUOmGJ7WTna+1t56O6ZQNRNrnNjGjtVMLrbaa3bGIa7hup4Nwpq1vhfFR9+5Pt5NTLVCkjDskXvv7yFYB+gal/Zp7mpE8h/Pv97cudcudgsxoVQ9YnDheVINwNpn42eUxvQC+aktLxcDnLbhirmKRhJVz64yCcLNKLGSmqmb2I8cBrVYqYICxEXDsLA+HqmoxMYm4kKMhxRB0HTenN551T351T8cphbLEBFtdM526DVt7sIh7d6nlevej/oe499dxrnNiQU1+KXhjWozLFEtut8uHrKIl151waQlarTocniAAgUGBeQB4gSsNOPpA+YGfv+ZP5EaODKu22Z2NOXDimji5Ca7cFEFsioyEVX7KEQGFB1BQSfAglPjQ/5ie+M+vjx5q59tHUlxL0rQLXttb+vHSsxvAadJ5HNKolKJL8+ng0aYuqtgRpirZa8hdypvAf/bl7vRPQBgoxlUYAgNMINwggq5axBIOOcZAG10R204st265DFKlNOY1Soz0xvTg7pVkhmIBToSi7YouWCuGQYdOUQy63FR7s+BgOwtwQwdO3pDKW74a8aivd4YWKphDq5AArg/7uUVEZcDxjww//F+6sJZxwWkWc44jmGobt/6hmNY3s0xm00GjRsuJDpq9nEeo060T2W22hQJVK8hl52eT1FYt13uX0cyXhAgg7bZwHkDWPQZop8zzTIGiH5q4OFfLmTeazt+hoJsB0HGV2ibFrM167rKNSswphxwDinYvSpWv5hKoNk7olUaORlqshVloKXVrGiq1ZqyyEbe9SvLHGx6lvAg281xkPX1QO6PL83RmNjwnaY68XqHDxNUf/5eL4pirW06l0Ql2vo5dJ5s5FpWNcxw2OmmsaGMdZd6NbD5klcppO3JNTPPtxZar0KLbJRrGvFu/AcwjisbgEuDmDAEDIQddtvB48D17T/xaW68V4arysNXgpLCUp52buRNLDAaUa5yIthEHVpcN/Am4NWAvYJeRtqVBii2VPtUSriAfLaMPMRYKzt1OGCFtJXAmB5lmIGnKjEQcSKHJf+Sfvvapf3U8T9X8XAqVNPZoMVx2HkG21wczUtOkyHPRhUfUXHbdLh9FGwp4wRVuXm6OfLT8uf8pH/vYAJBiHe64A6oCcAz2G8Bhj/NuXVeHddj78bDvn80VBriAj/+nzSf++2uDEc1emtSThe4QDXMz0VQAo5Q3hEMZtoo4ZX6gpnfvdeOUpMhjy5UNy1HTxna+e/oz+ov/Cx75GQGGGTh4s/5hz+tutf+/6+/dAcAIBMcgOJDjEgHAY/+sfPyXiSpeLAahzK6aOduVnb1BtQjTDrekCHWoGm7bUcySlm4DdnRk6/U8VsVm6NadbtbZDxt0erwsrjq2+c0/p9ROETPFloE4nWHVoXeKdpu9UJLkRtp6q6wdFnGrcdemlKR1Ccg2RtGCeQTg7Dv5w/9sN7glnTDeY52Zq3ZL2qXRMp8uEV0clRYrP7W81SRVmZCS62aWhhV8ZRaWtXVMMkm50NZmO0+hprlBLbmOIyrDFprDXp69v+f6FYDeD2gZBYql3ySae+oKaUCV0kAWW4zouhapFeeRIhxnYzmgT9wQSnfUP/CTJx9+Lr3ye6hvllmLrmqSi1yyp0RryW8ijEFo73AhVpP1n/i1STXZe/bX0+6fj4MV6dj8xilUO0RwrMTKBlvNx2SoXBv5gnNAt7edb7Tr59fOf27wjl/oQpDvexyupm6ISOCBARkCFHmRcgfNLthSC1XfSkjq2UYdqiMo7rCFkxhQeEAI2SmoKYvoLFaZC2PKPreuiGvI44IQaHLw+yzf8u+RKohjAgE5qWNkg2Q79OeKJmOiYvLYp+Lyzb1vdsX88nAYm5yZIMJeIgCCZQNUTYtAKRRdHXXuxqlYS9s3N0bFPC2VEVnUpHNuIWGNcgYCACdC+/E5HgAohnXCktECAC/AWRwFUpH5Qe2QKdZOAyR5ly3EjAVlxyih0ARjeEIqGEBcUjMjuUt9vlg7LgLXwCLISOEQjpw4O8HjPxtf+m6zdbmyeekj2C05zDPGMtDUWW6HQt4xoNZ2KaVdt3Fs80izc2PEblSMsSxHNjQV05esqbG8WayNOgMZFJwVQiBIwc7ACMNTj3+4m3188cpuHu6QGRk7FYbAPCCWaeIUarkjIY9WkMG8pkAEDB6MWBxLy0VHVRTtVINkuCwoIbzalwzAYhBvxPt5OVUhzqFce8cTH5lO/4vm6st2/dn1xbXCRbB0KOcW1tol9uttA6tciMxgb2sLXdxaNgs69qh77y9W5z+L05+SdOCNHeEPdZzs7851dViHvR9xyAl3dm61JVqKh9bf+R+v89HZM//39TeeGlAK4gpfgnxSapN2JsbicZVBwm5MwuSRoS1SzFdH79945MMn3vdLeOAJgwcgfKfA9MOeF8vdaf979r3rZHT2k3H31e2Xfmcwuzjxg2Nhvda1GJckKryfMMiMNMMMQ8nL9vKUq+rRD9Lp0/PvfnnQbVdadGadqFElMojFEFzY/k0HaBaAMsBRuPaqFtu5d2y190ElRF80FpMrwfCAZFvNmxkDfKo484kH3t+U3/jXMdXI2QXJQm0ig8L7zq6ROuoqZ5OSlbkDz4ya7WMf2rpxacLLckJR5+BWBhY4z6MB04I2GR045NVTou/u9X5Qf0X0fkCBiOYm+2AdIROyG2YVcMQR7zfAhRMHGJwDcIdkaC1AKIrxE4OHP33z2ndm80VwleZ1Z7cyA1mTKiGj2UKeD7PBv3VIxhYt1san3Pv/+Sic2n7h/1hs/9lAsy+SFkcMudMIi2YGYiYh4XFaqM1aaptqhM1PrD38y4N3/go2zn2vCtFfW7UlAFpitXmSspXHurRsvQ1TjuzNOAEAOc7Q2Rin7tR2BEGCUe3XibQT0y4GbolbzSmxSxSRdgs5im6G4q3Pt8ZbF4uNbgNGBDBAShCwA0wO/7khqwcYg0f8e//DAar43G/Prn6nXHuINFKuEzrSrMRgz3A62Z3vLJA2u/H7jr33H+LYeOsr/9qaZ0s/SkhJoTnCYG2N3ZfXTg46rVYbPokAYgfkNu/y8YHumQVFTiSEImOQpYxaHrRP0XWLQThizUxiZco5ZXID4XU436GoiBQwHq42A4fhRt0cWGT6UATQYsSFQFsyZDOhIQLw0X/h/Rd2n/28TJ8p464L4mTs2VPeDQwvBiKNtuwo+5Efjo+87x9jiO2v/W7V3pyELjU7Tuo2qw9jogrtHllbcAED4PavSIOnVXfQ4/R7wgc+t9NkP31ScvTWBWocASZJXQYhLqGmQhwK7PddkIGyTS5k1A1HbtvWQvJoWOLUCkG5oDHLEDGDQQSiEmiRIbzaxiM5mbgKlZ/8wv/AL39t+fRvtVe+HuIVsgyCmZkbgoXIZUOnGrOZmhnLzlUZrOVTHwzv+qXw+D+yzUc7gLsDHzBlc8jjVNyV6+qwfpT78VDMKSEBzFxMzuHxfzIox4tj54orf75c7M3ne8HNC0+BRSAgp81aFYg4Q5s6LSI7DCs3GPH7/qvi3Ltx/JGMScLtYYjpQYv8hz6vu9T+9+x7F/CZj2wOx7NynV78DUwvcdd6Gw9dhaw5pWTJwAbPHEBuoS/ZeuWPfWrtQ/8NBoObr1xey38+oM6j8GgsprZtOY5R761J6TppSgchB4ATrEPq/OAEahU2dJrNG1VG8KicraFL3jusimcqVNE6V6x/uHzvSdx8Ob352mLr9WGuq5Kd05hbJDVU3rFzOaa9OnKicTU+X06OHnviY29+9febnVcHwj7FFJVIc87NZIjlDSnXQR0kKThDOl2Vv+z19vUDgN4PSjVg1bmf0DiHaW5mWpzt2ltGAwzOgo9ZFAoCy2C9Q86RAsgKSIEzH/Lv/BzNXyVw14qjuVLBbD7tTfwmhpsgBR34PoJhC6CEf+9nTrzjA/bqF/cu/dFs98W161eZjUWFDfvFUGFKu90oj9fziQfcgx8bP/iL/viHID4m835Vc3F/4n/15mbmMoHMBAYGFXrqp+pGa8muXRg5Y/GmXBS6+TDYObSrWKWDGNCB5eFfyMbgpNmi7pobUYwink6+FwUZ6343762snf74W7fDycchBQABE3tgFeR6+0H/N/7cDuw5GzgCun6+/Mh/Uo43F8/94e617zrqxNfMDSMpnJk3hJvtaLT5yNEznxid+Tk8+gn4Jl2+MNvdJLcGcoqFN1Ti1R+FGtpWuYIQsLo2nAAioXr4p8bLW9DEBEsdOa9SRHi/tnlgU+ZdPXNe85qjCedWElXFQNx03k10/fFCxTHAogaJoT75kxvd3dkSV2tJkyEdfxxURGg2TUqOeDn+gP/wmcn6A83Ln2/e/FaVZwFEbULZJLME7qyYy7g9+uDmwx8cPPQYHv4VYK/bHejsgvilpVpc6JK5lLR4QFWsy1IADEJwDDNQAgBhdBnBbeDcp477oztfdbHeScsrXbzpMGenFrKyzFNgqloulqP1Da2d1UwACrjWMRBo8ODHwvoilVvKZxJmyQYQZhny8fdBStvvUSlSZjOYJ4YIcnYxEbMDZPToJ0enHrLXn7r5/JOzN75d5d1JJbK4AqNMLquZMZGID+ICHfvF8qGP0kM/jZPvQSiA1IDbcMBOC+Cwx6mZ7851dUg/2v34N0cdfICRRpiJlIM1eexzJx/6af3Ob+j1i82tF6277mzPp7rImSjHAScgJlrk9WU4xifevf7Ihwdn3lk88OkMTmBVyGr6H7jDEsBhz0sT7k7736PvfUG7Huth7d2T9/yLVB6fX/xSt30519jk6+bMhAxIkKSWVNXYn/3ljdPnce4zOP4JAOGRf8rT86rzZGCMWR9xzZHBZIhAjhNcYgDiZNXmKkgOpz+pcccX22gb1aDk4aNDtiPHQFsZJxzvb1UWhRoynAwews//S375qebZr9Y3nx3Gm4XN2CITYh4ooZZcu0E7PB1Of2Tyrl/Agx9AfsWf28HoGJVwMCJhU+Q4GB6Fhq5LvihWBdEYzt+HaaF6d0Q/+jaW3t9HCwyjww8AACAASURBVECAcvkaygpwMAVvItdIu4gBo5OJgP2B4yoJ2gF994xOM3tyyOiWQAZFUAcZAwxEpCWaZOOzNRwbyoMWExLMYYkdgqswppSQXsfsJbz+DOpZmu8u5rspJc++LAfBlzh5HBvvw9GPoTyS3WozGCzBOQZgZt9fw8XMCB0odhhFYGjA7CWU63Du9th4FVWRkKgNJxfAgU+Y1JgrASyB4e7zGKxDBa7Eap9EbhE7oErDtQwUB07Mfa9V/392X8H62Q5VgEKTcYhASBHIh/rcJWOAGimBhq0wgEIXaK/gzWew2G53ryxnN2KqfSjLwUZRjrh6FMdP4dhpk0lG4eAxa+EreANHGGBLWEIjGB5vCKUB6CKJgYIp4ICI7adx5KMwgBRmgBghGkAHzkjNgOHOlCuDDJAVYIjAppBtpDULR5bAkGIHDyDES/BnD2rQw6m34VvAmTsRASB6gNTfzJh4FKgRb+Dqi7j1um3fbLa3lsWcgaoclRunsX4Go3NYfwiDo1O4AnDdQtAhZ/AQqACAn0U7xOhUh4IBsiTkDKpgSQApmBtFJgwYZBH1NexexbWX2q1XUn0rWqMsiaHiJ8OTYc3R5AE5+1nIJNost57LQQt4wNeXhMdwHfgIKCHNAUXMkBJhnCCCTBZhDsTIDGMIjKAEA5wlNSSQZyNMsfsarr+EvTdml54GiYKNHYeqGIyLtXUMRjj1SxifMa5gq1W1OktOVBR4605HBxzuODG4K9fV4R3yfnSH7GSliFVIDKlSJxCBpwxoi7iDvQuYXtSbry1uXdWmLiUsIc65YjgO62dw/FEcfSeGZxsCrxKy5eQJzAyzVcWPg3eFH/K8xN+V9r9X33uDpaTSZ4YA0mJ5AbdewXRreeEbXWrbFBOsGIxHa0fLzRMYruHkr8EAT0uXBVJ0ikwgoEwwB91CCllnsToXgQLwaEmbjtfc6pEDuOUlOALOIClYQAnSIbWGzVlJAnikgAxjg48KIQhswTQAaHkVt57H1st55/V6ttPFJUqUYWMwPI31d2DjYayf6wZHaqBUhAaEBM6g4q8eK/FlhEejwBEsIVvrBKRFP+Xb+379AKD3A5YZIiigq0nifLvI6AhoMyDIBrf6nbUMgA5Ko9lllVizElWFERtaRgQE+xH/YwNoVcEXRcSBa7f1FEUB9i14ldTOAYJlxqomS+JVTZX9JyAvrClpIBnIUIUFJI4ZaYDqr03/YzUAsCWYlyg6SyMKbFBCd/vxSIAHBMiajWWZsHHQD2hukpTUYS9gM6L14Ba5AIAOEGBgyEBNgOWxKfitTzgd8GB2KWYnGQjKgGZGBEpz0MN97pL9ABG5BnyWqgEICICLt9M5QWEKFqwCga1BCLPbjb866JihAgOcomQ4g2XAoUsoGEY5kgEcAGQGKVCnv0r8yAAyzECMAx/YU4AVnkFA0P1vOiExVtNsIHQM67RoCY7gD+rQHBIpGyOu8ogbCqkFGTkAGexAPq+iIxJgEQY4QeoQO4iDBJADIRM6AgyBwVBTJXZJAYKj2GW/Cqlgg0PjUIJSgnMG5AxCEukABjyQAY9EuUFqYQT2+3eA3ICuw7VQgI4YgUiRueOmJWIUAngDgIZQA6PViFZhALEqag8QWNUzM4xvj7KQCRkQU7u9LmempB1rR1CSCgQYA4CRgUnYgJvACBggokmQygQWjalDeOsVs84Od5zQ6q5cV4d16Pvx0GmYXkc6AhuCAIFRY/AGMQUZ9iemkZAV7MAeiWGAdeAEJghn+ASWWDvvAYMBIBADHBP8Ab9Xhz4vuzv39b363hPgEqCNOV5yyEBl8Msp/AhQkIEUEMDBAMPUoergAxa84+GDjkwxY3SMCqtpDkRCBhRtYRZIkGOWQdL9r6gECOiASgGgYTA0IDdKe+xGACF7JA8AbDACATq1oiQEA7RFXoIVoqD904QS4EAFqGhXU1OKMaugNVCLsgPUUJKVSgY0CT6sQgwVCigfMB7v3af68WDvBwxQozX4knIOhExcia3SWxghAP57cT93zqDvG6LCwWE/hBOsEMYgayERAFIAtPJxAAM7HPTLVEXkIjUcApRgBAMSBqoAgckp3Pd2u5Eh0yACSrUXYQ4wGHyH6f786w8iIsQqBWbokOAQAd8Z1DDiBEBzJiIiFgI0FqwHhQAZ+wSUglVy/QQMPRTwOSZRg1MSARxqR/nAkwXIDujIchFhggQDwLY/H3Xoz/Ud4DyIYFmAAmgilgopVk8/EJjBul+ZGYYyAOXCfEnLiFX2Ty+LUofgGlpZ7m5Pve0WGMGckQAJUMCtNuwu/HBg2Qh6+9oRgCxBDQfUFJuk2lyVAZeBvL/rRIQbgyV4gLxmuEBwiigHt9shJWYCwu0B5e08twxkNF1E9mWZCNGhM08EKJwvJZSyGoDaqiOHSmGasqUkiKgLiONEsFneDASHllAwYdUTUyhodfwKIoIKWIDUaFsiwYmMSEYMwKCKlDCgE2CvNlLB6v8WiUARNAUGKJsOSIGow1IduVW/lAhEYGQBFAXgEmUHFlKIInWqQsKqBnYCWOqEQexMyixlNIQIkdvZ5VeXYISpcUFZO1BEcFgVanMEPfAn4rDHKYa7cl0d1mHvx8PqsO5cYNu/34g9kRlSZMdAm4nJG3tlrKZjvM8CYQRBIAMyxCAEOA8DIGZKENDqH80fcFSHPq+71P736nvn1cYIlwlWABnIBB1OsoGICavC4vttYgAh+TLCfJk3zADqyGWCH8MVltAwPDODeAlTKMClkhcoM7vbE2dRUfH+sTtvLIToS2jJbdYCREbBsKqfs2oAmVAExIwVBXxhhAwkA2U4B2YQakNrKTsMCgagyBGAJnCBAvCmrMtII1YUTg2cSQWqidT1Hb7eD+ivh94Poip1DQIbw+13gpJaCkTCaX9enQIoqPEdNgEn6hTDbCgN4F3kZbBx0DFyFNG839WUFgIcHP8DtPmIY7hSgbkgAiVsCMV+8UUDVrMwEIChmGAGHoKqzDB0hOhQjPMRyP7c//eWvG4vBbApiOERoTVsveBYMlSN2RO7VZkzVfg7FtVRkgwAGjAFbQJ7UC0oI4WRqGFArYBQhooU6HBQHn3Rt74lo0GZHFZnrSZZQZqducN97ioteCRH7ATqLI3I4AvF3mp1HOpgJARAQdhCOGLwvIWOB7zWQQS1YAoIbAqqzEmb4RkCzpYdnBIAW63NEwHCHWGYZLWzcL8RjX7Yj8+NDieXoDGr4xKAUWyRKjCkgJmCI1gMrLEQQO9Sh0+6nKbCBXSM1Wy/cyC3ZBcqeAU0OkqOlYk78Hg1UISkVf4PYkIyWAElVxCVGQBKNaCDEApnAQDmq42f4GSAgYGsmpkcYKo1WATOBVdYXHUMzQykRICkIIqUQT4qiJWZoQ0wA08sj8iQCJnhdXVxzx1YAIuBqAQpOIIYcG0Gi3TIhRpDQbrK6uWZUpqRK9gxwcFACgc4QwqIAAxsYDIiA4NNj0az7FMZGLB2KgVMXCuDg8pFmB3uOAf7kRVv/7o6nMPej3zID28wcYCjqVAjOgSGMGTLxnuAFCIwXk1vlKSwDJSrdSIFmMCy6mpms5Gtzv779lN5d+Av1qHPC3en/e/V986ubhVmRQnnIhxgoZ5RGtIYAEP3Z/ORVju5GQ60gwThYyAg70KoxDHGFKSwkYIjQzBwBjOQISoKi8QklEVj4omQdlhKCGTIlBOkhAdnYCYdIQQAmQhgywaQCAitgnU1ELL9Fe8CEZxgHuoMFbgiASiuFhiQAOezuLi/Qt6BWqaRuAWQo0pmMFwORaa+w9f7AX0IUK/X6/V6vV6vdx/pC4H1er1er9fr9Xr3kX4A0Ov1er1er9fr3Uf6AUCv1+v1er1er3cf6QcAvV6v1+v1er3efaQfAPR6vV6v1+v1eveRfgDQ6/V6vV6v1+vdR/oBQK/X6/V6vV6vdx/p60L0er1er9c7mAKAqpllEoAJUAPxqgthmaBYvVY1hnl4L4+21+v9DfSFwHq9Xq/X6x0oJXXu++MFdP/vYDUIAd8LJ7BMRH1wQa/3468fAPR6vV6v1ztQAlad+qwZao7FzCxnDR6AAatuRDYAEEK4lwfb6/X+RvoBQK/X6/V6vQN1+1P6xgCD/qrLz6ulADZAb/8NfWxxr/d3QX+f9nq9Xq/XOxBDFSADERsAgyqEgNRAVnsCTMzADNWcEkK/B6DX+3HXrwD0er1er9c7kFkGYMQwigpTsAMTBKDVfgDLt0OBFGbgwT0+4l6v98P0A4Ber9fr9XoHyx3YAZwNxlh19usEcUgGVlQCARzUYkdC4OJeH3Gv1/sh+hCgXq/X6/V6B0sGt4oEUmM24MK1nZdeeflmN2bNJ46uPXb+7IkRMpik8Ex0r4+31+v9UP0AoNfr9Xq9HgwtgQGfFUyIipThArgoWBNr8hJuNfjGlfYrr8eXdk7vaRo3s1M3ljuKX/0gipgQZ1auQfo0oL3ej7t+ANDr9Xq9Xg+qxrw/fU+EIAgMTcbcgdg4vDHDHz9/+UvPv/nqUmK1EX2XFfP5NL96YVie/Mw7q2IwSET+3p5Gr9f7G+gHAL1er9fr9cBUAAQok5lmIoKCzdA2KNcuLvD5F6790fM3XptS50cCH+OCi2LpaG/atN9+/tyxR993bKjoI4B6vb8D+gFAr9fr9Xo9gEgVwgCppo6IwQJmhLWLe/j9F67/wStbF7qKN9cK4q5eOHGgkAeDpRQvb798famtcdn3/3u9vwv6AUCv1+v1ej0A2I8AMmJXgHwGdufdVcUffefqH7509QqNbLSeNKHeG1Ey89ZqNnJVCZSVH1UAp75n0ev9HdDfpr1er9fr9dBlLYShgDGYF8DlBZ65tPPHF5pLN6fXo8ewcrDULkW7suS6VglUgeNy4bouqLF9X0HgXq/3Y6wfAPR6vV6v14NRAhwMMO4yLszw1Yu737q8+xc3uxDKchK6lKxuHZTEz2I0x6Wzgozqdr0SpphNxPUxQL3e3wH9AKDX6/V6vR6YGVAowzBr8O1Xdr7+6puvNVnX1pu25WbuUi5dAecakiZJUfKya4w0eHdmY3M8KRJrIunLgPV6P/76AUCv1+v1eveRGhBFAJAAAzyiwhyCzaGlufKNBX77O9tfvHLtxWzzcXWspm5pjkMoJOcu5SU5dZK26VTFfJK603n6gcnGwNgRRGtwda9Psdfr/RBk1sfr9Xq9Xq9331AgmzERAwQYNO9XAGgZry/xB9+68oXnXtuiYVMOm0w+mTB79pY1aYQAnrMlUx7m7uGB+8gD659+56l3HUMFkCVQP7fY6/246+/SXq/X6/XuJx3AZlqrkIGYPIsg4bUpvnt19+mtvaeu3rqYRLwrWp5k6kLnxMWsbVYS70RUs1o+sbz5juPr7zs1/tjDR84fQ6HIKTvn+koAvd6Pv34A0Ov1er3e/YQBARMDGXAdJBFuLvF/PbvzrYv/H3t3HuTZUd0L/ntOZt77W2rr6l1q7VtLQpZAgwDDe4Et/PBjMdi8MRNeYmLssD22CWNZMIDxgh2B4Zn/jAnCNo4Z4mE/24Edj9XIMNj4IQYhgQEhCbSvvam7umv5Lfdm5jnzR1aVGlzVUtuoq1p1PnFD8euf7u/+7r0d/bvnZJ7MfPixpm3702HbNrSUR7nrK3VNymmcwL6qqk5qRrld6gb3wxdsu/7qSy7d1tnbR08FKYEri/6NOStYAmCMMcZsIW2FCoxI0FrJP7aY7p1vvvXIwU89EkcxcDWRY8hjCcxaYcSClFMGUQiV59zw4PiuWi8755zXX7/rgp2+AzhpoRnW9m/M2cMSAGOMMWYLEWAE7YQ6A/cekn+894l/Obrw0MLwmJ/xVej5Hg8alzJ1OFMak/SoYoZnonZMgxPn0OilF5574/XnXLkNpNDUijQcAjTnTMSe3UZfoTHm6dggYGOMMWZraQQjxn3H8U/fOnTHo8cOjHnIFXfQjFtPnpSdc+ykaYdg7XIvKlQ15PZc377onIlXXbXv6r0dZIABloQSSSiyBFdt9MUZY56e9QAYY4wxW0mUxaXxPQO95TuP3/rAsSWeET+VpaqHh51zWrlBbKDoKnvkkLWNogTveVu/e/W5u2+8avvVM8BwAXUPSbUKCRDAAewSkCy0MGbzsx4AY4wx5mxWHuMEEQDCJECGpOy8gAUhKTRL17NTNEuLXx1P/r93HLj98cMnqslF4phSReIkZb+Dcksymuj6UduMUq4np0ZJk9Y7qN2Xj/3wxdtvvOb83ZNUOQCoIqCAgzoAUAEpCICVABmz6VkCYIwxxpzNUoQLICggAACCiohnQU4Qga8z+THwjYebr37r/m9r9fDhubnsUn+mESeSOqSUI5FXoSQZjhUMx877GPO57cEbrrjgmp39/duqS7b3uoFAEhVeEzGjfK0qhFBWFmDrATBms7N/pcYYY8zZjD0AVRUlMBTIILDDMKLyIIH6Qwv6jaP6zw8Mvvooz0/Ot86jngBCbFsmEa+S265vW3LRdYSr4OsgLYZLsx5vuHL6xdfsuWjG9wASgSqIVdFwXJ5QVMHk4aBQEXEWWhiz6dm/UmOMMeZsxgQFITvWEp0DnCSj21HgRIu7H1/80v2Hv3Zk/Ni4Pl71nXOAOnSQUZMLVXBexiRCKWvlXEczB2n7cWGXb66+aM+PXrdrx6SvAUoRpFAnCucA1AwGWBUCCCEDLefJjb4fxpinZSVAxhhjzFksl6p7bZEaQBAqwCvoCPw3H1684+Env3O8fXgxzrWiPrjguWFN6uG89yBVp5FTm1r4itlzJh0unNuhy2fomp29l1xz0ZWTUFVoJACkUIYoHEMB9VCU6iNyyEiK7FFv9C0xxjwN6wEwxhhjzm4C1SwudBSuBR8e6hNPHv+nA4N7Hnvy/hOyVM3kug+fagw9lrxMC5RIHHKbc8opE5SZtA4pheHc3tD8x0vPe9nley+YdLMd5JjIMXHVQhhMBFcq/xUQJC0DEAAVl0fQBsESAGM2O+sBMMYYY85i5SkuQASezLjnMG6778jdDx88kHSUkOsudyfblFI7ZESHNmgfRBmiqmAmOOcCkXMJ20M61y3ecN7EK667eG8fAYhtO0/VwggnWjk4v7g4GhN8jjGAXSeMmhau2jYztXvC7a6wJyCwwPMG3xFjzNOxBMAYY4w5i8XYcKgHEXc/fuxL9x/76qH4eJxc5EnHQ8nRaYSmnLMLAT60ouIaMGdNIgiuqqjSFmnU7q7rS2f99Xv9f7pq53kTQIoJTtn/3Z2DBw4eenR+6fAwjSiw66aEXqiHfrHNAnJd5h2aLuvzyy8570WXT9Zho++IMebpWAmQMcYYswGigBkM5Db68jSWFswgDyIFt0okVAEQIOFYBxMEnwcODRigKqF3cH7xSJp+5Njgm08s3nV46cBQx1rBp+BOjJOLsa0YdfBQSalxpA6YHQ6X1LfdmcZXTc4hj7ej2TZJ//vFdP7eyX6/u3OCISO4OJenPvVt/fNvH8uZc+4LCwBSwGEuj30McL4BlhwtqHv4yPwjOPKdqcn/7TxMiiANWz8RCR2CQ4rKgaxnwJjNwhIAY4wxZgMwUCJi8kHLKw4AqAU8iFERxEmGsAMFnc2OGCoOfrYlPHQ8H1zMjx5t/+e371hMbi66eQktV2AiSZJzzS64zEykygwXanIhpXS8mgh1l5PUS3N9bS6d7rzw4nOu2Df7vEnMTqLNIADkoOnRg/P/cs+hnCsREZGTSwZUldllVVFVJUBdokcPH5c7Hnhp54Krdno4doxcrlE0sEX/xmwilgAYY4wxG8CxAKwAGBkQQAACXAUCHECaHUUgA1kBQldaPrCowxqPLOK2b8/ff2jxwImlE92JBI7s1VfM7DX6HEmi5nGogvdVyqqKmAFNMcZBNTmZtVo6dvl0/cLzdj9vV/+qfdt29pEUFQAqCQCDunPt4MBizM6tJgBEtHr+IlkAR5xBwo7qicWmueuJY/cfqC7aua/rlhcFJgWSwK+kO8aYTcASAGOMMWYjqAKZALcSVasSEQ0RHaAiLhP5DoAkmFtYHHfDdx6du+P+AwdG4cCInzjRatUNEzub0CRVUSIlhhApKzl1LVEUGkcReKVARAx1zBPN4p5eOH8m/Ojzzrvx6plpApAgScSRIydMzKo0VBwZxHmtS+hfmv+JqOQAqppzFgY7r8RZhHyXfSeN6iNLwwjqglFifhXYYENjNhlLAIwxxpiNQAQIACBBBSpECkGHIlMHXC+OeDDGvOCBg/Hex4/e0xyaW2wODWL0deR63EWgnPWEDAcAe/ZMjplJkVUE0GqqjTmBQwgVQcajkNtOoCv7+X+57NzLZurr9nWnCZAWTpUosEKFSQms6hYHowPHFxeEwRkrof9qAgDABZ9jAjJBYsyZVVydXJVoJd5XccRQgMhyAGM2FUsAjDHGmA0QYyQi5wlgKBF7AKrCcUIYj53A1x978jtHx48nevD48JGjc35mNmmn8V12wTG4Jpax5mbSOUCFkmhW4QyCshAhg9kFId+23A6m8/DCHb0rLjznByfkyktnpit4ASRFzYS6BbqI0ITs4cAM9lWTFVVFOi4nvJoALA8G8JWkRJK9950AFVFNIuJ8HwDAkAzHIIEjLZVFxpjNwRIAY4wxZgOE4BScwQkY8/JE/gtj/OPXjg6zPLE4ePDYwpE2t3Uv+57O7lERR+gSp5w4i3fK5MmzSICISMoiSqqO4JnZuXEDwOU84dO+KVy5febFl+56/sUzExnMUCBqy8yeugBcK7liz559pQIQmDmrgAn5u05bV4yjqvOOktPknIBJRRwLqycACuecAiABcUu2PrAxm4glAMYYY8wGyClm5wcRjxwdPHxk4egYh+ebg0eO3uH2Njk1khK6oUsV2MW22+aARonI+Zg1A5pdS47Iq/SYxHEmzuCkpAoSlSnOBJmqw1X7dv/H/bM/sAN7KLp4AmEiSQYFdT6BXEoeviYeInowiErDPUNIhRk5LQ8AWJ0FSFVFZJTabu2ZJcUhVJgC4ElIkgKAEiAghip4udTJGLNJWAJgjDHGrGEsyTMrlCAQcXBEjChN5QEwoApSsIJpucqdCFBAEjSDCKUaXhJE4WtwaASZMUx49Injtx/bdmI0OjJ//ODS4MmmXcgYKSJmOxjGGLu+Cs7HmDVlZqfscj3pSJrhInKqer2WOCNk8rPtUstoHEfHpFXdohu5SnrtjqMX7Z659vwdV+6e3NGFB6BBeYYAzyc9/ZfXIEANRg5gOJ+ADKlr6lNsV0f9AhCR8kdm7gdlZMmk1AOBnBORJCmSdgEwxuo7GkGc4LuiYCsCMmazsATAGGOMWYMqEZiRGQR2UAIYnuu0CCIQLU9sWda3EiXnc1YBsfMZPgOtAIRHY334SDwxGo9Sc3R+cGxhOD9qTiwsHodPglYoEjIH8lWHfCCuvXcgIs4qWQSM7BTg48M40amq7rSnRBBuBlXOvgqLmHGkFXI1WqriaFfAhdtn9k7PvOLa62e62NNHHyDEco6ZONh8nMZseZYAGGOMMWvw7LhMi68KsArDoRF0lge5QsFSWvwBARaAQyeGR+cHLarFiCPz48UmgfwDS+7I0blxTlR1B60M26yuAu3MPICDc0TkiIgUKlFFRo2qKjmm5Rk9WRlJ4rZuiBJHrQLiHBEq51LtXauso8VKhhdPu+dftvfac2cumu1Oed7WRWBABNqAEpiIgwI2Ib8xxhIAY4wxZg2+lPAoQ5GjaIdHwCNz8d6j7ahtRuO2ySkzlJ0QFHhyiKNzx+cWR4nCSPzxUR5H4dDp10lEhF0aNzEJhQrepZSrMEWqkhM0swCaSYUABgsTiLKqkoK01ZQlT6PRDOd66nvKTmIbx0MRvbh7YsdUuGzHOdees+3KvZ09fVRIQIvchWRoBinggCBwFv0bY2AJgDHGGLMuBUQBbpkPnMDdTy7d+eCjtz1ZN207bNpxisJQ50sCEKp+UkeYdiXE7ymDiKgZH6rrOoRAMYI0VMqchrkNQwcAIFUmzmBi74lIhYkgkkiFmEnFOSbnxqmbcvauzk1DsdnR5T0763N2bnv5rrhramrfts72GpUAgqykxHAgOIYjVCvXAlV78htj7GfAGGOMWUvO8GWpLo+WcdtDT95y18OPDmPT2ZtdRzpVVgU7JcqqoppFQlV5YsktYvJQgogkCZNjFU4ABZDEmInEE3cUxFBySpRLcC6i0DZldiBC7TyRptjmcfQhDGla03g6SJ+He6fiCy7ccc2+2cv2Teyi6ECQjEhgBiOzE7gyZQ9hudmfAWbUtiCXMcYSAGOMMWYdCiJ4yoTHjuNbhxceivXC1F5ulgAiR0xl7h9lgUKzRiRRqOZEEM/kPRPCgHoptTHl4ByRSo4KYeYBDZiYmQEWkTLNDhFxHViFIME5loyYgki/9ntxbHabv+7ivedPbDu/j8t2T005hUbNLYjBHg6QnDKBnWMKCpy8Am+paLKZeIwxlgAYY4wxayJHkjKzGzS4/c7773z4wPF67xy623kJUIgiK6sQQEQOTl0AkZBT11GgAUYiIhIoeoAIlGPwDMeas6RmMFlzGUGcE1QZ7JgdeSFqk3Bs2PvJ2k9MTM1OTe7bs/sl9SM7p/s/cMF0DdB45H2CeiCID6QAKUHIq4dCWygQCUREjOW1hkUkK7Jz/Y2+tcaYDWYJgDHGGLOGReQZp4jZddzh7tTcbNSou9IJcJVSUmTvHQCRrKrqtJKkgCpBWUAAOyLvXc4tEYkjwDciIkpU+7rvhjnmxIyq002chm0Dzr1emFmILo7Omar275k+r0ez1Fyyq7r8AmS9oNKI8XG4gGpiidAIBsMIKDMTUVmfC4D3wXuersBJggdShATisDILkDFmq7MEwBhjjFlDDw65QVaCo+GSXxpU9UymUI3HFQjEEjOJEJFjJpExu9UZdhhKKlAQnzVxuAAAIABJREFUCWlmAikRABI4kESNOmTf9aik7Y0GPZJtnme6nX6VL7m6Pz2x/fzdsxfuwARAET43TqV0EqCaXoj8L48uPngizo+bpfkTJxJKAiAiZaEu771z7tq9k1M1Xblvx55+XQOQCCJSXl64wBizhVkCYIwxxqyhEoCc1sLAuRWdq/LQOM13glPAMYNEtUTbWVViGndnSYXLkgEqTssg4NyGKQZJjjmOA7lO7XzlNOUL4ontU/29U9N7euHCbROX7p46dxq9gOFo2K3qEEq5viAIAgPZS1YKT2b8z0dGt9x56LEBNULNuG24u5IAkCoDcI6d4385eGhb0B+cl1c8b9dFPVRosRz91xt8Z40xG80SAGOMMWYtDdDxmVoGXnzJuaPYHT9yfH44jL1eUgCg2nviCJGcE0MQGKKSVZVVGeKhDNSj43UdKq/MqV/x7FRnstth6H+56NKpSUz2UDM6Dp0AB5Ecp7s1yEHR5pgE7B0xA6hptCThtkcWP/udI7cdHuZ6xgXvejUja1mZWBWqAJRZmB9vZp5YmG/uO1K5NPW83XuCJ0bTSG3xvzFbniUAxhhjzFoYAEY59hxfsqvqTu4Zhs7w24+cEJ9SUlXPJCI5td65yW43H33AEdWOe7Wb6FSTdeh2qjrUL9nbn56enO53gkOHcr9bdTyRypSCVx/CJIAoBCytOCYQgX2oAFk9H3Ujwd0Hj99/bClVdafrJTUdRhsbEC0X95cEQEiIfG9WvT4xOPaNhw6/6JKd2+uagWzRvzHGEgBjjDFmbR4K7bgOQ4jSzp5/5Q/MOBnfd+iEKqqq7lReRFTr7bOze/bMnlftKx/yjNq72rsq+MCY1NFEv+sJBIECaKAKaPKUS5wPBxCUST0pggNUVbJjAKVRXwHkSCPG48eWFqJUNbMM0Qw4cEJYndtzde5/qObFo6E7qfXEgfmjx5aizASr/TfGFJYAGGOMMWtxKQt5cgRp24VQ9S+eqF9/9Z74A3tU4QgA2jZJThMTnak++mXBXQAAKQMgAoCEbllPTJUVladqpbq/KQ39CqbS3SAAg9CAQGWorhJQansY5JqIJ08MowYlxBg9+6RB2Z882T8ABVS1wgCqFCbml44uLI419ZCa2tf25DfG2M+AMcYYs4YEZXZl8SxfEWFQKfZN1BpaVaXlVcAAyaAhQFAPouVVdwkKiEIVXuNydT5zKe6HElQq1KDltboSQQjiIYDT5KkCnIBBIEAIqqgJscHSOFI1ob6OSbjqDiLVaFcXEStnrqqq2qvC8aaVqkIjMWvXr1yWPfqN2fLsV8AYY4xZg0cASpt6YGxbfh1ASYlrKBQAR2KFMkZAt1n5KAGQsqwvEYSBBrlF6CcEAWSQOrVXf9LeKVWeAaQYfVheqMudfDYEqAShprtDU3JxLC5MphPHabZE/wBWXwAgojl2fUkJzajXUdQCZS82CMAYA0sAjDHGmNPjXGn6J0KG5CyV66DjVTAaYWmYvXculOG4IIfFgJprZcQGo4xdPUz2PcYD+L4ImAGAmVeO7db7WmOM+X6xBMAYY4w5bVngHEiJXW8IPzfGrUdx+PDCiRMn2Lvg65RSFHXOtYrAKXDOOZPiRZeff/U09oQyUldFyHFJAAQAsY3UNcY86ywBMMYYY06DSGbnRcrcPS7BPdbgi9964iOPx8Fg0MTWuUDO5ZxVyQXfHQtSQ6zsHGJ8YqE9esHky/fv3X1S1b4xxpxJlgAYY4wxp4GdywCRghSZBoRb73nyU998eEG3MbsaE5qBDKIaAFqMHcBeAdftj0fNvxxZSilN7d77yl0o63ctUy1ji2FJgTHmWWZdjcYYY8xpUEAhmSJUVOnwMbn93ifub3zPh54PFZPLmQUV4EWkjSm1RJoltikn3xlw/8GF/NXHB23bluj/5MG7xhhzBlgPgDHGGHMasmRlIgYUzDRK+vh800zuWcpLmklVxcExsSeAJcBl8iwS29wsOq699+MGDx+aG10yVdcV0fKsncxWD2SMOUMsATDGGGNOQ86Z2DEYksDeB15K1IbuNrQ5Z2Ii51U1tgKIdy6xyzlWrBS0SbHLFEhGS4OmqUXUOVqu/AFgKYAx5oywBMAYY4w5DS70HAaU+sl7hyg5LNZ+ejgfWVaW9UoAuJT3SBIeE4JIXyJLwCBHCWFBqydzd9aRR3KMJE7KI1kTyKpzjTHPLvuVMcYYY4wxZguxBMAYY4wxxpgtxBIAY4wxxhhjthBLAIwxxhhjjNlCLAEwxhhjjDFmC7EEwBhjjDHGmC3EEgBjjDHGGGO2EEsAjDHGGGOM2UIsATDGGGOMMWYLsQTAGGOMMcaYLcQSAGOMMcYYY7YQSwCMMcYYY4zZQiwBMMYYY4wxZguxBMAYY4wxxpgtxBIAY4wxxhhjthBLAIwxxhhjjNlCLAEwxhhjjDFmC7EEwBhjjDHGmC3EEgBjjDHGGGO2EEsAjDHGGGOM2UIsATDGGGOMMWYLsQTAGGOMMcaYLcQSAGOMMcYYY7YQSwCMMcaY0+AUGQyHBFDWSpRFIuV19+dqHJN4n4NrIZmEJHuo6kAEEA8lckkgCkD8ul8sFAPV8Zj3leZuV/wST4pP6+1eR6/OtwxWTk2OoASGrH9dAAjIABjgKBAOTab19iciVVVVImJmESmvlYYrOwA5QB2QgHWPY4w58ywBMMYYY/6tiBjEzI5P9TxlZgZUZPk1c/kUlahY9Rl9lyozvPeqmnMEQERYP6JXkqyiqsH5ynsAcorwHxAoAKyciyOQaAjrJyTr4DVvhcX/xmwmlgAYY4wxp+epaJaICEREtH6EK1p2UFVSOGICSmP5yR/SEnqfIlAuH/dU2tqhmQB+mtxBNGdP7IiXv+LUgbgABCmJCiA51u6044TVBIBWTvt0j2CMebZZAmCMMcachpW4FgRASyguun6YKyIl0i/7qKqI5JxVS5dAqZV5BhgxQlNGTo55OaNY/7MZysykiixIkSCnfuRrCQkIIAEEqpJblfYZndtJRL67n0FVYTmAMZuLJQDGGGPM6Xnq2amqWURE87rVNaTqQAxyIAdSEYnJLacPZQ8CQE9bJUOUo4okVfXekQpyolOWADGDVCgnykJP3/7PYIDAxNDMKhWTtP+WBEBOVWpkjNl4lgAYY4wxp2OlOZsA6NPV/5yk7Fk6BOq69t4/w6b/le8VIu3UNROeyTdqqU0COi50fMUQQE6RAnxXK72qdzQzNUEaT+cUgZUSIF1NAoisB8CYzcYSAGOMMeb0PBVFMwdHlfeVW3ewLDOTQrOQLs+c472fmpzsdDqOAQVEsDoG4JS6XZ6envbeQxIAYqiu3wPAEBEHmpmamJ7scTnr9R/7AgZBlmczkk7FO7fPdqrwtGf1PTqdzvcMA376zg1jzJllCYAxxhhzOvS7gnVmOOe8Xz8BwFMDAMqwXe99v9+v63r5eCsJwNPkAKq9DqamJpk550yay3jiU8iSiHSyPzHZBxGdehag5Y/k5bmAnMP0jKur054FqFwXES1fzOl1cxhjzgRLAIwxxpg1pZVNIBk5lSKasUNCDxwrNIl9Zzv+z+svuGLxwSprBaqd896T48TcEo2ZAkSCNj3Wng9psH3w5LU8eGlvPEHaJhk7xFBleIZPoDGjwdobaLAb+M/7ui/oNf00GIPH3BOeEO81BA1BvM/OJebyjo9TPGiv0vkfOSdNTSCDa5lUXf/4gBJCTcheaHII7PJ43Y7hdD4xgSXvGgkqlQM5n7mbEOoGVYpOpXLBSRgdvdAdf+2VM//rpdMkUAoVoB7K7BHUsgBjNpPTzuyNMcaYLUKhqsrEYEImzQlAhz1yC8qAeHazzl9/0ZSPV33wrjbGOB41UUGOnQ/OMRG1icZNjk3uVTTdmbxwurf//F2X7Z/q85iZaY2WuHX6AXhSCJdcNPWD6ep87+MPzw2GMmxFEwUsL8uFUp3EYCLq8oG9e/wLL9z9vCv3zEwgQzKLAvU6xxchkgwGwCzcY3fxLKprL/1WHswNRgeWBieaHInIBQ2cVeJQfN3x5KlNdU47+lM37D/vh26YCZq+9yLKYGc+7WoiY8yzhE4xc5kxxhizhSWFSoZjLuvkPkUySKGSFeqrBMy3+IcH28XFxbnjxwejcVIBuSg55azVZM7ZEWYnO/umOxdNu0t39fdNd6sUQbS8FctP5HUKdRQgTuyOZ9zz+OKjxxbnRu3CsDkxiN8zELksNbb/3G27JzqX75w8bwpegBQBRaiwzrjexAGp9Y4hipTU19lxBu6fw5HF/MjR4wcXlhZjTqSsAtWg3RhjjmmmX1+ya+a8qXDRbHfvDBNk+UK+J8BYf5iEMeYMswTAGGOMWZMAgCrou6P/EtwSBGgTvF9uw09AmzAatSkrHDM7Uc05I1SqYEW3Qtej0pHXEThm3o3TWSbLK5BaOAITiAeZFxOW2jjBjOVVgZfXFytrDPuALqFWIJdxxgwPMNI6x28JBATAKySrQMlzBqokYE6KpYyRAAAzPIMEIkgJXY/pGpCEOABS6mxfnt30e87/mV6oMeZZZwmAMcYYswaNLQUPZdDyVD0ZCqASLYNklaACpgwkqIC6WGm9L83x5TVnKVPsE6DL7yeFeK1O63zGBF/SgBLDk28BAU4urFFAFWVocELroQ4lhyGFi/ANdHKdevyWACAApACk1DghRxEmVxF7BaBQAQGkSByJgwJZlRSk2UGZCWShvjGbnSUAxhhjzFpUsLI4rii0pAFAlVtAQQwiQIAMZEhWqYkZzFCCKsAo02HmAVTgPNgrIAjlueu1WeeL156fI2XnHSAN4ggOEEAJde97y5OeOv8BiKCMLGWuIlW0OdWus+buog1zAMr5lwQgAwIKAEkmpgpKgEAFpHAtwABlEOByyU2AWsZPFTWJlPQDROC1v9cYc+ZZAmCMMcasRZarWEShvBz9N1nYMQB66v8DQAbqldflzdUo3iuSaHakQAS4FMNk5HXi9vWEMouoCJOCFGABqVBcnuF/ufkfABOoxOYAK3IGAPLLl7BeCRCvXLSubA7glU0BUtBKFgQgCfzKRerKfEkAajx1PqLLJ4OT7o8xZsNZP50xxhizlpxLtT0zMtBkPTp3bG5u7uuL047BkkQTEcEHgUsg5IaIGK4E5CQkIhCtO5PDOFQPFyApV4JavI+yGGIp3P+eZX3Xa5ejMDkej53zrgqxzSLiQiUiXhZWBwGfNAaAFpUIjkGOSDWLtopWNfd07Zb4Lqc2SpTArgvHOUfo2DlGm7wL3ncU3GputIkug3VCt8d2jNQGp45LfRCEiEXKCahqWfWs1+t1Op0bL7BZgIzZLCwBMMYYY9biKRGcZorOMe4a0l9+S77xIB+TY6d5oOPfpxM68X06zvjpdph/ZsdZWvNdkkxETCQipHDOdaulqqqWRuf9h/2YBpwsgB1Qq3rCvxosbIx59lkCYIwxxqxBMpGLpApy33h48VMPHvnGo8eXYl33eht9aptazpGIWEEiqqpAIylF/eTtd8d8wXU75dJdPUhuk4RQSos2+oyN2XosATDGGGPWwI5AhNTA1bc+8OQXHj5+hKvZyW6TN/rMNjnvdDmwZ2RRVVGVlO5YHLdfu294Qb175srJ4KtSECQZfJqDIYwx/26WABhjjDFrSOUZyZQIx7Q7mNjlgmuapbTeKFoDAMhOiUgURESOy2Qjqqp7LpyXuaGrXAUocoQLWJ4oyRhzZlkCYIwxxqxB5akJNpkZQBSRZtz13Y08rU0vQ1UVujwi2a0MdFZVIWB5ITXkLC5Y9G/MxrAEwBhjjFkDOygcwWnEnh6mmhMj+InOZM5WA3QqDmWaVFVVElWoAxERjj2xZ0+9rRbNgIOvGATJwlYCZMwZZwmAMcYYs4YcEZ10XDcA/+Gy3XfPzX350JB9P0q70ae2qTliZuayarAKVInARJd35T9fe/GLzgt9lwBtRD1XwVv0b8wGsATAGGOMWUMVMIbPgEu4ZCeu2jV579HRiUjsrXDlVDQJgZxzqsqK0gPgyF0x07lyT9hWKzAEXAg1gCxwdjuNOeNsJWBjjDFmLRoBAvkItIpBxGMHjn/73vs/uzi15u7OWWM2AGRNnp2klhQeaMfNrtntV199weu3LVRVVdf19yx8Zow58ywBMMYYY9aSWzCDfAYyIIAA44RZC19PaVQGAQAeYIVkkIIdYo7OOV6Z9kdEAKyuYWyMOZMsATDGGGPWJFgOZdG0yXtf/uQwXGd/C2QBYAzHIIIC2YMJZRmAFML0ybuthh+WABhz5lkCYIwxxqyhPB0JAASqkFzeS67eyNPa9NzqjRPkCF+t3EoGVuJ+C/qN2ViWABhjjDFrUJSwP5UGbUABAQBap9bfnqeFBmQFEwDkCFV4DxEELyKqysyWABizsSwBMMYYY9aw2pCtqgTRFFWVvctcbfCZbW4JyE8toQaBEghA5181/6uqiNjgaWPOPEsAjDHGmDWICDPrd70DZlBa5wP2OC0YEpGB5cCesTzu9181+qtq6RA4s+dnjLEEwBhjjFlLSQCyIKXkKo9SFAQw1ssADAB4FdBqaCEAFAKA0N+4kzLGfBdLAIwxxhhjjNlCrN/NGGOMMcaYLcQSAGOMMcYYY7YQSwCMMcYYY4zZQiwBMMYYY4wxZguxBMAYY4wxxpgtxBIAY4wxxhhjthBLAIwxxhhjjNlCLAEwxhizuahqzhlAjHH1zfIOgLZtn/YIIlJexBjLcjdrHurkNze/ciE553La5RpXr3T1dUrPaJ2ypmnKMUVkdUWg1XtbDnLywY0xzyWWABhjjNksSgBKRM654XAYQliNRFeDUSLCKcNcESnHyTmHEMr+IQQAo9EIADOX7wohnEWrYRKRqjJzCKFpGmZu27ZcC1bWLR6NRt77Ux9nOBwCqOt6YWEhxsjMRJRzVtWqqpaWlgB478v/erYvyhizIezftjHGmM3COZdSKsF9VVVYSQlSSiWCX23OP0WYy8x1XZejlZ1L8pBz7na7IlLi3XL8s8t4PCaipaWluq7H43FVVaudGKVbo1zUqTsBer1eafifmpqqqqrkS845VVXViYkJEUkplcRptbfEGPNcYgmAMcaYzcI5571nZlUtIX6v18NK+30Jf1e7BU6BiMbjMVY6AZhZREo+cPLrtm1LmHu2qOs6pTQxMYGVe7KaCIUQYozlup62W0NVS+aQUmLmqqpKZ8Jq0O+9L0d+hgVFxpiziyUAxhhjNhERyTmXCvWDBw/ipCb8TqeTUooxdrvdUsyzphL+djodrDRgz8/Pl7h/tfC9HPPkFvTNr23blFIpzkkpOedKbwaAnPNgMAghjEYjESm5wXpKA39d1ydX/Jeug/F4nHMuxyz3qvSlGGOeYywBMMYYsymUNvtS416K0d/ylrcQ0cTERFVVRFTXdV3Xr3rVq9q27Xa76x2HiNq2bdu21Pl8+ctfvuKKK8pxOp0OEXnv+/3+xz72sdI/cAYv8d+lqirn3IkTJ37mZ36mjG3w3hNR6RX5yZ/8SREp/SdYuZlrKk3+X/va12ZnZ0MI/X6/HI2IJicnP/3pT5dyoNLbYCVAxjwnWQJgjDFmUyht9k3TLC4uMvPExMQb3/hG7/3qyGAAInLbbbd95jOfOfWhnHMlZ1DVD3/4w0eOHAEwGo3KVzDzD/3QD73yla8sjejP+oV9nzRN45ybmZl5wxveUEJ/VS1FU6r6pS996fOf//xqPlOudD0xxr/6q78aDAbe+9UxwSGEl7/85TfeeCMRlTe996WmyBjzHENn0QQIxhhjntvKVDbl9Xg87nQ6v/iLv/hnf/ZnALz3KaVerzccDl/zmtd87GMfW2+OGlUt2YKqPvbYYxdccMHqRDcA6rpumuaOO+64/vrrm6Y5u0pcRqNR6foot6XU/WPlol75yleupkY55/Vi95TSoUOHzjvvPKyMHCj1UQC+8pWvvPCFL1xYWJiamio3ZzgclmEYxpjnks3XAyCaY4ICihizZCiQBSoJmpc3yHNnU0DRjmN5AcHyC2OM2XpKTL9axD8ej3/v936vvJ9zZubSMv3pT3/685//fPnIv65RKR8vA3x///d/H4BzruzGzE3TvP3tb7/uuutEpK7rs6vEpYyCUNXf/u3fxknz9Jehuv/4j//4qU99qrxTov/VIbylF6XM8+O9f/e73w1gYmIixhhCKMd517vetX//fqz0HpS/i1OUWhljzl6bLgEQEee9iogiBEcOAFSRBSBXtpRkPG5zVoDP9k0UIFSdAEJMOYmALP43xmxpq0tT1XW9bdu297znPeWd1SZtEXn3u99dBrOeHOmW5nBmLqNaH3744Q9/+MNYSRJKY//27dt/9Vd/tZS5l+kvN+gqT1vp2SjFP7t27fqjP/qjnHMJ1lenTP3Qhz6UUlodIb2aUJUdygDfBx988E//9E+dc0tLS51Op9y0bdu2/fzP//zk5CRW5hcqnz27ZkkyxjxDmy4BWG25KV27CwtDAEQg75uMYZszQN6HTgfOtYKMs3tTxqBpy2sOjjwP2yj2e2uM2XpWS1JXa3uIqNPp/NIv/dL09DQRlVDVOUdE//RP//S5z33Oe1+C+9VVcgGUqXJU9T3veU9KqdPplHk/m6YRkZtvvnnfvn2lQuYsiv4BENFqauSc+9mf/dlt27aVwb6j0aiE+J/85Cc/97nPfU+zfflIyQpE5A//8A9Xj7M6s+pb3/rWffv2iUh5B7YCgDHPaZtvDIBiMBz0+30AKatzlBRMmDux9IUvfOHv//7v77333rIETHlCnEXjt9Y0Gi/t3Lnzda973fOf//yrr766W9dtStXTLuRojDHPOeV5tNrkfPIf3/ve977jHe8ozfblZ997/8M//MO33HJLGdq7GrOWcb3MfOedd77sZS8r69pi5WHxghe84Itf/OJqfHyKQvnNSVVX10TLOb///e+/6aabSoFTWR5BVW+88cbPfe5zpban/Ld8tuRF99133/79+51zZSHhUhF0xRVXfOMb3yj1UavTp5aBEyePyjDGPGdsvgQAQPmlJlYFGPMLg49//OO/87vvOnLkSDMYAEAJj58Tq5O4js9NA2D77t2vfvWrf+7nfu6lL3lJm1LPUgBjzNZTalRWC1dK9FnWpbrwwgsff/zxEpiWFv2c81/8xV/81E/9VAltyxHKp5xzv/Zrv/b+979/9chlDPFHP/rRN7zhDat7ll6Fs2Um0NXLXL0tzLx///4HH3xQVUuDfbnMj3zkIz/90z998kfKiOrxePyWt7zlAx/4QJlBCMD09PT8/PzHPvaxH/uxH1s98skFVyffW2PMc8amSwCapqnqOktOUUIdUsZ/+8hHfv3Xf30wP192IO8BaIn+mXGW9wAAUnW77Uq95o/86I/+zd/8zeRE/2xqkjLGmO+TnHMJ909udS6R+oc+9KFf+IVfAFBW7yoPryuvvPLuu+9eDeJLHExEt9xyyxve8IbxeOyc63Q6g8EAwKtf/epPfvKTpcSlfEVZMPjUM2ZuHqv9FW3bltb9qqo++MEP/sqv/EpJh0r0D2D//v133XVXWVCZiMqb3vuPf/zjr3/965mZmcvH27Z9zWte84lPfKIcc/WLyj4beLHGmGeVe9e73rXR5/Bd2LvFxcVup9ukFLx/9PEn3vzmNx949FHvoJqhAkmQVKbQIQh0o6fx+fduRApmLpWsjzz00KUXX3L986/b6L8HY4zZAGU5qpNflNdzc3MvfelLb7vttvvvv3+1fr2qqsOHD59zzjnXX3992b+0WzPzm970pu985ztVVeWcywQ4VVV99KMf3bVrV1lorETAp15QbLMp51yGQJTsBcALXvCCf/7nf37ooYfKDiLS7XYPHTp0wQUXXHvttasDeZ1z8/Pz73nPe771rW+VTpLVAqG/+7u/W10irSgHjzGe/LdgjHku2XT5PYGmJqeatul2agU+/OEP3/3Nb8J7aGZSAghggnfkGFBlwlm91aHKKTEotm1wXnL+zKf/Hmd7r4YxxvyblFC1tHOvdlCLyOzsbM755ptvLu+XCLVt206n8973vrf8sbwP4LOf/ew//MM/lB1WI+A3v/nNV1999ephB4NBVVXdbvfsGkhWGunLOZdLY+Z3vvOdZQRwGR4wGo3quv7d3/3d1Sb8nLOqfvnLX/7rv/7rEEK5w2VE9dve9rYrr7yy3Iey22rvSkmlNupKjTHPqk33b7us3dKpaggc8Hd/+7e+rpFz4jp71OhOA8I7U6U9mWCwOKy51QqnUA2CnlBPqKMaWEkI4iCVkyqIJ2EowzE8wIAqRFngBV4AVXQVAgizEBxQE5Qgrl7ve9fb1K+9NTkrISGx06ytQv751i/mTffXYowxZ9TJbc9lWk/n3Cte8Yo3vvGNZWRq2aFpmoceeujP//zPsTJJTkrpD/7gD7AygX0JYbdt2/b2t7+9HK1kF2WqCZw049BZZLUov9yEG2+88Sd+4iew0gMAoGmagwcPfuADHyi7Oefatn3f+95X7mSp8AGwZ8+em266CSul/6VvIYRQ7vzZeGeMMc/QZvznffKwhPJTBdU6jn1AQCMAdARBRM5gpP6aWwQSoBSBFtpCx0BUKAmQgEbRKrKHdlX7UftROasHPOCgBCWoB3wDAB7aBfoR9UhrxQR0Yr3vXW/TuPbGnqGQXFpeAKYYo2yucRnGGLPBSo27iPzO7/xOqfMphUDlefG+971vPB6XuPYrX/nKl770pRDCcDgsNTMA3vnOd87Ozm70RTyLfvM3f5OIJiYmyjiBTqeTc/6TP/mTsm4aEd16661f+MIXSuVPKe9xzv3yL//y9PQ0bMZPY7aeTZcAnBz956wpJS1zPAPISOgkADSGQwRQBbjxmlvioFyBOmAP8qBQJpMLQAfoQ/qaehJrGXkZsyYHlEb5LuIEYh+xgxQAIHRUejLoyKDSxmtTy1IvH1vve9czSBOsAAAgAElEQVTdeLTmprFZXg+YAGYAKbfIZ1OXtDHGPKtKe39pkL7qqqtuvvnmEuaWepher3fvvff+7d/+bWm3/uAHP7i6vFdpDn/e8573pje9qYwEeE4iomuuuebNb37zwsICgJIpAbjzzjs/8pGPAFDVv/zLvywFQmXqTyK65JJLfuu3fqvc1TIeYGOvwhhzJm26WYCwOg2ZQkQv23/lww88AABEcBlpFjogHnUItWJJsN5sORmEUlAEdQBhec8lNwXN0IY0OUABBSk7hQM8CNAWEglQCuAakqGjCgBQfh0roAaa07yo9e6yAApwcDFluICc+xO9xYVFG3VljDFFCVjL69FoRET79u07fvz4aik8Mz//+c+/9dZbH3jggRe/+MXz8/Nlysu6rpum+fjHP/7a1762bdtSKP+c1Lbt4uLi5Zdfvri4eHIof8MNN9x222333HPPDTfcUNb9HY/HZfKfT33qU6961atgE30asyVtxn/zK1NAfPcK5FUHaQRKQfONV+CKHej39gyapcqt/YMeybGCkBlCCpAAgDJYM4KiFgIRsQpBSNTrUsshcuXV1QJCbqgeu34/LRK6DMlwESGTIyir+HVTj7Wtl2j93//f8cURAAG4DEMAQMt/NMYYgzLAtzRgO+eqqvqN3/iNd77znQCmpqYWFhaqqrr99ts/+9nP3nLLLfPz8wCapikjBF73ute99rWvbZqmruuNvo5nkfd++/btb3vb2972trdhZTUAAF//+tc/85nPfOITn1haWmLm8Xhc1v/68R//8Ve96lXD4bDX69k8P8ZsQZuxB6A09iigiksu3//wAw+AiCQ6IIHPD/rf/6/dPzA7E7mLPOawtOZBMmpWIeTywyZwmXwm3tUebqg3pIkhdx20q6N+XvB5CB4LzZzgKQBdGXtKY6qHNDGNwQihhffQGmMPaeEbrSu39veerh/54+aeB44MBEoeRAAmJjqL83ObMzczxpgzb3Ux2vJ0GI1GS0tLL33pS++7777SmF12e9nLXnb33XfPzc2VhCGEkHP++te/fvXVV5fRsc/VUa3l0sbjcdu211133UMPPVQGB5cekhtuuOGuu+5qmmZ11ERd19/85jf37dvX6/XKMggn97EYY7aCzRhllkUcy+vVnyQHeCCRpIirzgkTcb6NC8hjL5NrHoR4jrTU10DJtVxFqhOF/1G/fol6izQBctsxf4k8dLE+sE2HX+38p4PYcZB3N6i61HQQG6oG2unz4lB7IDkvH7gm37NPDnS1EfaTzffnQbJ9ZopxhIEMAAzadPmYMcZsrJNj9xhjt9vtdrs33XTTW9/61sFg0Ol0mqYB8MUvfhErM+GUca7veMc7rrnmmvLB52r0j5XpjzqdTqfTuemmm97xjncMBoNS7h9CuOOOO8pTVUTKGmo333zzpZdeWtYSLougjUajXq+30ddhjDlzNmMPQJnuDURP9QAA8AFxhM7MxHh03x/v3r44bHozLGm90/epzyoEVUJC3bi6oV7L1f8x9Z6hVA3CFAZXyv0vy7e/rP3S+em+35j640ex52HaN6Ruj9su2gg/0LpP80N0pmXhRekrr28+/ZL4FadLoM6Avj+/lT/53/kLtz84BrLvAAyJExOdxfljwNmxNL0xxpwZpVS9tFWXQcDXXnvt3XffnVJaDfoBlDmCcs579uy58847d+zY0TRNVVXP7RbucnPKf6+77ro777yzNP+X0b3l2p1zKaWZmZl77713586dJ5f+P7cHSBhj/rXN2CLivf+uX+rSbJNHHozmxIh0MmatJkQbH4UVrHCqTrOX7DVWEitpss6nKnt3fIHaI3U1gccfofAL07/nNJ6odszVe8/BwZ8a/befGv0/S+D/2nvz7XzRt6sLFzpTwY2hw3lFRDOrBx6X/5+9M4+WqjoT/benc05NdwQUFHBAFBM1kUTTaZOoKGryNElnxTgPERBwiKJR0w5xGTROqKBikJZoomnbji+JIqI4uxL78ZKXOCs4YRwYLtyhhjPt4f3xUTvlpUAh3KFg/9ZZd9WtOrXPUFV7f/PX1kxKR+pnzwjvOajyJFVxNxuxjg+jYLbKllUlBaCooDphsgLGaB7AZiYYOBwOxzYMyrIo4OLqgGE/N954I9avxB1sIzB88tJLL0Wrtm2au8VHx3j6rW4vwwHxbG1J0y2Dc56mKV7+rFmzcChb2wcHx6u47LLLsCKq7YAmpcSWyf/s9TgcjsZhMCoAm836sBkKAGCoJqAJDb32WOkQgnZYMzp67Xl+wJ2Fqd2kaQ1pjcH7fPrSSeF/fiVd+i7b9aHg6Ce9r3WzoVlVaklWA4AhtFn3UK3+zkfvylYfEj17WOnRHdWabm9YFx9KddyUdgzk9TocDsf2BAa4Q00DLMzoPeSQQw4//PBq3QgCALbF1W677TZ16lSMccfoly3u+ItVhgAAe+XaSPp/Hnvm+K8dfHPPUGsdx7EQAqN6DjrooIkTJwIAqgS1jc/GjRs3Y8YMxhg2QsYGNLiDjbx1OBzbAw2vABAwNmzeEGoIGKAGaKtcHZgIwHSynZ7JHvW7zHf+wvZeY1oimjsgemFqce6R0WPr+LDfBt992D/iLbFHygIC2tchNzEQpinnoAJdPDJ9+lvhIwdEL7ToroRlFaHCxNzIAb1oh8Ph2I4wxljRHw3VKOlyzvfee2+UmLE6EFQN24wxlNqDIEAPwJbZ16WUWmtUP1CYxtG2Cjg4disjhGAj3i1wVlBKUSPCWH/f98eNG2cDojA4qlwuA0BXVxchJEkS1AfQo4KeAYfDsV3R8AoAwD+MOoaAIdQAM8AUmEB/pCn/r+Dfbsmd9TfxBQ4ajPyK/uu5xTnfKv3n+2LkrMJ593rfW2NahpCerOxOiR+xHNUqNLybte5A1n03fvjfyg+M1e8A9zXlBdnVLNcxo8usaQAv2OFwOLYrtNaoAFhzNT5YtmzZ7NmzMc5HSonhLij4fvDBB1deeaUdAcXrzT0u+hMopXgIHHmLPQkbYn0L2J0Xcxu2TFFB1wGlNAzDZcuW3XXXXcYYz/PwRuGYmUxm5cqVM2fOtJoSqg3YT20rXpfD4Rj8NLwCQAwQowHAEABDNDBFqCK00x8JJvN/2fjHvMPekcNWQovm2W/IP53fc/O/pH8qiZG/zpz0v73/tY62N5seT1WEihikGkiZ5kKSbdFdByUvnB7+57joJUpUh7dDCixQPdSYhGVN4983h8PhaBRQdldKWREcZeWf/vSnxphKpRIEAeYHo8iLcvC8efOwWVgcx1smVaO9HyXjSqUCn6xH9M+Dg6P5H7WX3ilwnw1Mg0Y3he/7V155ZbFYtAVS8e55nheGoTHmpptu6urqwnAmAEDPgE2fcDgc2wmDsQzo5kE0GIqNtDShBqgmAIZmVOl32eMeDr61mg5JaC4lmS9Ez0+Pf7lP5am3s1+9L3vCInFwoMo7QVcKdKVub2JxTvVIIso8v4Nec2j05JHxY2PMMkM9DYJoxXSqIOjhrYaSVtkVUVcwweFwOPoPFGSxdxUAPP300/fff38+ny+VSpiniyKv7/so+K5evfqaa6654YYbOOcYL7QFB8XQfOsEWLx4MQBsrYI5GI3T1tZ24IEHWt3Gujs+O5xzvC1a60cfffTBBx8EgCRJCCG+72NHZJtvUCqVrrnmmuuvvx4lfuvc2Ib7JDgcjg1peAWAGtBEA1AwxBDQBAxQIPQ1NfK/Csf9je/dZEqBJz4fvfj90n3j9Z/f9sb/V+Z7C4MjisobKldxpku0BYwm1JRNDgB2le/9a/rHbyWL91BvGRr0iGau44yOASDiOUMJB51QV6PT4XA4+gks+gnVNFwA+PDDD2+55ZZMJlMqlaCaGNDe3r5u3TrsCYDccsstxx133Pjx41GO39woIBTHMUIGAIrF4vHHH9/T07O1rgsAfN+fOHHi/fffzxjjnG+ZCI5V/Mvlsu/7t956K9b7T5LEGBNF0ejRo1esWAEAQRBEUZSm6ezZs4899tgvfelLKPSHYZjJZAZhTXCHw9F3bAPqvqa1s5ahANQAmZebvIa0MiAVkh0Xv/z96Pf7wvKQFOY3TfsfPj6VOmMqJVpYASNiYKNhVd5Ea8XwIm3eK3756HDhF+WrnECHaVGUZ0wYmCRhWQPQKrt8HXbzoQN2uQ6Hw7GdgYJ7HMeU0kKhoJR6/vnnH3nkkTAMMSVXKTV06NAlS5bEcYyptNaIfumll2Ls0BbkANj6oWEYAkChUOjp6cG4+a0CISSO42KxmM1mbVz+FugAmUwmTdNcLnfPPfc89thjUkpsp0MpbW1tXbRoEV57FEWozCRJcvnll+MFSikzmQy4KkAOx3ZGAykAFM+WGiBGUa2EkUynwnR2sZ2COOJq9WqvPYbW5WrXM1pvWu2N6GbNKWF7y1fPL978g9Jco+nPszNeMOPeoyNDXtCUcdB5EwZGSk0+VMN3NCuOT/9reuXX+4UvSmLW8YKnSUYVU+qHLEdBMVAR9TSQgnRlQB0Oh6P/iOPY932llJTSGHPJJZfY5lZour7kkkvGjRs3bdo0zKNFBUBr/dhjjz3zzDM4CO6JhXHsyJu2fKNYbJ0AUG1BsFXAS0CNAusUUUo3cT72pTRNsXSPLd6PTRJuvfVWuycWFZ0xY8bee+99xhln4A3BTAPP85544gkMZ7I3amtd1JaBl4OKFtS4ehwORx/RQArAJ6YnA1QDGKDv5A4YGr8TiYxgdLforTf1kDnNZ/Xo/Co2LAHvC/H/O7Fy/1j13tuZr/3vzLffhlGd3o4ZU2lSa4EIxXjOlI0x77Hd2sXH/6v43Ld7HmviHR25oRXVVohin3cO1NU6HA6Hw+L7PnoAOOc33XTTihUrrERLKW1razvuuOMopVOnThVCYOA7lv9njF188cVQTR0GANQQrHy56aRblLnxWJ2dncOGDduKoTIY7h8EQWfn+rUmTdNNC762vy+eEuo/cRwTQq6++uoXX3wRAFCL4JwPHTr0rLPOUkpdcMEF9o0AkCSJlPKqq65SStV2Uhso0jTFy8lkMvbynUfC4ehTGkcB6B3nA4ZQTejOxbc7vTywdK0YuwzGzW+d9Gc+rpQWekjTXslrp4a/+na8sExy9/rH/jb43tt814RlDAFPp8xIBV7KPADwTDgxeeqb0SPjk6Vt0BOTjNQgdCSMs0A4HA7HoAAzWVeuXDl79myoGrODINBaT548ecSIEXEc77vvvqeffjpqBbbD7l/+8pfbb7/d1sXnnH924RLL5KdpmqZpa2vr66+/jg6ErYIxJkmS++67r7W1FY9lJfuNnQwWDqpVQjDT94MPPvjlL38JAJlMBnMApJSTJk1qbW1VSo0dO/aUU04JggBvGt63F154Yf78+YyxSqWCDoQt+1z+eYQQWmtM58CPBpOSB+p8HI7tgcZRAAjQqhNAE6oJ0cANMC/saNUr13jDXpRjf9Jy82vebkrQhDZ/If3ridF/fStZ0s3b/js45lH2tRVkx9hrDXQpofmQFQyoELwuOmQYdH47euSUrv/emb2TZjyRsh3DLo91xp4xqjCwF+1wOBwOqIl1uemmmz766CMMm8Hal0KISZMmKaXQvH3xxRdbY7/v+1rrXC531VVXdXd3Q7VePlQFzU2b8zGYnnOOcnmapm1tbQCwtRqBYQHQXC4Xx7G9wE8NMcLAffsvXgJ6RVCSti+ddtppUK1ZdNlll9n0aFvbdObMmR0dHXjftqxK0taCUprP5/ExOjRcSSKHo09pnB9YdZbWBAyAJtwAUYT2ZEYDQKcUc5t+9Pe0sIrs0Ga6RtJ1F5Zv/oZ84UM+6pfBCb/1jllDhxWgwk0qVMIgUYSXSaECmRbT/a/JC6fG9+2RvMKIWk2HKE2YKXFKE5qVzgDhcDgcgwA0mb/++uu33XYb5s5aAXHy5Mm77767bf272267nXnmmShP21L3q1evvvXWW9M0ZYyhHPxZInlsWR6U1PHJrWgpF0LYoHzGGOobm6gxiikQAGDPCmt9vvrqq/fccw/ugFeXJMmkSZPGjh2Lb9Ra77777tOnT4eq9I9qxocffjhv3jwhBPYQGCjwZJIkwbuBhVxdVSKHo09pHAUAgKAHwBAAqoEqQhXhxPdf4F+fXfjJOuKXRb4lWjMs7ZpenHVA9NhaPuw/sqffL77zEezQROMCjUBGkoiMLPumDISNgDUTwse+GT26j35TBr6X8EyYhiyJvECTdqEDw0oDfdEOh8PhWB8lcs0112A3K6hGiRQKhXPPPRczaBEAuPLKK0eNGgUAVp5mjM2aNeu9994DAM65dRFsOgFASokqBNrIcee+s5Tb3OWNgVkN9kwIIXh1P//5z9etW2ft+r7vM8YuueQSAEiSBPsYSClnzpy544472msHAM/z5syZs3z58trooP7H87y1a9eefvrp+Xx+zJgxzz//vOd5LgnY4ehTGkkBAFjvB9AEAMAQaoD8jY6cW/jxUnLgat66E/3gi+aDqV3z/zV94kO+7yJ+8FPiayvZjjkaZ0ioDUvB40RHJFCa7i7fPiZ8+PvRH8apZZr4nbzdM0mz6aGURjRrjGFGYYaAw+FwOAacp5566t5778XgH6wIBAAnnXTSLrvsgnH5Nsp/xx13nDRpEra4wgRTpVR3d/cvfvGLUqnUq9z+JizNnHOM/MFGY9hseCteUZqmtaqFzdDdxFtQ4q9NTV68ePFvfvMbAMD6pzjCySefvPvuu6P+gzeKc57JZGbMmGHfzhhLkmT16tWzZ8+WUtZWOupnsH7RAw88kCTJihUrbr75ZiznOlDn43BsDzSaAoAYYoBiyf+fFS7+QO8gZFI2EPD4wtJtR8WLPs6Onpc743/o/rGGFhoFVKdSR4qkNMjq0ho6tJvk945fOib6/Rf1Sx4166DJSyh4EfjK07kgMdSslbRiyI4DfakOh8PhgDRN58yZA9UAcQx08Txv+vTpGOiP9XCsGnD22WdbWVlKiTHlN91004svvmhN3bXW9I2BwfpWYbA6xlYBZW48H1uYaBMhQLXRR7hzqVSaM2cOCvRpmlrfyNVXX50kCec8iiLP8zDCx/O8SZMm2TQGqwbcfvvtzz777BZ9LFsHzvnTTz+NKpaU8ne/+51V8BwORx/RMApAk4GYDoXm9haIlT8kinJ/9g66InfZOtr+ZjBiTZA7VP7PBd237MDe+VPT1x4S33oo+NarwT4Rz4ORqYGUBcCoIEmXzu0f/79J4X3fVE+3QxhBPtEs0KFPQ9BBanKSauBASJYb7qsOArRPtzIJBADXqSZc0QwAo0kMgy/3QEqJi6UNHoWaFcvO1J8aHWt99BjRCzWLX13wJbtgb8UK3A6HYxBiqkX6e1WCv+uuuxYtWkQppZRa2/DkyZNtqI8xBrt9aa3jOG5tbf3JT35iBXdrub/qqqtQ7MbAmF4VdeqChvba4JytlQSMo1knwKfavG3NfmMM7nz33Xc/9thj+Ly92GnTpg0fPhz9FUEQKKWCIEAtSAhx2WWXYZ1Q6zEAgBtuuMFqEQBQ200ZZ3VT0zyhV8IA7mwLmNrSovihwCd9LHaNwGKs9vnjjjuOEII6wHe/+12lFF6U3V9rXalU7Gi4QNR+Q3pVDfrsSdUOx/YJ2boOza2IATAGdh+713vvvgtaDzNyNewAdN1onb54067NMl0etCw1++R4rps0UdBj0uX7yRezpmclG/0WH/MxHV532IjwdrNulPpglP6wyawDowC8mHheMjAFEL79O/H80uUlDZJwAAYATYVMd9daIINdN8Pl1v6LjSfxGWzZs7E34hSPLnW0dSmlNrby4c69jpgkySaMZA6Ho3HBqBg7J+CvvlQqHXTQQVjkHk3XnuelafrSSy99/vOfh5o5BKVADHlXSu2zzz7vv/8+2sIxA1gpdf/99//gBz+o3XkAr3dzQRcHISSKIt/399577zfeeAMAstlspVLBakUvvPDCfvvtB9W7hzfHhhuVSqX99tvvnXfesWPiHLtgwYITTzzRZhdgT2I7A+NQdpDaCdwYE0URthMOw7D2gZQSdTY8EC4NaNPxPA/3QX2GUnrnnXcuWrTo61//+gknnDB8+HB7aDwTe2iLDcqKoigIArseGWMwomnTK5HDsZ3TMApA1ugKtBBYN5bA76/63B4FKIt0DR8xvOdDAGCgPBMTnaTAemhrkTUN0+vqDlsSvmekb0IBiTFGEhGDJ4ngENfdv6/59gL54mt/LylQqABQ0lLIdq7tALopr/SAULtYJklCKUWTVe0KgSvNJlzqaM6xti6tdRRFGKq7MVDcT5JEa412rIEtV+dwOPoO/IGjSKeUStM0CIKbb755xowZWDPHVqyfNm3a3LlzocZMYNUAnDSMMQsWLJg0aRJUG+UCgOd5o0ePfuWVVzAwprGmFJTC0R/red511113ySWX2NxfvD9TpkyZN28e7o+iszWdWBn6rrvumjRpEs6rdvDPfe5zr7zyCj5Gd4GdpSmlKEzjvao1wVQqFZtrYQV0+2Qcx9h1wb6K99weFP0wdsnA+C6rV1jtpbu7u7m5GQBKpZKtFtoLey14XagiDmBig8MxyGkYBQCIBOqBTgINx39jxE6+9iHkzAemGShGtDEm1SwlVFNBgAVQv4CPBqOBKsIBCIChBghICjrlAxN28x/PJqvWJRJAAQVgwGlLPtexehUTg25BwmVgw+kbdQBcZowxaGn71GkX/fs26e0zWvSNMUmSOKOOw7FN0suviLNNV1fXHnvs0dHRYatDCiGklG+//fbo0aPtNILyvW0jBdXanfvss8/y5csxpERKmc/nS6XS9ddf/+Mf/xg+6WMc/OAkjI8rlcrIkSOLxSJ2PbP2kVdffXW33XartbtDjWqE90RrPW7cuFonAN6WWbNmYZYwHqj2cLW2f3zSGtqhau/Hj89K/8VisVAoQI1/2HoVGGNhGGazWTtamqZSSvQelEqlbDZb63/AHUqlUmtrK1qa8ALRmVCb1Y3fmdooqcb6iB2O/mNzk5b6DW2M0maXMXsC84BwYAAcgHJgHEgGAPIAQzBohgAwAZQyAB/AI0AIAK2/+fgWoEAFISwAKAC0AfgDtHkAHICtn7soAG9ublVqoO/+BsRxjAGd+BgLNhtj0DCvqmesPu3UsYQfVqYzxpTLZRxnY+A8jm+xz9gnHQ7Htgf+2O3P/Gc/+xkAoN3BxgpOmTIFX8Xd0CiOz+CUUqlUjDGlUulXv/oVVF2XKAh6ntfU1NTR0aGUarjJJI5jfHDppZfirUBtB0XnyZMn1+5sLxAjdmpfmj9/vhWL8b2MsdbW1lWrVtnJFsOojDFhGNYWCZ01axbO/AsWLDjiiCOy2azned/4xjfmzJnT09NjqmtEsVi86qqrDj/8cM55Pp8/5JBD5s6da8/fYo+CgwshUJfA08byTfhSU1PTgw8+iKf30EMPTZ06ddy4cS0tLfvuu+9ZZ521cOHCUqlkquuL/WJs3fvvcGwzNIwCwCEQAD7JAQOgbeBx8HxgkAcAwoG3AGsCoBwAmAe8HahXd+NACQiAPJBmIK1AmgFyAJmB2ggAAfCEjYCnzc2tg3ZFwskdsYI7TuhSSpx8TVXKrwuK7712iKJIbwRjTKlUspO4k/4djm0eayYwxrz88su5XA7LcaKk63me53lvvfUWJpviW+x0ZOVd/BenjkMOOQRHgJqaPzNmzOj13oYAL/nll19mjKHgjjZ4SmkQBC+++KL55DxppXlTVQPwnsRxfPTRR+P9xDvDGGOMXXDBBfhqrxkewz593w+C4Jprrlm7du2BBx6IdzKXy1nd4KCDDlqxYoUxZunSpaNHj0ZXACEE9TfP84477rj3338fTy+KIlO9/9jR2bqCa21JGO+Ez//sZz/r6ek58sgj0beA4Pn7vn/OOeeg4ofj135DHA5HLxpHASB5n0IGspwAgQxwAMKBQhOAb/uzAKyfJEgmAKi78arRHWOAACgQASQDDAZmI0A5Y4wQWB/239TcPggl3CRJHn/8cYzCrLXD1f47fPjw3/zmN+bTFtRisYgPOjo6jDGrV6/ed999e3umPjn4DTfcUC6X7Zm4Od3h2CZBydX+wKMowogUaxtGIfLkk082n7Rqo8AXhmEcx9b0i69qrZcsWWLfXmvzfuutt1BebBTwikql0jnnnIOCNXo28O9ZZ52Fu4Vh2EsH6GU3wZu8cOFCz/PwvShhYyzNG2+8YT4pPaOkbu/eVVdd9dWvfhXq1UcSQpxwwgmvvPLKkCFD7K3ulWZ95ZVX2o+m1kJvpXnMGbDXG0WRTUi48cYbv/SlL1mVA1ue1Q5++eWX2zHxgXMCOBx1aRgFADgHHwCERyEHQYYAhyYCOaAZIIIyYWcBAuBRIODV3YALYBTIek2AYbAQg43GDPX1RigqIugHIINVATDGrFmzZtddd7Xmol7SP8blH3300bUGpw2xxif8N45jdNBvQvpnjD300EPGGNQB3GzucGzz4BSBgjtjDOccIQSKku+88w7uhhIq1v00NeZ/fL42wufwww+HamMvu1gcddRRptE8AFEUPffcc1CNibKyNef89ddfNzUm/zRNra+19oZY67gx5tBDD7XTrB1twoQJ+C4bnIPHtQdqaWlB9ePHP/7xkiVL5s2b95WvfAVqDEPjxo0DgLa2tosvvnjx4sXz5s0bM2YM+nBQDXvvvfdwWFTYaoux2gSD2o/PPj9ixAjc7YgjjrjjjjueeuqpCy+8sK2trTaTGL8etZqkw+HYkEGXBKxkIrlnAAJTgjR56ZW3w2KJVjrD/HBTtQ/Vxoc0VgW3DYko5E0uJZKZyA9pMWgWeX7EF/eEbPDpb+5HME/3jjvumD59OrbVtKUnTHV21loLIR5++OGJEydilTohBGMMy0fYZC+bXqa15pyPGTPm7bffBgCs0AfVGg720Oedd95VV11VKOiFl2wAACAASURBVBRwnE3UDHU4HA7HVgdnXVtQyBiTzWafeuqpAw88EDN616xZc/DBB6PrAKf3YcOGPfTQQ/vvvz/K/WvXrh0zZkxXVxeK6VddddWll15q04LxKLX536baLoZSigncto4TpXT+/PmnnnqqdYD89a9/nTBhQmdnJyGEcz516tQ5c+bUlpMagFvmcAx6Bl1qPGNUAUhlgAnl5Zs+39bugQfQPNAn1keUlWqiLCHAADwJMYeeYhloEWBwzVme51UqlWnTpi1YsODPf/4zVmfDlQBnYVtq+o477jjssMOwJAUAKKWw8LOd5Sml5XI5l8tRSufNm4fSP07uQRBEUZQkCT7gnLe1tZ166qmFQqF2Hnc6gMPhcPQbtT0ZCCH5fH7atGk2B4AQMmzYsDPOOOOSSy6xzb/OP/98u4NSqr29/YILLrj88stxnKVLl6L9aNMzOa4auA+ahxhjp5566kknncQYs4vCF7/4xfPOO+/aa6/F1IU333wTahK+++ieOByNzqDzAOi4ov0sADDQq4HesWT5C+91VhKVBOsDCnv1UNR68HXN3Ry8fEmkXkmnEpIgYjyT3XOk95Nv7LbrQJ9YL6zM/fDDDx9zzDGUUqwGDTWzszXhL1my5LDDDsM3ousAXzXVNvX4b7FYPPDAA9944w20A1l1whhjjT0zZ87EYhdo/u/VJMjhcDgc/YDWGiOF0Kbzpz/9af/996+dij/44IORI0dCtVPbO++8s+uuu9p6/ADwwgsvfOMb30D/QFtb29q1a3sVjN7QAwA1Wgf+SyldunTp+PHjwzD0PI8xhlVH//rXv+6///7W+fDRRx9hT+hexUwdDodl0CkAoBLFPKMMpcka4l/31PtP/T1OvHwhLcInO4ojg+78NxOllJ/6FZ96WY+VSJqG+++kZh29Z9NAn1hdsNjzoYce+vTTT+MsD9XgH1wYUHA/6qijFi1ahPGXGxZgttPx/Pnzp0yZ4vs+dpK3kT+2pcDYsWOXLl3a1NRkq027is4Oh8PRz6ChDeNwUJpHS7+t7h+GYS6XQ28wPp+maS/JG6dxnMCto6CWjSkAGFxa+29t7JCpNkcTQthVqXYfpwA4HHUZfLIUZRSAgAKdZJgPaZjKJBVifUg4ISgaQnWCaHRLsDZllqFA06I0PssEAWSCigcxwKDrdWV7vF933XVf+cpXakP5oeqfNcZkMplHH3108eLFRx55pH2ydmbH/IFKpTJnzhwAiOMYlQfs8BXHsc0uOP/887HukBACB/mMXcYcDofDsbWwoTi2GwDa13Fip5RipA3mCWBLLwSDObEzl20YX7dDWV1MtRkwRpnik7WSfRzHmUymthu93cf6k53073DUZdApAAZAAzAgANQD8I3OMxVCKvQ/skLXS5MEAMBoNUBnunWQcTunns9i6lEiM3GY6CwEyodBptfgPIsPvvzlL5988sn33HOPfRUleDThh2EIADfeeOPhhx+OYT84XwMATuIovt99992vvPIKvhEnaKw6B9WOnhMmTDjllFNqmwTjpI/t7p0O4HA4HP0JTuMoVaPpxzbrxd7MhBDUENBYg0I5hunjrA7VeZ5SWhsduokjolJhTUj4wDqfcVWqPTE7Gr7XOY0djo0x+H4YRBtgQBloXwMoSan2VKxSmu81BSDWKtCgiGYvLpXKah0XOcFFpSJ7TJgwGGyJS1jlEx9UKpWrr7560aJFa9assS5XqPlcgiB48skn77rrrilTptgRaj02a9euvf322wEAo4ZwzbCJv1LKQqFw7rnnYhMZdBZj6D/UlL1zOBwORz9gy77hPIztAmwEjrXHWynfLgpYSNT3fYzPqV0vahN8N4b1MNSa/6FqcrIuCM/zbGgAhgPhPs7873BsgkH421DagCEAhicAkmQMz2oacK2YkkxJKlOSJiRNIIkhiYXRDb2Vi6WA0oLgNInTKPI497xgEH4qaGLBiTWTyey0005nn3021nezSb0YzON5HlaMnjVrVpqm1oGLMzWOsHDhwtdeew0A0G6Ea0AURTaNeMKECcccc4zNIqhddcrlsjP/OxwOR7+Bsf74GAV9uyLY5gzYU8wK3CiRc86xdjPqCXZAmx72WaoAYclvHN92DMCWApxz/Nf6imtTC1AzafREQYejjxh8ScBGpoQLA4qkLBHTn33zj6s1i0UamEIcxVIw4QEJO1lbQL2dO15q7/i/SZJEUYRVKW3+aK2XoJZkyBh/6N6vt+0cJ15el3bwuwuv/S2pdEBpXd39aZjK7FCmEwI6IrwpC5Vca/e478hKqSSYFD6h/h4v//rvr77V8dEKIISS+uU7WSDTmBJj2ncZ1f6Vid0j9i3FpiDLRHser4TaE+ARXQ6F99Uh/p1HjBpsqlltNhXe3jVr1uy5556lUilNUzTeW+esNdvMnTv39NNPR3nduowppbvuuut7770HVactWv0xtgcP9+67744cObLREzwcDodjm2HDJF072+PcjkuwTcC1O9s4H9yZVHP5eq3UGxu/lyHfCi29wodwbbJKQq8s4a17KxyObYDBFwK0EbQGTXCC0EQrTlOapLK0tuf1V23Hckqp+bQffLSmx4+8gsjnaLOfVmjnh+q9Zbr8sVCy7v5cdptyB5ERp0ANBT81mTbaPCbbPkpqpbQudq37yxMPr3ltGVSKwADSuP4FMA7gg4GVL/vZcrzzEW1BYYdAy3jQBfvUxxb+h+o0PXTo0EsvvfTCCy/MZDJhGNpuAFBN0lJKzZo1a8qUKdYLjNPxnDlzPvzwQ6i6cVH6x+DRbDZbqVSuu+66XXbZBQBcrL/D4XA4HA7HVqdhFABpNACllAMYYqRnYhZHsvtjXlorqlIp0f+oFrwxBSDt6hbFURm1u2JZlpZk10e06/18vJqL+pb7AMplyUkaCk6JJr6qpFr5YYeWOzDQgQgYke+/8TcoljikRAPdiENF65gyZZRKwjJ0r2n3GfGob1jcICkMNr+q1ugybdq0O+64Azt5QU0+BhaFiKJo2bJld9xxx7Rp07B5MDoBbr/9drT0oyHHKgDGmEqlMnr06NNOOw0AbNUIh8PhcDgcDsdWZJAFmmwco4khYIAaY6hWgihfhzRcZwJmAkayAjJceSTlJuVGCsAHG25eVoInUw8ij0c+K0NiRBrkVCp03U162YR4CfU1yyiWSYyINFfga+DaMFCQ9wKIIg5ploAwEEP9jWsgaZQBCTplWhmle4pxsdIg4j8AVBsr2igdAMhmsz/+8Y8BwPM8G/YDAEqpKIrw8dVXX40uGsaYEOKee+5ZtmwZphSjAoCZA1prTPm96KKLhg0bliRJbeUHh8PhcDgcDsfWomEUAEYMABhKNFBlCCXEY4brNDE8BZEYHimKW6xZrJn9t9dGgCXSJEak4BlRkERIRVKpE8PqbrEhEbDEMEmEIp40XBtuwItFTvJcRTFpOCiuwYsMxABARN0tBdBAYwMATGlieKBEnmTbB/i2fmZseYfaVDCl1OTJk4888sgkSezztuMv/v3444/vvvtubNuutZ41a5Yd0+YMoOugUqkcdthhp556KlT7t9cqGw6Hw+FwOByOrULDKACUaNBGG9CUS8oUMOCCMeFpLhQTinmae5r7RgTgZYgfgFd3EzrgCRMx5TH4knoJ96RgifC1X3cTJg4g9SH1Ic2YNEtklsgMpCkxIBhhHIgA4WvmpYQoQYhJ626SigSEBgEEwjjWhBrOIzXIMrA3jm3fiMZ7W9iHUnr++efb6H8svQzVumxYpWHmzJla6yAI/uM//mPZsmWEkDiOMU/AFpfAd82YMSOXy2ELybpdhB0Oh8PhcDgc/yQNowBwMKAkAAXmKfASw5XhinFiEmIS0DExCSOSEUkhJSahkNbdUGYVVFMVCp1yoxhjlDHQqu6mZGp0SowCmYJMiZJEKkgjBjHRIacpNTGAApUaMECMoFB3AwAgBkASqnyuAioDpqiJBvi2bia1Jd7w3zRNv/a1r51yyil2H9QEkiTBtpFJkrz33nv33ntvkiQ33nij53ko1tv6bqhIKKVOPfXUo446CgAw8deVbnA4HA6Hw+HoCxrGwkpAGlCaABCuCEsNiYEGwKX3ieo9/6gdRuvLjhVpfEiMp4FK0GlKo4imGhLwMnX3NyqjRVYBTxlJgQkqNcukxOdQjuPUCwKPMEalghQIgIHEbOSWUgUaCOgMB4/EkPQwlqcgJfj/1H3pL1ActxI5CvHY1lcI8e///u+//vWv0WyPzgGU/j3PS9OUUnr33XfHcbx8+fJejcNwf9TKrrjiCuwJYNMJbB03h8PhcDgcDsfWomEUABZzxXKM81SG1NBhqkjDjo78TsPBZ4RyIERJYwwhRlNiKIDuHV2DcmdB8wrTTMbQJOIya4WMoGEbrOvQzXWPS9MsqNDw1Ddpi0o7IyGHtWahFKk8YZ7UvDlcoXg7g6KvAQhUNlIGKKs1ACiAivYN3wGkr1Ie8ryvwq16n/qK2gKgFozbMcbssccep5122l133YW1/LHaDwBgboAx5vnnn3/++efxVZTs0VFga//PmjVrxx13tF1dbMeA/r/S7ZNaXQvVsPV1dfu4TwiqixhChjWmUBvs04M6HI4tYMPZwK4ItuJ+3TfawnG9dui1oGxs/FqzUd1hkdrOA1Djr3aeZIejLg2jAFBqNNHapADEECaZEH7WK7RkDUvjRKfKo4QRaojWjBBGjfpHHipgkVBCCCGdQ/ZIWkZLr0WTwDCTFoZHzbsXAYbKjcgcGZ4CjYzuNiZmPMxlVb6VZXLFjI41jZXJ+tlgr/F6ua6sWwtKMOipO4wBj0CiAcDPtQxtJSLRvEexCqj6nocGAqP5r7jiioULF65atcp2862ldvrmnCdJwjm3PR3b2tqOPfbYbDaLDgFsMAwb9Hlx9B12jZRSonunrsq31eGcx3EshLB9gpz073A4HA5HX9MwCgCjGiDVhgBhhpGEUPBzrGUYnXCC6ulJK5FinFOIZaqMZIKDXt9rEN+OQSmEEFoYzfJDJG+JypoYLzd0T+77EK1d07Wm7nG9JAm5F1EaEpYhRLJc3DqyPGxUU6lYpmliBGSH7PftUyofH7Bm9VqaaeJh/Y7C3bQpR9O8z7zmIS277seadvMSzTUx0NiFbrBXV5Iko0aNmjFjxsUXX4w9v+J4fUO02opAqIMlSWJdAVhcaMaMGSNGjIAa6ROlQCf99xtoYyOE1CZeY0fPvj6u7/u2baeT/h0Oh8Ph6Afqe9YGEiNTwoUBRVKWiOnPvvnH1ZrFwudlaUhKPA1CE2BgODXMaC28qFIBqXzGGSOpVhoUYYyYT3gAMNOUEEIl11RIzVRsBKcZn2kTxzIiGxE1M1GY8mzMBDVaaGUIhDwXe0279Py9SDI9IHxftOZMpdJRilOWb6VpUnectbQpD7EXFznhQAthQojSGQ6SSI9XQu0J8Iguh8L76hD/ziNGNU56NlQqFTTer1y58l/+5V9WrFix6f2DIIiiCPt/AcA+++zz4osv2qxiqEn/tfqAox+wUUCPPPIIpTQIAmzQ1qcHjaIon89DNRZIa50kCeaCOxwOh8Ph6CMaRrpS2gAwCgBUEeBam9RQzZjuSXzqcUoFAJXgEa0oGAOkl16j1ysD3ZQJJX2Z5ClVAFEMCaWJ5i263lEBEhGkzDMgpI6ICT0CGZOSSqkrR2MgyrDuOCERl6EPOlBFJkh9yX2IIL42Oo4NUzojmE8YkRQSSPJb9T71N8YYbOCltR4+fPgFF1xw7rnnoiT3qW9ER8Fll11Wm15spX9XBaifQTN8T0/PCSecUCwWYeMRvVsR7AFnHUTGmKampvfff7+5uX5OjsPhcDgcjn+ehlEAtBHAKNFAtTFEg9FKATEsFYIwzglLtDJSaQLaGGkMrcqONn/IABhjgoDwGDypBQNtFBCd8zIFoJW0vuCujQZNOOOUcUIZMGAguKIqShhVWWFikFoB5cTnnBCdKK/uOFFcJFwJ4Rn0PwClUqdSQ4MHuZTL5Xw+H0UR9geYMmXK7bff/uabb25sf0JIFEWZTCYMQ6XUxIkTjz322CiKgiBAQbA2CMSFAPUn6CVraWnp6ekBAEzS6OuDYtYv51wp5XleHMc9PT1O+nc4HA6Ho09pGAVAgS8IVZASqYUgBiAFQ7RiHtEqSpXhhlBmwBhCDWfUqBrZhQBU0xmjKGGaKQMpFSmlBmKhQ9nTw/JNdY/ryZga39MSQEUyiTlRNJsqv1UZw8CokBFFVaJNSOLI4ySlhbrj+BnGQQpgsSRpSggNqOFZ7pVNn8tYfUo+n4/jOAgCAMDo/8suu+yUU07ZtPE4DEPf9xlj11xzDQAEQYD2fiv9Y4aAUwD6EymlMQZ7MGMVoH5QAOyhASBN09rsEYfD4XA4HH1EwygAGhgQTo3SRlLNCCFADIDZvXNZudgdl0NBKCGQpqmimgluJNgkYJQs0cD54ZivMBZoDSVgsTGMQCaJ4nUdLe//re5xE09Bwhn1NSVAJcu3ZFt3A9HemfU4GBJHeUp8mcjOjnjNR4LIFlI/qZdoIZOKyOVIoZ217qyzLUkahSoEaO/Du9YvYJg+ZgOnaXrSSSctWLDg6aeftjvURvKgjV9rHcfxeeedN378eHwj7mPD0LEXmKsC1J/gPQcA29f5s4Ry/ZOgpoFdn6WUcRzbkqB9elyHw+FwOLZnGkYBAKCx6spDsM7j0igm814m2vn1ReHLz1IAW0rzU6WGXV59AvbY7+MvnlCOZLtKCqvea3rlt1FPh4D6oTtapJmwUGIR1zrPeM5LqGzqOPgkRsYEiuisL43eadG1kCYVEvFEGVb/lsY0HSYzEdccRM+ofYoHHEOSrOY+DLIc7C0AZXcs4Y9y25QpU2oVgLq1nxljEydO3HCo2tB/JwX2J8aYJEl839daoyW+f0KAsDwXJnwLIcIwHISf+4Y6CZ7woCui4HA4HAOE1trOk2jOw+oOLp1vcNIwCgAhxKAtH9YHiiil0jTd3K8VkToN4zSKQVOqVFQJ/SiiZn2Y0IagDGSzVLXWWkrsb4XnYLSSUhKlgK8/yU2Dke7bktyAv3Cs35+mKef8nnvu2cT+eO1Kqblz5x511FHYN8CWgcdWAFANSe+fS3Bg8y/f97GmU6VSIYQwxjA4p0/BftK+75dKJSlle3s7OoX6+ribBSYr2xA1qxq5r6jD4XAguGSgJGBreW9L0s42RsMUmyQ1Sb2UUmpASplGmx0uTI3WSWpSKQgwAyqMVJTwjS/iKKzjQbHjVZqmGKaMQdJSSqWUrWSyifPH/S3bzK8CZXfMGfU87/HHH1+8ePHGdvY8T2uNrb4WLlz44IMP9ir9jroW3tI+P3VHFfxE4jjOZrOdnZ3oDUAnQJ+Cv6+enp61a9fi4+XLlw826R9JkgQAbJM7XOQG9IwcDodjcIGzIvZ2DMMQnJVkENMwHgBqwIAxSgMjDIghhGizYcfZT4UZoGA4AUMYBaKN4QAeZfFnljatSoAP1/9fTTb4LO/9RN3Dzb2AwYcN2o6iSAhx3XXXbWJntChb5+D111//zW9+M5PJ2FZQqGu54Ip+Bu82lnISQqA/px+Oix86ZoGj4b+1tXUQ9n8wxmCmu9YaDQGU0t/+9rfPPPPMQJ+aw+FwDAoYY0mSWKs/IWTSpEnjx493HR4HJ4Nrlf1UjDGgjCGUAjGUso0U3d/0CJxSzlhqNDGKEWCEGpNuLH3ABv8YY4AAxkXg93t91RrMLzYUQOE+n34J2xB4HzDyL5vN3nXXXc8888wmarngnqi5eZ63dOnSBQsWnHXWWbUlgACAUlqjaDn6HPwQbZxbv0XhU0oxbAyqigdjbLBJ/1C9J3iL8Bcfx/Ezzzxz5513DvSpORwOx2DBru8AQCk9+OCDv/zlLw/sKTk2xqBbaDfBP0zt2gCATQbYLKSWmmhDjFQq1YoSMEQrpYB+pqgD1AeseEQIIdUew+gT2NzzaXRQZBRCaK2VUjfccAMAbKKSIyEE5TxCCMZUzJw58/jjj29ra/uHolW9z9uYsjSYQZM2/sWvdxzH6BDoUzABAADK5XIul8NDD0LFz54YKifYxu5zn/vc+PHjB/rUHA6HY7AghCgWi+jVF0K0tLQkSYLVpR2DjYZRAIgBCoRTSomBfygDmy0gGkq0MVJrRShQowhIYj67sGFjeOy//ziVz3AypIbNPfNBjpTyF7/4xZtvvlkoFLCPbF2MMVEUQTWEWgixcuXKX/3qV1OnTvV9v5cFetu7S4MWSim2Y4Oq6O/7fj+U48TxlVLYTxoDgQbhatGrlgU+OPnkk88999wBPS+Hw+EYXFgLTnd3t+vqOJhppMCs2nL+pCp8b+4gjHNNwBAgnDDOgRpDCd14FnCv+H6U/tHDZZWBzcrorZX+twELNxr7lVJxHF9xxRWMsU1I/1AtNp/NZrHrU5qmuVzu/PPP7+zsxKF6xQI5+getda30L6VM09QW6e877AnYAlCe5w3C3wXWKq39ZoZh2NraOoCn5HA4HIMKpRRK/ygaNTc3K6W2IFfT0T80jKRFqAHI9wAwo0FLSruEjNbucRjxiRFGUSlJrGgCbP1mgNbdPs7sIHbeN69iIyHMNIthwyptu0dKEEPrbkGSKQpVAdCGFCKdhG1dI/fP5wu+CSuBVAKaZBfs+XXjDTGhV2E5Tby6G0A29FRoou6Wghi+YyYuGR7qwVjspD72N6y1xpax6AbxfR+TfmbOnNnd3V1ruxVCoLhPKc1ms7ZfGABEUYQ1ZwCgXC4TQn76059iwImU0ipI/VCD0oFY0RY/QSzJD5/0WfUF+H3AvzboqyEKQGUymU/fyeFwOLYb0FACNYY8zJkc6PNy1GfwhVkbmRIuDCiSskRMf/bNP67WLBbrc2yJJtQwQpjRREmi9PDSu1iXU8lEa83Iemt9jpTrDt859F9MJpdwESrJjGqi0g97ZPfatLiy7v5USuP5kgJXMk+ZCQqV5p0qLcO9hBcJVYzlTdxU/Jj0fBzFPSmlTWFn3XFCnckKwynIXHs6dLcur61bMspZLlUer4TaE+ARXQ6F99Uh/p1HjBqEqhl2P+hVohHV/TfeeOOAAw5A2z9jzLaSxaRJY8x99913+eWXv/POO7XvtQIfxp0/8sgjX//617ERFaXUBQ72J9Zpix4A+29fzw826ItSOgiL/zgcDofDsU3SMMstgZRRUAQUAU1AEcYII9SsGvoFpZTSqVGaEKCUckIJNWs2IkEb3qLTCgPJqQENEctELUMqwc50xD519w+gYowHhCc6qpCYe0JCIUw9ykpc+0by2BNd7SNp21AppZKszOtb9XNSl3VIjJTcD1lTxXDBZJYR3TiVxK2RGD0AQgiM2eCc33bbbcViEYv/CCHQwI87G2N22WWX733ve11dXeeddx4GlthWXzaYKk3TW265ZcKECWEYYv6QSwDoT2wEju/7XV1dLS0txhgpZT+U5Ed7v20cs2bNmqFDh/b1QR0Oh8Ph2J4ZfHbmjcCoplRTCoQQDSANJAAp5SUlQzAJ5VoILbyUkRB0SSoioe5molWcxgCgiQ8iX1GmFPYEvsnKuO6WsuYo8dM0p3hbkWY6U2NS2Zyq0OvWosRprGRUTJOiAqUyXprnhtXdipnWTlboYbmYZSVlXMUZWQ4qqwf6vn5WsHsXGmhr40M45wsXLvzFL34hhEDhHnN8McIbRbrLL7/c87zp06ePHDkS6uX4GmN831+0aNHChQsxEh3zgwede2rbBd07lNJKpbLTTjuhGyefz/d1CBA6iIUQuVxOCEEIGTNmTKlUGuj74XA4HA7HtkzDKAAbA9OCOQHGGGdEMM4Yo3S9YLEhVKcM44wBDCHGGKo11WmZNdXdmJEUNCOagGJGUp1SLanWAAQMpUBAa6oVMYoZyYwkoOtv2hAD1AAYA0oSAGJ0A5m40Uxrg/Jt9jMA3HTTTUqpNE1tIXkbCKi1Hjt27A9/+EN844UXXogtn+yrUFUD4jgmhFx00UWoOaCC0RCx4NsG2KFZSpnNZiuVCqbaJ0lC+xjbVws9AJTScrmcz+cH+n44HA6Hw7Et0zAKgNJUa6o1GGMoACfgAQgtAy09mdA0IVGZxBFPEl+lWTDKyLqbJwpSGqIVM6lJSjkGzb5QlQqH+ltWdha8coZ2ZdI1zbLYzjUXuiRUELfQtCCNz5hXYKwZ4gwpUa8bQNXdmsO1Q3SxRXb7UbeQMRCW8nwSNEwVEVsHHf+Wy2UAoJQ+8MADL7zwQq9gfSwFgO6C8847D9+ilDrzzDO/9rWvQU0/YPsWSmkmk3nzzTdnzZqFtmGoCTpy9DWod2EFHsYYhuNj66s+BUOPKKW+73PObYkth8PhcDgcfUfD5AAYEEobQzSjhgFhRmEScOuqvymlpEy1VMYYAutlyp0grDuOGra3zLb1BC0lxTgxGdlTKH5kOj/Klt+ru3+JNiuRUQSESjMETNBUahrBmodLOURSBkxn03Jz93us8+9GVxSnbXH9IpjlJNuUYQS05+WC9t0rheElLUra+J/aOnhwgGZ7NMwbY7LZLBprf/rTn2LMD4YAaa09z8MOX1LKffbZ57TTToNqbRkAmD59+iuvvPLxxx/3Gp8xVqlUfN+/8cYbf/CDH4waNQpcH4B+xLplwjDEJA2szNMPx8VwIywJhW2A+6cHmcPhcDgc2y0NowAQ5hGjwChCFAVNtQIZm0SKvz4gtAHQhBBGAQCoAW0kqPrtJ4rL/k/L/kekw8ev84Z6PoeP3o7/9ofmj19WmZF19x8qy6GgEUBOqUxiijpDRu7VtPf4la056aWc6aD4Yebdv4l3XoS4k+aEIvUrXhFDPKErUZRkWrw9y8JjxGtOqKdlYwg6aIy3YiJK/7///e/feOMNAMhkMmEYAoDWGqPJ0Vdw1llnYbVE+8bvfOc711xzzapVq2x8Pz7A/IE4jjs6VLkVdQAAIABJREFUOubOnXvttdcWi8VCoTAwV7v9gV4XrXU2m8W6rtj6qq+Pi8V/MPk4SRIsGu2kf4fD4XA4+pSGCbGopCVflgTzU8kNpBWRBeYHbz5JtE8gIJAFk1Eqo1Qm1RllCorqulubSTpWd5RYtikVQbROdq5oXh0m2R0lMXW3btFUFp5n/IS0fpjLpQVF160QUWfKRC4iVEJndgf1/l9jiMtNQUp4ArTuxjktq4DyQktaav7ob51iZ2VEShpG0MGgHVu9Bx9Pnz4dXw3DkFSr/wIAxv+MGTNm8uTJUK36jxZlY8yDDz6IbaesDoDpp7Yi0I033rh8+XKU/q0zAffEfVx/gK2O1euSJMEewADQ1/E/WmspJeYbYBIIAARBgN4AxyBk4sSJmLqNfz3PI4Qccsgh+Cp+cPibrX1QG9altX733XdxBEz7xkE8z3vggQf692ocm4Ex5uijj0ZLAXZtx+/AwQcfjDukaVpbtgEnfCklfg3sS8uWLcOffC+eeOKJWq+j3pz2mg6HYwtoGA+AEIIqo//pmBArO2K0Mas2HtqYrbM6Da0/bq2Yuz5UnRBKKaEUQBtjYCNnaKczG+Be7YTaGFEunHOs+GlbgN1+++3FYjEIgiiKbNiPleOllBdffDGqCljYB2OEhBAjR44899xz58yZQykVQsRxjLcCrc6YLXDNNdfMnTuXc94ruwBTEVy1+K2O1ppSimkA999/f1NTk32mT4/LGEO5gXOOngesJ9unB3VsMeedd96SJUtqk0MIIX/84x+XLFkyYcIE3/ejKAqCAKc7z/MwmQS/SNa9M3PmTJxDOOfYczqXy+23337f//73B/r6HBuFEDJt2rQlS5YIIUqlEq4FSqmlS5cuXrz4iCOOEELY5i22jBvO1dadWKlUZs+ebb8/duH4t3/7t3322UcIgV8Sz/MopTjIwF61w7EN0zCCVK3QXGs22NxxFBhCCFCqwawXbuimBsGVzMru+GStVPQZz6SuINVACgAAoICOxZRef/31OXPmGGMwAaCX9J/L5YYNG4bR//gW/NRotb3XtGnTbrvtNgCI4xhLwdjx8Vi/+tWvjj/++IkTJ+K/uIrgIDjgAFz/Ng3qdUopQsh3vvMdqDZx6+s0DGz8jN8N2wgMhcg+Pa5jy/jmN785depULPuLNaPK5XKapjfffPOhhx4qpcQPDj9NAOCcoxhnG8wtW7bs3nvvRckviiK0C1QqlTvuuMPl/Axa0Bxw1FFHnXjiiQsWLCCE4OdLCAnD8NZbb50wYYIQApcAQgiqB3bVxhlba/3+++/fc8891gyH8aIAcMEFF+ywww5Q00eSbNB00uFwbF0aJgQIDQNWKKm1xG8WjDFDYL0Xm1FTfXJj+294IKuE2MdWQ9gEvfavfbKB0NW6PXfeeefKlSvRqIN/rVWeMVYul88880ws6mJvIEb5o31or732Ovvss3E0Sinef2slQvvQzTffjCEiNpAAHcSoA/TvdW/74LprV1wsymn6HntoqPkZuoV/0KKUOv/88/P5fJqmKPwBAGPs0Ucffe655/AXjYFAnHO0DuCvFT9cIcSNN96YJEmvH/X06dP33Xff/sk7d2wBdhq/+OKLs9lsrQ+WELJo0aLnnnsOANbX2qa01liGjzHY7/bbby+Xy3YhQC/BxRdffOCBBwIAfmEwhazhFkeHo+FoGAUAqkZ0nBesPrDZo1CClk5DCdqeU6024QTA2uSfDNoBqE5SOJQ9jU2oAb0GMVU/xmaf/wChlLJ9Yf/yl7/MnTsX756V8qWUWmus4tLe3j5p0iQ0GtlEUl1t+AoAURSdc845WO4dc0BrxXpjjOd5ixcvnj9/PhajxJdsnLorD7rVMcYkSWKMwQ8UF/gN43S3OlaSQFsgfhmch2cwM3bs2J/85CcAkM1mtdb5fB5/ntdddx12k7A/T0wmCYIgSRJ0BSxbtuzuu+/GV/FTppQOHTr06quvTpLEKX6DFkIISudjx46dMWNGmqY2DQBXvVmzZllzvo0Nw4kdAIwxcRy/++67t912Gxr4UQPEDoAXXnghHgVngzRNOeek6mRwOBx9RMMIUrZzEM44Wyj9Y6gDGKnV+qB8ut44sbH9a+c4+0ytALpZcnyt6LMFJz+A1Mpq1157LQqLtY5+AMjlckqpOI4vuuii9vZ2fMla9XzfRxVCax0EwZgxY3DeRw+A9RFDVRgFgBtuuKGjowMdAvDJQKB+vwHbOIQQm25hqqFW/XCf0ckD6JqrRgw7Bi1YquuMM84YMWIENmy2VtvHH3/8iSeeQD8Szq52qsS/Qohrr70WJ4TaRPOLLrqoubnZ8zwcyjE4sVF555577vDhwzF6E6cI3/eXLFny+OOPQ3XCx08cf9pYBCKXy1177bU4As72nudVKpUrrriivb0daiKFCCE2KLTfr9Lh2I5oGAWgVmhGcZxzvgWBwoYQIYQQQmltCPi+73meNJvSJWrDFVBatfZR+y8WtdiEB6A23MXGPGxi/8EGnnAcx4sWLXrwwQcxnNeu66Smb9eoUaN++MMfaq1RDoCay8TdKpUKAEgpp0yZMnr06F5eFDvpZzKZt99++6677oJqTAghJE1TTBTu14vfDkDZy35expj+Mb9RSvHXhN3HwHV/G/RwznfYYYcf/ehHOAOjVo/fmeuuu66npwdqIh7RcowlBN5444377rsvm81CNUzI87yxY8deeOGF+NG7xI9Bi51y4zgeOnQotndEPzw+KaW87bbbyuUy5nzjqzhv44f70ksv/fKXv0QHI07ySZLstddeP/rRj6SUqP/jIfDbgjFmA3GtDsf2QsOstSgj2jkCgwhxLdksCCFBEKCxEx/7mU2tOr3ila3Eb//lnKMCAJsU6FG0IoSgAkCqEUSbe/4DSBzHQoif//znKB2i+R+FcnTfF4vFbDY7efLkIUOGWF+NdetjaEeapvl8HtM9hw8fftppp+EttfFd+CkHQRCGIUYMr1q1CqqRxHi33cKw1UHZq7bIEkp1fX1c/Amgw8emgjgFb9CCshoAXHDBBbvssgtWAMOAEAB4+umnn3zySagJGUd3HwAwxmbPnp0kCer/AIB5wPPnz0cNAVx530EMIQS7v+Onf84554wePbrXPPzYY489+eSThJA4jlHKx6oP+Xy+XC7Pnz8fO0XaUhAAMHv2bGwBjuYkDPvBVQNVhQG5WIdjO2FTRuuBwciUcGFAkZQlYvqzb/5xtWaxiInOeIKoVKehYBxDFCjlIzteNqC01kZpYxQDQqgBAL2RNNFVO37eo34qacpYTKTPkiE6lSs/bi6vrru/ZkRxXpYhF4QRkKLJNI8p8bZKPpeUe/KciTTJqUT3dORlWZe7GKufx5ZokfWpNDLNtfUUduz220wQhHElF3ser4TaE+ARXQ6F99Uh/p1HjBpsqhmK7PPmzZs6dSoW7oAaiQ0AMCWgtbV1+fLl6NKtiw0RLpfLuVxu9erVe+21V3d398bmekrpaaedhn6A2rcjNhwIQ4+wiZXnefh8pVLJZrO1IUO1GWm46qD9MgzDTCZjB6+Ngak9HOowNkjdKnU4Dnq0MTC6tqaN3d8+QFUK29/iA3tKdjc8pV6HxlIqKIRZQ5rD0Z/YLyrOBljKEwCy2WylUhk1atSKFSs23H/x4sVHHXUUVOV+nC4mTJjwxBNPAMCGvzXHIMS26FZK/fd///fxxx9vX/J9P47jsWPHvvHGG6SaxYuGIULIH/7whxNPPBHTf3G98H3/gAMOeO655+zXyeFw9DMNowCkID2PU62NUlifRCtDKdVcGqMAALQBouk/CvHXNxIrw4RhVFLweaRTbZJmArqnp6d9RN39W0pl7QWJST0quUmUprFo79aZjOpM0pRnfEO04CZJenxmiI4Adq47TkJljkoThYb6MSlILXxqIK4YIRpCAdBaJ0my//77v/7661Bdxe2rthPw9ddff+GFF27CQo+lfmp3uOWWW84///xNHLq5ufmZZ575whe+gH6YWs8y2o0w3AgAenp6mpqaUHS2RiaoiiBW6LdHR6m6Vk/AApS1a1IYhp7nMcbwJSuC23w1tJQTQkqlknVu1N43FGs6OztbW1vtv1YZMMaUSqXanse21JVdbnHMWpUAT8aVy3T0M7U/pSRJvvvd7y5atIhUG/nl8/kkSa677joMEcHfhTEmTdNjjz32D3/4g5X/0L772muv7bnnnjY8coCvzbFxaq0e5XK5UCh8+OGHZ5555mOPPYbVYNGxk8lkrr/++rPPPhv9eOjxBoBvf/vbDz30kFUMUFt49dVXd9ttN9/3e5l1HA5H/9AwvzoOmiilATThCliqWQJCUj9O/VTllM4qyBmdUyYndU5hM+B6Wxq0JDwjOdOGKENT45VEIWn7/+ydeZwU1bX4z7231l5mBgYGkF1cUPAJkgQMKrgEUMkzL++jMZtLXOICoqJxgRjcIIigic+gkcSn8T2fUZOQuEVZFEXcE0OMCiiLIPswS3fXeu/9/XHs++tAQ4QozITz/dRnPj3dt25VV1VXnf30cmSp6tLs1LY4tU2ithFyJZ6JhUh1BLLg2uD7viU8Ab6lMq7K27LWE91Dq1R1AaiTOq94XgkPuGa86IqmGq9pXx/XTwvn/Kc//WlV6R8tPQDQq1evs88+e9fVG0yoNwBgQP83v/nNhoaGnVWJ4Zw3NzdPmTIFAIrFIqYY4uYsy7JtGyOySqXSa6+91qlTJ8ZYJpPxfd/zvKeeekoptXz58hkzZhx33HE9e/bECQcMGPCNb3zjpz/9aWXECyowjuNEUWTeCcPQ930hxLp16372s5+ddNJJ3bp1E0LYtu153siRI2+77baFCxfiV3ZdF+tXAECpVMpms6zcM5Ux1rt372eeeQafc9jxCoOdpkyZYnaMMda3b1/sgIMtk0xG3QknnFBTU2N6ptbU1CxYsICkf2IvY9RX7OI0fvx4qMjaLBQKcRzfc8892NxNa409whcuXDh37lwAwNAOANBaX3HFFYceemgcx0b+q7yrEG0K42w0VZu7d+9++eWXoypYKpXQqhIEwezZs6FcNAJHPvHEE08++SQAYHsvrAg0ceLEww47zBg49tX3Ioj9mXajANhcMa21YprZktmKW0JYnPMsgywDH1gGtMdYBiAD4AN3tKy6hGEYSSUZV8AtZnHuhJI1yVTLTNXF0SVLhgJSJlMGyubcZtK3GVOJ1jqSWknOEmnHGgJQkeOHmaqLCAq6WGJJAqmUUkqdxjKRut088KSUTzzxBBburCzRYPpB+r5/1llnNTQ0wKe7oRuzfZcuXaZMmbJDgfhPwG2hKI9bh7/XQIIg0FpnMpkhQ4Zg3pjv+2EYaq3z+fzUqVMHDx58/fXXv/LKK5s2fRLltWLFiscff/zyyy//whe+8Pzzz6OjAEN3lFJokdJaoxYBAFOnTh00aNAPf/jD+fPnl0olrJIZRdGiRYsmT548evToCRMmtLS0YHI5ABSLxUwmM3r0aJMsbllWa2srqk9JkpgUFMbY22+/3dzcDACozKxateqvf/0rtlA15Tg554sXL8aeqXjo8vk8Vs4miL0JGnFd18UAtjFjxnz72982fX8BQAjx/vvv33fffXh5+74vpZw5cyYAmB+mEKKmpuYHP/gB/hYw6RM1in39/Yhdgd4bvFUCwPHHH3/mmWea3H00dvztb3+75557UB/AVO/Zs2djc1/MDXAcp66u7tprr8XLptJVSxDE3qTdKACClcvJY70wxhwOjo4TW0UiDVgY6KikS0UdlCAMWBCxpOrSWYe1lhSChTJRSuUF1OqgVjYrHVVdMuGWTLw1l5SyKnak0pKFCY+5y+NYSZlokK5O3Ejmw1JNqaUmAJZUXdKsUhnFfc5sm9s1XHRJVNcwqR4v1AYRQsybN6+5uRkd+tjKB205KKlv2bLl5ptvxgf5ri3TJuULylrEhRdeuDMFANm0aZOxiwMAPk5wNt/3MasMDfNodES5+ZxzzvnhD3+IuWuYfyaEcF03jmOc56233jr33HO3bNmSpim6F7DdgSlvqpS65JJLJk2aVCqVMFIoiiJT+BxJkuQXv/jFmDFj8GmXJAmWQz3mmGMwSdp82SVLlkCFLS1JktbW1hdeeAH/xb3KZrMPP/yw1hqLaaBt9dlnn8WwaSi3Wx45cmQ2myXLGbH3MRV+0Hx73XXXoWUXL1GM5scufgAgpXzuuedefPFFKJeDRHF/8uTJDQ0NplAYJQC0cUw3N1P9AhW5G2+8ESMksZgbnsTbb7/dXCQLFixYsGABlN07ePu98cYb6+vrTRG5ffi9CGJ/pt0l33CtNdPaFeCqKAkLBzS9z5SWUmotQWsAxYExxkDs5KvZHaKa+tZsfayFDzIbtYrm1TxsrA2KVYcrHqbMk9wDCbYtIuFYbgenS5+S4wKzXc7zMrC3fJAJN6lUJtytS5urzlNSGQGxbduBlSvle8Y1PQLbDizHTqPP6tB8rqCtrlgsep6HxnvTnAsj0TGMHu/pGBm/s6kwYAYbA6E0XFkDbjvQSlRXVwflR4WJQsbof+wOgU8gNJCbrMTVq1fjR/g+Bs1LKVEEwQfYqlWrzj///McffzybzZpiJqbl2VlnnfW73/0OAEqlUi6Xw8LnHTt2rKmpWb9+PYrpqDy8/vrr06dPv+6662zbLpVKnueddtpp1157baWM/tprrxlzF1pMX3vttaamJhNC7bpusVhctWqVyVLAY/vWW2+hJoCKjVJqzJgxmqrmE3sdVtHpCX/CAwYMGD9+/MyZM/H3iMNWrFgxZ86cCy+8UAjx0EMPmdx69BsceuihV155JY7EH7iJLyc1oG1iqhpgdQQ09kspDznkkAkTJsyYMQPD+vGhsHLlyrvvvvvSSy/1PO/ee+81M2BeU//+/b///e9DRV4BQRD7hHaTBGyzUIGdclcpLbSsEakIm0rbNvZ45X/QSAxaAgDXwJgGAMWr31m2eT3SvoeGh3yx1W/wwqBuw3tsxSKv+QMRVfdCCruYSs4052lq2bwk/FJtz7qDB33Uc0ggPQdEp8J69uc/1m5d5idpqi2pqxtlbVBcl5grmvyaQo8j5UFf2OZ3DriVj912kQSMlnVTd9XUz4GK0jpoI4d/1KvLJLnuWB5nZ4RhiCoHSs/bFc9J0xR9DijZw9+XJ7Isy/f9K6+8sra29s0333zssceiKDIxNvjceuONN4466igAMKm3SZL84Q9/OP3005VStbW1GKXTuXPnhx566KSTTlJKTZ069e677960aVPltpYtW3bwwQdDWXA/9NBD16xZY9obZTKZ5cuXH3DAAbpc8/Sqq66aOXMm7jwOc103n8+vX78epSv81t/85jcfffRRrDkbx7Hv+2vWrOnUqZPJEiaIvYZJ7TV3gNbW1j59+mzbtg3dAtgi6qijjnr99deXLVt21FFHYXl4LGOVyWQee+yx0aNHV5YKrayaRbRNtis5YLS1zZs3Dxo0aOPGjehiRZPH0KFDX3jhhbVr1w4cOBDvbMYu89JLLw0ePBifFGgrIa2PIPYJ7eaHh6YlxhiA5jrhOuFJMS40lkCFXEcCEttKbJ7YPLZZZEHAVdWlrrDRLTULnTLOQUlo3ZzZ9tEBwTrtBlWXCLKKeY7l5yzLV4yFcVIMdKxUqrUGYQsukiBeX4pXx7AmtdYVcqWqS+RboQWxCpNSgQUlL+GZ1PfS3L4+rp8WLN0AFQ0ZKqV/jJzJZDJ4i9+1VomR+lEUoW3e+AF2NjhJEqzMgy4IAMAQZIzqsSwLd8z0n8fXRhP46le/unr16smTJ19xxRUPPfTQbbfdls/nMWQI7ZGu6y5YsAB1kjAMcTbbtidOnIgaQnNzs+d5dXV1L7/88qhRo9Baf8MNN8yYMSOTyVSGAz388MOYTOx5HkYBoeqCX7BUKv3pT3/CQAg8aBj/E4YhvgkAURRt2bJl8eLFpg+OEOKZZ56BciEm3/f79evXqVMnE4NBEHsTvOBR+kctOp/PX3PNNXhPQOVcKfX2228/+eSTM2fOxN8sFuoVQhx77LEnn3yy6SKC2gJUCIhEG8QEdppzhBGPaZrW19dffvnlGPqFnzLGXn311UWLFk2dOhWlf6MYnHLKKUOGDMFYSgDIZDIm3pIgiL1Mu1EAtO9wGUgJYPuxkBscf5ufzxc+YCIEHgIESpeUDjVEACljku9kSe20CGnseVYh8BxVhNhOvXXZriLlVRcrFdLXhbS1wJwWV9R4slY2F91YpLze4ZmwIKG+07bmOuvARPSKve5uIqoukISxyJS4l/firunKrW4DlwVbB/v6uO4GJlwHo27wTSOkovXOJK3uYh4UW42cvesYUDMAx2ez2cqPjCndbBTFYhNUcPDBB9933311dXUYBaS1vuSSS4477jgoKwy4IhapgIpepL/97W9XrVqFNkusAXrvvff26tWrct++8Y1vHHvssVDharj//vtNpU4p5dixY81rrIe9dOlSk72wZs2aN954A1+b+qToKF+0aBHWS9FaL1mypLW11XzBIAjOPvvsXRwxgvhcMX3i8DVeluedd95BBx2EPivz98Ybb/z1r3+Nv0Tjo7v77rtxnsrfdeXMRBvE3NLNOcIbHd6yLrrooj59+pgxePudOHHi7373OxPxiB/NmTMHX+Bders5CYLYm7QfBYABY4xrYFoLDTZwFyxLC0/7nvZd8H3t+9p3teco11GukzpVlyzYrrREagnpWsp3tOemlpeAZE7VxZGWEwtbWq6y7ETwCERqOamT2FYJdMBVxHXMZQhRrINi1JKCXX3RVqqdJLWSiMeJlYCd2F5ikQX3s8fYk2zbvvTSS+vr67EaCQBgAsDXv/51EywEAGEYrl27FgsXokVTKfX0009DuWuBlPKII44YOXIkthgzpnfXdb/2ta9hNVK0Y61bt+7DDz9USmH3gGOPPdbzPNQ9cP558+aZUOlnn30Wys9RTGnAqkda61deeQW3LqV8/fXXcT9xLc/zjj76aPMvQbQF6uvrr776atMiEP++/vrrLS0tKOdhDuhVV13Vu3fvNhd3SuwpqN3l8/nJkyfjO4wxDFxcuXJlY2Mj+lrxjF933XUdOnTAm6ep8EYQxL6i3SgAiQYQHECBTIVWthZCc5HyVPJUcqlEqkQieZryJGFJwoC7VRclY6VUrLQUruSOZCxJU5XGAE7VhTGmGHBuMWFLxhPNlRaK85TzklKR4Mph4DLuMMdltq21tqsuluO6rufZGZtlBDhceCm3Qr7TQHliz8DQGgDANN9vf/vb5iNTpOLrX/86PrfQfKW1XrduHYblGP/Gc889V+lYGD58OFY4NSXPsWjPqFGjMPnYZD+///77xkPSqVOn4cOHQ9lHAQAvvfSSqeezZMkSx3GCIDAZkJ7n4euFCxcWCgUsmbJkyRKzOmOsR48epgAoCVJEG0Epdd555x1xxBG2bZt6oFBO+AEAKWXfvn0vuOAC9Gvt490lPjtQ2fv2t789YMCAmpoaLBMHAFgyAcqlY3v06HHZZZd5nmfuZpUeg32x4wSxv9NuXG9SK82AMwCtLAlaAUu5kiKxPnnAcA0AoAHwZpLo6tV1hJ1KN01tmWpVYhEXaeLE2tM8qj4+ETxiJUsoy7JCFSYsCkUiRSpAaJCCca2lSmWSJJZIhJZc7WSeKOJ2DZfSElJobTOlueYs2VnHYmLPQIM9vk7TtEOHDsViEQOHMLomSZK6ujrTRgCfPWEYmpr9+O+qVaugovaF53kLFixApYJzjnb9OI7R/B9FUZqm2OV0xYoVUA5s0FqPGTNm4cKFWP06juMoipYuXTpkyBAAeOaZZ/BJKaU8/PDDu3btumDBAlQegiDAfAMAePvtt3FXsd3y0UcfjV1Ud1E6iSD2MqhL33rrrSeffDIAVAYC4VVq2/b555/fu3dvqv3yL4bWWkrped6tt946duxY9HDijRRr/2O9svPOO69r165QvuUaNYBuYgSxr2g3CkCqNHwi5WvBdKQhVkwIlyUlwLuJLseCAwCAtbNnjE4dAQ5LhAy4arV15ILSAhiXVYcLlkpILKY9LqWWtgBpQyK0G2vLYrYlhJIWt7hKbWZZlqOg+jyWSDSLNAMLUq6lSCPGSi4XANmq44k9Yzu3smk3ZgoTocnfVPAEABTcoVyREABWrFhhCl0rpdI0nT179k9+8hOcxDgBAKBjx45RheoohNi6dSva+LFk3oknnmgGo8Xr+eefHzRo0FtvvbVx40YTMvHlL395wIABCxYsQMmec/7UU0+NGjXq3XffXb58Oe4V/v3qV79qNrfraksEsddAK+9JJ510yimnPPXUU3itmp8VY6xbt27XXHPNvt5N4jPGdCwBgFNPPXXUqFHPPvssVoKCcqIw57xnz57XX389lCN/jO2/sggsQRB7mXajAABwpgG0ZIJLUIlWigsvm/fZJzlGXAPqAEwDYyyNk6qzhJFmMXdjxjUICS53ILVKBW2L6oJ7LgLL1pYCLoFJZoHlSieJuKNUrBkoFSsNdiYJNSgJSmiontdr2zxikCpQggvOI6k8Jl17J2oHsaeghR5lbtd1GWOO4xijI1ol8bG0o+UJH0tSyvXr15sKoZzzbDaLabiVFk38tLGxMZPJBEFg2zZ6FRzHMXlvjLEjjzyyvr6+WCyaYqBLly7lnC9cuBCj/7EI0rBhww488EAcgIkKixYtAoC//vWvJqUhDMPa2toRI0aYJyhJ/0QbAa9Jy7L69euXyWRKpRKqBPgXxT5TRWBf7yzxmYH3W3ODHTBgwLx58/BOiKceALCFuWl/bi4AtK3Q9UAQ+4p2owAIYFozrSUD0JzFAhzftzp0CL1arT4BlGaMCdQC7OqOxTTbIcl1D6yciC3XzmRqu+m6XiVwnTSuOp6nLHBcO2WSZYrcZZYT+Q0FUcu5VFyEoBRnUFObKLsUlBQw16663OSKAAAgAElEQVR+SKUuFsFLXJ7PenauPnbyltYcHFIAPnOMZB/HMYrI2z1msGaREaxxvJGqTWiNaWaJ0j+GD5lJsG9XFEXo48ZnHpYrRbnH2PJHjBjxm9/8BtdijC1btowx9uabb4ZhiBuyLGvEiBHdu3dHXQVrqr7//vtr167985//jD4HlKKOOeaYhoaG7XaYIPY5nPMwDDdv3jxnzhyshGt+Aij9b9q0acaMGZdddhmWfyHd9V+DSkvE3/72tzvuuCOfz+MNE+9m+Gj++OOP77jjjvHjx5uCP3hDwzvkPtx/gtifaTcKAOcW13GqNYDSnKWcWZZl1+Ry/Q+XUqpUSimxWQB2AtaseoWBTE2/uOHAlmxNnMi87eS6dLcPPMy2utY0b62+XSlcL7EV5zpjqcj3feUfYPftXyqkIdcJB7cm16Fvb1ZSUbGgmM3S6h4AXwQW+DF3sjlX+B0g3yVpTUFyBtU9FcQeg/IxxtwDAPb3xVB+TEA0Tx3jK3AcB19gYwHTEwDKwc0XXHBBjx49sPAoRgeFYej7vmVZQRB4nodN0KIo+sIXvoDyujF5nnrqqb/5zW+wkbDW+rXXXtu8efOvf/1rfGpaltW1a9d+/foxxoYNG7Zo0SLsWFwqld58880333yzMnjpmGOOgbJvgUQoou2gtfY877LLLkPpHxVso2YzxuI4njZt2iWXXIJOuX29v8RnA9o7bNsOgmD69OkAgNI/foQxYOg4nTp16llnnVVfXw/lWzTZ/gli39JuFAAn0SXtOI6tklhwr7NSYRRs9I/46KAeVcfrnRTYyQc13Nb1YWvkhbFSa7XXePgxPIH1Oy1Gv4kr31IZIXiiCh/JwBK+iFlieSlTnUuppYqv9R5tKdWxlESWLln5qrPkIm3pJNHpRssH5mebPwYnKFqtTli/B0eD2BlGpjcGfrQ5mbI/aDjHMH2U0aWUqCpgAm4cx926dcNHFMrilmUNHjz4e9/7HrazwWgfFGLQ942yDgbzmDgizD1QSp1wwglQbvSLScM/+9nPoGw8S9P0pJNOiuPYdd2xY8e+9NJL6GfwPG/evHmLFy+GcmKD1vo73/kOrmh2gCD2MnjNmzbVaONnjD3zzDN/+MMfoCz9m/wWAMCfzLZt26ZMmYJiogkaMfotJQfviGm3/Nxzz1mWZWoV/PP4vi+lHDFiBLZF3y6S5x/uFVR0gMEXixcvfvDBB43Khy983w/DEC+Dpqam6dOn33bbbTgJWliwOwTdzQhin9BuFIBP4jFAAmeKaWBaCW1Zsiaq3a15ilpbKYjUzjIrCyrRkHJQDPJR9RCgkl3DpAc6w4F5wpI8r7RQ2hW6YAFLgQGzNBeSi9jWscNzxeaq80RO5xQiYInitpJcykSkYNMDb19jSgaZJ5/jOP369cOSQWjmj6Jo2bJlpv9REAQYvo/OBKwyZFojIzgYH6g9e/YcOnToq6++air8zJo1q9I4etppp2HVIMwYxnnCMHzyyScLhYIxph566KG1tbW4XRxDMhOxl8HO2Sj9w98bcX/yk5/gm2maor+rU6dOW7ZsQd0Yx9x3333nnnvuYYcdhioEAGDb4Eo33b74Wm0RFItt225paTnttNMw0agyCvGfZPTo0cceeyzeedCQv+ubiancj/dGfBNfJEkyc+ZMY3zBlsBdu3ZtbGzUWmMsUJqmd91119lnnz1gwADMC/c8L4oipZRpnkgQxN6k3YTfMSYYKKak5jrhPGJMW4oL2WrzqkvRqr6kGZ1YTGpHJ76tPIfZIJT0ILDyVRdH+Jy5SkOaKiU5aCtKRTERFlMOEwmIiDGWaJbIUpxGMdvZPGGclJIo1onSsdRxwrQE5ktqBLaPMZ4BjNtBV4Dv+3369EErfhAESik0bRaLRTRrpWkax3GapmmaZrNZbB8G5eYDpscwOgeEEGPGjMF/cX7THQkAGhoaRo4cCQBpmg4ePLihoSFNU3ysrly50uxnmqannHJKLpfDrVT2KCCIvYbRbPE6T5IkSRLG2L333vvcc8+FYWi03IaGhueff954AwBACNHc3PyDH/yAMRZFkWnybYKCSJutBAMOi8ViTU1NEAScc+w38pmAEZJo40CDQmVxs6oopfDOUxl8iLe+X/7yl88++yze9zBC8oADDnj66adxh82KYRheffXVAIA1lPE7oi/i8z6YBEHsSLsRIDRjXCvQKRM8AZEwxoXmqmjBlqqLo6svObbVcsI4w7dZsiAS5pZcaPLkZkdtq7rkky1ZtTkLW1y5IZNuyMjNHmvOZkKlUq5BW+A4uktS6CmbO+vmrro5w1urLj1Zc0e9paPcVBdvyuuCZesUGI/J3LWPQRl6x9LUI0eONLE9ALB8+fIf/ehH2WzWsiws/4/GOUwqwLQBLGmHOQP4FAQANH9+4QtfgIpWvhh3hJs+7rjjcrmcmWTs2LFGN8CempiWAACnnHIK7qHJTqY0AGIvgzI6tnPinKMQH0XRXXfdhWIcNqmQUo4bN27AgAHf/e53oZyOj9f/k08++dxzz6HhGcq6BPbvo+t5O9BMbv7FY/uZEMcxCv1VO3PtDFPxE2v/m3yqO+64QymF5gm07l944YWDBg0677zzjAaIZ/npp5/+wx/+4Hkefi8T3Pg5HUCCIHYBa3O/PZ0mzLI1SJaI2L7khfcXb1IissFxeFLkOlW2W9I2AOSgIILGbhvfqzqNkNW/V6sDcceDmjsc2BzrLBS6yCa18UMotWbS6qE7qXYk98ByIQ59rpjjFr1ap0uftarWtrOJkh100d+4Ihc3BmEIzOG6qeo8rlXfLLcJWwmdDzv0aerUJ0icmlCEDjhWKVCODQ5TxcB2vtzJ/fnoXu1HNduXbBcDg75p46dGidzUIsTnHNqoUHyptHjhcwuHpWn6/PPPjx492gywbTufzz/99NODBw82oT4o6Ni2jXoCRkcAQBRFlmVVhji3trb26tWrqanJtBFAI1wYho888sjpp5+OpT+TJPnf//3fc845BwspAoBlWfigbWhoWLVqVaWvvDLlgCD2Gib+xzBjxozJkyebvBoAOOCAA5YvX25Z1oYNGw466CD8mZiOGcOGDVuyZAkA4A/HRLqTTmuoNEk0NjYedNBBTU1Nn+3D+uSTT/6///u/mpoaAECHzC5KC1Tt3oX/3nbbbZUdHizLqqurW7Zsmed569evx3BKvCowhOnYY4994YUX8DaIpdUoAYAg9gntxgKdAthcCyW1BlDMYuCmqdy2OXprftXxYifOzIyXtQ5m0u8WCS+bxrkt65L3/sIbN3O7VHW8J3nILOa6LAp8LVPLFblOWVliBxwLikkm07ApXfGWbF0TJAWWiJxV3YsdcCfQTRmb21Br9Y5Fh07a6si5BZDu0fEgPjMqVQgUQSzLOumkk0aMGPHiiy+aBN/GxsaTTz75+uuvHzdunOu6aEVDO9Zvf/vbRx99tE+fPlOnTsVaQzinyYfL5/PHHHPME088gToG5k1iWvCxxx5rApBs2z766KMBwIRSmFTmYcOGYegRegNMtaK9frSI/RqTf4KBakKItWvXzpgxI45j9GthbMl3v/tdx3Esy+rVq9d3vvOd+++/H6V//PSVV16ZPXv2xRdfjI4yrBGEzi6KAjLgPSFJko4dO37wwQcdOnT4bOfHXCZU5xzHwbgs45mpuj+wgybQ2Nh4yy23MMZc1w3DEC0X55xzTi6Xs237wAMPvPjiix988MFisYghTADw8ssvz5o1a+LEiVEU+b6/nTJJEMReo92YD2NQjHMOwJVmitlaeInk27Y6LKq6CFF9Ya0b05ZtKlYWuHbKZMu2dOt6q7RNp3bVJZfGTtQqwhYnbrWjVlZoTFq2qTiQoKXUWljcYqx5m1vYllWlnAxVwqsuThxl0qQ2CvLbtrktjUKWFJOK5Ld9DcrZ5nlW6RO4/PLL0b5uQneam5uvuuqqnj17nn766TNmzJg2bdoJJ5yQz+fPPPPMRx999JFHHkEpx3QS4Jyj8hCG4bHHHmucElgeGwCGDx/euXNnHIkRFIcccsiXvvQl46nHPbEs67TTToPyc9c4MfbeYSIIAKiQ/FD6T9P0v//7vzdv3iyEQNkd/QDf+973UFMNguCWW27JZrNQlv4550KIW2+99cMPPzRCIcqdJP0bzM8freOfufSPPhmMPITyaf2H0j9U3CHRhPHjH/+4tbXVmDMwjssUTIvjeOLEicViEVcUQmBC8PTp07du3er7Pt4MP9uvRhDEp6TdKAAKNOMamAKlQTFLcktKKBWFsqouTFdfklq7YPMSFwmzE81KaVoSmnXMMFasukSOXeC8ZLHIsaXvxp5XcO0iRmJIrYSjhSWjGFLJhS0sb2eKh1QOZ64Llh0lLAi1SkBItpNmBcReAxMZTRavid3XWv/7v//7zJkzPc9T5bqi+KxqbGx87LHHrr/++ptvvnnhwoWYJQwAa9asWb9+PeoAJs4HYxs8zxsxYkRlQVJsRjZmzBiThYwBvph+gI4FLKCBmz7++OMx5gcATCUQenYSex9TvQoAVq9e/cMf/hAAsJYuhpGce+65hxxyCA72fb+hoeFb3/oWmvmhHDi3bt26J598Mk3Tykbdu05C3a/A6D6MYMTfexzHn2EIkLnhQDkN41PeTIzpIYqibdu2zZgxo7IeVBRF48aNO+yww3CY4zh9+/Y977zzULUwBZc3b978i1/8AreOUY6f1fciCOLT024UAJ8VrNgrpLWR71tCFjxWyGXclCsGVZedkW/MZGPpu6VIbJFuCtzxuSsKacq8qss2bbmM1TInVZlW6XAma7XyQ+YpaflWJtap6qxhQ8kXMtFFzpQWVReXN1opa9bFllzOYWHidvED3uxT/M8/hUm9hbJcgrExaGvH8GIsV4JZhqbcNT6fRBkTSW9SCPDvhRdeOHXq1F69euH8KJejlcsoDEZ88X1//vz5WBwdyhl1ptznoEGDevfubVbHMWPHjjVCj9krLBmE4Lpf/OIX+/bta3zlxlBHFlNiL4M/K5OwO3HiRPOR53lJkmitJ0+ebAYDAOf8xz/+cX19vfmZ4KdTpkxZvXo1lGvJR1FECS3bgTcE/OFjlM5nODOUj7z5u4vxOxodPM+bMGGCuZUZZ8KECRNwgAlfvP3224UQePPEMZZlTZs27YMPPlDlsqFmQ7rMZ/VNdw3mn+Cumu2SQkLsJ7SbHACtGQDXXHMluVZMpVyloCKlq9fv3xlh1o8FTxMutCfiRCdcMs4y3I+qy+KJzS2QEAU6AS4Uk5GEQMWhAi2VFCCEsC0nKzhnClJlgS5U37CotZlrWSlTFlPAU801k8oCIKPXnoDispEYUC758Y9/jLdyYzzDOFrztDP956dMmeI4jqlEjhHMlf0phRCFQiGXy11xxRUnnHDCI4888vDDD69atQrz2Mzzybjp+/bte/zxx48YMcLsEpbAw4drmqau606YMCEIAtwWRjxjQXQzGHd40KBBN910k3myOo7Tv3//vXt0CaI6eHlj1soTTzwxd+5cU+YlDEPG2Lhx43r06AHlBH30g3Xs2HH8+PE/+tGPAABtwADQ3Nx8++23/+xnP4uiyPM8bEdFgW1tE5OizcvtC+fPn//444/jHTWbzRaLRaXURRdd1K9fP6johAgAtbW106dPHz9+PN488YJpamqaNWvW7NmzTU75dtkFew2TbWU6rpBhhdhPaDdVgBIrycpsACm3UztS2nGy8Sb+2rzc1j/v1vSBTFq7D4EjxibZHnVRC3v3efn+/A7QCKKm6nglbEsGoHmkLN/lKi202LW1A49bdeBxseS2Akdp/8lJGQCe6DABJ1vdiBVHGizPtbfwwLfrGz4YeYEtOoSOL4KQqgDtAds9LfApUtlICKVnU3DTqAGfBuMxwFXwb0tLy/Lly997771NmzZhiZ5cLtfQ0NC9e/fevXsfcMABJjnSWDSNqb5UKmUyGezsg4JRHMdSSt/3TaRQZQsk01wM/RvUHYloI+DVi9f2qFGj5s2bh2nBKNgJId54440BAwZU1t1CNmzYcPjhhzc3NyulsJUYKu3z588/7rjjdqwsRLQ1KiX1KIrOPPPMuXPnmqoGUsp8Pv/qq6/2798fTz3eQlGY3rRp0xFHHLFp0yYAcBwHQy5d1/39738/atQoVe4eADt4Az5vfQA3XXmv3nUmNEH8K9FuBAutuGYATGsVW0oBWFpLaYFOd+8GkXE0c62CllKpSKYZS3sCOqRy7c7C8ZPU54wxrriQXKSap5pjDgJIJUDZKnG58pTK2CBBbkurVzRzPFBCgRWr1NYeiwWAEIFmud09EAQA/H1SGtYjR/HaPEXQWIV3c6MD4EctLS01NTW4opkB3zRjjNidpilOUlNTc+SRRw4ZMsSI+LgD5imF3S7Nw6NSoMG+p/gOGvtNcD+Uc4Wh3GsTLWpQzrME6vhLtBlQ1HNdd86cOc8991xNTU1LSwt60tI0/da3vjVw4EAcaaLvcK2uXbtOnDhx8uTJJtoHc4Jvu+22Y445hgz/bR88R1g76KGHHjLOH7wkAODMM8887LDD8D6Mq5iyTrW1tZMnT77ssssAAPuoKKWiKJo6deqoUaOMW2nvmyM3b9588cUXP/XUUz169JgzZ87IkSOpIzWx/9Bu7Mxcc601cA0sZRq01gnjkKvxZbJbiw6VzTjTScKLJV6QLjDG0kKc12nVxeaJJ6TFIovFkBQhKdo8ESxONGeM2TwVOrEsnupUpiWhi3lIqy6ZqGiHRRbFXIMnXEsxTzEnpFjDPcSU04GKUGMsTYgPEnyWmOoirAwAYOlrE+iJL/BNVgE+oizLMlHLxiGAUT1pmpqSPvggxM3hv5gegPvmuq4xnmHnHdwopuKZ3cDnpQkKwuxkoFh/oi2BwXK33HKLZVktLS0o7fm+zznHhGAEfW6o3KLFd9KkSX369MFfE/5GLMt68sknf/3rX5sM+H32rYh/BBY0w8a906dPh7L9Au9O2WwW5Xt0cuL9DV1D+OL73//+wQcfjPc3/DSXy73wwguPPPJI5Vb28jVw9913z507N4qiDz74YPbs2cYiszf3gSD2Fe3mQrcZaKkUA81AA0+1FYoMdOiWWGK3lqLXTXudtXCEI1jW0nU1YYeu27JdRcqqLjFnJVAlrUpaBloltiVy2VQImWoOSmudCAfqurZmu2yy8ptFPmKs6sKgJtV1Ca8Ht5vlNfDUzSWsLtq9BAbCYCLmTbg/1sU3MrcQAivTbVdaBEOQMUQVa+2ZtF0TnQwAODMWszMpj0bTqByGOcfGhI+ivyltYYqfQFlpgbJFH13n5n2U/o3Qj24NrJNI1VGINgKWdJwxY8bq1avxYsaLMwiCiy666KCDDgIALIRlKuFCuSsfAFxzzTWlUgmLBRnz8IwZM7BO/D77VsQ/AkMW8STeeeedK1asQIsGagUAcPbZZw8cONAkBJuUKiz6hA6fK6+80jR+hvJ1cuONN7a2tuJWTKsBk8H1eX+vxYsXK6Xy+TwAoCIahqFJXyaIf23aTQ6AAyAlK/kp53GuZAV2TWoFHYvr6z7+225NH/id7fo+W1lt4rmMt+TiRr5pbS6K7VJL1fFFwVwVKcWl8G2eWjxJ6w4I6w9en2QdroVKpVvba+28gnKTUqvLlaOq3zuy0m9hrvKaeVKTr8292XnQAYmCJCo4HuUA/POYABuUrSsTELcLL8Z/TX4wlF3P2JPSjDRSOMolYRhihy/T22vHfTAPLfQPmJZJqD+gDISPNGx+aWKQTLpC5WyVbmhKjiTaDps2bTryyCNbWlpKpRJmf2IdrWXLlnXt2hXL5pq0lsp+eaVSyff9/v37r1ixwjS5wxlmzJhx+eWXU9xF22fNmjXDhw/fsGEDhjuiEF9fX79o0aLDDz8cKuIVzf0NwZvtgAED3n33XSjHkuVyuUKhcNddd1144YXG+Ql7MSH43nvvxU4FmUxm7NixDz74ICUAEPsP7eaGK5hONSgGjIEGkWorFh7zO6zrO3y35uGc26Ku1Cy5ArB5yalJ63vHrldKq0vcGelEaaA1aDvHdMR12OLUroWGntZWoVUpVZGTieoPDJ1OURSltmjciUKV19ACrvKb7MgNbbnBdTNx0bVikN5uHwui4gkRhqHneSYDuLKgOL6utM3bto1eaRTNK7saVcboo6yPH6H5CiUY+Puq1ab8qFkRkxAwuxHKyoZ5qhlxH4fhv2gtM7VHjVsATWs4M3VIJdoIaZo+8MADGzZsAADP89AhIKU866yzevbsuaPWjb8djJTLZDIAcOWVV1500UXGqYVqwG233Xb22WdjUzyiDWLO16OPPrp27Vq8d2GEZJqmY8eORekfb8KVBRiMKwDtLOPGjbviiitMT4NCoQAAkyZNOueccxzHMXe5vWbv+P73vw8Ajz/++EknnXTOOeeYfgV0vyX2B9qeBwCKKbiWsiCCJh9++PxfFq2VKmpgvGAxzrgGpTloAMU0AICC9h1GL0FzK6pVli44UaYusFpGdghuP/UoQQZfgiD2HcYHhSoxxtetWrXq0EMPxTJWUG7uCwAff/xxhw4dTAM7I8CZSYxQWCgUzjjjjKeffhrK7fCiKLJte/z48TNnzkRVwSjtQRBkMhmjGKN2YYrG4FawxJbZkHm/0qFXaY3ebkBraytGgJjsVbQpVCb3G3EQRV6MX8LN4Vo4ldmKmQoTXv8FopvwG73zzjuY5G0qZuL5Wrt2bdeuXc1R2s72X4lS6rTTTnviiScymUypVDI+1R/84Ae33nprpdUD/v4KxIDMylBJM8zU7ak8U8YBVVnpAd8047f7dEdHK35rjBTFL2tsMZXGGpPvbraIf0mRINo4be/GFGsA0BzAAhsgo3gaxCzjS8ESi6UcYq5LKi1KGXCVWCxhte16iVinInTaqvMtTm3J9sI01pAASf8EQexTKgNyjMQ8ffp008/VSP/jx4/v0KEDClWm8s+Ok6AwlMvlLrvsMvQGSCmjKMpms0mS3Hfffe+8846pfBVFkdY6k8ls27YNhb8tW7YY0crMaRwLKNhVNugw3jPTZENrHccxug3RcZemaT6fj+NYKeU4zrZt27DfH4aqo6HayHCFQsF1XSEEVgGGcq9uTCgKw9CUGjPSv+M4Jv+hXYNKzr333os6HkrtmB81YcKEDh06GHcoBv3vbB7O+QUXXJDP50ulEh46PJuzZs3CrnB41pqbmzGty/RmwZwuc3nYth1FURAEUK70YGpC4GVQmbWF2y0Wi3g1Yl04qOj7bjoiQ7kYA86D39oksuPWTRYZ6iG4Vxgs2tTUVBnV2fasqwTxd7Q9BYC7AFYAEgSIGLo7voiSQKe5wPELwis6NUmuI+vYkdflkpwTuBkZtOulxtKuUkEqI9eKbWZxVpvLt2+nBkEQ7RyUm1ESQpls69atf/rTn+677z40gXPOURLq2LHjueeei7WtcN1KWzuUc+vxUxQcx4wZM3jwYJyZc47ydGtr61VXXVVZOItzvn79+gMPPJAx5jjOAw880NLSwjn/1a9+ddxxx3Xu3JkxduKJJ95+++1RFJnivFu3bp0+ffro0aMZY3V1daNHj37ggQdKpRJ6MDD6zvM8lAUZY8Vi8cEHHzzvvPO+9KUvdevWzbbtbDZ71FFHXXbZZS+++CIa+5FcLofW7uHDh+P3dV33ggsuwC9rogpRKu3Xrx9+BcbYVVddtddO3OdEFEUvvvjinDlzsLKCZVmo5GSz2fPPPz+TyWC9BLwwdt3SYcyYMUOHDjUBkFDuDHDNNddgRFkQBLW1tXEcJ0myZcsW27ZramoYY7Nnz8ZjO3v27K985Su9evWqra095phj7rzzTqORonY6a9asr3zlK4yx7t27jxkz5p577gmCAGsrB0GA6gFmp6A+mcvlGGO1tbVJkpjG8LZtf/zxx/X19ZjW9dRTT+HeLl68+NJLL/3iF7/ouu6Xv/zlCRMmLFy4ENW/uro6LG+F+gnltBBtnLYXApRCakEJ0jxwpvhrG9Tti95/M3LrdIJWGeCMgcDfsBCiHaUxVKU23ZRwXuC2dGqLQdydB987qsc3/62eEpEIgtjnVMbkmJCGyoiXtWvXYuvf7RI3jW0VTbnGYopWcyhHFuFdvVJkNCZkFMXMhLNmzTr//PNHjhz51ltvYQCJ67qoqAwZMmTJkiW2bT///PMXXXTRihUr0CqPBWoA4Bvf+MbPf/5zU//XxPD8/Oc/v/rqq1taWnCwCQjxPA8l3SuuuGL69Om4e9gaHACefvrp//iP/0D/gOu68+fPHz58OFTEovz85z/H4HIA6N+//yuvvFJbW/u5nqa9AwZHAUAcx1jKCVsWYhMVHGNqHlSdAdsIJEliKiCjylfZxlFrXSgUMC4LKq6oWbNmnXHGGWeeeeZLL720XdOAoUOHPvPMM77vv/vuu6eeeurGjRuNjR/1yXPPPffmm2/u3r07VBRhw5kZY5iJjpvGa9sEcWHgmW3bN9xww/jx47/zne88/fTTpp4bVjcKw/CKK66YNGlSfX09XgPUSYBoF7Q9D4AGrsECJkEBg8Mb+JFd8tnSBqYLrh3nfMj5XIhI6wB4ZDugdLFdL1vBKYks8/MgIBO3DMy7X+hS77Z7jzFBEO0YU8odhTkM7dguth7F6x49emDNq8pAFzSZo40GJSHjTEAbfBAEKEFaloV1eDFEB6voYrJ+ZfyG67qNjY2jR49+++23oVxQKIoi3Ie//OUvZ5xxxvLly//zP/9z2bJluOdJktTV1eEMv/nNb6699lp8E/UKDBnKZDJYgxIr3Jt9DsMQ0/f/67/+65577jFOCZzt5JNPHjNmjNa6rq4uiqLbbrutMiaqtbV1woQJpnLAzJkz/zWk/yAIPM9DC7rjOHgxYPgWSv9YKtRk/VbF93089VhwE8r1js2A5uZmxlg+n0djPx55PI9RFH3tawVgXkgAACAASURBVF975ZVXWLn9MGMMD/Jrr712ySWXfPjhh6NHj960adN2wffZbPb++++/++67K3cML9owDGtra1H6x8QPXNFxHLMDqLhaljVixIjnnnsOpf9OnTrhp2EY+r5/xx133HHHHehigoqQuc/u8BPEZ0+b8wBIqQVjikHCEh2Frpt/eXUw972VSzbXlcIgSVImbGY7mnGtgAkOumlf7/I/RZhp0KWiSotZOznYTr7bv89pR3YEUCDanm5GEMR+g5QSC1ttZ80Nw9B1XfwILZ3b2TtNX7zKrFDThs+Aub+YK4mW/qp5vVi0V0pZX1+/detWzvmkSZOOOeaYVatW3XXXXVhTEiX+vn37rly5sr6+/txzzx07duyyZctuvvnmjz76CGdQSi1fvvzAAw9EIzSarletWnXYYYede+65o0aNGj58OJYhev3116dPn/7444+j/di27aVLl/bt2xdtvZghsHbt2iFDhmzduhUAbNu+4447Lr30UvxeU6ZMufPOO5ubmwHgW9/61v/8z/8Y10H7BdWz7VKcEYx1wTMYhuGOF8x2oFiMgWRmNsy4QBXLRNujHG+KpDU0NGzatAkAJk2ahKrgL37xi3feeQel8zRN+/fvv2zZspqamu9973unnHLKmjVrbrrppvXr12OtUt/3X3755YEDB+KEJqccdwPP9XYaAiqKmCpQV1fX2NgIAGPGjDn99NM7d+68aNGihx9+eN26dTg+k8m89dZbhx56KH4jcgIQbZ82pwBEoN2UgYbYBgWBB5YEe2UID62Gjz/evG79hlKcMO6kAEmqtGaeaN/BMjzc1tES3TrnDurXMKx7x6G1AApaeKGGt+8HBkEQ7ZdKkb1S+MMYHjTeQ9nSXynoGFeAkenNupVjoCIrAE25pqqM0RNMnz4oG9dt237hhReOPvpo1BC2bNkybNiwDz74AAW1OI5zudy8efOGDh2Kbopisdi7d++mpiYUJW+99dZx48Zls9lK4Wzz5s2dOnUyYU74UWtr65VXXjlnzhy0WE+aNOmGG25AqRc3DQBTpkyZNm0a2v4PO+yw+fPnd+vWbe3atX369EGF5KCDDnr55Zfz+bwpItx+wQOI8S3Gvq61xl4QUE6ZrZTpq86Dh7fSiWRi7qHi2OIAlOwxv9Z1XTTJv/322wMGDEiSxPO81tbWww8/fO3atSbcy/O8l19+efDgwajgrVu3bvDgwZhHHsfxnXfeOWHCBChHIuGu4vWAFyFOghqsKdaM8WYAwBi7++67L774YvN15s+f/93vfnfjxo241rXXXjtt2rTKJjAE0abRbYyiljrSuqQTrQNdktFWncap1lomOo1UHGmlldax1JHUkdaJVu16adVaK51o3apTpWMdhGkYfLyvzwJBEITWGs2iSJIkJlYHC/iY12Zw5fjK1TGnU2uN4hG+MK9xWBiGZkX8CCUzfFShBG82h7Pdc8895lnmed7NN99sZsMY/dtvvx3KBYiOP/54XB0nx67bZkKzq62trVrrp556ysyMK6Zpil8ZZ9ZaH3HEEUa4v/POO5VSF154IQrBtm3ff//92x2f9gsebV0+L5VHDDOwdfn0mZG7wFw55gKovDZwHnM6oKwr2rY9depUMwnuwz333IPKBiqlM2bM0FoXi0WzlWnTpuEJ8n3/xBNPNOcOU010OebHpH/ov79o0SmB0vy4ceN0+Vdg5pk6dSrOb1nWySefbK5h89UIos3S5jwABEEQxP6J/vta7LrsPcAYj2XLlvXp08fkH2ut16xZ06dPHzNg3bp13bp1g7LIGEXR0qVLv/jFLwKAECKbzW7duhUt/dsZm9GqjRE+aHgulUombgdj32GHyvHPPvvsaaedhm3Cc7ncH//4x6OPPhodIKeeeuoTTzyx4zcidguMqkcvU5qm7733Xp8+fUwyhlJq69atDQ0NUO47tmLFin79+kH5BAVB8Je//GXYsGE4fsfzCH/fdAwdX+aUmcsPHUF/+ctfjjjiCBxpfBQrV6489NBDdzE/QbRZSAEgCIIg2gQ7UwBQ3G9qasJ8UxPDEwRBPp/Hmj9SymKxuF0zsi1bthxwwAGmuii+wKr/SqkoirAojW3bmzdvXrp06RtvvPHhhx9iHaHnn38ed8N1XcxYNYId2s845xMmTPjlL3+JHW179uz50UcfAUCXLl3mz58/YMAAoLay/xxaa1Oxh3O+ZcsWTAg257dQKHTo0AHTBrTWJlXd0NLS0qVLFzx9O55H2IkCgGBcEABgGklzc7NJFDYztLa2duzYEevbVp2fINospAAQBEEQbYKdKQAAgMUZAcB0j8KRWEvUVCsykxjJG8vDowJQ+bzDiPY4jhcsWPDAAw888sgjWMzeRJ/jbJWb1hUdplAQbG5uxiqoqAPg5m666aZrrrkmSZIkSTKZDOkAe8zOLgBTaVRKmcvlUOzG8Zjy67quqcpqrqgdzyPs3AOAZw2vrsp1Dea0moZiVecniDYLKQAEQRBEm2AXCgCU7e5YwkWXo8MRXe5Ea3QDU0ymUtRDwR3bdfm+v2LFipkzZ/7qV78yhSCxACgmg2JxehT04zg2e1LpB2CM3XnnnRMnTsTdsG27S5cuy5cv3y4xmsTBPQPPNYb3QFl/q8zhVkph3X0AsG07CAJjntcVlf5N5dAdz+POFAB8jZ4l/NRonojJdd71/J/zESKIPYeuToIgCKIdgNJ/pfCN7xspH18wxuI4xppCZgBUiI8A4Pt+HMe33HLLvffei9K/ZVlnnHHG73//+zfffBM1DVPHfTszmda6Uh4Nw1Ap5ft+mqZBEKxbt+7ZZ5+FcgtkbEL8+R+bf022C9TBBG7TLwz1QyOgQ/lEGyVQV2tOZ9iF9dPkAZvWEACAaetQrmSKZYJ2MSFZV4k2DnkACIIgiDbBzjwAaAM2TyvjB4AK8a5SFqzs9orhIijPoREXI3zmzJlz4YUXAkAul3Nd98knnxw6dCgqGBhG0qFDByzqgqsYYdQ0rwWAV1555eijj8Z4IQw4iaLoy1/+8qJFi0yMipEgiT1guzr9eIIwoKvy5ELZw2OcPCZzwFjodzyPlQ4i+PscgMows8oauBgnZlwQWmuMMdvZ/HvtQBHE7kIeAIIgCKJNs52hqqpoZcZUFg/FN02zApTs8Z1nnnnGsizf9wuFwq233jpo0CAoC5GO42Dh+cpAIzMbRoYAQBAEl156KYagdO7ceejQoTjs5ZdfnjlzJvoQTMcr4p/BnILKoJrt4vjNucbeApUdBnZ2Hne2ue1Cd1CvwDkBYLu2d0Y1/fTzE0RbgDwABEEQRJtg1zkAKGxZloXSWGWaJq6FjaVwRdNGCoPCMStUa421PgGgoaFh8+bNAOA4DioG23VvNXuCXcaMUdlYiKdNmzZp0iTc3LRp04YNG3b88cfjKh07dvzwww9ra2tN0ytiD0jTFFsvo48FczyM8wep9PAYeQYPO14wvu+ja2jH82hEdqTSA4D/YnsB41swW8SZsTqQuUSrzr93DhRB7AHkASAIgiDaBJi8C2VTfRzHlY3AMLI/iiIs+LOdFGhEMSPYocSG5n8jvaFACQCbN2/GJM4kSUxICZTNt0899ZTJ68V8YpQOUcKTUjY3N8+YMQO329DQcOmllw4fPvzEE0/ESZqami6//HIAQDF0bx2/fzUqk32h3F7aBOSYMk3YCtqshaWcpJQoo+O66Kgx5xHKp7sybcCAWzExZqhysDKoh2DAj1EhdjY/QbRZSAEgCIIg2gooyWE8/XY1fFAgw49wGIrj+KkJtkHzv23baJFFCR4dAij649/DDz8cC7lorR9//HHcHEpvjY2NpumsSQU2qZ8AYNv2+eefXyqVULgcP358Pp+3bfvqq69G/YFz/vjjj8+dO7cyKJzYXXb3/OJaeAowBAhldChXiKoMecCGvlXnNzE85k3U/XZ3/s//CBHEnkM3JoIgCKINgeZ/E+2Db6IhH4UqE8rvOI6p/V9pD7ZtG8c4joOCOxpohRAtLS0Y8zN06FAom37HjRv36KOP4sxz58495ZRTFi9ejLI+/oWy4oGZoIsWLXrsscdQDB04cODkyZNxx0aPHn3JJZegg6K1tXXy5MlAguA/we6eX1MPFLO3hRDoAUC3D2p3KLUDgBBiZ/MbnQ3rwOILM/jTz79XDxZB7CaUA0AQBEG0CVCk1hWdmIzhH1MtK8v7JEkipezatWtzczMAeJ5XKpW2SxuAij5NABCGITb/chxn2bJlI0eOXL9+PZb/N8HlWGoG+wdv3LjR87woijDNAHtLlUqlgQMHrly5MpPJlEqlu+66a9y4cVDuLLZ8+fJDDjnEmIdnzZp1+eWXUzTInhGG4W6dX3QOmOgd4ygwOphSCgOE8NNdXD8ozWcyGewyVltbu2HDBs/zdmt+Sv8g2jLkASAIgiDaBCgwmT67+CYGc+NrI6DjYM/zmpubs9ksAIRhiGqDmc0Yd01wCFrx0QNwyCGHXHfddT169MAVLcvCeo6c8969e//2t7+98sorOeco/+Ff13WTJJk5c+bKlStREzjppJMuvfRSVE7QCH3wwQdPnToV9RPXdW+44YYPPvhgbx2/fzV29/yi1wivnDAMjerouq4p62mSg4UQu5gfVT4879lstrm52aQjf/r599qBIog9gBQAgiAIok2AURwm9L+xsbFTp074UadOnRobG6GcDIAjUUpDQTCTyRiba2W9ICwgY+Q2KLePVUqNGzdu3rx5F1100cEHHxzHcRzHY8eOveaaa957770hQ4ZYlmV6Tr355pu47pIlS2699VYhRBRFtm2PHz8e9wcDxDEq/ZxzzqmtrcUVC4XCTTfdtJcP478Mu3t+8coJggBPMee8ubnZxAvV1tYWCgWoaCCws/kBABtCZzIZAMDsXuOS+vTz75ujRhCfDgoBIgiCINoQWmus/2NZ1pYtW1AHwBco9DuOY/I1UYAzUiCKdCh7FYvFbDZbKBRyuZzpHYaBOttVat+uACiC4RyO47S2tubzeQzsxpRTLEaE/gQMH3IcByOLcN0gCExwCO7wXjp2/1rs7vlF3xEe7TAM4ziuqakxYv3WrVvr6+uNbb5UKvm+X3V+3LTp+YV/MU9gt+ZH/YEg2iakABAEQRBtDiOymxKQGJ+zYzw9tgWoLLtuBHqUxipFcyhn5WJ3YfMXBXpTPx7lP7Np3ISZGVfBCjC4IRxgJEUoVyal6P9/nk9/fs1IE4gfBIHv+1COyDdnubJB247zG/BNc/b3bH6CaJuQAkAQBEEQBEEQ+xEUo0YQBEEQBEEQ+xGkABAEQRAEQRDEfgQpAARBEARBEASxH0EKAEEQBEEQBEHsR5ACQBAEQRAEQRD7EaQAEARBEARBEMR+BCkABEEQBEEQBLEfQQoAQRAEQRAEQexHkAJAEARBEARBEPsRpAAQBEEQBEEQxH4EKQAEQRAEQRAEsR9BCgBBEARBEARB7EeQAkAQBEEQBEEQ+xGkABAEQRAEQRDEfgQpAARBEARBEASxH2Ht6x0gCIIgCGJvUgQACTwBW4HFAThAmoC0wQZwtWYqBWDAQTMugVsStALGP7EZagZKp5xxRjZEgmi3MK31vt4HgiAIgiD2EmmaWlbZ/KfLf5Uu8tjltgAOEgAABEgACeACACgAAC1BaWAATAMAMHev7ztBEJ8NpAAQBEEQxH6EBOAamAaQKcgELA6aA7eBtQC3AVwArgFA6zQJbEekAADAADhwBgy0BhAgJVj2vv0iBEHsMeS/IwiCIIj9C8VAAwDXYANw3qrtRgHAXQluBHxbDAkAY9K2UkhaJIAGK5aQKC7BksyWjIeapH+CaMeQB4AgCIIg9iM0JAoEABeQSBl/XFK/efOD1Un2qHq/tr7z5m0t69Z91Ktz3ZcHHtgrAy4kkFggGAAAq5xFA2c72QJBEG0dSgImCIIgiP0IBhHG+QAwEG4Tk69uDP5cZG+sST0/LYZBFKQ9W8LV0HREr7ruHeyegc5mIOMAUyDjyHEYfJIdkNvXX4UgiD2EFACCIAiC2I/QKUsVEwKAWxwkMKeonILVwQVrW5xoy7frs6vicNlry+e+IjvksrWysUdD/dB/69+91uqedbtwgDTxGKMYIIJov5ACQBAEQRD7EUxkHYFJwMCYcDVwZVnC58Emz2Kag0y0BPBrazlYLYleXtPplc3bFi/5MNO6+fBO/vEDD+yec3o3ZHqKff1NCILYUygHgCAIgiDaGUopzjn+1VozxgAAH+gVr/ElaA34qOflwh9SgWAqYKmvnLUF+O5Tr24NOtpM7WxzZmattWVZ2Ww2l8tNH8JlUDqwe+cMA6YhicByIIzBs4FxAJZqiEFLpjloG8ABUhgIos1AHgCCIAiCaB+USiXLshzH4ZwDgFKKMYZ1/VHY/0Tkr3gBAIyB+U8p4BySJBGO4MAhVXH8/1WIncEYwy1KKaMoklKGYXj90805oY7sHR3RNf+lA2vzrmIQ+TyORC1obacWRxlDQMq1AnA+jyNCEMQeQQoAQRAEQbQPMpkMAKRpqpSybVsIwRiz7U+i8ZVSACDEJ5Z2rSFNJb6ptQ6CoLm5ubW1NU3TKI4PPbB3pnNH+EQl4JxzULLqRqWURrtAcAf+5ndTYcvf/rZlycqNq8Neh9VC/05+Z9diOgLJNdjAcR9ACeoaTBBtC1IACIIgCKIdYOz0/7+PLwAASClR6Me/aZqGYRjHcRQlq1evfvvtt999992NGzeGYQgAjLEwDPM1Ned8+8xjx37FtXzfB8uyZEnurKonRhmht4ExJoTgnDPGoNSY8TzGape3bNv22kcdRTzssD5HD+p6DAcQkDAdaSkYc4RgCj6pPEQQRNuAFACCIAiCaAeg6R1FcAAIw1AIYds251xKGcdxc3PzRx999O6777733nvr169vamqBcvSOEMLzPNQf0HVg27bFLEh1GDIpJeccdPUcAMuyUAFAZwJjDF/08FkhLEltcbumZHuFMNz8TmHeex9MPbFfna+61/EMC0EnEFtg5UncIIg2Bf0iCYIgCKJ9YFmWlBKD/j3PA4AkSVpaWlauXPnnP//5nXfe+fjjj4MgwE+NxI+yOzoKhBBKKa21bdsMGHDGOaB8L3biAUiSBE3+Jk8AZ2uKhQLhZbIuF3EcS6kTzpXWP37xT/3rvFMP7z6sew3IIigpmQo5z+6to0QQxD+EFACCIAiCaDcopTAEKAiClStXvvvuu0888QTG/KCx3/d9FNaV0vhO+d9PsCxLKpWmaQqpFWulbMCwIhlX3WKSJOhnMJkAGBQk3TqVBGEcCJ1yBq4rlE6LYbRV2WuaS5uDDSub2FE98r3rwAKAtAAWNQ4jiLYCKQAEQRAE0T7AWB3G2NKlS+fOnfvuu+8GQeB5XpqmAGBZlhBCa10O2eeVcTsmcyBJEsa5EMICS7iWHYFSKo5jdydlOm3bxipDUkrMQ8CKQMWkJetaNigVR6nSqXak7UnHyyg/kPHibclbb6z+t1XiG4N7ndQ9m5UxSRwE0XagnyNBEARBtCG2K8pp2vUwxpSCpUuX/vGPf3z77bfjOHYcx7ZdrZllfVJjE6V9gCrFQFETAAAhhCwrBqBASsAkAYDqVYCw4YCZEBUMAMgygDhNAAB8xoEB8CS1IQ38Vk/arvKl6PDqlpbVL694/7Depw3s2DNNQLAEuGacA1gpAACkCXjUU5gg9jakABAEQRBEG4IxFkWR67pQVgaw4deKFR8uXLjwhRdeaGpqyuVyuVwO5XIpqwvu+wo75iJRlpIKVKKTja3FV1esUsWu5w7tkgdmxwlALB0nsrgDwDRJ/wSxDyAFgCAIgiDaEFpr13VNcU8AKBaLf/zjHx977DdRFP2/9u49xs6y3hf477m977suc2mnLRaEYrGwOZ7qQYtwBCMQohFzRPc2mGNMTIye7JOdnf2X0f+OhGg0RE1jEM0BOXIxCrtecg7hYuW2yy6byy5gKdReLC0t03amM9NZa72353L++HXevSzgha7VtTrz/YSQxXTR95lJVvv8nud30VqvWLFCStnpdJxzUTR087WUlcYJRdaQjLTJg9k5W8zMH3rn2eqac1eOk6HgRchLEXlSiSOBEADgtEMAAAAAMEQ4257z7IUQO3bsuO222w4dOmStr9VqUso0Tb333MqzSs4ZHl5FTjvnfSBvtBZy3LpwtAh3PLbz0MX2b//T6rOTWJbHazqQrNuIsP8HOP0QAAAAAAyRTqfDE3/b7fZjjz123333zc7OKqWWLZvodDpZlnGXzxACT+StLgqGRKFIkPA2BOd8LqSORDDW0+7Zxsy21+a9/+x/OWetHlU2I505qQghAMBphwAAAABgiPDuf3p6+ic/+cnmzZsbjcbo6Kgx5tixY1rrOI6llGVZOueMMfV6PU3TQS/5jzjnHJFQgrwQnqT1MgQKNDLxrsPtyf+757CU8vN/s/qcKCHXIpkSLRv0kgGWHAQAAAAAw2X37t233nrrCy+8sHr1ak73z/OcG/w758qy5EuAsiyPHTtWq9UGvd4/kthSSSOECloKIklCCCuISp+ZOJ5Kiwe2H6h7+d8/cNYK1YzCPL3FADIA6B8EAAAAAEPk2Wefvf322/fv379mzZqyLNvtNp/653nJ/Tq5L2eWZUKIZrM5bF2ARrx0wRdSkxBOUCBL5EhYW1pFuhaPTR0vH35l/9krRz7+rnrdJdiJAJx++NgBAAAMTJZlSZJwo08iuv/++++++6dENDo63ulkRGRM7D1Vuf7dLflp+HqAElGq+UjfCiJ1YoaBoqCMIlG0RKHjsbN3pGHjk1OtcuWnL6yNplOhNp6TThyRKDOZe2rWHdFwlTYALCpy0AsAAABYirz31tokSTqdDh/qb968+b777hv0uvpFKK0jo4S0ZW60PDp97LdPPf/iZItqY0XpjSUKRESSYkUO2xOAvsInDAAAYAAW5u9SvV7vdDpPP/307bfffuzYsUGvq19KS0UZpCQVymYSqaS++1j2b6+lL1kjTKSCJ2GDVIqM8YFEPuj1AixmCAAAAAAGg9N4iGjXrl0333xzCGF0dHSwS+ojqQrrhQ8y2DJtmVo9TSY2vzL5v5/cPk9EpSWbOZK+IEmSqBz0cgEWMwQAAAAAA8DZ/Nbal19++ZZbbiEiKeUQ5vT3ihQqimJHQgkZfCmU1CPL987apw62//0wURxRnHgiY4gChRAGvV6AxQwBAAAAwABw1e/MzMzGjRsPHjw4MjLinLPWDnpd/WLzXOuo9IKkSCIZfBmUqI8tf31e3LH5uX89mOWki7xNwlNwguqDXi/AYoYAAAAAYADyPCeiH/3oR4cPH240Gp1OR2ttzKIdi6uFs9Z6odOyLG3uy3Zr7ligcmz8nB3z/revHmsT1YwiSp1S5NADCKCPEAAAAAAMQBzH995778svvyyE4CFfQohFfAPQSGLnnElqJHUIYaTRqEVCBSdKWTbH/3Xvgck5UlJkrhWEJD/o5QIsaggAAAAA+ohz/cvyRFVrCIET3J955rn7738gTXNu+a+UcS4kyaJNfUmLXGvp8o4RpIRM00wKQ55SOXWOa06my//X068epjjxy7Xr2GjQywVY1BAAAAAA9BH3+DfG8NafT/pnZ2c3bdo0OztrjCnLUgihtfbep2k66PWebsbTXJnnzh+Zbv3L7lnShqxX6AIE0E8IAAAAAPqIp/xybo8Qgvv8/OIXv/jd734XRVEcx9baqh8oTwZYUkadSXUIUXK85R7auW9KEIlY0KJNhQIYBggAAAAA+og39957fqGU2rt37+bNm5vNZrPZ5HggiiIOA+I4HvByT7vYytJIXYu9SH53LH3y1TZJQwFFAAB9hAAAAACgj4QQ3vsoiogoyzLv/aZNm4qiUErleZ7nudaa839CCIt4DsBbsXnpqPShEKRnbP3/Pb972hMJFAEA9BECAAAAgD5yzkkpObnfGLNt27atW7caY5xzzjmllBCiKAoiqjKFlhQnVUxe+kwpFcux5w+1n56hDi3adqgAwwABAAAAQB9x5g8f7adp+vDDD1e5QFrrOI6991wHLITg6WBLSplEsXNGF0qGxMXzevT+3796oDXoZQEsakvuDxoAAIDTSUrpnGs2m2VZPv/880899ZTWWkrJCT/cGkgppZTiu4JBr/d0K6SQeabJki9Cx6n68sdf2bP7ECIAgD5acn/QAAAAnHb8t6186KHflKWr1RpZVhBR9+Qv3v0vwRoA4wsyjVDUhCSqz+v5w8saa+6ZNG3yPiuooBDIkieyFGzpskGvF2AxQAAAAADQX1IK72nPnj179uwZGxtL07ReX7QDv94GL4gzoLTWSpksz6empjokZRyRIOKWQEEQkVZ6wGsFWBQQAAAAAPRdCGHLli1Hjx6N47gsyyXY7/+tCKFCEDZ47wJJobW21s/Mzv7Ly3tyQeROFFEEIvIkBr1agMUBAQAAAEAfhUBC0MzMzNatW0dHR/M8N8bkeT7odQ2LQERE3lPhrLNeKKm1DkE8/tL+GUdeEJEnIhKKSDq/5FKkAPoBAQAAAEDfbdu2bXJycmxszFqrtS7LctArGhYhiEBSSCmEKr0LnqRWQslDtjYvSRoi8p68JyIplcC+BaAH8EECAADoIyGIiJ544gke96u1ds5pjVz2E7wgItI60sZIqR0F74J3YVqM7jlCThAFHyjwRQEJpE4B9AACAAAAgP7av/+1Xbt2JUnCA4BDCEuw3edbkVLa4EMIQigiCkFwSDCZi2dfOtDKiYSXpEpPREQ+DHKtAIsF/gACAADor7179xZF4b1XSllreQjAoBc1LKTQzrmsLJxzPgSehiaNdqq2//WjaXYiV8o5CmHhPgUATg0CAAAAgN7gbX21uffe8+tt27ZprXngFx//owtQJdhOokWsiEIpRSDyzjnvvTFun2hsTw35JC7bNUOlpBMFwQBwahAAQhF8EwAAFr1JREFUAAAA9EwIQSycUnNv+zwvDx8+TJzrslAD4D02sn9GKGxp/UwrBEEklCQviQg/N4BeQAAAAADQe9UWf3Jy8tChQ5zZggDgL6cCZTbsn5rNBfEsAEGEfQtAT+CDBAAA0DNV/g9fBTjndu3a1W63pZRCiBBC9xUB/AkRCUtyz9TMjCciQXwDoLBvAegBfJAAAAB6pjsAIKI8z3fu3Km15k2/UqosS601ugD9WcoFG9Sh+fxwRqQiCiSIAvYtAL2ADxIAAEAPdB/tV40+0zQ9ePCgMYa/qJRyzmH3/5cQZWmlmrbh0Lx3JCkEClRiEjBAL+DPIAAAgB7gtH6OAapgIE3TNE2rub/8xao7EPwJKpCQuuXl/ukZR0SBgvcBk4ABegEfJAAAgB7o3tNXAUBRFESUZRmHB1VhAAKAPyuWmqTOnD86czx3noIT5BXKJwB6AaPIAQAAekDrE3+llmVpjPHeSykPHjzYbrdrtRoROef4bfxiUKJMhSZ1xPGY8qD0tKUVfsUBGTXLvK/PVUp57733URQ555xz/KMQQvCPqyzLKIo6nU6tVsvz/PhYVFqnVe3f/zB3/Ao5Qpq8J0eECQoApwwBAAAAQM+clN8/NzdXveYuQKd9RSfTkTqetWv1kXaWaUpWNlWzmJoolTBxvx8ttAghBJ8KClJ4LXQcybIsVdDknSZnRJzovGZEzZCaOxCLRs1EZ+nSOQrCCSGRAQTQEwgAAAAAeoMzfDgG4BSgqakp3vQPye6fiHxwWkeFpXrSFEEtL+iGD617nXQ9ZH19blUd4Zyr1Wree2stEfFVgPdeKSWEyPOc32zEilw0SMoJmU0oEj5QoIAMIIBeQAAAAADQe7zjn52drXr/d8cAAxwF4MlZ79qtzJNS3o0Ydc26ZSnRmK/398EL37IrChVFviyFEIIvTKSkEEiIE//mtwmZE1kiTVGdPIlAQjhsXAB6AZ8jAACAnuluBiqEKIqiuzvQMNwDlMFb69/5zvOIdNaZTeq1yNpIU6BGX5/rHQlBUhKpxHuyIY4MEVEIJOjEmN9Wu2w2DRFZS1q06xSRNCSI8pRiTSSR/w/QEwgAAAAAekMI4b3vPt2vpv++8Z2DigSc9CGII68fke+jpDlKwZH1JMj1eXMdJDnvlZBCUyCSiizRo48/HsexlJIDp/n5+Q0bNiwbGwuGyBIJT6EkIYKUghQCAIBeQQAAAADQA91n/9V/KqWqGoDqlwaY/0NEMjJhvvPrf/6FTfPrPv6xJE4oUqEotUr7/Wgjgi+tVIqkJO8PT07ec9v3uTUQtwMKITTk/7ziiit0FHldF1U+kNE8B7i6KwCAU4EAAAAAoGe6hwHTcOT8nMT6UG8kx+dm7rn77hDCRz9+nZK6FsXk+/vc4EnIhTN8RySoXj97etqNjY2FEIQI3vuiKJSaUHqMPB0XlAiSRMGTliR55x8QAAD0APppAQAA9AB39xdCcHMbKWVZluPj41EUcYpLWZZKKWvtmyYFnTYRSVf6RmNESvl/7rjjrjt+XKQtIcgF58mTJP6HX3d/5RT/Efo/fjdHzpOfnj2sY3JUCh2CdI7yIMvmWBSEI+nHBSVEEVEsSdHC2T+2LQC9gE8SAABAD5w0AYCIjDHj4+NcGFD1AtJaa60H2QXIe6XU8ePHlVLNZvOBBx743ve+t3//a0opDlSyLCMiKSXPMuvho7u/aynl7Owsv3bO8aqSJOFJyT18KAC8EQIAAACAHuDdM3Vtc4UQq1at0lp3f5273Q/wBiDPc611HMchBK11FEXbt2+/+eab9+7dWxSFECJJEuectbb6jnripBoJIjp48CB/pWqUNDIywjMBevVQAHhTCAAAAAB6iU/Nees8MTHBAYDWWinlFwzwkDtJEmttFEVRFGVZFsdxrVbbt2/fN7/5zVdeeYUvK5RSRGSt7flNRXdEsX///u5gyTk3MjJSr9cHWyQNsBQgAAAAAOiNKs+HFk61m82m1ppb3HAA4JwLIfQ2teavXaRSKsuyNE2VUs4559zKlStnZ2dvuummxx57zDlXlqXWmhYKG3r7dFqolDh06BBfMnD2UVmWIyMjfAnQ24cCwEkQAAAAAPTASRMAWK1WGxkZ6T7yrxKBTvf6Flhr+ZhfCGGMSZKEiObn55VS9Xr9+9///q9+9StjjPe+f7UKQoh2uz09PV39HLhSYmxsrNls4gYAoN8QAAAAAPSGEKLavPIZf5IkZ511ltaam/9UbxhgDUC9Xs+yTGs9NjZmrT1+/HgIIY5jIup0OqOjoz/96U9vvfVWvsHo4U1F9yxkDgDa7baUkpN/uAh42bJlXJzQq4cCwJvCLRsAAECPVYlAURStWLEijuMqACAizgIa1CVAmqb1ep2I5ufnhRCNRiOEUBSF1kopxck/Dz74YKvV+sIXvrBq1aoePpp39rzXz7KsLEshhBCSX2itG40Gv0FKiWsAgP7BDQAAAEAPdB+WV/cAxphLL73UWqu1NsZw2r2UcoBp7lXe/0mn70TSe3IuhCAajZGtW/9t48bvT0/PEFEIgVOYOHeIiMqyfBuP5uZCHPk89NBDxpiiKIQIcWzKMg8hbNiwgZchxMBSpACWAgQAAAAAfbRy5crx8XEec2uMcc4NZ6dLXpIxhgsDarXa9u3bb7zxxt27d/MIs6IoOGZotVrGmLfxCI6CiMg5d+jQoSzLeDKatdYYwwUA/LbefmsAcBIEAAAAAH3UbNbXrl3LB+3GGJ4TPIRp7lprKSV342m323EcJ0ny2muvfeMb33jppZecc7x39943m823dwPAnHOHDx8+ePAg3wZwTySt9bp168bGxmihILhn3xgAvAECAAAAgP5av34959bzeN1+9Nc/dbww3o6XZZmmKZ/Kz8zMfOc739myZQsRceIQEb29GwCegaCU2rlzZ6vV4pN+3v2XZXnJJZdEUcShxQDbpAIsBfiAAQAA9JH3tH79ej7q5lwXLnId9LreRLVCrgxO0zTP83q9nuf5LbfcsmnTpqoG4O3dYFSdUp977rmyLI0xXAzN+VEXXnjh2/6dAeCvMox/AAEAACwaUtK5577z/PPPz/O8LMsoirq7hQ4PKSUHJ3xBYYzhpeZ5zsOM77rrrjvuuKPValFXlfNfjvf6Qoj9+/e/9NJLoUuWZe94xzsmJiZo4W4BYQBAXyEAAAAA6C8h6Oqrr+bX3Ax0CHPci6IgImMMb/qLouD2oCMjI3meG2NGR0d//etf/+AHP5ibm3t7j+BvfMuWLdPT01EU8Q+B/33ttdfySLKBz0kAWAoQAAAAAPSRc4GILr/8cmMMp9fTUG5wtdY8oIDP+4koiiKtdavVWrZsWQghz/MVK1Y88cQTN91007Fjx/7a35939mmaPvvssyEE3u4TUQghiqKrr76aM4L40cOZIgWwaOADBgAA0Ee8lR0fH73kkvdlWUeIYG2h9dD9/cvlv5wCxMMKOFYxJu50MiKplCkKOzo6fvDg6//wD/+4d+9evjQIIVQXGjwugLomBlBXtONceO65bfv27Y+ihEhmWSGEKsty/fr1tVqNiLhFEi1cCwBAnwzdH0AAAACLj9b6wx/+cJIkWmsuCB70ik7VjTfe+Pvf/74oirIsOXKghSljXOXsvc+yjIiEEGVZWuuFEJs2bQohNBqNdrs9MjLCfYEuv/xyDgCqTqO4AQDoK3zAAAAATof3v//9a9asOXbsmNaaz87PaMePH//2t7/91FNPRVGU5zmHNFUjUSKSUlahjjFGa/noo4+++uqrnPwTRVEIoSzLtWvXXnbZZbRwe8BpSIP8xgCWAAQAAAAAfcS57977JEmuuOIKay332xn0uk6VMSbP840bN953331xHCulaGGaGP1xSTFHBfPz7bvvvptn/bbbbSFEURRpml577bWNRoPzjmihWdBAvzOAxQ8BAAAAQN/x8fbll1/+wQ9+cG5ujjNezmhCCCllCOHOO+/88Y9/nKZp9wwvbiHqnOMJaET00EMPHTlyhJsgRVHE6f4XXXQRH/9zwOC95zfjEgCgrxAAAAAA9B3va1euXHndddelaZqm6aBXdKo4h6fZbI6Ojv785z//7ne/yyMCeJoYv4enfRHRCy+8cO+9946OjnKCEDdEyrLs+uuvHx8fJ6I4jolISjmcPVIBFhkEAAAAAP3Fx95EJIR4z3vec+mll3J17Bmtqv3N83xiYmLbtm3f+ta3jhw5IoTgjqJExOn+k5OTTz75JF8XeO+dc61Wy3u/du3aDRs2CCE47afqIAQA/aa+/vWvD3oNAAAAixkntHjvlVJRFC1btuzZZ58905NctFbWWudcFEVKKWvt9PT01q1bL7744omJCd7us5GRkfe+971Sqn379s3Pz3PGv5Tyi1/84gUXvIuLBDjvn/sFaa2HcFIywGKCAAAAAKCPqqaWfF4upWw2m5OTk3/4w744jnnLmyRJlmVCiDOoQ2gIJKWSUoVA3geltNamKMrHH3/i7LPPOffcdxIJIYSUIgQyRl988d984APv37Hjpampo+126+qrr/q7v/tbIuLvmhaqpVEBDHAaIAAAAADoI97XFkWhteYAII7j1atXb9v2/OzsrLV2ZGSk1WotX758dna2Xq+f6Rnw3vtnnnmmXm+sW/duPscXgpwL1pYTExNXXnmlEKJer99www3Lly/HST/AQIgz5aQBAADgzMVlAN77siy54PU3v/ntD3/4Q26JI6XM85zHY3G58JkrjuNWqyWlvOGGGz71qU+9ceZxlmVHjx4999xzrbVn+jcLcIbCDQAAAEAfFUWhlOJSVyklF8hKKS+4YG2r1d6+fTtXyhIRv+dMPxSvJn+98MILR48efc97/nMUGb4BUEq12+16vT42NsYNgrgYYNBLBlhyEAAAAAD0EZfD8uaeFtrn8y+tWXP+q6++um/fvlqtprXudDr1ev1Mb4aT53kURby/37dv365duy644N3j46Oc3B9FERE55zghChn/AAOBsBsAAKCPqhN9jgScc977EIJzYWJi2ec+97mzzjqr3W5nWdZoNHge1hltbGyMCx64H+i2bds2btx48ODr/Kt5nlf7fh4cBgCnH24AAAAA+oj39Jz/w2UAfAkghBCCxseXrVq16sUXX+Q4gX910Es+JWma1ut1ay339yQi59wjjzyyZs15q1evrkYEcC3EIvh+Ac5EuAEAAADoIz4Ir/p7aq2rFCBrvTHqQx/6r5/5zGfSNC3LkjNkzmi1Wq3dbnOQo5RqNBppmk5NTc3MzLTbbSKSUkopeZAwCgAABgIfPAAAgD4yxvCLk466rS215vIAuv76//b5z3/O2sL7E0WxVSUAVwwPYa68MYaP87mQtyp1sLZoNGrWFtYW9XoyO3ssBPdP//SP11xzTaPRIKJq04+zf4BBQQAAAAAwABwYCCHyPCeiT3ziE5/97GfzPFdKFUXBvxpCiOM4y7I0TQe83DdotVohhCRJjDFc2EBEzrkQQqvV4t6mXNjwyU9+8qqrrhr0egHgP2AOAAAAwGBUjfC5Z06apr/85S83bfpls9mcm5ur1WpxHM/PzydJ4pwbtvNywUUMRN577z2nNoUQrC14uG9RFHmef/nLX/7oRz+6CFKbABYTBAAAAAADwPtmHhHAvXFqtRoRPfDAQ3fddVe73R4fHy+KQghRlmWtVhu2njla6zzPucKBB5wRkRAijk1RFFLKoii+9KUvfexjH1NKcYQz6CUDwAkIAAAAAAam2hnnec4TgonoiSe23HnnnZOTk41GwxjTaDSmpqaG7RA9hMBJ/9XVhFJKKZWmbe+9lPJrX/vaJZdcwr+Kob8AQwUBAAAAwMDwXrl6ba2VUmstd+x45bbbbtuzZ0+j0eh0OqOjo8N2A0BEWuuyLJ1zSZLw67IsjVHj4+Nf+cpXzjvvPN79O+eGsIgZYClDAAAAADAA3nvnHB//82gwHg7Afy0LQTMzc/fcc89jjz0WRRH3Ahrwiv+Y954n/hJRkiRpmuZ53mg0Lr74oq9+9atVETP3NkUMADBUEAAAAAAMBh//l2XJjT45oyYEEoKKwkaRJqKHH978s5/9bHZ2tkoQGhJc+Ms9QImo0+mcd95511xzzac/fT1PAqaF4ceEjp8AQwYBAAAAwHCp8oI4JNi9e/eDDz746KOP8ml6rVZbSBbi7vvipE129Z/VC37N9wxvdRLPb+AGPrTQ0JMfUXX74fXw72ltweW/8/Pz9Xr9yiuvvO6669797nefjh8QAJwaBAAAAADDpSqZrV50Op0XX3zxgQceeO6554wxzWYzz3OeEpDnJVff0kJnIVoIBrjFULWz5+m8b1VLwFO9+J3VyT2rfk/+OkcCcWxmZma01uvXr7/22msvu+yyJEmqCAEAhhkCAAAAgOFSlqXWmvfuzrmqf86RI0eefvrpRx55ZM+ePXEc12q1NE21jro36LRQXUBEHBVYa/ngn7fvb1VLwA8SQvD1Ai109aniBykl/85SSmPM5OSh973vfVddddWll166atUqfpC1NkmS0/JDAoC3DwEAAADA0OEmm9WG3lpbtQGdn5/fvHnzww8/fOTIkVqtluclD+FyzvHG3RgTRVGWZcYYjiI4scdam2XZW7UT5aEE1HWNwMvgPB8i4mDAWsu9///+7//HRRddxFt/DlQ4X6j/PxsAOFUIAAAAAIZI1TCHt9TdGTW8EedN9vz8/NNPP71ly5Zdu/YURWGtVUrFcayUcs5xYfHCaN4Tx/lVAs+bPpf7eHJpQRRFnBFUlfNydBHH8bp16z7ykY9s2LAhjk0cx9XXT1o8AAwzBAAAAADDpbuolw/X+Qi/SuWv3lmW5e7de3fu3PnMM8/s3r273W4bY4wxnK6jta6ygLiwmE/x3/Sh1dE+b/3zPOevWGtHR0fXrFmzfv369evXn3/++fX6myT5cJiBaV8AZwQEAAAAAMOle0RAt6rEtsrL511+CNRudw4cOPDyyy/v2LHjwIEDx48fz7KM7xB4Spdzrrsw4I201mmaFkXBT6nVaqtXrz777LPPP//8Cy644MILLxwZaSwsg7wPSgmeAhZFUZX5gyJggDMCAgAAAIAh0n2UXpYln8qf9J6TsoOq2WHOhTRNW61Wp9N5/fXXX3nlle3btx85ciTP87Is/0QPUCJSShljzjnnnPXr169bt2758uXNZrPRaIyMjGjNpQhkrTVG82O79/pV1XL3YGMAGFoIAAAAABYnPtF3zqVpOjc3VxQF1wp3XwVUr1evXq21jqIojmOuKiaiP9E1CADOXAgAAAAAFqfuVkI82OtP5Oi/scCg+38HgMUEAQAAAAAAwBKCan0AAIBFiBuDEhE3EeKaAS4eeKv/pftM8KTbAABYTHADAAAAsAhVLfm7m4rSH7cSoq5mo9juAywdSOwDAABYhLpbc1aHfXwbwK+7z/h5YPDpXyQADAQ+8AAAAItQVdR70ul+1amze66w9756P5J/ABY9BAAAAACL30n5/YQUIIAlDAEAAAAAAMASghoAAAAAAIAlBAEAAAAAAMASggAAAAAAAGAJQQAAAAAAALCEIAAAAAAAAFhCEAAAAAAAACwhCAAAAAAAAJYQBAAAAAAAAEsIAgAAAAAAgCUEAQAAAAAAwBKCAAAAAAAAYAlBAAAAAAAAsIQgAAAAAAAAWEIQAAAAAAAALCEIAAAAAAAAlhAEAAAAAAAASwgCAAAAAACAJQQBAAAAAADAEoIAAAAAAABgCUEAAAAAAACwhCAAAAAAAABYQv4/PrxNcrPR+ksAAAAASUVORK5CYII=)"
      ],
      "metadata": {
        "id": "6n-j3cXl1Ilq"
      }
    },
    {
      "cell_type": "code",
      "source": [
        "import numpy as np\n",
        "max_age = np.max(age)\n",
        "min_age = np.min(age)\n",
        "max_sal = np.max(sal)\n",
        "min_sal = np.min(sal)\n",
        "norm_age = (age - min_age)/(max_age-min_age)\n",
        "norm_age"
      ],
      "metadata": {
        "colab": {
          "base_uri": "https://localhost:8080/"
        },
        "id": "JAELXw6PUqzR",
        "outputId": "30cd4731-a970-4bd5-b13f-b7d6677bf586"
      },
      "execution_count": null,
      "outputs": [
        {
          "output_type": "execute_result",
          "data": {
            "text/plain": [
              "array([0.65909091, 0.93181818, 0.27272727, 0.97727273, 0.        ,\n",
              "       0.5       , 0.        , 0.52272727, 1.        ])"
            ]
          },
          "metadata": {},
          "execution_count": 7
        }
      ]
    },
    {
      "cell_type": "code",
      "source": [
        "norm_sal = (sal - min_sal)/(max_sal-min_sal)\n",
        "norm_sal"
      ],
      "metadata": {
        "colab": {
          "base_uri": "https://localhost:8080/"
        },
        "id": "4BS4Vm_jUxG6",
        "outputId": "e181ffd0-da32-4f05-89e2-31f6fc4dbc8c"
      },
      "execution_count": null,
      "outputs": [
        {
          "output_type": "execute_result",
          "data": {
            "text/plain": [
              "array([0.        , 0.25400458, 0.74828375, 1.        , 0.25629291,\n",
              "       0.74828375, 1.        , 0.50800915, 0.76201373])"
            ]
          },
          "metadata": {},
          "execution_count": 8
        }
      ]
    },
    {
      "cell_type": "code",
      "source": [
        "# Assignment 2: \n",
        "# Take 2 numpy arrays (2 points on coordinate geometry)\n",
        "# Euclidean Distance on the 2 points to get distance as the output"
      ],
      "metadata": {
        "id": "T_kP6QsH1J4G"
      },
      "execution_count": null,
      "outputs": []
    },
    {
      "cell_type": "code",
      "source": [
        "a = np.array([34,45])\n",
        "b = np.array([29,41])\n",
        "np.sqrt(np.sum(np.square(np.subtract(a,b))))\n"
      ],
      "metadata": {
        "colab": {
          "base_uri": "https://localhost:8080/"
        },
        "id": "Dng6B_3dWy8_",
        "outputId": "82dd5fc9-2012-4756-8ec0-e1e9e05a15a8"
      },
      "execution_count": null,
      "outputs": [
        {
          "output_type": "execute_result",
          "data": {
            "text/plain": [
              "6.4031242374328485"
            ]
          },
          "metadata": {},
          "execution_count": 12
        }
      ]
    },
    {
      "cell_type": "code",
      "source": [
        "np.linalg.norm(a-b)"
      ],
      "metadata": {
        "colab": {
          "base_uri": "https://localhost:8080/"
        },
        "id": "lMiZ3xcFXw5w",
        "outputId": "d273ea17-465a-40e6-9f55-8f723688bcda"
      },
      "execution_count": null,
      "outputs": [
        {
          "output_type": "execute_result",
          "data": {
            "text/plain": [
              "6.4031242374328485"
            ]
          },
          "metadata": {},
          "execution_count": 13
        }
      ]
    },
    {
      "cell_type": "code",
      "source": [
        "# Regression Loss Function\n",
        "# Mean Squared Error\n",
        "# Mean Absolute Error"
      ],
      "metadata": {
        "id": "veRd1YJuzspn"
      },
      "execution_count": null,
      "outputs": []
    },
    {
      "cell_type": "code",
      "source": [
        "import numpy as np\n",
        "y_real = np.array([33, 21, 12, 22])\n",
        "y_pred1 = np.array([32.83547606, 20.90990165, 11.76837935, 21.38974336])\n",
        "y_pred2 = np.array([32,20,11,21])\n",
        "mse1 = np.mean(np.square(np.subtract(y_real,y_pred1)))\n",
        "mse1"
      ],
      "metadata": {
        "colab": {
          "base_uri": "https://localhost:8080/"
        },
        "id": "huK8eMabz3kp",
        "outputId": "e6b7a7ac-f8a1-45bf-f262-f6ee6c778533"
      },
      "execution_count": null,
      "outputs": [
        {
          "output_type": "execute_result",
          "data": {
            "text/plain": [
              "0.11531178291908961"
            ]
          },
          "metadata": {},
          "execution_count": 1
        }
      ]
    },
    {
      "cell_type": "code",
      "source": [
        "mse2 = np.mean(np.square(np.subtract(y_real,y_pred2)))\n",
        "mse2"
      ],
      "metadata": {
        "colab": {
          "base_uri": "https://localhost:8080/"
        },
        "id": "VBZibv0n0jNC",
        "outputId": "5e385d1d-6142-45ee-842f-b277dd4fc40c"
      },
      "execution_count": null,
      "outputs": [
        {
          "output_type": "execute_result",
          "data": {
            "text/plain": [
              "1.0"
            ]
          },
          "metadata": {},
          "execution_count": 2
        }
      ]
    },
    {
      "cell_type": "code",
      "source": [
        "# Assignment: Mean Absoulute Error\n",
        "# Assignment : r2 Score (Implement using Numpy)"
      ],
      "metadata": {
        "id": "awS-mYu35rXk"
      },
      "execution_count": null,
      "outputs": []
    },
    {
      "cell_type": "code",
      "source": [
        "# Pandas : Exploratory Data Analysis\n",
        "# 2 main objects\n",
        "# Series - 1 Dimension (1 column/1 row) --> Vectors in Numpy\n",
        "# DataFrame - 2 Dimension - Matrix in Numpy"
      ],
      "metadata": {
        "id": "MvY14hln2h3S"
      },
      "execution_count": null,
      "outputs": []
    },
    {
      "cell_type": "code",
      "source": [
        "d = {'Name':['Mr X','Mr Y','Mr Z','Mr A','Ms B'],\n",
        "     'Height': [123,145,167,124,156],\n",
        "     'Weight':[56,34,78,45,67]}\n",
        "d"
      ],
      "metadata": {
        "colab": {
          "base_uri": "https://localhost:8080/"
        },
        "id": "3pxR-p533Aq7",
        "outputId": "fee8ac9c-17db-4467-9d4e-04d5e44c3d18"
      },
      "execution_count": null,
      "outputs": [
        {
          "output_type": "execute_result",
          "data": {
            "text/plain": [
              "{'Height': [123, 145, 167, 124, 156],\n",
              " 'Name': ['Mr X', 'Mr Y', 'Mr Z', 'Mr A', 'Ms B'],\n",
              " 'Weight': [56, 34, 78, 45, 67]}"
            ]
          },
          "metadata": {},
          "execution_count": 19
        }
      ]
    },
    {
      "cell_type": "code",
      "source": [
        "import pandas as pd\n",
        "df = pd.DataFrame(d)\n",
        "df"
      ],
      "metadata": {
        "colab": {
          "base_uri": "https://localhost:8080/",
          "height": 206
        },
        "id": "v7ZKOecV3ZAi",
        "outputId": "b4ec3567-ed39-4593-a463-1d2aa62ed5b4"
      },
      "execution_count": null,
      "outputs": [
        {
          "output_type": "execute_result",
          "data": {
            "text/plain": [
              "   Name  Height  Weight\n",
              "0  Mr X     123      56\n",
              "1  Mr Y     145      34\n",
              "2  Mr Z     167      78\n",
              "3  Mr A     124      45\n",
              "4  Ms B     156      67"
            ],
            "text/html": [
              "\n",
              "  <div id=\"df-c97ba137-538f-472f-9d74-39d35fbc3a65\">\n",
              "    <div class=\"colab-df-container\">\n",
              "      <div>\n",
              "<style scoped>\n",
              "    .dataframe tbody tr th:only-of-type {\n",
              "        vertical-align: middle;\n",
              "    }\n",
              "\n",
              "    .dataframe tbody tr th {\n",
              "        vertical-align: top;\n",
              "    }\n",
              "\n",
              "    .dataframe thead th {\n",
              "        text-align: right;\n",
              "    }\n",
              "</style>\n",
              "<table border=\"1\" class=\"dataframe\">\n",
              "  <thead>\n",
              "    <tr style=\"text-align: right;\">\n",
              "      <th></th>\n",
              "      <th>Name</th>\n",
              "      <th>Height</th>\n",
              "      <th>Weight</th>\n",
              "    </tr>\n",
              "  </thead>\n",
              "  <tbody>\n",
              "    <tr>\n",
              "      <th>0</th>\n",
              "      <td>Mr X</td>\n",
              "      <td>123</td>\n",
              "      <td>56</td>\n",
              "    </tr>\n",
              "    <tr>\n",
              "      <th>1</th>\n",
              "      <td>Mr Y</td>\n",
              "      <td>145</td>\n",
              "      <td>34</td>\n",
              "    </tr>\n",
              "    <tr>\n",
              "      <th>2</th>\n",
              "      <td>Mr Z</td>\n",
              "      <td>167</td>\n",
              "      <td>78</td>\n",
              "    </tr>\n",
              "    <tr>\n",
              "      <th>3</th>\n",
              "      <td>Mr A</td>\n",
              "      <td>124</td>\n",
              "      <td>45</td>\n",
              "    </tr>\n",
              "    <tr>\n",
              "      <th>4</th>\n",
              "      <td>Ms B</td>\n",
              "      <td>156</td>\n",
              "      <td>67</td>\n",
              "    </tr>\n",
              "  </tbody>\n",
              "</table>\n",
              "</div>\n",
              "      <button class=\"colab-df-convert\" onclick=\"convertToInteractive('df-c97ba137-538f-472f-9d74-39d35fbc3a65')\"\n",
              "              title=\"Convert this dataframe to an interactive table.\"\n",
              "              style=\"display:none;\">\n",
              "        \n",
              "  <svg xmlns=\"http://www.w3.org/2000/svg\" height=\"24px\"viewBox=\"0 0 24 24\"\n",
              "       width=\"24px\">\n",
              "    <path d=\"M0 0h24v24H0V0z\" fill=\"none\"/>\n",
              "    <path d=\"M18.56 5.44l.94 2.06.94-2.06 2.06-.94-2.06-.94-.94-2.06-.94 2.06-2.06.94zm-11 1L8.5 8.5l.94-2.06 2.06-.94-2.06-.94L8.5 2.5l-.94 2.06-2.06.94zm10 10l.94 2.06.94-2.06 2.06-.94-2.06-.94-.94-2.06-.94 2.06-2.06.94z\"/><path d=\"M17.41 7.96l-1.37-1.37c-.4-.4-.92-.59-1.43-.59-.52 0-1.04.2-1.43.59L10.3 9.45l-7.72 7.72c-.78.78-.78 2.05 0 2.83L4 21.41c.39.39.9.59 1.41.59.51 0 1.02-.2 1.41-.59l7.78-7.78 2.81-2.81c.8-.78.8-2.07 0-2.86zM5.41 20L4 18.59l7.72-7.72 1.47 1.35L5.41 20z\"/>\n",
              "  </svg>\n",
              "      </button>\n",
              "      \n",
              "  <style>\n",
              "    .colab-df-container {\n",
              "      display:flex;\n",
              "      flex-wrap:wrap;\n",
              "      gap: 12px;\n",
              "    }\n",
              "\n",
              "    .colab-df-convert {\n",
              "      background-color: #E8F0FE;\n",
              "      border: none;\n",
              "      border-radius: 50%;\n",
              "      cursor: pointer;\n",
              "      display: none;\n",
              "      fill: #1967D2;\n",
              "      height: 32px;\n",
              "      padding: 0 0 0 0;\n",
              "      width: 32px;\n",
              "    }\n",
              "\n",
              "    .colab-df-convert:hover {\n",
              "      background-color: #E2EBFA;\n",
              "      box-shadow: 0px 1px 2px rgba(60, 64, 67, 0.3), 0px 1px 3px 1px rgba(60, 64, 67, 0.15);\n",
              "      fill: #174EA6;\n",
              "    }\n",
              "\n",
              "    [theme=dark] .colab-df-convert {\n",
              "      background-color: #3B4455;\n",
              "      fill: #D2E3FC;\n",
              "    }\n",
              "\n",
              "    [theme=dark] .colab-df-convert:hover {\n",
              "      background-color: #434B5C;\n",
              "      box-shadow: 0px 1px 3px 1px rgba(0, 0, 0, 0.15);\n",
              "      filter: drop-shadow(0px 1px 2px rgba(0, 0, 0, 0.3));\n",
              "      fill: #FFFFFF;\n",
              "    }\n",
              "  </style>\n",
              "\n",
              "      <script>\n",
              "        const buttonEl =\n",
              "          document.querySelector('#df-c97ba137-538f-472f-9d74-39d35fbc3a65 button.colab-df-convert');\n",
              "        buttonEl.style.display =\n",
              "          google.colab.kernel.accessAllowed ? 'block' : 'none';\n",
              "\n",
              "        async function convertToInteractive(key) {\n",
              "          const element = document.querySelector('#df-c97ba137-538f-472f-9d74-39d35fbc3a65');\n",
              "          const dataTable =\n",
              "            await google.colab.kernel.invokeFunction('convertToInteractive',\n",
              "                                                     [key], {});\n",
              "          if (!dataTable) return;\n",
              "\n",
              "          const docLinkHtml = 'Like what you see? Visit the ' +\n",
              "            '<a target=\"_blank\" href=https://colab.research.google.com/notebooks/data_table.ipynb>data table notebook</a>'\n",
              "            + ' to learn more about interactive tables.';\n",
              "          element.innerHTML = '';\n",
              "          dataTable['output_type'] = 'display_data';\n",
              "          await google.colab.output.renderOutput(dataTable, element);\n",
              "          const docLink = document.createElement('div');\n",
              "          docLink.innerHTML = docLinkHtml;\n",
              "          element.appendChild(docLink);\n",
              "        }\n",
              "      </script>\n",
              "    </div>\n",
              "  </div>\n",
              "  "
            ]
          },
          "metadata": {},
          "execution_count": 20
        }
      ]
    },
    {
      "cell_type": "code",
      "source": [
        "df.shape"
      ],
      "metadata": {
        "colab": {
          "base_uri": "https://localhost:8080/"
        },
        "id": "rbu7U1Hf3dhx",
        "outputId": "1819ed0f-f209-4926-b38a-c6dd26693531"
      },
      "execution_count": null,
      "outputs": [
        {
          "output_type": "execute_result",
          "data": {
            "text/plain": [
              "(5, 3)"
            ]
          },
          "metadata": {},
          "execution_count": 39
        }
      ]
    },
    {
      "cell_type": "code",
      "source": [
        "df.describe()"
      ],
      "metadata": {
        "colab": {
          "base_uri": "https://localhost:8080/",
          "height": 300
        },
        "id": "2s5d_hc_3gOe",
        "outputId": "97cba386-11a4-42fa-c53a-c6b7a63f819b"
      },
      "execution_count": null,
      "outputs": [
        {
          "output_type": "execute_result",
          "data": {
            "text/plain": [
              "           Height     Weight\n",
              "count    5.000000   5.000000\n",
              "mean   143.000000  56.000000\n",
              "std     19.429359  17.392527\n",
              "min    123.000000  34.000000\n",
              "25%    124.000000  45.000000\n",
              "50%    145.000000  56.000000\n",
              "75%    156.000000  67.000000\n",
              "max    167.000000  78.000000"
            ],
            "text/html": [
              "\n",
              "  <div id=\"df-a3311123-d7df-495a-9cd9-e287e924cc91\">\n",
              "    <div class=\"colab-df-container\">\n",
              "      <div>\n",
              "<style scoped>\n",
              "    .dataframe tbody tr th:only-of-type {\n",
              "        vertical-align: middle;\n",
              "    }\n",
              "\n",
              "    .dataframe tbody tr th {\n",
              "        vertical-align: top;\n",
              "    }\n",
              "\n",
              "    .dataframe thead th {\n",
              "        text-align: right;\n",
              "    }\n",
              "</style>\n",
              "<table border=\"1\" class=\"dataframe\">\n",
              "  <thead>\n",
              "    <tr style=\"text-align: right;\">\n",
              "      <th></th>\n",
              "      <th>Height</th>\n",
              "      <th>Weight</th>\n",
              "    </tr>\n",
              "  </thead>\n",
              "  <tbody>\n",
              "    <tr>\n",
              "      <th>count</th>\n",
              "      <td>5.000000</td>\n",
              "      <td>5.000000</td>\n",
              "    </tr>\n",
              "    <tr>\n",
              "      <th>mean</th>\n",
              "      <td>143.000000</td>\n",
              "      <td>56.000000</td>\n",
              "    </tr>\n",
              "    <tr>\n",
              "      <th>std</th>\n",
              "      <td>19.429359</td>\n",
              "      <td>17.392527</td>\n",
              "    </tr>\n",
              "    <tr>\n",
              "      <th>min</th>\n",
              "      <td>123.000000</td>\n",
              "      <td>34.000000</td>\n",
              "    </tr>\n",
              "    <tr>\n",
              "      <th>25%</th>\n",
              "      <td>124.000000</td>\n",
              "      <td>45.000000</td>\n",
              "    </tr>\n",
              "    <tr>\n",
              "      <th>50%</th>\n",
              "      <td>145.000000</td>\n",
              "      <td>56.000000</td>\n",
              "    </tr>\n",
              "    <tr>\n",
              "      <th>75%</th>\n",
              "      <td>156.000000</td>\n",
              "      <td>67.000000</td>\n",
              "    </tr>\n",
              "    <tr>\n",
              "      <th>max</th>\n",
              "      <td>167.000000</td>\n",
              "      <td>78.000000</td>\n",
              "    </tr>\n",
              "  </tbody>\n",
              "</table>\n",
              "</div>\n",
              "      <button class=\"colab-df-convert\" onclick=\"convertToInteractive('df-a3311123-d7df-495a-9cd9-e287e924cc91')\"\n",
              "              title=\"Convert this dataframe to an interactive table.\"\n",
              "              style=\"display:none;\">\n",
              "        \n",
              "  <svg xmlns=\"http://www.w3.org/2000/svg\" height=\"24px\"viewBox=\"0 0 24 24\"\n",
              "       width=\"24px\">\n",
              "    <path d=\"M0 0h24v24H0V0z\" fill=\"none\"/>\n",
              "    <path d=\"M18.56 5.44l.94 2.06.94-2.06 2.06-.94-2.06-.94-.94-2.06-.94 2.06-2.06.94zm-11 1L8.5 8.5l.94-2.06 2.06-.94-2.06-.94L8.5 2.5l-.94 2.06-2.06.94zm10 10l.94 2.06.94-2.06 2.06-.94-2.06-.94-.94-2.06-.94 2.06-2.06.94z\"/><path d=\"M17.41 7.96l-1.37-1.37c-.4-.4-.92-.59-1.43-.59-.52 0-1.04.2-1.43.59L10.3 9.45l-7.72 7.72c-.78.78-.78 2.05 0 2.83L4 21.41c.39.39.9.59 1.41.59.51 0 1.02-.2 1.41-.59l7.78-7.78 2.81-2.81c.8-.78.8-2.07 0-2.86zM5.41 20L4 18.59l7.72-7.72 1.47 1.35L5.41 20z\"/>\n",
              "  </svg>\n",
              "      </button>\n",
              "      \n",
              "  <style>\n",
              "    .colab-df-container {\n",
              "      display:flex;\n",
              "      flex-wrap:wrap;\n",
              "      gap: 12px;\n",
              "    }\n",
              "\n",
              "    .colab-df-convert {\n",
              "      background-color: #E8F0FE;\n",
              "      border: none;\n",
              "      border-radius: 50%;\n",
              "      cursor: pointer;\n",
              "      display: none;\n",
              "      fill: #1967D2;\n",
              "      height: 32px;\n",
              "      padding: 0 0 0 0;\n",
              "      width: 32px;\n",
              "    }\n",
              "\n",
              "    .colab-df-convert:hover {\n",
              "      background-color: #E2EBFA;\n",
              "      box-shadow: 0px 1px 2px rgba(60, 64, 67, 0.3), 0px 1px 3px 1px rgba(60, 64, 67, 0.15);\n",
              "      fill: #174EA6;\n",
              "    }\n",
              "\n",
              "    [theme=dark] .colab-df-convert {\n",
              "      background-color: #3B4455;\n",
              "      fill: #D2E3FC;\n",
              "    }\n",
              "\n",
              "    [theme=dark] .colab-df-convert:hover {\n",
              "      background-color: #434B5C;\n",
              "      box-shadow: 0px 1px 3px 1px rgba(0, 0, 0, 0.15);\n",
              "      filter: drop-shadow(0px 1px 2px rgba(0, 0, 0, 0.3));\n",
              "      fill: #FFFFFF;\n",
              "    }\n",
              "  </style>\n",
              "\n",
              "      <script>\n",
              "        const buttonEl =\n",
              "          document.querySelector('#df-a3311123-d7df-495a-9cd9-e287e924cc91 button.colab-df-convert');\n",
              "        buttonEl.style.display =\n",
              "          google.colab.kernel.accessAllowed ? 'block' : 'none';\n",
              "\n",
              "        async function convertToInteractive(key) {\n",
              "          const element = document.querySelector('#df-a3311123-d7df-495a-9cd9-e287e924cc91');\n",
              "          const dataTable =\n",
              "            await google.colab.kernel.invokeFunction('convertToInteractive',\n",
              "                                                     [key], {});\n",
              "          if (!dataTable) return;\n",
              "\n",
              "          const docLinkHtml = 'Like what you see? Visit the ' +\n",
              "            '<a target=\"_blank\" href=https://colab.research.google.com/notebooks/data_table.ipynb>data table notebook</a>'\n",
              "            + ' to learn more about interactive tables.';\n",
              "          element.innerHTML = '';\n",
              "          dataTable['output_type'] = 'display_data';\n",
              "          await google.colab.output.renderOutput(dataTable, element);\n",
              "          const docLink = document.createElement('div');\n",
              "          docLink.innerHTML = docLinkHtml;\n",
              "          element.appendChild(docLink);\n",
              "        }\n",
              "      </script>\n",
              "    </div>\n",
              "  </div>\n",
              "  "
            ]
          },
          "metadata": {},
          "execution_count": 40
        }
      ]
    },
    {
      "cell_type": "code",
      "source": [
        "np.mean(df['Height'])"
      ],
      "metadata": {
        "colab": {
          "base_uri": "https://localhost:8080/"
        },
        "id": "lZXe7Obg3l1Z",
        "outputId": "85813be1-2206-462b-a8f6-97524b5ce7a9"
      },
      "execution_count": null,
      "outputs": [
        {
          "output_type": "execute_result",
          "data": {
            "text/plain": [
              "143.0"
            ]
          },
          "metadata": {},
          "execution_count": 41
        }
      ]
    },
    {
      "cell_type": "code",
      "source": [
        "# Data Visualization : Matplotlib, Seaborn, Plotly\n",
        "# 1. Line Graph\n",
        "# 2. Bar Graph\n",
        "# 3. Pie Chart\n",
        "# 4. Scatter plot\n",
        "# 5. Histogram"
      ],
      "metadata": {
        "id": "srC6Sfmx5KJ2"
      },
      "execution_count": null,
      "outputs": []
    },
    {
      "cell_type": "code",
      "source": [
        "import matplotlib.pyplot as plt\n",
        "a = np.array([2,5,6,2,45,23])\n",
        "b = np.array([5,8,34,89,34,4])\n",
        "plt.plot(a,b,marker='o')\n",
        "plt.xlabel('X- Axis')\n",
        "plt.ylabel('Y- Axis')\n",
        "plt.show()"
      ],
      "metadata": {
        "id": "1b_pDU0G5Mbl",
        "colab": {
          "base_uri": "https://localhost:8080/",
          "height": 279
        },
        "outputId": "7510598f-c735-481d-8860-af7f79ef145c"
      },
      "execution_count": null,
      "outputs": [
        {
          "output_type": "display_data",
          "data": {
            "text/plain": [
              "<Figure size 432x288 with 1 Axes>"
            ],
            "image/png": "[encoded data removed]"
          },
          "metadata": {
            "needs_background": "light"
          }
        }
      ]
    },
    {
      "cell_type": "code",
      "source": [
        "# Bar Graph\n",
        "\n",
        "plt.bar(df['Name'],df['Height'],label='Height')\n",
        "plt.bar(df['Name'],df['Weight'],label='Weight')\n",
        "plt.legend()\n",
        "plt.show()"
      ],
      "metadata": {
        "colab": {
          "base_uri": "https://localhost:8080/",
          "height": 265
        },
        "id": "Mp0HYbkeZLGC",
        "outputId": "1db5d92b-6f3c-466e-fd52-6299a114485e"
      },
      "execution_count": null,
      "outputs": [
        {
          "output_type": "display_data",
          "data": {
            "text/plain": [
              "<Figure size 432x288 with 1 Axes>"
            ],
            "image/png": "[encoded data removed]"
          },
          "metadata": {
            "needs_background": "light"
          }
        }
      ]
    },
    {
      "cell_type": "code",
      "source": [
        "# Pie Chart\n",
        "\n",
        "cities = np.array(['Bangalore','Chennai','Kolkatta','Delhi','Mumbai'])\n",
        "sales = np.array([23498,23111,23234,58438,21121])\n",
        "plt.pie(sales,labels=cities,autopct='%.2f%%')\n",
        "plt.show()"
      ],
      "metadata": {
        "colab": {
          "base_uri": "https://localhost:8080/",
          "height": 248
        },
        "id": "-ngw_AADakmu",
        "outputId": "d6871c10-94f9-4b6c-a019-f6a16c46e5d4"
      },
      "execution_count": null,
      "outputs": [
        {
          "output_type": "display_data",
          "data": {
            "text/plain": [
              "<Figure size 432x288 with 1 Axes>"
            ],
            "image/png": "[encoded data removed]"
          },
          "metadata": {}
        }
      ]
    },
    {
      "cell_type": "code",
      "source": [
        "plt.pie?"
      ],
      "metadata": {
        "id": "8tJzauoWcBtG"
      },
      "execution_count": null,
      "outputs": []
    },
    {
      "cell_type": "code",
      "source": [
        "plt.scatter(df['Height'],df['Weight'])\n",
        "plt.show()"
      ],
      "metadata": {
        "colab": {
          "base_uri": "https://localhost:8080/",
          "height": 268
        },
        "id": "IV7Rc77OcO0k",
        "outputId": "0a6db1e1-8774-40f7-a16d-f1226a52a103"
      },
      "execution_count": null,
      "outputs": [
        {
          "output_type": "display_data",
          "data": {
            "text/plain": [
              "<Figure size 432x288 with 1 Axes>"
            ],
            "image/png": "[encoded data removed]"
          },
          "metadata": {
            "needs_background": "light"
          }
        }
      ]
    },
    {
      "cell_type": "code",
      "source": [
        "# Histogram \n",
        "\n",
        "x = np.random.normal(100,10,250)\n",
        "plt.hist(x)\n",
        "plt.show()"
      ],
      "metadata": {
        "colab": {
          "base_uri": "https://localhost:8080/",
          "height": 266
        },
        "id": "ZQL3T-0BgCMg",
        "outputId": "280173bc-d476-4756-c6cd-5faec189a165"
      },
      "execution_count": null,
      "outputs": [
        {
          "output_type": "display_data",
          "data": {
            "text/plain": [
              "<Figure size 432x288 with 1 Axes>"
            ],
            "image/png": "[encoded data removed]"
          },
          "metadata": {
            "needs_background": "light"
          }
        }
      ]
    },
    {
      "cell_type": "code",
      "source": [
        ""
      ],
      "metadata": {
        "id": "3xYOPEHCglBY"
      },
      "execution_count": null,
      "outputs": []
    }
  ]
}