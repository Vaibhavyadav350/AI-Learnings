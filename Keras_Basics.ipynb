{
  "nbformat": 4,
  "nbformat_minor": 0,
  "metadata": {
    "colab": {
      "name": "Keras Basics.ipynb",
      "provenance": [],
      "include_colab_link": true
    },
    "kernelspec": {
      "name": "python3",
      "display_name": "Python 3"
    },
    "language_info": {
      "name": "python"
    }
  },
  "cells": [
    {
      "cell_type": "markdown",
      "metadata": {
        "id": "view-in-github",
        "colab_type": "text"
      },
      "source": [
        "<a href=\"https://colab.research.google.com/github/Vaibhavyadav350/AI-Learnings/blob/main/Keras_Basics.ipynb\" target=\"_parent\"><img src=\"https://colab.research.google.com/assets/colab-badge.svg\" alt=\"Open In Colab\"/></a>"
      ]
    },
    {
      "cell_type": "code",
      "execution_count": null,
      "metadata": {
        "id": "NbGkmXYvyDKT"
      },
      "outputs": [],
      "source": [
        "# Activation Function\n",
        "# Sigmoid - Binary Classification\n",
        "# Relu - Regression / Classification"
      ]
    },
    {
      "cell_type": "code",
      "source": [
        "import matplotlib.pyplot as plt\n",
        "import numpy as np"
      ],
      "metadata": {
        "id": "FgEME09vy3sF"
      },
      "execution_count": null,
      "outputs": []
    },
    {
      "cell_type": "code",
      "source": [
        "# Sigmoid\n",
        "x = np.linspace(-10,10,100)\n",
        "y = 1/(1+np.exp(-x))\n",
        "plt.scatter(x,y)\n",
        "plt.show()"
      ],
      "metadata": {
        "colab": {
          "base_uri": "https://localhost:8080/",
          "height": 265
        },
        "id": "jZpxGguXz_A7",
        "outputId": "b06ec73b-f4be-4c92-99c6-66c6fb0f7209"
      },
      "execution_count": null,
      "outputs": [
        {
          "output_type": "display_data",
          "data": {
            "text/plain": [
              "<Figure size 432x288 with 1 Axes>"
            ],
            "image/png": "[encoded data removed]"
          },
          "metadata": {
            "needs_background": "light"
          }
        }
      ]
    },
    {
      "cell_type": "code",
      "source": [
        "# Relu - Rectified Linear Unit\n",
        "# WAP to implement Relu\n",
        "\n",
        "# If x>0 , x\n",
        "# If x<0 , 0\n",
        "# x = [1,2,3,4,-1,-4,-9]\n",
        "# y = [1,2,3,4,0,0,0]"
      ],
      "metadata": {
        "id": "0-kAX1dQ0K-D"
      },
      "execution_count": null,
      "outputs": []
    },
    {
      "cell_type": "code",
      "source": [
        "x = np.linspace(-10,10,9)\n",
        "y = x*(x>0)\n",
        "print(x)\n",
        "print(y)\n",
        "plt.scatter(x,y)\n",
        "plt.plot(x,y)\n",
        "plt.show()"
      ],
      "metadata": {
        "colab": {
          "base_uri": "https://localhost:8080/",
          "height": 301
        },
        "id": "UhJ94tOI5i-l",
        "outputId": "3993a9ee-abd8-4338-b15d-841cfb04c8c1"
      },
      "execution_count": null,
      "outputs": [
        {
          "output_type": "stream",
          "name": "stdout",
          "text": [
            "[-10.   -7.5  -5.   -2.5   0.    2.5   5.    7.5  10. ]\n",
            "[-0.  -0.  -0.  -0.   0.   2.5  5.   7.5 10. ]\n"
          ]
        },
        {
          "output_type": "display_data",
          "data": {
            "text/plain": [
              "<Figure size 432x288 with 1 Axes>"
            ],
            "image/png": "[encoded data removed]"
          },
          "metadata": {
            "needs_background": "light"
          }
        }
      ]
    },
    {
      "cell_type": "code",
      "source": [
        "# Boolean datatype : True/False\n",
        "z = 0\n",
        "bool(z)"
      ],
      "metadata": {
        "colab": {
          "base_uri": "https://localhost:8080/"
        },
        "id": "N5McPLas5l9X",
        "outputId": "77ee924d-41b1-43b7-d14c-65fb06396398"
      },
      "execution_count": null,
      "outputs": [
        {
          "output_type": "execute_result",
          "data": {
            "text/plain": [
              "False"
            ]
          },
          "metadata": {},
          "execution_count": 67
        }
      ]
    },
    {
      "cell_type": "code",
      "source": [
        "True * 10"
      ],
      "metadata": {
        "colab": {
          "base_uri": "https://localhost:8080/"
        },
        "id": "oTCLwJgg6C0C",
        "outputId": "2503034a-86fa-405a-bacd-b5d91a747209"
      },
      "execution_count": null,
      "outputs": [
        {
          "output_type": "execute_result",
          "data": {
            "text/plain": [
              "10"
            ]
          },
          "metadata": {},
          "execution_count": 68
        }
      ]
    },
    {
      "cell_type": "code",
      "source": [
        "# Loss Functions\n",
        "\n",
        "# Regression : Mean Squared Error\n",
        "# CLassification : Cross Entropy"
      ],
      "metadata": {
        "id": "WtOWXAms6XfB"
      },
      "execution_count": null,
      "outputs": []
    },
    {
      "cell_type": "code",
      "source": [
        "y_pred = np.array([100,200,300])\n",
        "y_real = np.array([110,210,280])"
      ],
      "metadata": {
        "id": "H504Brku7FFa"
      },
      "execution_count": null,
      "outputs": []
    },
    {
      "cell_type": "code",
      "source": [
        "np.mean(np.square(np.subtract(y_pred,y_real)))"
      ],
      "metadata": {
        "colab": {
          "base_uri": "https://localhost:8080/"
        },
        "id": "w67Q1RSd7Mts",
        "outputId": "cf9c33de-755e-4f72-d16a-b2a7bded2391"
      },
      "execution_count": null,
      "outputs": [
        {
          "output_type": "execute_result",
          "data": {
            "text/plain": [
              "200.0"
            ]
          },
          "metadata": {},
          "execution_count": 71
        }
      ]
    },
    {
      "cell_type": "code",
      "source": [
        "x = np.subtract(y_pred,y_real)\n",
        "x"
      ],
      "metadata": {
        "colab": {
          "base_uri": "https://localhost:8080/"
        },
        "id": "X_5niG477VVB",
        "outputId": "ca3a99f5-3cd8-47fe-ca53-39703d50424d"
      },
      "execution_count": null,
      "outputs": [
        {
          "output_type": "execute_result",
          "data": {
            "text/plain": [
              "array([-10, -10,  20])"
            ]
          },
          "metadata": {},
          "execution_count": 72
        }
      ]
    },
    {
      "cell_type": "code",
      "source": [
        "y = np.square(x)\n",
        "y"
      ],
      "metadata": {
        "colab": {
          "base_uri": "https://localhost:8080/"
        },
        "id": "v0dvmK2B7dJd",
        "outputId": "2161cf8e-23e2-4d93-c4d4-1a8f374cddba"
      },
      "execution_count": null,
      "outputs": [
        {
          "output_type": "execute_result",
          "data": {
            "text/plain": [
              "array([100, 100, 400])"
            ]
          },
          "metadata": {},
          "execution_count": 73
        }
      ]
    },
    {
      "cell_type": "code",
      "source": [
        "z = np.mean(y)\n",
        "z"
      ],
      "metadata": {
        "colab": {
          "base_uri": "https://localhost:8080/"
        },
        "id": "-PTEM-G-7jOd",
        "outputId": "921743b5-89bd-42cf-c295-761076c92d9d"
      },
      "execution_count": null,
      "outputs": [
        {
          "output_type": "execute_result",
          "data": {
            "text/plain": [
              "200.0"
            ]
          },
          "metadata": {},
          "execution_count": 74
        }
      ]
    },
    {
      "cell_type": "code",
      "source": [
        "# Types of Layers in Keras\n",
        "# 1. Dense Layer : Normally connected layer"
      ],
      "metadata": {
        "id": "DaebnjIi2v7Q"
      },
      "execution_count": null,
      "outputs": []
    },
    {
      "cell_type": "code",
      "source": [
        "# Steps required for ANN\n",
        "# Step 1: Load the dataset and consider ip as well as op\n",
        "# Step 2: Preprocessing the data ( Scaling )\n",
        "# Step 3: NN Architecture\n",
        "# Step 4: Compile the model\n",
        "# Step 5: Train the model\n",
        "# Step 6: Predict and Evaluate"
      ],
      "metadata": {
        "id": "P-NcxaKp7l1I"
      },
      "execution_count": null,
      "outputs": []
    },
    {
      "cell_type": "code",
      "source": [
        "import tensorflow as tf"
      ],
      "metadata": {
        "id": "StW0HL_UyFdC"
      },
      "execution_count": null,
      "outputs": []
    },
    {
      "cell_type": "code",
      "source": [
        "(x_train, y_train), (x_test, y_test) = tf.keras.datasets.boston_housing.load_data(\n",
        "    path=\"boston_housing.npz\", test_split=0.2, seed=113)"
      ],
      "metadata": {
        "id": "-CXEWeCyx-NM",
        "outputId": "71e1c099-fe00-41d7-ab48-996b503370b2",
        "colab": {
          "base_uri": "https://localhost:8080/"
        }
      },
      "execution_count": null,
      "outputs": [
        {
          "output_type": "stream",
          "name": "stdout",
          "text": [
            "Downloading data from https://storage.googleapis.com/tensorflow/tf-keras-datasets/boston_housing.npz\n",
            "57344/57026 [==============================] - 0s 0us/step\n",
            "65536/57026 [==================================] - 0s 0us/step\n"
          ]
        }
      ]
    },
    {
      "cell_type": "code",
      "source": [
        "print(x_train.shape)\n",
        "print(x_test.shape)\n",
        "print(y_train.shape)\n",
        "print(y_test.shape)"
      ],
      "metadata": {
        "colab": {
          "base_uri": "https://localhost:8080/"
        },
        "id": "h48YiFL-yEIm",
        "outputId": "25d80974-3305-4d25-d78b-e1abfa66e1ab"
      },
      "execution_count": null,
      "outputs": [
        {
          "output_type": "stream",
          "name": "stdout",
          "text": [
            "(404, 13)\n",
            "(102, 13)\n",
            "(404,)\n",
            "(102,)\n"
          ]
        }
      ]
    },
    {
      "cell_type": "code",
      "source": [
        "# DataFrame for Training data\n",
        "import pandas as pd\n",
        "df = pd.DataFrame(x_train)\n",
        "df['Target'] = y_train\n",
        "df.head()"
      ],
      "metadata": {
        "colab": {
          "base_uri": "https://localhost:8080/",
          "height": 206
        },
        "id": "aULy7PSfzxNX",
        "outputId": "665fb33b-d7f6-4b4d-e749-33f94171df1e"
      },
      "execution_count": null,
      "outputs": [
        {
          "output_type": "execute_result",
          "data": {
            "text/plain": [
              "         0     1      2    3      4      5      6       7     8      9    10  \\\n",
              "0  1.23247   0.0   8.14  0.0  0.538  6.142   91.7  3.9769   4.0  307.0  21.0   \n",
              "1  0.02177  82.5   2.03  0.0  0.415  7.610   15.7  6.2700   2.0  348.0  14.7   \n",
              "2  4.89822   0.0  18.10  0.0  0.631  4.970  100.0  1.3325  24.0  666.0  20.2   \n",
              "3  0.03961   0.0   5.19  0.0  0.515  6.037   34.5  5.9853   5.0  224.0  20.2   \n",
              "4  3.69311   0.0  18.10  0.0  0.713  6.376   88.4  2.5671  24.0  666.0  20.2   \n",
              "\n",
              "       11     12  Target  \n",
              "0  396.90  18.72    15.2  \n",
              "1  395.38   3.11    42.3  \n",
              "2  375.52   3.26    50.0  \n",
              "3  396.90   8.01    21.1  \n",
              "4  391.43  14.65    17.7  "
            ],
            "text/html": [
              "\n",
              "  <div id=\"df-afaf61d1-6b33-454a-93f2-c4ba7862e588\">\n",
              "    <div class=\"colab-df-container\">\n",
              "      <div>\n",
              "<style scoped>\n",
              "    .dataframe tbody tr th:only-of-type {\n",
              "        vertical-align: middle;\n",
              "    }\n",
              "\n",
              "    .dataframe tbody tr th {\n",
              "        vertical-align: top;\n",
              "    }\n",
              "\n",
              "    .dataframe thead th {\n",
              "        text-align: right;\n",
              "    }\n",
              "</style>\n",
              "<table border=\"1\" class=\"dataframe\">\n",
              "  <thead>\n",
              "    <tr style=\"text-align: right;\">\n",
              "      <th></th>\n",
              "      <th>0</th>\n",
              "      <th>1</th>\n",
              "      <th>2</th>\n",
              "      <th>3</th>\n",
              "      <th>4</th>\n",
              "      <th>5</th>\n",
              "      <th>6</th>\n",
              "      <th>7</th>\n",
              "      <th>8</th>\n",
              "      <th>9</th>\n",
              "      <th>10</th>\n",
              "      <th>11</th>\n",
              "      <th>12</th>\n",
              "      <th>Target</th>\n",
              "    </tr>\n",
              "  </thead>\n",
              "  <tbody>\n",
              "    <tr>\n",
              "      <th>0</th>\n",
              "      <td>1.23247</td>\n",
              "      <td>0.0</td>\n",
              "      <td>8.14</td>\n",
              "      <td>0.0</td>\n",
              "      <td>0.538</td>\n",
              "      <td>6.142</td>\n",
              "      <td>91.7</td>\n",
              "      <td>3.9769</td>\n",
              "      <td>4.0</td>\n",
              "      <td>307.0</td>\n",
              "      <td>21.0</td>\n",
              "      <td>396.90</td>\n",
              "      <td>18.72</td>\n",
              "      <td>15.2</td>\n",
              "    </tr>\n",
              "    <tr>\n",
              "      <th>1</th>\n",
              "      <td>0.02177</td>\n",
              "      <td>82.5</td>\n",
              "      <td>2.03</td>\n",
              "      <td>0.0</td>\n",
              "      <td>0.415</td>\n",
              "      <td>7.610</td>\n",
              "      <td>15.7</td>\n",
              "      <td>6.2700</td>\n",
              "      <td>2.0</td>\n",
              "      <td>348.0</td>\n",
              "      <td>14.7</td>\n",
              "      <td>395.38</td>\n",
              "      <td>3.11</td>\n",
              "      <td>42.3</td>\n",
              "    </tr>\n",
              "    <tr>\n",
              "      <th>2</th>\n",
              "      <td>4.89822</td>\n",
              "      <td>0.0</td>\n",
              "      <td>18.10</td>\n",
              "      <td>0.0</td>\n",
              "      <td>0.631</td>\n",
              "      <td>4.970</td>\n",
              "      <td>100.0</td>\n",
              "      <td>1.3325</td>\n",
              "      <td>24.0</td>\n",
              "      <td>666.0</td>\n",
              "      <td>20.2</td>\n",
              "      <td>375.52</td>\n",
              "      <td>3.26</td>\n",
              "      <td>50.0</td>\n",
              "    </tr>\n",
              "    <tr>\n",
              "      <th>3</th>\n",
              "      <td>0.03961</td>\n",
              "      <td>0.0</td>\n",
              "      <td>5.19</td>\n",
              "      <td>0.0</td>\n",
              "      <td>0.515</td>\n",
              "      <td>6.037</td>\n",
              "      <td>34.5</td>\n",
              "      <td>5.9853</td>\n",
              "      <td>5.0</td>\n",
              "      <td>224.0</td>\n",
              "      <td>20.2</td>\n",
              "      <td>396.90</td>\n",
              "      <td>8.01</td>\n",
              "      <td>21.1</td>\n",
              "    </tr>\n",
              "    <tr>\n",
              "      <th>4</th>\n",
              "      <td>3.69311</td>\n",
              "      <td>0.0</td>\n",
              "      <td>18.10</td>\n",
              "      <td>0.0</td>\n",
              "      <td>0.713</td>\n",
              "      <td>6.376</td>\n",
              "      <td>88.4</td>\n",
              "      <td>2.5671</td>\n",
              "      <td>24.0</td>\n",
              "      <td>666.0</td>\n",
              "      <td>20.2</td>\n",
              "      <td>391.43</td>\n",
              "      <td>14.65</td>\n",
              "      <td>17.7</td>\n",
              "    </tr>\n",
              "  </tbody>\n",
              "</table>\n",
              "</div>\n",
              "      <button class=\"colab-df-convert\" onclick=\"convertToInteractive('df-afaf61d1-6b33-454a-93f2-c4ba7862e588')\"\n",
              "              title=\"Convert this dataframe to an interactive table.\"\n",
              "              style=\"display:none;\">\n",
              "        \n",
              "  <svg xmlns=\"http://www.w3.org/2000/svg\" height=\"24px\"viewBox=\"0 0 24 24\"\n",
              "       width=\"24px\">\n",
              "    <path d=\"M0 0h24v24H0V0z\" fill=\"none\"/>\n",
              "    <path d=\"M18.56 5.44l.94 2.06.94-2.06 2.06-.94-2.06-.94-.94-2.06-.94 2.06-2.06.94zm-11 1L8.5 8.5l.94-2.06 2.06-.94-2.06-.94L8.5 2.5l-.94 2.06-2.06.94zm10 10l.94 2.06.94-2.06 2.06-.94-2.06-.94-.94-2.06-.94 2.06-2.06.94z\"/><path d=\"M17.41 7.96l-1.37-1.37c-.4-.4-.92-.59-1.43-.59-.52 0-1.04.2-1.43.59L10.3 9.45l-7.72 7.72c-.78.78-.78 2.05 0 2.83L4 21.41c.39.39.9.59 1.41.59.51 0 1.02-.2 1.41-.59l7.78-7.78 2.81-2.81c.8-.78.8-2.07 0-2.86zM5.41 20L4 18.59l7.72-7.72 1.47 1.35L5.41 20z\"/>\n",
              "  </svg>\n",
              "      </button>\n",
              "      \n",
              "  <style>\n",
              "    .colab-df-container {\n",
              "      display:flex;\n",
              "      flex-wrap:wrap;\n",
              "      gap: 12px;\n",
              "    }\n",
              "\n",
              "    .colab-df-convert {\n",
              "      background-color: #E8F0FE;\n",
              "      border: none;\n",
              "      border-radius: 50%;\n",
              "      cursor: pointer;\n",
              "      display: none;\n",
              "      fill: #1967D2;\n",
              "      height: 32px;\n",
              "      padding: 0 0 0 0;\n",
              "      width: 32px;\n",
              "    }\n",
              "\n",
              "    .colab-df-convert:hover {\n",
              "      background-color: #E2EBFA;\n",
              "      box-shadow: 0px 1px 2px rgba(60, 64, 67, 0.3), 0px 1px 3px 1px rgba(60, 64, 67, 0.15);\n",
              "      fill: #174EA6;\n",
              "    }\n",
              "\n",
              "    [theme=dark] .colab-df-convert {\n",
              "      background-color: #3B4455;\n",
              "      fill: #D2E3FC;\n",
              "    }\n",
              "\n",
              "    [theme=dark] .colab-df-convert:hover {\n",
              "      background-color: #434B5C;\n",
              "      box-shadow: 0px 1px 3px 1px rgba(0, 0, 0, 0.15);\n",
              "      filter: drop-shadow(0px 1px 2px rgba(0, 0, 0, 0.3));\n",
              "      fill: #FFFFFF;\n",
              "    }\n",
              "  </style>\n",
              "\n",
              "      <script>\n",
              "        const buttonEl =\n",
              "          document.querySelector('#df-afaf61d1-6b33-454a-93f2-c4ba7862e588 button.colab-df-convert');\n",
              "        buttonEl.style.display =\n",
              "          google.colab.kernel.accessAllowed ? 'block' : 'none';\n",
              "\n",
              "        async function convertToInteractive(key) {\n",
              "          const element = document.querySelector('#df-afaf61d1-6b33-454a-93f2-c4ba7862e588');\n",
              "          const dataTable =\n",
              "            await google.colab.kernel.invokeFunction('convertToInteractive',\n",
              "                                                     [key], {});\n",
              "          if (!dataTable) return;\n",
              "\n",
              "          const docLinkHtml = 'Like what you see? Visit the ' +\n",
              "            '<a target=\"_blank\" href=https://colab.research.google.com/notebooks/data_table.ipynb>data table notebook</a>'\n",
              "            + ' to learn more about interactive tables.';\n",
              "          element.innerHTML = '';\n",
              "          dataTable['output_type'] = 'display_data';\n",
              "          await google.colab.output.renderOutput(dataTable, element);\n",
              "          const docLink = document.createElement('div');\n",
              "          docLink.innerHTML = docLinkHtml;\n",
              "          element.appendChild(docLink);\n",
              "        }\n",
              "      </script>\n",
              "    </div>\n",
              "  </div>\n",
              "  "
            ]
          },
          "metadata": {},
          "execution_count": 80
        }
      ]
    },
    {
      "cell_type": "code",
      "source": [
        "# Step 2 : \n",
        "from sklearn.preprocessing import StandardScaler\n",
        "s = StandardScaler()\n",
        "x_train_scaled = s.fit_transform(x_train)\n",
        "x_test_scaled = s.transform(x_test)"
      ],
      "metadata": {
        "id": "sJiX9IlFyQbA"
      },
      "execution_count": null,
      "outputs": []
    },
    {
      "cell_type": "code",
      "source": [
        "# Step 3: NN Architecture\n",
        "# no of neurons\n",
        "# Input layer : no of input values = 13\n",
        "# Hidden layer : In between the values of ip and op = 7\n",
        "# Output layer : 1 mostly for regression  = 1"
      ],
      "metadata": {
        "id": "JBGwamlY0W79"
      },
      "execution_count": null,
      "outputs": []
    },
    {
      "cell_type": "code",
      "source": [
        "# Parameter : Weight and Bias"
      ],
      "metadata": {
        "id": "xd7j5Eg_1d-o"
      },
      "execution_count": null,
      "outputs": []
    },
    {
      "cell_type": "code",
      "source": [
        "x_train[0].shape"
      ],
      "metadata": {
        "colab": {
          "base_uri": "https://localhost:8080/"
        },
        "id": "b437fywS4F-Y",
        "outputId": "6d30cc86-6ab4-42a6-81b8-1f75414ed344"
      },
      "execution_count": null,
      "outputs": [
        {
          "output_type": "execute_result",
          "data": {
            "text/plain": [
              "(13,)"
            ]
          },
          "metadata": {},
          "execution_count": 84
        }
      ]
    },
    {
      "cell_type": "code",
      "source": [
        "model = tf.keras.models.Sequential()\n",
        "model.add(tf.keras.layers.Dense(7,input_shape=(13,), activation='relu'))\n",
        "model.add(tf.keras.layers.Dense(1))"
      ],
      "metadata": {
        "id": "MTBSrNUP2Rfj"
      },
      "execution_count": null,
      "outputs": []
    },
    {
      "cell_type": "code",
      "source": [
        "model.summary()"
      ],
      "metadata": {
        "colab": {
          "base_uri": "https://localhost:8080/"
        },
        "id": "u103GKJ6EAeY",
        "outputId": "6cf8a915-01fc-488c-ac48-2a77e41a009f"
      },
      "execution_count": null,
      "outputs": [
        {
          "output_type": "stream",
          "name": "stdout",
          "text": [
            "Model: \"sequential_4\"\n",
            "_________________________________________________________________\n",
            " Layer (type)                Output Shape              Param #   \n",
            "=================================================================\n",
            " dense_8 (Dense)             (None, 7)                 98        \n",
            "                                                                 \n",
            " dense_9 (Dense)             (None, 1)                 8         \n",
            "                                                                 \n",
            "=================================================================\n",
            "Total params: 106\n",
            "Trainable params: 106\n",
            "Non-trainable params: 0\n",
            "_________________________________________________________________\n"
          ]
        }
      ]
    },
    {
      "cell_type": "code",
      "source": [
        "model.summary()"
      ],
      "metadata": {
        "colab": {
          "base_uri": "https://localhost:8080/"
        },
        "id": "FhChBEV_3_IH",
        "outputId": "bf5bd954-7022-4ec6-a537-65e696b06d17"
      },
      "execution_count": null,
      "outputs": [
        {
          "output_type": "stream",
          "name": "stdout",
          "text": [
            "Model: \"sequential_4\"\n",
            "_________________________________________________________________\n",
            " Layer (type)                Output Shape              Param #   \n",
            "=================================================================\n",
            " dense_8 (Dense)             (None, 7)                 98        \n",
            "                                                                 \n",
            " dense_9 (Dense)             (None, 1)                 8         \n",
            "                                                                 \n",
            "=================================================================\n",
            "Total params: 106\n",
            "Trainable params: 106\n",
            "Non-trainable params: 0\n",
            "_________________________________________________________________\n"
          ]
        }
      ]
    },
    {
      "cell_type": "code",
      "source": [
        "# Hidden layer\n",
        "# Weights\n",
        "print(13*7)\n",
        "# Bias\n",
        "print(7)\n",
        "# Param = Weight+Bias\n",
        "print(13*7+7)"
      ],
      "metadata": {
        "colab": {
          "base_uri": "https://localhost:8080/"
        },
        "id": "qodcY8gO4ClP",
        "outputId": "a232e6ee-2a57-41de-fddf-5a07ad209c7a"
      },
      "execution_count": null,
      "outputs": [
        {
          "output_type": "stream",
          "name": "stdout",
          "text": [
            "91\n",
            "7\n",
            "98\n"
          ]
        }
      ]
    },
    {
      "cell_type": "code",
      "source": [
        "# Output layer\n",
        "# Weights\n",
        "print(7*1)\n",
        "# Bias\n",
        "print(1)\n",
        "# Param = Weight+Bias\n",
        "print(7*1+1)"
      ],
      "metadata": {
        "colab": {
          "base_uri": "https://localhost:8080/"
        },
        "id": "K4XUhlUu64v1",
        "outputId": "b139a7b1-dd95-4e24-e47c-6ad83eeb7273"
      },
      "execution_count": null,
      "outputs": [
        {
          "output_type": "stream",
          "name": "stdout",
          "text": [
            "7\n",
            "1\n",
            "8\n"
          ]
        }
      ]
    },
    {
      "cell_type": "code",
      "source": [
        "# Step 4: Compile the model\n",
        "\n",
        "model.compile?"
      ],
      "metadata": {
        "id": "bNsoRrsN7Sl2"
      },
      "execution_count": null,
      "outputs": []
    },
    {
      "cell_type": "code",
      "source": [
        "model.compile(optimizer='rmsprop',loss='mean_squared_error')"
      ],
      "metadata": {
        "id": "jZiU_j_L7tj-"
      },
      "execution_count": null,
      "outputs": []
    },
    {
      "cell_type": "code",
      "source": [
        "model.fit(x_train,y_train,epochs=100)"
      ],
      "metadata": {
        "colab": {
          "base_uri": "https://localhost:8080/"
        },
        "id": "7fSVw96C8c4F",
        "outputId": "13cee3bf-3f46-4d01-fbab-255bffda90ff"
      },
      "execution_count": null,
      "outputs": [
        {
          "output_type": "stream",
          "name": "stdout",
          "text": [
            "Epoch 1/100\n",
            "13/13 [==============================] - 1s 3ms/step - loss: 53761.9258\n",
            "Epoch 2/100\n",
            "13/13 [==============================] - 0s 3ms/step - loss: 29598.5293\n",
            "Epoch 3/100\n",
            "13/13 [==============================] - 0s 3ms/step - loss: 16429.9141\n",
            "Epoch 4/100\n",
            "13/13 [==============================] - 0s 4ms/step - loss: 8239.5215\n",
            "Epoch 5/100\n",
            "13/13 [==============================] - 0s 2ms/step - loss: 3605.9089\n",
            "Epoch 6/100\n",
            "13/13 [==============================] - 0s 2ms/step - loss: 1593.1667\n",
            "Epoch 7/100\n",
            "13/13 [==============================] - 0s 2ms/step - loss: 960.9907\n",
            "Epoch 8/100\n",
            "13/13 [==============================] - 0s 3ms/step - loss: 693.3502\n",
            "Epoch 9/100\n",
            "13/13 [==============================] - 0s 3ms/step - loss: 469.8427\n",
            "Epoch 10/100\n",
            "13/13 [==============================] - 0s 3ms/step - loss: 306.4401\n",
            "Epoch 11/100\n",
            "13/13 [==============================] - 0s 4ms/step - loss: 210.8511\n",
            "Epoch 12/100\n",
            "13/13 [==============================] - 0s 3ms/step - loss: 168.2357\n",
            "Epoch 13/100\n",
            "13/13 [==============================] - 0s 3ms/step - loss: 150.0218\n",
            "Epoch 14/100\n",
            "13/13 [==============================] - 0s 3ms/step - loss: 142.4148\n",
            "Epoch 15/100\n",
            "13/13 [==============================] - 0s 2ms/step - loss: 124.3315\n",
            "Epoch 16/100\n",
            "13/13 [==============================] - 0s 2ms/step - loss: 121.4371\n",
            "Epoch 17/100\n",
            "13/13 [==============================] - 0s 3ms/step - loss: 109.9763\n",
            "Epoch 18/100\n",
            "13/13 [==============================] - 0s 3ms/step - loss: 110.1532\n",
            "Epoch 19/100\n",
            "13/13 [==============================] - 0s 3ms/step - loss: 95.9300\n",
            "Epoch 20/100\n",
            "13/13 [==============================] - 0s 3ms/step - loss: 95.1848\n",
            "Epoch 21/100\n",
            "13/13 [==============================] - 0s 3ms/step - loss: 91.5651\n",
            "Epoch 22/100\n",
            "13/13 [==============================] - 0s 3ms/step - loss: 85.9283\n",
            "Epoch 23/100\n",
            "13/13 [==============================] - 0s 3ms/step - loss: 85.0735\n",
            "Epoch 24/100\n",
            "13/13 [==============================] - 0s 3ms/step - loss: 80.6189\n",
            "Epoch 25/100\n",
            "13/13 [==============================] - 0s 3ms/step - loss: 74.6235\n",
            "Epoch 26/100\n",
            "13/13 [==============================] - 0s 3ms/step - loss: 76.7243\n",
            "Epoch 27/100\n",
            "13/13 [==============================] - 0s 4ms/step - loss: 72.0467\n",
            "Epoch 28/100\n",
            "13/13 [==============================] - 0s 4ms/step - loss: 73.9465\n",
            "Epoch 29/100\n",
            "13/13 [==============================] - 0s 3ms/step - loss: 69.0407\n",
            "Epoch 30/100\n",
            "13/13 [==============================] - 0s 3ms/step - loss: 65.2105\n",
            "Epoch 31/100\n",
            "13/13 [==============================] - 0s 3ms/step - loss: 69.0226\n",
            "Epoch 32/100\n",
            "13/13 [==============================] - 0s 4ms/step - loss: 67.4316\n",
            "Epoch 33/100\n",
            "13/13 [==============================] - 0s 3ms/step - loss: 63.1257\n",
            "Epoch 34/100\n",
            "13/13 [==============================] - 0s 3ms/step - loss: 58.3696\n",
            "Epoch 35/100\n",
            "13/13 [==============================] - 0s 2ms/step - loss: 64.4397\n",
            "Epoch 36/100\n",
            "13/13 [==============================] - 0s 3ms/step - loss: 57.5246\n",
            "Epoch 37/100\n",
            "13/13 [==============================] - 0s 3ms/step - loss: 60.3348\n",
            "Epoch 38/100\n",
            "13/13 [==============================] - 0s 3ms/step - loss: 56.7214\n",
            "Epoch 39/100\n",
            "13/13 [==============================] - 0s 3ms/step - loss: 57.2057\n",
            "Epoch 40/100\n",
            "13/13 [==============================] - 0s 3ms/step - loss: 55.1663\n",
            "Epoch 41/100\n",
            "13/13 [==============================] - 0s 2ms/step - loss: 54.3861\n",
            "Epoch 42/100\n",
            "13/13 [==============================] - 0s 2ms/step - loss: 55.7451\n",
            "Epoch 43/100\n",
            "13/13 [==============================] - 0s 3ms/step - loss: 53.7657\n",
            "Epoch 44/100\n",
            "13/13 [==============================] - 0s 3ms/step - loss: 50.9499\n",
            "Epoch 45/100\n",
            "13/13 [==============================] - 0s 3ms/step - loss: 55.0666\n",
            "Epoch 46/100\n",
            "13/13 [==============================] - 0s 4ms/step - loss: 50.2690\n",
            "Epoch 47/100\n",
            "13/13 [==============================] - 0s 3ms/step - loss: 51.5942\n",
            "Epoch 48/100\n",
            "13/13 [==============================] - 0s 4ms/step - loss: 53.1987\n",
            "Epoch 49/100\n",
            "13/13 [==============================] - 0s 3ms/step - loss: 52.0884\n",
            "Epoch 50/100\n",
            "13/13 [==============================] - 0s 2ms/step - loss: 51.1867\n",
            "Epoch 51/100\n",
            "13/13 [==============================] - 0s 3ms/step - loss: 50.9279\n",
            "Epoch 52/100\n",
            "13/13 [==============================] - 0s 3ms/step - loss: 52.7152\n",
            "Epoch 53/100\n",
            "13/13 [==============================] - 0s 3ms/step - loss: 49.5241\n",
            "Epoch 54/100\n",
            "13/13 [==============================] - 0s 2ms/step - loss: 47.2215\n",
            "Epoch 55/100\n",
            "13/13 [==============================] - 0s 3ms/step - loss: 46.7924\n",
            "Epoch 56/100\n",
            "13/13 [==============================] - 0s 3ms/step - loss: 51.6091\n",
            "Epoch 57/100\n",
            "13/13 [==============================] - 0s 3ms/step - loss: 53.0192\n",
            "Epoch 58/100\n",
            "13/13 [==============================] - 0s 2ms/step - loss: 45.2777\n",
            "Epoch 59/100\n",
            "13/13 [==============================] - 0s 3ms/step - loss: 50.1755\n",
            "Epoch 60/100\n",
            "13/13 [==============================] - 0s 3ms/step - loss: 49.0210\n",
            "Epoch 61/100\n",
            "13/13 [==============================] - 0s 3ms/step - loss: 47.8740\n",
            "Epoch 62/100\n",
            "13/13 [==============================] - 0s 5ms/step - loss: 48.2143\n",
            "Epoch 63/100\n",
            "13/13 [==============================] - 0s 3ms/step - loss: 48.3788\n",
            "Epoch 64/100\n",
            "13/13 [==============================] - 0s 2ms/step - loss: 44.5712\n",
            "Epoch 65/100\n",
            "13/13 [==============================] - 0s 3ms/step - loss: 51.4276\n",
            "Epoch 66/100\n",
            "13/13 [==============================] - 0s 3ms/step - loss: 46.7798\n",
            "Epoch 67/100\n",
            "13/13 [==============================] - 0s 2ms/step - loss: 47.0826\n",
            "Epoch 68/100\n",
            "13/13 [==============================] - 0s 3ms/step - loss: 49.9883\n",
            "Epoch 69/100\n",
            "13/13 [==============================] - 0s 3ms/step - loss: 45.6723\n",
            "Epoch 70/100\n",
            "13/13 [==============================] - 0s 2ms/step - loss: 46.4974\n",
            "Epoch 71/100\n",
            "13/13 [==============================] - 0s 3ms/step - loss: 45.5437\n",
            "Epoch 72/100\n",
            "13/13 [==============================] - 0s 4ms/step - loss: 48.6387\n",
            "Epoch 73/100\n",
            "13/13 [==============================] - 0s 3ms/step - loss: 43.5855\n",
            "Epoch 74/100\n",
            "13/13 [==============================] - 0s 3ms/step - loss: 43.2539\n",
            "Epoch 75/100\n",
            "13/13 [==============================] - 0s 2ms/step - loss: 47.6857\n",
            "Epoch 76/100\n",
            "13/13 [==============================] - 0s 3ms/step - loss: 44.2218\n",
            "Epoch 77/100\n",
            "13/13 [==============================] - 0s 3ms/step - loss: 47.0971\n",
            "Epoch 78/100\n",
            "13/13 [==============================] - 0s 3ms/step - loss: 45.3339\n",
            "Epoch 79/100\n",
            "13/13 [==============================] - 0s 3ms/step - loss: 45.8289\n",
            "Epoch 80/100\n",
            "13/13 [==============================] - 0s 3ms/step - loss: 44.3933\n",
            "Epoch 81/100\n",
            "13/13 [==============================] - 0s 3ms/step - loss: 42.8033\n",
            "Epoch 82/100\n",
            "13/13 [==============================] - 0s 3ms/step - loss: 44.2843\n",
            "Epoch 83/100\n",
            "13/13 [==============================] - 0s 3ms/step - loss: 43.7820\n",
            "Epoch 84/100\n",
            "13/13 [==============================] - 0s 4ms/step - loss: 45.1773\n",
            "Epoch 85/100\n",
            "13/13 [==============================] - 0s 3ms/step - loss: 42.8254\n",
            "Epoch 86/100\n",
            "13/13 [==============================] - 0s 3ms/step - loss: 42.3799\n",
            "Epoch 87/100\n",
            "13/13 [==============================] - 0s 3ms/step - loss: 47.9835\n",
            "Epoch 88/100\n",
            "13/13 [==============================] - 0s 2ms/step - loss: 44.5252\n",
            "Epoch 89/100\n",
            "13/13 [==============================] - 0s 2ms/step - loss: 44.4000\n",
            "Epoch 90/100\n",
            "13/13 [==============================] - 0s 3ms/step - loss: 42.2315\n",
            "Epoch 91/100\n",
            "13/13 [==============================] - 0s 3ms/step - loss: 48.8985\n",
            "Epoch 92/100\n",
            "13/13 [==============================] - 0s 3ms/step - loss: 44.5671\n",
            "Epoch 93/100\n",
            "13/13 [==============================] - 0s 3ms/step - loss: 44.4534\n",
            "Epoch 94/100\n",
            "13/13 [==============================] - 0s 3ms/step - loss: 42.4310\n",
            "Epoch 95/100\n",
            "13/13 [==============================] - 0s 3ms/step - loss: 43.6261\n",
            "Epoch 96/100\n",
            "13/13 [==============================] - 0s 3ms/step - loss: 42.7601\n",
            "Epoch 97/100\n",
            "13/13 [==============================] - 0s 3ms/step - loss: 40.6030\n",
            "Epoch 98/100\n",
            "13/13 [==============================] - 0s 3ms/step - loss: 46.6184\n",
            "Epoch 99/100\n",
            "13/13 [==============================] - 0s 3ms/step - loss: 41.9071\n",
            "Epoch 100/100\n",
            "13/13 [==============================] - 0s 2ms/step - loss: 42.5347\n"
          ]
        },
        {
          "output_type": "execute_result",
          "data": {
            "text/plain": [
              "<keras.callbacks.History at 0x7f3d413fed50>"
            ]
          },
          "metadata": {},
          "execution_count": 91
        }
      ]
    },
    {
      "cell_type": "code",
      "source": [
        "y_pred = model.predict(x_test)\n",
        "y_pred[0:5]"
      ],
      "metadata": {
        "colab": {
          "base_uri": "https://localhost:8080/"
        },
        "id": "noKXm8CZ8p-o",
        "outputId": "4bf4ba25-e88a-4ab4-928f-b2249482853b"
      },
      "execution_count": null,
      "outputs": [
        {
          "output_type": "execute_result",
          "data": {
            "text/plain": [
              "array([[ 4.3088894],\n",
              "       [21.340181 ],\n",
              "       [22.570095 ],\n",
              "       [29.4617   ],\n",
              "       [23.60747  ]], dtype=float32)"
            ]
          },
          "metadata": {},
          "execution_count": 92
        }
      ]
    },
    {
      "cell_type": "code",
      "source": [
        "y_test[0:5]"
      ],
      "metadata": {
        "colab": {
          "base_uri": "https://localhost:8080/"
        },
        "id": "2Sfb-Opu9dNm",
        "outputId": "61cbdaf3-5915-4612-b993-aa6727e4701f"
      },
      "execution_count": null,
      "outputs": [
        {
          "output_type": "execute_result",
          "data": {
            "text/plain": [
              "array([ 7.2, 18.8, 19. , 27. , 22.2])"
            ]
          },
          "metadata": {},
          "execution_count": 93
        }
      ]
    },
    {
      "cell_type": "code",
      "source": [
        "from sklearn.metrics import r2_score\n",
        "r2_score(y_test,y_pred)"
      ],
      "metadata": {
        "colab": {
          "base_uri": "https://localhost:8080/"
        },
        "id": "ojUIbMvN9iA0",
        "outputId": "870b3ff7-abd4-45cd-df57-9dd873ec82a0"
      },
      "execution_count": null,
      "outputs": [
        {
          "output_type": "execute_result",
          "data": {
            "text/plain": [
              "0.44951602959973347"
            ]
          },
          "metadata": {},
          "execution_count": 94
        }
      ]
    },
    {
      "cell_type": "code",
      "source": [
        "model.predict(x_test[0].reshape(1,13))"
      ],
      "metadata": {
        "colab": {
          "base_uri": "https://localhost:8080/"
        },
        "id": "W1gWflp_96b4",
        "outputId": "ce188e9b-fa2f-4c06-9922-d7ab83d3d26b"
      },
      "execution_count": null,
      "outputs": [
        {
          "output_type": "execute_result",
          "data": {
            "text/plain": [
              "array([[4.308915]], dtype=float32)"
            ]
          },
          "metadata": {},
          "execution_count": 97
        }
      ]
    },
    {
      "cell_type": "code",
      "source": [
        "# Assignment : Try to increase the r2 score"
      ],
      "metadata": {
        "id": "-_uRGxFM-exJ"
      },
      "execution_count": null,
      "outputs": []
    }
  ]
}